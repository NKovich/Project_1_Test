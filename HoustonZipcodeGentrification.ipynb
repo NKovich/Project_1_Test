{
 "cells": [
  {
   "cell_type": "code",
   "execution_count": 1,
   "metadata": {},
   "outputs": [],
   "source": [
    "# Dependencies\n",
    "import numpy as np\n",
    "import pandas as pd\n",
    "import requests\n",
    "import plotly\n",
    "import plotly.graph_objs as go\n",
    "import plotly.express as px\n",
    "from plotly.subplots import make_subplots\n",
    "from census import Census\n",
    "\n",
    "# Census API Key\n",
    "from config import api_key\n",
    "c = Census(api_key, year=2016)\n",
    "#c.acs5.tables()"
   ]
  },
  {
   "cell_type": "code",
   "execution_count": 3,
   "metadata": {},
   "outputs": [],
   "source": [
    "inner_zips=['77002','77003','77004','77005','77006','77007','77008','77009',\n",
    "            '77010','77011','77012','77019','77020','77021','77023','77025',\n",
    "            '77026','77027','77030']"
   ]
  },
  {
   "cell_type": "code",
   "execution_count": 4,
   "metadata": {},
   "outputs": [],
   "source": [
    "dictionary = {'NAME' : [],\n",
    "              \"Year\" : [],\n",
    "             \"B19013_001E\" : [],\n",
    "             \"B01003_001E\" : [],\n",
    "             \"B01002_001E\" : [],\n",
    "             \"B19301_001E\" : [],\n",
    "             \"B17001_002E\" : [],\n",
    "             \"zip code tabulation area\" : []}\n",
    "\n",
    "hou_zips = inner_zips\n",
    "\n",
    "years = list(range(2012, 2018))\n",
    "\n",
    "for y in years:\n",
    "    c = Census(api_key, year=y)\n",
    "    for z in hou_zips:\n",
    "        census_loop = c.acs5.get((\"NAME\", \"B19013_001E\", \"B01003_001E\",\n",
    "                              \"B01002_001E\", \"B19301_001E\",\n",
    "                              \"B17001_002E\"), {'for': f'zip code tabulation area:{z}'})\n",
    "#         print(census_loop)\n",
    "        dictionary['NAME'].append(census_loop[0]['NAME'])\n",
    "        dictionary['Year'].append(y)\n",
    "        dictionary['B19013_001E'].append(census_loop[0][\"B19013_001E\"])\n",
    "        dictionary['B01003_001E'].append(census_loop[0][\"B01003_001E\"])\n",
    "        dictionary['B01002_001E'].append(census_loop[0][\"B01002_001E\"])\n",
    "        dictionary['B19301_001E'].append(census_loop[0][\"B19301_001E\"])\n",
    "        dictionary['B17001_002E'].append(census_loop[0][\"B17001_002E\"])\n",
    "        dictionary['zip code tabulation area'].append(census_loop[0][\"zip code tabulation area\"])\n",
    "\n",
    "# dictionary"
   ]
  },
  {
   "cell_type": "code",
   "execution_count": 5,
   "metadata": {},
   "outputs": [
    {
     "data": {
      "text/html": [
       "<div>\n",
       "<style scoped>\n",
       "    .dataframe tbody tr th:only-of-type {\n",
       "        vertical-align: middle;\n",
       "    }\n",
       "\n",
       "    .dataframe tbody tr th {\n",
       "        vertical-align: top;\n",
       "    }\n",
       "\n",
       "    .dataframe thead th {\n",
       "        text-align: right;\n",
       "    }\n",
       "</style>\n",
       "<table border=\"1\" class=\"dataframe\">\n",
       "  <thead>\n",
       "    <tr style=\"text-align: right;\">\n",
       "      <th></th>\n",
       "      <th>NAME</th>\n",
       "      <th>Year</th>\n",
       "      <th>B19013_001E</th>\n",
       "      <th>B01003_001E</th>\n",
       "      <th>B01002_001E</th>\n",
       "      <th>B19301_001E</th>\n",
       "      <th>B17001_002E</th>\n",
       "      <th>zip code tabulation area</th>\n",
       "    </tr>\n",
       "  </thead>\n",
       "  <tbody>\n",
       "    <tr>\n",
       "      <th>0</th>\n",
       "      <td>ZCTA5 77002</td>\n",
       "      <td>2012</td>\n",
       "      <td>57165.0</td>\n",
       "      <td>11473.0</td>\n",
       "      <td>31.8</td>\n",
       "      <td>32514.0</td>\n",
       "      <td>813.0</td>\n",
       "      <td>77002</td>\n",
       "    </tr>\n",
       "    <tr>\n",
       "      <th>1</th>\n",
       "      <td>ZCTA5 77003</td>\n",
       "      <td>2012</td>\n",
       "      <td>37664.0</td>\n",
       "      <td>10215.0</td>\n",
       "      <td>32.9</td>\n",
       "      <td>27248.0</td>\n",
       "      <td>3868.0</td>\n",
       "      <td>77003</td>\n",
       "    </tr>\n",
       "    <tr>\n",
       "      <th>2</th>\n",
       "      <td>ZCTA5 77004</td>\n",
       "      <td>2012</td>\n",
       "      <td>39804.0</td>\n",
       "      <td>29853.0</td>\n",
       "      <td>31.6</td>\n",
       "      <td>29787.0</td>\n",
       "      <td>6957.0</td>\n",
       "      <td>77004</td>\n",
       "    </tr>\n",
       "    <tr>\n",
       "      <th>3</th>\n",
       "      <td>ZCTA5 77005</td>\n",
       "      <td>2012</td>\n",
       "      <td>153041.0</td>\n",
       "      <td>25740.0</td>\n",
       "      <td>38.5</td>\n",
       "      <td>88579.0</td>\n",
       "      <td>635.0</td>\n",
       "      <td>77005</td>\n",
       "    </tr>\n",
       "    <tr>\n",
       "      <th>4</th>\n",
       "      <td>ZCTA5 77006</td>\n",
       "      <td>2012</td>\n",
       "      <td>63360.0</td>\n",
       "      <td>19856.0</td>\n",
       "      <td>36.9</td>\n",
       "      <td>60795.0</td>\n",
       "      <td>2647.0</td>\n",
       "      <td>77006</td>\n",
       "    </tr>\n",
       "  </tbody>\n",
       "</table>\n",
       "</div>"
      ],
      "text/plain": [
       "          NAME  Year  B19013_001E  B01003_001E  B01002_001E  B19301_001E  \\\n",
       "0  ZCTA5 77002  2012      57165.0      11473.0         31.8      32514.0   \n",
       "1  ZCTA5 77003  2012      37664.0      10215.0         32.9      27248.0   \n",
       "2  ZCTA5 77004  2012      39804.0      29853.0         31.6      29787.0   \n",
       "3  ZCTA5 77005  2012     153041.0      25740.0         38.5      88579.0   \n",
       "4  ZCTA5 77006  2012      63360.0      19856.0         36.9      60795.0   \n",
       "\n",
       "   B17001_002E zip code tabulation area  \n",
       "0        813.0                    77002  \n",
       "1       3868.0                    77003  \n",
       "2       6957.0                    77004  \n",
       "3        635.0                    77005  \n",
       "4       2647.0                    77006  "
      ]
     },
     "execution_count": 5,
     "metadata": {},
     "output_type": "execute_result"
    }
   ],
   "source": [
    "census_df = pd.DataFrame(dictionary)\n",
    "census_df.head()"
   ]
  },
  {
   "cell_type": "code",
   "execution_count": 6,
   "metadata": {},
   "outputs": [
    {
     "data": {
      "text/html": [
       "<div>\n",
       "<style scoped>\n",
       "    .dataframe tbody tr th:only-of-type {\n",
       "        vertical-align: middle;\n",
       "    }\n",
       "\n",
       "    .dataframe tbody tr th {\n",
       "        vertical-align: top;\n",
       "    }\n",
       "\n",
       "    .dataframe thead th {\n",
       "        text-align: right;\n",
       "    }\n",
       "</style>\n",
       "<table border=\"1\" class=\"dataframe\">\n",
       "  <thead>\n",
       "    <tr style=\"text-align: right;\">\n",
       "      <th></th>\n",
       "      <th>Name</th>\n",
       "      <th>Year</th>\n",
       "      <th>Household Income</th>\n",
       "      <th>Population</th>\n",
       "      <th>Median Age</th>\n",
       "      <th>Per Capita Income</th>\n",
       "      <th>Poverty Count</th>\n",
       "      <th>Zipcode</th>\n",
       "    </tr>\n",
       "  </thead>\n",
       "  <tbody>\n",
       "    <tr>\n",
       "      <th>0</th>\n",
       "      <td>ZCTA5 77002</td>\n",
       "      <td>2012</td>\n",
       "      <td>57165.0</td>\n",
       "      <td>11473.0</td>\n",
       "      <td>31.8</td>\n",
       "      <td>32514.0</td>\n",
       "      <td>813.0</td>\n",
       "      <td>77002</td>\n",
       "    </tr>\n",
       "    <tr>\n",
       "      <th>1</th>\n",
       "      <td>ZCTA5 77003</td>\n",
       "      <td>2012</td>\n",
       "      <td>37664.0</td>\n",
       "      <td>10215.0</td>\n",
       "      <td>32.9</td>\n",
       "      <td>27248.0</td>\n",
       "      <td>3868.0</td>\n",
       "      <td>77003</td>\n",
       "    </tr>\n",
       "    <tr>\n",
       "      <th>2</th>\n",
       "      <td>ZCTA5 77004</td>\n",
       "      <td>2012</td>\n",
       "      <td>39804.0</td>\n",
       "      <td>29853.0</td>\n",
       "      <td>31.6</td>\n",
       "      <td>29787.0</td>\n",
       "      <td>6957.0</td>\n",
       "      <td>77004</td>\n",
       "    </tr>\n",
       "    <tr>\n",
       "      <th>3</th>\n",
       "      <td>ZCTA5 77005</td>\n",
       "      <td>2012</td>\n",
       "      <td>153041.0</td>\n",
       "      <td>25740.0</td>\n",
       "      <td>38.5</td>\n",
       "      <td>88579.0</td>\n",
       "      <td>635.0</td>\n",
       "      <td>77005</td>\n",
       "    </tr>\n",
       "    <tr>\n",
       "      <th>4</th>\n",
       "      <td>ZCTA5 77006</td>\n",
       "      <td>2012</td>\n",
       "      <td>63360.0</td>\n",
       "      <td>19856.0</td>\n",
       "      <td>36.9</td>\n",
       "      <td>60795.0</td>\n",
       "      <td>2647.0</td>\n",
       "      <td>77006</td>\n",
       "    </tr>\n",
       "    <tr>\n",
       "      <th>5</th>\n",
       "      <td>ZCTA5 77007</td>\n",
       "      <td>2012</td>\n",
       "      <td>90860.0</td>\n",
       "      <td>29545.0</td>\n",
       "      <td>34.6</td>\n",
       "      <td>66456.0</td>\n",
       "      <td>2756.0</td>\n",
       "      <td>77007</td>\n",
       "    </tr>\n",
       "    <tr>\n",
       "      <th>6</th>\n",
       "      <td>ZCTA5 77008</td>\n",
       "      <td>2012</td>\n",
       "      <td>65457.0</td>\n",
       "      <td>29424.0</td>\n",
       "      <td>37.1</td>\n",
       "      <td>47859.0</td>\n",
       "      <td>3018.0</td>\n",
       "      <td>77008</td>\n",
       "    </tr>\n",
       "    <tr>\n",
       "      <th>7</th>\n",
       "      <td>ZCTA5 77009</td>\n",
       "      <td>2012</td>\n",
       "      <td>42944.0</td>\n",
       "      <td>39050.0</td>\n",
       "      <td>33.6</td>\n",
       "      <td>26172.0</td>\n",
       "      <td>10288.0</td>\n",
       "      <td>77009</td>\n",
       "    </tr>\n",
       "    <tr>\n",
       "      <th>8</th>\n",
       "      <td>ZCTA5 77010</td>\n",
       "      <td>2012</td>\n",
       "      <td>149444.0</td>\n",
       "      <td>342.0</td>\n",
       "      <td>50.6</td>\n",
       "      <td>212325.0</td>\n",
       "      <td>52.0</td>\n",
       "      <td>77010</td>\n",
       "    </tr>\n",
       "    <tr>\n",
       "      <th>9</th>\n",
       "      <td>ZCTA5 77011</td>\n",
       "      <td>2012</td>\n",
       "      <td>27458.0</td>\n",
       "      <td>19396.0</td>\n",
       "      <td>32.7</td>\n",
       "      <td>12757.0</td>\n",
       "      <td>6273.0</td>\n",
       "      <td>77011</td>\n",
       "    </tr>\n",
       "    <tr>\n",
       "      <th>10</th>\n",
       "      <td>ZCTA5 77012</td>\n",
       "      <td>2012</td>\n",
       "      <td>33035.0</td>\n",
       "      <td>21619.0</td>\n",
       "      <td>30.1</td>\n",
       "      <td>12696.0</td>\n",
       "      <td>5900.0</td>\n",
       "      <td>77012</td>\n",
       "    </tr>\n",
       "    <tr>\n",
       "      <th>11</th>\n",
       "      <td>ZCTA5 77019</td>\n",
       "      <td>2012</td>\n",
       "      <td>87582.0</td>\n",
       "      <td>19450.0</td>\n",
       "      <td>36.8</td>\n",
       "      <td>88210.0</td>\n",
       "      <td>1726.0</td>\n",
       "      <td>77019</td>\n",
       "    </tr>\n",
       "    <tr>\n",
       "      <th>12</th>\n",
       "      <td>ZCTA5 77020</td>\n",
       "      <td>2012</td>\n",
       "      <td>28217.0</td>\n",
       "      <td>26381.0</td>\n",
       "      <td>31.7</td>\n",
       "      <td>13659.0</td>\n",
       "      <td>9134.0</td>\n",
       "      <td>77020</td>\n",
       "    </tr>\n",
       "    <tr>\n",
       "      <th>13</th>\n",
       "      <td>ZCTA5 77021</td>\n",
       "      <td>2012</td>\n",
       "      <td>32096.0</td>\n",
       "      <td>25640.0</td>\n",
       "      <td>34.4</td>\n",
       "      <td>21197.0</td>\n",
       "      <td>7899.0</td>\n",
       "      <td>77021</td>\n",
       "    </tr>\n",
       "    <tr>\n",
       "      <th>14</th>\n",
       "      <td>ZCTA5 77023</td>\n",
       "      <td>2012</td>\n",
       "      <td>37735.0</td>\n",
       "      <td>30696.0</td>\n",
       "      <td>30.9</td>\n",
       "      <td>16310.0</td>\n",
       "      <td>7592.0</td>\n",
       "      <td>77023</td>\n",
       "    </tr>\n",
       "    <tr>\n",
       "      <th>15</th>\n",
       "      <td>ZCTA5 77025</td>\n",
       "      <td>2012</td>\n",
       "      <td>64202.0</td>\n",
       "      <td>25935.0</td>\n",
       "      <td>33.8</td>\n",
       "      <td>47836.0</td>\n",
       "      <td>2869.0</td>\n",
       "      <td>77025</td>\n",
       "    </tr>\n",
       "    <tr>\n",
       "      <th>16</th>\n",
       "      <td>ZCTA5 77026</td>\n",
       "      <td>2012</td>\n",
       "      <td>20200.0</td>\n",
       "      <td>23963.0</td>\n",
       "      <td>32.8</td>\n",
       "      <td>11566.0</td>\n",
       "      <td>10858.0</td>\n",
       "      <td>77026</td>\n",
       "    </tr>\n",
       "    <tr>\n",
       "      <th>17</th>\n",
       "      <td>ZCTA5 77027</td>\n",
       "      <td>2012</td>\n",
       "      <td>81202.0</td>\n",
       "      <td>14745.0</td>\n",
       "      <td>37.9</td>\n",
       "      <td>79977.0</td>\n",
       "      <td>869.0</td>\n",
       "      <td>77027</td>\n",
       "    </tr>\n",
       "    <tr>\n",
       "      <th>18</th>\n",
       "      <td>ZCTA5 77030</td>\n",
       "      <td>2012</td>\n",
       "      <td>67790.0</td>\n",
       "      <td>11184.0</td>\n",
       "      <td>32.8</td>\n",
       "      <td>58761.0</td>\n",
       "      <td>1369.0</td>\n",
       "      <td>77030</td>\n",
       "    </tr>\n",
       "    <tr>\n",
       "      <th>19</th>\n",
       "      <td>ZCTA5 77002</td>\n",
       "      <td>2013</td>\n",
       "      <td>64093.0</td>\n",
       "      <td>11602.0</td>\n",
       "      <td>32.5</td>\n",
       "      <td>37292.0</td>\n",
       "      <td>848.0</td>\n",
       "      <td>77002</td>\n",
       "    </tr>\n",
       "  </tbody>\n",
       "</table>\n",
       "</div>"
      ],
      "text/plain": [
       "           Name  Year  Household Income  Population  Median Age  \\\n",
       "0   ZCTA5 77002  2012           57165.0     11473.0        31.8   \n",
       "1   ZCTA5 77003  2012           37664.0     10215.0        32.9   \n",
       "2   ZCTA5 77004  2012           39804.0     29853.0        31.6   \n",
       "3   ZCTA5 77005  2012          153041.0     25740.0        38.5   \n",
       "4   ZCTA5 77006  2012           63360.0     19856.0        36.9   \n",
       "5   ZCTA5 77007  2012           90860.0     29545.0        34.6   \n",
       "6   ZCTA5 77008  2012           65457.0     29424.0        37.1   \n",
       "7   ZCTA5 77009  2012           42944.0     39050.0        33.6   \n",
       "8   ZCTA5 77010  2012          149444.0       342.0        50.6   \n",
       "9   ZCTA5 77011  2012           27458.0     19396.0        32.7   \n",
       "10  ZCTA5 77012  2012           33035.0     21619.0        30.1   \n",
       "11  ZCTA5 77019  2012           87582.0     19450.0        36.8   \n",
       "12  ZCTA5 77020  2012           28217.0     26381.0        31.7   \n",
       "13  ZCTA5 77021  2012           32096.0     25640.0        34.4   \n",
       "14  ZCTA5 77023  2012           37735.0     30696.0        30.9   \n",
       "15  ZCTA5 77025  2012           64202.0     25935.0        33.8   \n",
       "16  ZCTA5 77026  2012           20200.0     23963.0        32.8   \n",
       "17  ZCTA5 77027  2012           81202.0     14745.0        37.9   \n",
       "18  ZCTA5 77030  2012           67790.0     11184.0        32.8   \n",
       "19  ZCTA5 77002  2013           64093.0     11602.0        32.5   \n",
       "\n",
       "    Per Capita Income  Poverty Count Zipcode  \n",
       "0             32514.0          813.0   77002  \n",
       "1             27248.0         3868.0   77003  \n",
       "2             29787.0         6957.0   77004  \n",
       "3             88579.0          635.0   77005  \n",
       "4             60795.0         2647.0   77006  \n",
       "5             66456.0         2756.0   77007  \n",
       "6             47859.0         3018.0   77008  \n",
       "7             26172.0        10288.0   77009  \n",
       "8            212325.0           52.0   77010  \n",
       "9             12757.0         6273.0   77011  \n",
       "10            12696.0         5900.0   77012  \n",
       "11            88210.0         1726.0   77019  \n",
       "12            13659.0         9134.0   77020  \n",
       "13            21197.0         7899.0   77021  \n",
       "14            16310.0         7592.0   77023  \n",
       "15            47836.0         2869.0   77025  \n",
       "16            11566.0        10858.0   77026  \n",
       "17            79977.0          869.0   77027  \n",
       "18            58761.0         1369.0   77030  \n",
       "19            37292.0          848.0   77002  "
      ]
     },
     "execution_count": 6,
     "metadata": {},
     "output_type": "execute_result"
    }
   ],
   "source": [
    "census_pd = census_df.rename(columns={\"B01003_001E\": \"Population\",\n",
    "                                      \"B01002_001E\": \"Median Age\",\n",
    "                                      \"B19013_001E\": \"Household Income\",\n",
    "                                      \"B19301_001E\": \"Per Capita Income\",\n",
    "                                      \"B17001_002E\": \"Poverty Count\",\n",
    "                                      \"NAME\": \"Name\", \"zip code tabulation area\": \"Zipcode\"})\n",
    "census_pd.head(20)\n",
    "# census_pd.to_csv(\"census_data.csv\")"
   ]
  },
  {
   "cell_type": "code",
   "execution_count": 7,
   "metadata": {},
   "outputs": [
    {
     "data": {
      "text/html": [
       "<div>\n",
       "<style scoped>\n",
       "    .dataframe tbody tr th:only-of-type {\n",
       "        vertical-align: middle;\n",
       "    }\n",
       "\n",
       "    .dataframe tbody tr th {\n",
       "        vertical-align: top;\n",
       "    }\n",
       "\n",
       "    .dataframe thead th {\n",
       "        text-align: right;\n",
       "    }\n",
       "</style>\n",
       "<table border=\"1\" class=\"dataframe\">\n",
       "  <thead>\n",
       "    <tr style=\"text-align: right;\">\n",
       "      <th></th>\n",
       "      <th>Unnamed: 0</th>\n",
       "      <th>Name</th>\n",
       "      <th>Year</th>\n",
       "      <th>Household Income</th>\n",
       "      <th>Population</th>\n",
       "      <th>Median Age</th>\n",
       "      <th>Per Capita Income</th>\n",
       "      <th>Poverty Count</th>\n",
       "      <th>Count Hisp/Latino</th>\n",
       "      <th>Counb Black/AfAm</th>\n",
       "      <th>Count AmIndian</th>\n",
       "      <th>Count Asian</th>\n",
       "      <th>Count White</th>\n",
       "      <th>Count Other Race</th>\n",
       "      <th>Zipcode</th>\n",
       "    </tr>\n",
       "  </thead>\n",
       "  <tbody>\n",
       "    <tr>\n",
       "      <th>0</th>\n",
       "      <td>0</td>\n",
       "      <td>ZCTA5 77002</td>\n",
       "      <td>2012</td>\n",
       "      <td>57165.0</td>\n",
       "      <td>11473.0</td>\n",
       "      <td>31.8</td>\n",
       "      <td>32514.0</td>\n",
       "      <td>813.0</td>\n",
       "      <td>3175.0</td>\n",
       "      <td>4002.0</td>\n",
       "      <td>6.0</td>\n",
       "      <td>232.0</td>\n",
       "      <td>4018.0</td>\n",
       "      <td>0.0</td>\n",
       "      <td>77002</td>\n",
       "    </tr>\n",
       "    <tr>\n",
       "      <th>1</th>\n",
       "      <td>1</td>\n",
       "      <td>ZCTA5 77003</td>\n",
       "      <td>2012</td>\n",
       "      <td>37664.0</td>\n",
       "      <td>10215.0</td>\n",
       "      <td>32.9</td>\n",
       "      <td>27248.0</td>\n",
       "      <td>3868.0</td>\n",
       "      <td>5351.0</td>\n",
       "      <td>2063.0</td>\n",
       "      <td>0.0</td>\n",
       "      <td>443.0</td>\n",
       "      <td>2318.0</td>\n",
       "      <td>26.0</td>\n",
       "      <td>77003</td>\n",
       "    </tr>\n",
       "    <tr>\n",
       "      <th>2</th>\n",
       "      <td>2</td>\n",
       "      <td>ZCTA5 77004</td>\n",
       "      <td>2012</td>\n",
       "      <td>39804.0</td>\n",
       "      <td>29853.0</td>\n",
       "      <td>31.6</td>\n",
       "      <td>29787.0</td>\n",
       "      <td>6957.0</td>\n",
       "      <td>3358.0</td>\n",
       "      <td>16520.0</td>\n",
       "      <td>10.0</td>\n",
       "      <td>2149.0</td>\n",
       "      <td>7198.0</td>\n",
       "      <td>120.0</td>\n",
       "      <td>77004</td>\n",
       "    </tr>\n",
       "    <tr>\n",
       "      <th>3</th>\n",
       "      <td>3</td>\n",
       "      <td>ZCTA5 77005</td>\n",
       "      <td>2012</td>\n",
       "      <td>153041.0</td>\n",
       "      <td>25740.0</td>\n",
       "      <td>38.5</td>\n",
       "      <td>88579.0</td>\n",
       "      <td>635.0</td>\n",
       "      <td>2076.0</td>\n",
       "      <td>746.0</td>\n",
       "      <td>25.0</td>\n",
       "      <td>2484.0</td>\n",
       "      <td>19856.0</td>\n",
       "      <td>60.0</td>\n",
       "      <td>77005</td>\n",
       "    </tr>\n",
       "    <tr>\n",
       "      <th>4</th>\n",
       "      <td>4</td>\n",
       "      <td>ZCTA5 77006</td>\n",
       "      <td>2012</td>\n",
       "      <td>63360.0</td>\n",
       "      <td>19856.0</td>\n",
       "      <td>36.9</td>\n",
       "      <td>60795.0</td>\n",
       "      <td>2647.0</td>\n",
       "      <td>3816.0</td>\n",
       "      <td>695.0</td>\n",
       "      <td>38.0</td>\n",
       "      <td>1127.0</td>\n",
       "      <td>13874.0</td>\n",
       "      <td>66.0</td>\n",
       "      <td>77006</td>\n",
       "    </tr>\n",
       "  </tbody>\n",
       "</table>\n",
       "</div>"
      ],
      "text/plain": [
       "   Unnamed: 0         Name  Year  Household Income  Population  Median Age  \\\n",
       "0           0  ZCTA5 77002  2012           57165.0     11473.0        31.8   \n",
       "1           1  ZCTA5 77003  2012           37664.0     10215.0        32.9   \n",
       "2           2  ZCTA5 77004  2012           39804.0     29853.0        31.6   \n",
       "3           3  ZCTA5 77005  2012          153041.0     25740.0        38.5   \n",
       "4           4  ZCTA5 77006  2012           63360.0     19856.0        36.9   \n",
       "\n",
       "   Per Capita Income  Poverty Count  Count Hisp/Latino  Counb Black/AfAm  \\\n",
       "0            32514.0          813.0             3175.0            4002.0   \n",
       "1            27248.0         3868.0             5351.0            2063.0   \n",
       "2            29787.0         6957.0             3358.0           16520.0   \n",
       "3            88579.0          635.0             2076.0             746.0   \n",
       "4            60795.0         2647.0             3816.0             695.0   \n",
       "\n",
       "   Count AmIndian  Count Asian  Count White  Count Other Race  Zipcode  \n",
       "0             6.0        232.0       4018.0               0.0    77002  \n",
       "1             0.0        443.0       2318.0              26.0    77003  \n",
       "2            10.0       2149.0       7198.0             120.0    77004  \n",
       "3            25.0       2484.0      19856.0              60.0    77005  \n",
       "4            38.0       1127.0      13874.0              66.0    77006  "
      ]
     },
     "execution_count": 7,
     "metadata": {},
     "output_type": "execute_result"
    }
   ],
   "source": [
    "### CENSUS CSV READ\n",
    "file_one = \"census_df_isoto.csv\"\n",
    "file_one_df = pd.read_csv(file_one)\n",
    "file_one_df.head(5)"
   ]
  },
  {
   "cell_type": "code",
   "execution_count": 40,
   "metadata": {},
   "outputs": [
    {
     "data": {
      "text/html": [
       "<div>\n",
       "<style scoped>\n",
       "    .dataframe tbody tr th:only-of-type {\n",
       "        vertical-align: middle;\n",
       "    }\n",
       "\n",
       "    .dataframe tbody tr th {\n",
       "        vertical-align: top;\n",
       "    }\n",
       "\n",
       "    .dataframe thead th {\n",
       "        text-align: right;\n",
       "    }\n",
       "</style>\n",
       "<table border=\"1\" class=\"dataframe\">\n",
       "  <thead>\n",
       "    <tr style=\"text-align: right;\">\n",
       "      <th></th>\n",
       "      <th>Unnamed: 0</th>\n",
       "      <th>Name</th>\n",
       "      <th>Year</th>\n",
       "      <th>Household Income</th>\n",
       "      <th>Population</th>\n",
       "      <th>Median Age</th>\n",
       "      <th>Per Capita Income</th>\n",
       "      <th>Poverty Count</th>\n",
       "      <th>Latinx</th>\n",
       "      <th>Black</th>\n",
       "      <th>AmIndian</th>\n",
       "      <th>Asian</th>\n",
       "      <th>White</th>\n",
       "      <th>Other</th>\n",
       "      <th>Zipcode</th>\n",
       "    </tr>\n",
       "  </thead>\n",
       "  <tbody>\n",
       "    <tr>\n",
       "      <th>0</th>\n",
       "      <td>0</td>\n",
       "      <td>ZCTA5 77002</td>\n",
       "      <td>2012</td>\n",
       "      <td>57165.0</td>\n",
       "      <td>11473.0</td>\n",
       "      <td>31.8</td>\n",
       "      <td>32514.0</td>\n",
       "      <td>813.0</td>\n",
       "      <td>3175.0</td>\n",
       "      <td>4002.0</td>\n",
       "      <td>6.0</td>\n",
       "      <td>232.0</td>\n",
       "      <td>4018.0</td>\n",
       "      <td>0.0</td>\n",
       "      <td>77002</td>\n",
       "    </tr>\n",
       "    <tr>\n",
       "      <th>1</th>\n",
       "      <td>1</td>\n",
       "      <td>ZCTA5 77003</td>\n",
       "      <td>2012</td>\n",
       "      <td>37664.0</td>\n",
       "      <td>10215.0</td>\n",
       "      <td>32.9</td>\n",
       "      <td>27248.0</td>\n",
       "      <td>3868.0</td>\n",
       "      <td>5351.0</td>\n",
       "      <td>2063.0</td>\n",
       "      <td>0.0</td>\n",
       "      <td>443.0</td>\n",
       "      <td>2318.0</td>\n",
       "      <td>26.0</td>\n",
       "      <td>77003</td>\n",
       "    </tr>\n",
       "    <tr>\n",
       "      <th>2</th>\n",
       "      <td>2</td>\n",
       "      <td>ZCTA5 77004</td>\n",
       "      <td>2012</td>\n",
       "      <td>39804.0</td>\n",
       "      <td>29853.0</td>\n",
       "      <td>31.6</td>\n",
       "      <td>29787.0</td>\n",
       "      <td>6957.0</td>\n",
       "      <td>3358.0</td>\n",
       "      <td>16520.0</td>\n",
       "      <td>10.0</td>\n",
       "      <td>2149.0</td>\n",
       "      <td>7198.0</td>\n",
       "      <td>120.0</td>\n",
       "      <td>77004</td>\n",
       "    </tr>\n",
       "    <tr>\n",
       "      <th>3</th>\n",
       "      <td>3</td>\n",
       "      <td>ZCTA5 77005</td>\n",
       "      <td>2012</td>\n",
       "      <td>153041.0</td>\n",
       "      <td>25740.0</td>\n",
       "      <td>38.5</td>\n",
       "      <td>88579.0</td>\n",
       "      <td>635.0</td>\n",
       "      <td>2076.0</td>\n",
       "      <td>746.0</td>\n",
       "      <td>25.0</td>\n",
       "      <td>2484.0</td>\n",
       "      <td>19856.0</td>\n",
       "      <td>60.0</td>\n",
       "      <td>77005</td>\n",
       "    </tr>\n",
       "    <tr>\n",
       "      <th>4</th>\n",
       "      <td>4</td>\n",
       "      <td>ZCTA5 77006</td>\n",
       "      <td>2012</td>\n",
       "      <td>63360.0</td>\n",
       "      <td>19856.0</td>\n",
       "      <td>36.9</td>\n",
       "      <td>60795.0</td>\n",
       "      <td>2647.0</td>\n",
       "      <td>3816.0</td>\n",
       "      <td>695.0</td>\n",
       "      <td>38.0</td>\n",
       "      <td>1127.0</td>\n",
       "      <td>13874.0</td>\n",
       "      <td>66.0</td>\n",
       "      <td>77006</td>\n",
       "    </tr>\n",
       "  </tbody>\n",
       "</table>\n",
       "</div>"
      ],
      "text/plain": [
       "   Unnamed: 0         Name  Year  Household Income  Population  Median Age  \\\n",
       "0           0  ZCTA5 77002  2012           57165.0     11473.0        31.8   \n",
       "1           1  ZCTA5 77003  2012           37664.0     10215.0        32.9   \n",
       "2           2  ZCTA5 77004  2012           39804.0     29853.0        31.6   \n",
       "3           3  ZCTA5 77005  2012          153041.0     25740.0        38.5   \n",
       "4           4  ZCTA5 77006  2012           63360.0     19856.0        36.9   \n",
       "\n",
       "   Per Capita Income  Poverty Count  Latinx    Black  AmIndian   Asian  \\\n",
       "0            32514.0          813.0  3175.0   4002.0       6.0   232.0   \n",
       "1            27248.0         3868.0  5351.0   2063.0       0.0   443.0   \n",
       "2            29787.0         6957.0  3358.0  16520.0      10.0  2149.0   \n",
       "3            88579.0          635.0  2076.0    746.0      25.0  2484.0   \n",
       "4            60795.0         2647.0  3816.0    695.0      38.0  1127.0   \n",
       "\n",
       "     White  Other  Zipcode  \n",
       "0   4018.0    0.0    77002  \n",
       "1   2318.0   26.0    77003  \n",
       "2   7198.0  120.0    77004  \n",
       "3  19856.0   60.0    77005  \n",
       "4  13874.0   66.0    77006  "
      ]
     },
     "execution_count": 40,
     "metadata": {},
     "output_type": "execute_result"
    }
   ],
   "source": [
    "## RACE COLUMN NAMING\n",
    "file_one_df_edit = file_one_df.rename(columns={\"Count Hisp/Latino\": \"Latinx\",\n",
    "                                                \"Counb Black/AfAm\": \"Black\",\n",
    "                                                \"Count AmIndian\": \"AmIndian\",\n",
    "                                                \"Count Asian\": \"Asian\",\n",
    "                                                \"Count White\": \"White\",\n",
    "                                                \"Count Other Race\": \"Other\"})\n",
    "file_one_df_edit.head()"
   ]
  },
  {
   "cell_type": "code",
   "execution_count": 9,
   "metadata": {},
   "outputs": [],
   "source": [
    "## Data frames for each zip code\n",
    "df_77002 = census_pd[census_pd.Zipcode == '77002']\n",
    "df_77003 = census_pd[census_pd.Zipcode == '77003']\n",
    "df_77004 = census_pd[census_pd.Zipcode == '77004']\n",
    "df_77005 = census_pd[census_pd.Zipcode == '77005']\n",
    "df_77006 = census_pd[census_pd.Zipcode == '77006']\n",
    "df_77007 = census_pd[census_pd.Zipcode == '77007']\n",
    "df_77008 = census_pd[census_pd.Zipcode == '77008']\n",
    "df_77009 = census_pd[census_pd.Zipcode == '77009']\n",
    "df_77010 = census_pd[census_pd.Zipcode == '77010']\n",
    "df_77011 = census_pd[census_pd.Zipcode == '77011']\n",
    "df_77012 = census_pd[census_pd.Zipcode == '77012']\n",
    "df_77019 = census_pd[census_pd.Zipcode == '77019']\n",
    "df_77020 = census_pd[census_pd.Zipcode == '77020']\n",
    "df_77021 = census_pd[census_pd.Zipcode == '77021']\n",
    "df_77023 = census_pd[census_pd.Zipcode == '77023']\n",
    "df_77025 = census_pd[census_pd.Zipcode == '77025']\n",
    "df_77026 = census_pd[census_pd.Zipcode == '77026']\n",
    "df_77027 = census_pd[census_pd.Zipcode == '77027']\n",
    "df_77030 = census_pd[census_pd.Zipcode == '77030']"
   ]
  },
  {
   "cell_type": "code",
   "execution_count": 30,
   "metadata": {},
   "outputs": [
    {
     "data": {
      "application/vnd.plotly.v1+json": {
       "config": {
        "plotlyServerURL": "https://plot.ly"
       },
       "data": [
        {
         "name": "77002",
         "type": "scatter",
         "x": [
          2012,
          2013,
          2014,
          2015,
          2016,
          2017
         ],
         "y": [
          57165,
          64093,
          71319,
          62089,
          68229,
          72306
         ]
        },
        {
         "name": "77003",
         "type": "scatter",
         "x": [
          2012,
          2013,
          2014,
          2015,
          2016,
          2017
         ],
         "y": [
          37664,
          36412,
          40647,
          39039,
          46267,
          59575
         ]
        },
        {
         "name": "77004",
         "type": "scatter",
         "x": [
          2012,
          2013,
          2014,
          2015,
          2016,
          2017
         ],
         "y": [
          39804,
          41983,
          46059,
          47523,
          50681,
          48592
         ]
        },
        {
         "name": "77006",
         "type": "scatter",
         "x": [
          2012,
          2013,
          2014,
          2015,
          2016,
          2017
         ],
         "y": [
          63360,
          67458,
          69508,
          71158,
          80908,
          82878
         ]
        },
        {
         "name": "77007",
         "type": "scatter",
         "x": [
          2012,
          2013,
          2014,
          2015,
          2016,
          2017
         ],
         "y": [
          90860,
          98725,
          106044,
          107580,
          113361,
          121458
         ]
        },
        {
         "name": "77008",
         "type": "scatter",
         "x": [
          2012,
          2013,
          2014,
          2015,
          2016,
          2017
         ],
         "y": [
          65457,
          70293,
          77512,
          82058,
          88248,
          97690
         ]
        },
        {
         "name": "77009",
         "type": "scatter",
         "x": [
          2012,
          2013,
          2014,
          2015,
          2016,
          2017
         ],
         "y": [
          42944,
          44651,
          45016,
          43830,
          47011,
          49383
         ]
        },
        {
         "name": "77011",
         "type": "scatter",
         "x": [
          2012,
          2013,
          2014,
          2015,
          2016,
          2017
         ],
         "y": [
          27458,
          26838,
          26953,
          26922,
          29544,
          30665
         ]
        },
        {
         "name": "77012",
         "type": "scatter",
         "x": [
          2012,
          2013,
          2014,
          2015,
          2016,
          2017
         ],
         "y": [
          33035,
          34975,
          35884,
          34891,
          34617,
          36537
         ]
        },
        {
         "name": "77019",
         "type": "scatter",
         "x": [
          2012,
          2013,
          2014,
          2015,
          2016,
          2017
         ],
         "y": [
          87582,
          87394,
          92844,
          101297,
          102521,
          112243
         ]
        },
        {
         "name": "77020",
         "type": "scatter",
         "x": [
          2012,
          2013,
          2014,
          2015,
          2016,
          2017
         ],
         "y": [
          28217,
          29401,
          27871,
          27052,
          26896,
          27587
         ]
        },
        {
         "name": "77021",
         "type": "scatter",
         "x": [
          2012,
          2013,
          2014,
          2015,
          2016,
          2017
         ],
         "y": [
          32096,
          31103,
          32391,
          32800,
          32404,
          35126
         ]
        },
        {
         "name": "77023",
         "type": "scatter",
         "x": [
          2012,
          2013,
          2014,
          2015,
          2016,
          2017
         ],
         "y": [
          37735,
          36033,
          37361,
          36065,
          35723,
          37462
         ]
        },
        {
         "name": "77025",
         "type": "scatter",
         "x": [
          2012,
          2013,
          2014,
          2015,
          2016,
          2017
         ],
         "y": [
          64202,
          65828,
          65524,
          66559,
          67548,
          71990
         ]
        },
        {
         "name": "77026",
         "type": "scatter",
         "x": [
          2012,
          2013,
          2014,
          2015,
          2016,
          2017
         ],
         "y": [
          20200,
          20024,
          21335,
          22242,
          25354,
          26644
         ]
        },
        {
         "name": "77027",
         "type": "scatter",
         "x": [
          2012,
          2013,
          2014,
          2015,
          2016,
          2017
         ],
         "y": [
          81202,
          81661,
          82038,
          89276,
          88471,
          91296
         ]
        },
        {
         "name": "77030",
         "type": "scatter",
         "x": [
          2012,
          2013,
          2014,
          2015,
          2016,
          2017
         ],
         "y": [
          67790,
          68980,
          71078,
          71883,
          73689,
          75290
         ]
        }
       ],
       "layout": {
        "template": {
         "data": {
          "bar": [
           {
            "error_x": {
             "color": "#2a3f5f"
            },
            "error_y": {
             "color": "#2a3f5f"
            },
            "marker": {
             "line": {
              "color": "#E5ECF6",
              "width": 0.5
             }
            },
            "type": "bar"
           }
          ],
          "barpolar": [
           {
            "marker": {
             "line": {
              "color": "#E5ECF6",
              "width": 0.5
             }
            },
            "type": "barpolar"
           }
          ],
          "carpet": [
           {
            "aaxis": {
             "endlinecolor": "#2a3f5f",
             "gridcolor": "white",
             "linecolor": "white",
             "minorgridcolor": "white",
             "startlinecolor": "#2a3f5f"
            },
            "baxis": {
             "endlinecolor": "#2a3f5f",
             "gridcolor": "white",
             "linecolor": "white",
             "minorgridcolor": "white",
             "startlinecolor": "#2a3f5f"
            },
            "type": "carpet"
           }
          ],
          "choropleth": [
           {
            "colorbar": {
             "outlinewidth": 0,
             "ticks": ""
            },
            "type": "choropleth"
           }
          ],
          "contour": [
           {
            "colorbar": {
             "outlinewidth": 0,
             "ticks": ""
            },
            "colorscale": [
             [
              0,
              "#0d0887"
             ],
             [
              0.1111111111111111,
              "#46039f"
             ],
             [
              0.2222222222222222,
              "#7201a8"
             ],
             [
              0.3333333333333333,
              "#9c179e"
             ],
             [
              0.4444444444444444,
              "#bd3786"
             ],
             [
              0.5555555555555556,
              "#d8576b"
             ],
             [
              0.6666666666666666,
              "#ed7953"
             ],
             [
              0.7777777777777778,
              "#fb9f3a"
             ],
             [
              0.8888888888888888,
              "#fdca26"
             ],
             [
              1,
              "#f0f921"
             ]
            ],
            "type": "contour"
           }
          ],
          "contourcarpet": [
           {
            "colorbar": {
             "outlinewidth": 0,
             "ticks": ""
            },
            "type": "contourcarpet"
           }
          ],
          "heatmap": [
           {
            "colorbar": {
             "outlinewidth": 0,
             "ticks": ""
            },
            "colorscale": [
             [
              0,
              "#0d0887"
             ],
             [
              0.1111111111111111,
              "#46039f"
             ],
             [
              0.2222222222222222,
              "#7201a8"
             ],
             [
              0.3333333333333333,
              "#9c179e"
             ],
             [
              0.4444444444444444,
              "#bd3786"
             ],
             [
              0.5555555555555556,
              "#d8576b"
             ],
             [
              0.6666666666666666,
              "#ed7953"
             ],
             [
              0.7777777777777778,
              "#fb9f3a"
             ],
             [
              0.8888888888888888,
              "#fdca26"
             ],
             [
              1,
              "#f0f921"
             ]
            ],
            "type": "heatmap"
           }
          ],
          "heatmapgl": [
           {
            "colorbar": {
             "outlinewidth": 0,
             "ticks": ""
            },
            "colorscale": [
             [
              0,
              "#0d0887"
             ],
             [
              0.1111111111111111,
              "#46039f"
             ],
             [
              0.2222222222222222,
              "#7201a8"
             ],
             [
              0.3333333333333333,
              "#9c179e"
             ],
             [
              0.4444444444444444,
              "#bd3786"
             ],
             [
              0.5555555555555556,
              "#d8576b"
             ],
             [
              0.6666666666666666,
              "#ed7953"
             ],
             [
              0.7777777777777778,
              "#fb9f3a"
             ],
             [
              0.8888888888888888,
              "#fdca26"
             ],
             [
              1,
              "#f0f921"
             ]
            ],
            "type": "heatmapgl"
           }
          ],
          "histogram": [
           {
            "marker": {
             "colorbar": {
              "outlinewidth": 0,
              "ticks": ""
             }
            },
            "type": "histogram"
           }
          ],
          "histogram2d": [
           {
            "colorbar": {
             "outlinewidth": 0,
             "ticks": ""
            },
            "colorscale": [
             [
              0,
              "#0d0887"
             ],
             [
              0.1111111111111111,
              "#46039f"
             ],
             [
              0.2222222222222222,
              "#7201a8"
             ],
             [
              0.3333333333333333,
              "#9c179e"
             ],
             [
              0.4444444444444444,
              "#bd3786"
             ],
             [
              0.5555555555555556,
              "#d8576b"
             ],
             [
              0.6666666666666666,
              "#ed7953"
             ],
             [
              0.7777777777777778,
              "#fb9f3a"
             ],
             [
              0.8888888888888888,
              "#fdca26"
             ],
             [
              1,
              "#f0f921"
             ]
            ],
            "type": "histogram2d"
           }
          ],
          "histogram2dcontour": [
           {
            "colorbar": {
             "outlinewidth": 0,
             "ticks": ""
            },
            "colorscale": [
             [
              0,
              "#0d0887"
             ],
             [
              0.1111111111111111,
              "#46039f"
             ],
             [
              0.2222222222222222,
              "#7201a8"
             ],
             [
              0.3333333333333333,
              "#9c179e"
             ],
             [
              0.4444444444444444,
              "#bd3786"
             ],
             [
              0.5555555555555556,
              "#d8576b"
             ],
             [
              0.6666666666666666,
              "#ed7953"
             ],
             [
              0.7777777777777778,
              "#fb9f3a"
             ],
             [
              0.8888888888888888,
              "#fdca26"
             ],
             [
              1,
              "#f0f921"
             ]
            ],
            "type": "histogram2dcontour"
           }
          ],
          "mesh3d": [
           {
            "colorbar": {
             "outlinewidth": 0,
             "ticks": ""
            },
            "type": "mesh3d"
           }
          ],
          "parcoords": [
           {
            "line": {
             "colorbar": {
              "outlinewidth": 0,
              "ticks": ""
             }
            },
            "type": "parcoords"
           }
          ],
          "scatter": [
           {
            "marker": {
             "colorbar": {
              "outlinewidth": 0,
              "ticks": ""
             }
            },
            "type": "scatter"
           }
          ],
          "scatter3d": [
           {
            "line": {
             "colorbar": {
              "outlinewidth": 0,
              "ticks": ""
             }
            },
            "marker": {
             "colorbar": {
              "outlinewidth": 0,
              "ticks": ""
             }
            },
            "type": "scatter3d"
           }
          ],
          "scattercarpet": [
           {
            "marker": {
             "colorbar": {
              "outlinewidth": 0,
              "ticks": ""
             }
            },
            "type": "scattercarpet"
           }
          ],
          "scattergeo": [
           {
            "marker": {
             "colorbar": {
              "outlinewidth": 0,
              "ticks": ""
             }
            },
            "type": "scattergeo"
           }
          ],
          "scattergl": [
           {
            "marker": {
             "colorbar": {
              "outlinewidth": 0,
              "ticks": ""
             }
            },
            "type": "scattergl"
           }
          ],
          "scattermapbox": [
           {
            "marker": {
             "colorbar": {
              "outlinewidth": 0,
              "ticks": ""
             }
            },
            "type": "scattermapbox"
           }
          ],
          "scatterpolar": [
           {
            "marker": {
             "colorbar": {
              "outlinewidth": 0,
              "ticks": ""
             }
            },
            "type": "scatterpolar"
           }
          ],
          "scatterpolargl": [
           {
            "marker": {
             "colorbar": {
              "outlinewidth": 0,
              "ticks": ""
             }
            },
            "type": "scatterpolargl"
           }
          ],
          "scatterternary": [
           {
            "marker": {
             "colorbar": {
              "outlinewidth": 0,
              "ticks": ""
             }
            },
            "type": "scatterternary"
           }
          ],
          "surface": [
           {
            "colorbar": {
             "outlinewidth": 0,
             "ticks": ""
            },
            "colorscale": [
             [
              0,
              "#0d0887"
             ],
             [
              0.1111111111111111,
              "#46039f"
             ],
             [
              0.2222222222222222,
              "#7201a8"
             ],
             [
              0.3333333333333333,
              "#9c179e"
             ],
             [
              0.4444444444444444,
              "#bd3786"
             ],
             [
              0.5555555555555556,
              "#d8576b"
             ],
             [
              0.6666666666666666,
              "#ed7953"
             ],
             [
              0.7777777777777778,
              "#fb9f3a"
             ],
             [
              0.8888888888888888,
              "#fdca26"
             ],
             [
              1,
              "#f0f921"
             ]
            ],
            "type": "surface"
           }
          ],
          "table": [
           {
            "cells": {
             "fill": {
              "color": "#EBF0F8"
             },
             "line": {
              "color": "white"
             }
            },
            "header": {
             "fill": {
              "color": "#C8D4E3"
             },
             "line": {
              "color": "white"
             }
            },
            "type": "table"
           }
          ]
         },
         "layout": {
          "annotationdefaults": {
           "arrowcolor": "#2a3f5f",
           "arrowhead": 0,
           "arrowwidth": 1
          },
          "colorscale": {
           "diverging": [
            [
             0,
             "#8e0152"
            ],
            [
             0.1,
             "#c51b7d"
            ],
            [
             0.2,
             "#de77ae"
            ],
            [
             0.3,
             "#f1b6da"
            ],
            [
             0.4,
             "#fde0ef"
            ],
            [
             0.5,
             "#f7f7f7"
            ],
            [
             0.6,
             "#e6f5d0"
            ],
            [
             0.7,
             "#b8e186"
            ],
            [
             0.8,
             "#7fbc41"
            ],
            [
             0.9,
             "#4d9221"
            ],
            [
             1,
             "#276419"
            ]
           ],
           "sequential": [
            [
             0,
             "#0d0887"
            ],
            [
             0.1111111111111111,
             "#46039f"
            ],
            [
             0.2222222222222222,
             "#7201a8"
            ],
            [
             0.3333333333333333,
             "#9c179e"
            ],
            [
             0.4444444444444444,
             "#bd3786"
            ],
            [
             0.5555555555555556,
             "#d8576b"
            ],
            [
             0.6666666666666666,
             "#ed7953"
            ],
            [
             0.7777777777777778,
             "#fb9f3a"
            ],
            [
             0.8888888888888888,
             "#fdca26"
            ],
            [
             1,
             "#f0f921"
            ]
           ],
           "sequentialminus": [
            [
             0,
             "#0d0887"
            ],
            [
             0.1111111111111111,
             "#46039f"
            ],
            [
             0.2222222222222222,
             "#7201a8"
            ],
            [
             0.3333333333333333,
             "#9c179e"
            ],
            [
             0.4444444444444444,
             "#bd3786"
            ],
            [
             0.5555555555555556,
             "#d8576b"
            ],
            [
             0.6666666666666666,
             "#ed7953"
            ],
            [
             0.7777777777777778,
             "#fb9f3a"
            ],
            [
             0.8888888888888888,
             "#fdca26"
            ],
            [
             1,
             "#f0f921"
            ]
           ]
          },
          "colorway": [
           "#636efa",
           "#EF553B",
           "#00cc96",
           "#ab63fa",
           "#FFA15A",
           "#19d3f3",
           "#FF6692",
           "#B6E880",
           "#FF97FF",
           "#FECB52"
          ],
          "font": {
           "color": "#2a3f5f"
          },
          "geo": {
           "bgcolor": "white",
           "lakecolor": "white",
           "landcolor": "#E5ECF6",
           "showlakes": true,
           "showland": true,
           "subunitcolor": "white"
          },
          "hoverlabel": {
           "align": "left"
          },
          "hovermode": "closest",
          "mapbox": {
           "style": "light"
          },
          "paper_bgcolor": "white",
          "plot_bgcolor": "#E5ECF6",
          "polar": {
           "angularaxis": {
            "gridcolor": "white",
            "linecolor": "white",
            "ticks": ""
           },
           "bgcolor": "#E5ECF6",
           "radialaxis": {
            "gridcolor": "white",
            "linecolor": "white",
            "ticks": ""
           }
          },
          "scene": {
           "xaxis": {
            "backgroundcolor": "#E5ECF6",
            "gridcolor": "white",
            "gridwidth": 2,
            "linecolor": "white",
            "showbackground": true,
            "ticks": "",
            "zerolinecolor": "white"
           },
           "yaxis": {
            "backgroundcolor": "#E5ECF6",
            "gridcolor": "white",
            "gridwidth": 2,
            "linecolor": "white",
            "showbackground": true,
            "ticks": "",
            "zerolinecolor": "white"
           },
           "zaxis": {
            "backgroundcolor": "#E5ECF6",
            "gridcolor": "white",
            "gridwidth": 2,
            "linecolor": "white",
            "showbackground": true,
            "ticks": "",
            "zerolinecolor": "white"
           }
          },
          "shapedefaults": {
           "line": {
            "color": "#2a3f5f"
           }
          },
          "ternary": {
           "aaxis": {
            "gridcolor": "white",
            "linecolor": "white",
            "ticks": ""
           },
           "baxis": {
            "gridcolor": "white",
            "linecolor": "white",
            "ticks": ""
           },
           "bgcolor": "#E5ECF6",
           "caxis": {
            "gridcolor": "white",
            "linecolor": "white",
            "ticks": ""
           }
          },
          "title": {
           "x": 0.05
          },
          "xaxis": {
           "automargin": true,
           "gridcolor": "white",
           "linecolor": "white",
           "ticks": "",
           "zerolinecolor": "white",
           "zerolinewidth": 2
          },
          "yaxis": {
           "automargin": true,
           "gridcolor": "white",
           "linecolor": "white",
           "ticks": "",
           "zerolinecolor": "white",
           "zerolinewidth": 2
          }
         }
        },
        "title": {
         "text": "Inner Houston Zip Codes - Household Income Trend"
        },
        "xaxis": {
         "title": {
          "text": "<b>Year</b>"
         }
        },
        "yaxis": {
         "title": {
          "text": "<b>Income</b> ($)"
         }
        }
       }
      },
      "text/html": [
       "<div>\n",
       "        \n",
       "        \n",
       "            <div id=\"d5ab3f90-a1d5-4305-b13e-ccebb5735fab\" class=\"plotly-graph-div\" style=\"height:525px; width:100%;\"></div>\n",
       "            <script type=\"text/javascript\">\n",
       "                require([\"plotly\"], function(Plotly) {\n",
       "                    window.PLOTLYENV=window.PLOTLYENV || {};\n",
       "                    \n",
       "                if (document.getElementById(\"d5ab3f90-a1d5-4305-b13e-ccebb5735fab\")) {\n",
       "                    Plotly.newPlot(\n",
       "                        'd5ab3f90-a1d5-4305-b13e-ccebb5735fab',\n",
       "                        [{\"name\": \"77002\", \"type\": \"scatter\", \"x\": [2012, 2013, 2014, 2015, 2016, 2017], \"y\": [57165.0, 64093.0, 71319.0, 62089.0, 68229.0, 72306.0]}, {\"name\": \"77003\", \"type\": \"scatter\", \"x\": [2012, 2013, 2014, 2015, 2016, 2017], \"y\": [37664.0, 36412.0, 40647.0, 39039.0, 46267.0, 59575.0]}, {\"name\": \"77004\", \"type\": \"scatter\", \"x\": [2012, 2013, 2014, 2015, 2016, 2017], \"y\": [39804.0, 41983.0, 46059.0, 47523.0, 50681.0, 48592.0]}, {\"name\": \"77006\", \"type\": \"scatter\", \"x\": [2012, 2013, 2014, 2015, 2016, 2017], \"y\": [63360.0, 67458.0, 69508.0, 71158.0, 80908.0, 82878.0]}, {\"name\": \"77007\", \"type\": \"scatter\", \"x\": [2012, 2013, 2014, 2015, 2016, 2017], \"y\": [90860.0, 98725.0, 106044.0, 107580.0, 113361.0, 121458.0]}, {\"name\": \"77008\", \"type\": \"scatter\", \"x\": [2012, 2013, 2014, 2015, 2016, 2017], \"y\": [65457.0, 70293.0, 77512.0, 82058.0, 88248.0, 97690.0]}, {\"name\": \"77009\", \"type\": \"scatter\", \"x\": [2012, 2013, 2014, 2015, 2016, 2017], \"y\": [42944.0, 44651.0, 45016.0, 43830.0, 47011.0, 49383.0]}, {\"name\": \"77011\", \"type\": \"scatter\", \"x\": [2012, 2013, 2014, 2015, 2016, 2017], \"y\": [27458.0, 26838.0, 26953.0, 26922.0, 29544.0, 30665.0]}, {\"name\": \"77012\", \"type\": \"scatter\", \"x\": [2012, 2013, 2014, 2015, 2016, 2017], \"y\": [33035.0, 34975.0, 35884.0, 34891.0, 34617.0, 36537.0]}, {\"name\": \"77019\", \"type\": \"scatter\", \"x\": [2012, 2013, 2014, 2015, 2016, 2017], \"y\": [87582.0, 87394.0, 92844.0, 101297.0, 102521.0, 112243.0]}, {\"name\": \"77020\", \"type\": \"scatter\", \"x\": [2012, 2013, 2014, 2015, 2016, 2017], \"y\": [28217.0, 29401.0, 27871.0, 27052.0, 26896.0, 27587.0]}, {\"name\": \"77021\", \"type\": \"scatter\", \"x\": [2012, 2013, 2014, 2015, 2016, 2017], \"y\": [32096.0, 31103.0, 32391.0, 32800.0, 32404.0, 35126.0]}, {\"name\": \"77023\", \"type\": \"scatter\", \"x\": [2012, 2013, 2014, 2015, 2016, 2017], \"y\": [37735.0, 36033.0, 37361.0, 36065.0, 35723.0, 37462.0]}, {\"name\": \"77025\", \"type\": \"scatter\", \"x\": [2012, 2013, 2014, 2015, 2016, 2017], \"y\": [64202.0, 65828.0, 65524.0, 66559.0, 67548.0, 71990.0]}, {\"name\": \"77026\", \"type\": \"scatter\", \"x\": [2012, 2013, 2014, 2015, 2016, 2017], \"y\": [20200.0, 20024.0, 21335.0, 22242.0, 25354.0, 26644.0]}, {\"name\": \"77027\", \"type\": \"scatter\", \"x\": [2012, 2013, 2014, 2015, 2016, 2017], \"y\": [81202.0, 81661.0, 82038.0, 89276.0, 88471.0, 91296.0]}, {\"name\": \"77030\", \"type\": \"scatter\", \"x\": [2012, 2013, 2014, 2015, 2016, 2017], \"y\": [67790.0, 68980.0, 71078.0, 71883.0, 73689.0, 75290.0]}],\n",
       "                        {\"template\": {\"data\": {\"bar\": [{\"error_x\": {\"color\": \"#2a3f5f\"}, \"error_y\": {\"color\": \"#2a3f5f\"}, \"marker\": {\"line\": {\"color\": \"#E5ECF6\", \"width\": 0.5}}, \"type\": \"bar\"}], \"barpolar\": [{\"marker\": {\"line\": {\"color\": \"#E5ECF6\", \"width\": 0.5}}, \"type\": \"barpolar\"}], \"carpet\": [{\"aaxis\": {\"endlinecolor\": \"#2a3f5f\", \"gridcolor\": \"white\", \"linecolor\": \"white\", \"minorgridcolor\": \"white\", \"startlinecolor\": \"#2a3f5f\"}, \"baxis\": {\"endlinecolor\": \"#2a3f5f\", \"gridcolor\": \"white\", \"linecolor\": \"white\", \"minorgridcolor\": \"white\", \"startlinecolor\": \"#2a3f5f\"}, \"type\": \"carpet\"}], \"choropleth\": [{\"colorbar\": {\"outlinewidth\": 0, \"ticks\": \"\"}, \"type\": \"choropleth\"}], \"contour\": [{\"colorbar\": {\"outlinewidth\": 0, \"ticks\": \"\"}, \"colorscale\": [[0.0, \"#0d0887\"], [0.1111111111111111, \"#46039f\"], [0.2222222222222222, \"#7201a8\"], [0.3333333333333333, \"#9c179e\"], [0.4444444444444444, \"#bd3786\"], [0.5555555555555556, \"#d8576b\"], [0.6666666666666666, \"#ed7953\"], [0.7777777777777778, \"#fb9f3a\"], [0.8888888888888888, \"#fdca26\"], [1.0, \"#f0f921\"]], \"type\": \"contour\"}], \"contourcarpet\": [{\"colorbar\": {\"outlinewidth\": 0, \"ticks\": \"\"}, \"type\": \"contourcarpet\"}], \"heatmap\": [{\"colorbar\": {\"outlinewidth\": 0, \"ticks\": \"\"}, \"colorscale\": [[0.0, \"#0d0887\"], [0.1111111111111111, \"#46039f\"], [0.2222222222222222, \"#7201a8\"], [0.3333333333333333, \"#9c179e\"], [0.4444444444444444, \"#bd3786\"], [0.5555555555555556, \"#d8576b\"], [0.6666666666666666, \"#ed7953\"], [0.7777777777777778, \"#fb9f3a\"], [0.8888888888888888, \"#fdca26\"], [1.0, \"#f0f921\"]], \"type\": \"heatmap\"}], \"heatmapgl\": [{\"colorbar\": {\"outlinewidth\": 0, \"ticks\": \"\"}, \"colorscale\": [[0.0, \"#0d0887\"], [0.1111111111111111, \"#46039f\"], [0.2222222222222222, \"#7201a8\"], [0.3333333333333333, \"#9c179e\"], [0.4444444444444444, \"#bd3786\"], [0.5555555555555556, \"#d8576b\"], [0.6666666666666666, \"#ed7953\"], [0.7777777777777778, \"#fb9f3a\"], [0.8888888888888888, \"#fdca26\"], [1.0, \"#f0f921\"]], \"type\": \"heatmapgl\"}], \"histogram\": [{\"marker\": {\"colorbar\": {\"outlinewidth\": 0, \"ticks\": \"\"}}, \"type\": \"histogram\"}], \"histogram2d\": [{\"colorbar\": {\"outlinewidth\": 0, \"ticks\": \"\"}, \"colorscale\": [[0.0, \"#0d0887\"], [0.1111111111111111, \"#46039f\"], [0.2222222222222222, \"#7201a8\"], [0.3333333333333333, \"#9c179e\"], [0.4444444444444444, \"#bd3786\"], [0.5555555555555556, \"#d8576b\"], [0.6666666666666666, \"#ed7953\"], [0.7777777777777778, \"#fb9f3a\"], [0.8888888888888888, \"#fdca26\"], [1.0, \"#f0f921\"]], \"type\": \"histogram2d\"}], \"histogram2dcontour\": [{\"colorbar\": {\"outlinewidth\": 0, \"ticks\": \"\"}, \"colorscale\": [[0.0, \"#0d0887\"], [0.1111111111111111, \"#46039f\"], [0.2222222222222222, \"#7201a8\"], [0.3333333333333333, \"#9c179e\"], [0.4444444444444444, \"#bd3786\"], [0.5555555555555556, \"#d8576b\"], [0.6666666666666666, \"#ed7953\"], [0.7777777777777778, \"#fb9f3a\"], [0.8888888888888888, \"#fdca26\"], [1.0, \"#f0f921\"]], \"type\": \"histogram2dcontour\"}], \"mesh3d\": [{\"colorbar\": {\"outlinewidth\": 0, \"ticks\": \"\"}, \"type\": \"mesh3d\"}], \"parcoords\": [{\"line\": {\"colorbar\": {\"outlinewidth\": 0, \"ticks\": \"\"}}, \"type\": \"parcoords\"}], \"scatter\": [{\"marker\": {\"colorbar\": {\"outlinewidth\": 0, \"ticks\": \"\"}}, \"type\": \"scatter\"}], \"scatter3d\": [{\"line\": {\"colorbar\": {\"outlinewidth\": 0, \"ticks\": \"\"}}, \"marker\": {\"colorbar\": {\"outlinewidth\": 0, \"ticks\": \"\"}}, \"type\": \"scatter3d\"}], \"scattercarpet\": [{\"marker\": {\"colorbar\": {\"outlinewidth\": 0, \"ticks\": \"\"}}, \"type\": \"scattercarpet\"}], \"scattergeo\": [{\"marker\": {\"colorbar\": {\"outlinewidth\": 0, \"ticks\": \"\"}}, \"type\": \"scattergeo\"}], \"scattergl\": [{\"marker\": {\"colorbar\": {\"outlinewidth\": 0, \"ticks\": \"\"}}, \"type\": \"scattergl\"}], \"scattermapbox\": [{\"marker\": {\"colorbar\": {\"outlinewidth\": 0, \"ticks\": \"\"}}, \"type\": \"scattermapbox\"}], \"scatterpolar\": [{\"marker\": {\"colorbar\": {\"outlinewidth\": 0, \"ticks\": \"\"}}, \"type\": \"scatterpolar\"}], \"scatterpolargl\": [{\"marker\": {\"colorbar\": {\"outlinewidth\": 0, \"ticks\": \"\"}}, \"type\": \"scatterpolargl\"}], \"scatterternary\": [{\"marker\": {\"colorbar\": {\"outlinewidth\": 0, \"ticks\": \"\"}}, \"type\": \"scatterternary\"}], \"surface\": [{\"colorbar\": {\"outlinewidth\": 0, \"ticks\": \"\"}, \"colorscale\": [[0.0, \"#0d0887\"], [0.1111111111111111, \"#46039f\"], [0.2222222222222222, \"#7201a8\"], [0.3333333333333333, \"#9c179e\"], [0.4444444444444444, \"#bd3786\"], [0.5555555555555556, \"#d8576b\"], [0.6666666666666666, \"#ed7953\"], [0.7777777777777778, \"#fb9f3a\"], [0.8888888888888888, \"#fdca26\"], [1.0, \"#f0f921\"]], \"type\": \"surface\"}], \"table\": [{\"cells\": {\"fill\": {\"color\": \"#EBF0F8\"}, \"line\": {\"color\": \"white\"}}, \"header\": {\"fill\": {\"color\": \"#C8D4E3\"}, \"line\": {\"color\": \"white\"}}, \"type\": \"table\"}]}, \"layout\": {\"annotationdefaults\": {\"arrowcolor\": \"#2a3f5f\", \"arrowhead\": 0, \"arrowwidth\": 1}, \"colorscale\": {\"diverging\": [[0, \"#8e0152\"], [0.1, \"#c51b7d\"], [0.2, \"#de77ae\"], [0.3, \"#f1b6da\"], [0.4, \"#fde0ef\"], [0.5, \"#f7f7f7\"], [0.6, \"#e6f5d0\"], [0.7, \"#b8e186\"], [0.8, \"#7fbc41\"], [0.9, \"#4d9221\"], [1, \"#276419\"]], \"sequential\": [[0.0, \"#0d0887\"], [0.1111111111111111, \"#46039f\"], [0.2222222222222222, \"#7201a8\"], [0.3333333333333333, \"#9c179e\"], [0.4444444444444444, \"#bd3786\"], [0.5555555555555556, \"#d8576b\"], [0.6666666666666666, \"#ed7953\"], [0.7777777777777778, \"#fb9f3a\"], [0.8888888888888888, \"#fdca26\"], [1.0, \"#f0f921\"]], \"sequentialminus\": [[0.0, \"#0d0887\"], [0.1111111111111111, \"#46039f\"], [0.2222222222222222, \"#7201a8\"], [0.3333333333333333, \"#9c179e\"], [0.4444444444444444, \"#bd3786\"], [0.5555555555555556, \"#d8576b\"], [0.6666666666666666, \"#ed7953\"], [0.7777777777777778, \"#fb9f3a\"], [0.8888888888888888, \"#fdca26\"], [1.0, \"#f0f921\"]]}, \"colorway\": [\"#636efa\", \"#EF553B\", \"#00cc96\", \"#ab63fa\", \"#FFA15A\", \"#19d3f3\", \"#FF6692\", \"#B6E880\", \"#FF97FF\", \"#FECB52\"], \"font\": {\"color\": \"#2a3f5f\"}, \"geo\": {\"bgcolor\": \"white\", \"lakecolor\": \"white\", \"landcolor\": \"#E5ECF6\", \"showlakes\": true, \"showland\": true, \"subunitcolor\": \"white\"}, \"hoverlabel\": {\"align\": \"left\"}, \"hovermode\": \"closest\", \"mapbox\": {\"style\": \"light\"}, \"paper_bgcolor\": \"white\", \"plot_bgcolor\": \"#E5ECF6\", \"polar\": {\"angularaxis\": {\"gridcolor\": \"white\", \"linecolor\": \"white\", \"ticks\": \"\"}, \"bgcolor\": \"#E5ECF6\", \"radialaxis\": {\"gridcolor\": \"white\", \"linecolor\": \"white\", \"ticks\": \"\"}}, \"scene\": {\"xaxis\": {\"backgroundcolor\": \"#E5ECF6\", \"gridcolor\": \"white\", \"gridwidth\": 2, \"linecolor\": \"white\", \"showbackground\": true, \"ticks\": \"\", \"zerolinecolor\": \"white\"}, \"yaxis\": {\"backgroundcolor\": \"#E5ECF6\", \"gridcolor\": \"white\", \"gridwidth\": 2, \"linecolor\": \"white\", \"showbackground\": true, \"ticks\": \"\", \"zerolinecolor\": \"white\"}, \"zaxis\": {\"backgroundcolor\": \"#E5ECF6\", \"gridcolor\": \"white\", \"gridwidth\": 2, \"linecolor\": \"white\", \"showbackground\": true, \"ticks\": \"\", \"zerolinecolor\": \"white\"}}, \"shapedefaults\": {\"line\": {\"color\": \"#2a3f5f\"}}, \"ternary\": {\"aaxis\": {\"gridcolor\": \"white\", \"linecolor\": \"white\", \"ticks\": \"\"}, \"baxis\": {\"gridcolor\": \"white\", \"linecolor\": \"white\", \"ticks\": \"\"}, \"bgcolor\": \"#E5ECF6\", \"caxis\": {\"gridcolor\": \"white\", \"linecolor\": \"white\", \"ticks\": \"\"}}, \"title\": {\"x\": 0.05}, \"xaxis\": {\"automargin\": true, \"gridcolor\": \"white\", \"linecolor\": \"white\", \"ticks\": \"\", \"zerolinecolor\": \"white\", \"zerolinewidth\": 2}, \"yaxis\": {\"automargin\": true, \"gridcolor\": \"white\", \"linecolor\": \"white\", \"ticks\": \"\", \"zerolinecolor\": \"white\", \"zerolinewidth\": 2}}}, \"title\": {\"text\": \"Inner Houston Zip Codes - Household Income Trend\"}, \"xaxis\": {\"title\": {\"text\": \"<b>Year</b>\"}}, \"yaxis\": {\"title\": {\"text\": \"<b>Income</b> ($)\"}}},\n",
       "                        {\"responsive\": true}\n",
       "                    ).then(function(){\n",
       "                            \n",
       "var gd = document.getElementById('d5ab3f90-a1d5-4305-b13e-ccebb5735fab');\n",
       "var x = new MutationObserver(function (mutations, observer) {{\n",
       "        var display = window.getComputedStyle(gd).display;\n",
       "        if (!display || display === 'none') {{\n",
       "            console.log([gd, 'removed!']);\n",
       "            Plotly.purge(gd);\n",
       "            observer.disconnect();\n",
       "        }}\n",
       "}});\n",
       "\n",
       "// Listen for the removal of the full notebook cells\n",
       "var notebookContainer = gd.closest('#notebook-container');\n",
       "if (notebookContainer) {{\n",
       "    x.observe(notebookContainer, {childList: true});\n",
       "}}\n",
       "\n",
       "// Listen for the clearing of the current output cell\n",
       "var outputEl = gd.closest('.output');\n",
       "if (outputEl) {{\n",
       "    x.observe(outputEl, {childList: true});\n",
       "}}\n",
       "\n",
       "                        })\n",
       "                };\n",
       "                });\n",
       "            </script>\n",
       "        </div>"
      ]
     },
     "metadata": {},
     "output_type": "display_data"
    }
   ],
   "source": [
    "## ALL Zip Codes income trend\n",
    "fig = go.Figure()\n",
    "fig.add_trace(go.Scatter(x=df_77002.Year, y=df_77002['Household Income'],name='77002'))\n",
    "fig.add_trace(go.Scatter(x=df_77003.Year, y=df_77003['Household Income'],name='77003'))\n",
    "fig.add_trace(go.Scatter(x=df_77004.Year, y=df_77004['Household Income'],name='77004'))\n",
    "# fig.add_trace(go.Scatter(x=df_77005.Year, y=df_77005['Household Income'],name='77005'))\n",
    "fig.add_trace(go.Scatter(x=df_77006.Year, y=df_77006['Household Income'],name='77006'))\n",
    "fig.add_trace(go.Scatter(x=df_77007.Year, y=df_77007['Household Income'],name='77007'))\n",
    "fig.add_trace(go.Scatter(x=df_77008.Year, y=df_77008['Household Income'],name='77008'))\n",
    "fig.add_trace(go.Scatter(x=df_77009.Year, y=df_77009['Household Income'],name='77009'))\n",
    "# fig.add_trace(go.Scatter(x=df_77010.Year, y=df_77010['Household Income'],name='77010'))\n",
    "fig.add_trace(go.Scatter(x=df_77011.Year, y=df_77011['Household Income'],name='77011'))\n",
    "fig.add_trace(go.Scatter(x=df_77012.Year, y=df_77012['Household Income'],name='77012'))\n",
    "fig.add_trace(go.Scatter(x=df_77019.Year, y=df_77019['Household Income'],name='77019'))\n",
    "fig.add_trace(go.Scatter(x=df_77020.Year, y=df_77020['Household Income'],name='77020'))\n",
    "fig.add_trace(go.Scatter(x=df_77021.Year, y=df_77021['Household Income'],name='77021'))\n",
    "fig.add_trace(go.Scatter(x=df_77023.Year, y=df_77023['Household Income'],name='77023'))\n",
    "fig.add_trace(go.Scatter(x=df_77025.Year, y=df_77025['Household Income'],name='77025'))\n",
    "fig.add_trace(go.Scatter(x=df_77026.Year, y=df_77026['Household Income'],name='77026'))\n",
    "fig.add_trace(go.Scatter(x=df_77027.Year, y=df_77027['Household Income'],name='77027'))\n",
    "fig.add_trace(go.Scatter(x=df_77030.Year, y=df_77030['Household Income'],name='77030'))\n",
    "\n",
    "fig.update_layout(title_text=\"Inner Houston Zip Codes - Household Income Trend\")\n",
    "fig.update_yaxes(title_text=\"<b>Income</b> ($)\")\n",
    "fig.update_xaxes(title_text=\"<b>Year</b>\")\n",
    "\n",
    "fig.show()"
   ]
  },
  {
   "cell_type": "code",
   "execution_count": 41,
   "metadata": {},
   "outputs": [
    {
     "data": {
      "application/vnd.plotly.v1+json": {
       "config": {
        "plotlyServerURL": "https://plot.ly"
       },
       "data": [
        {
         "name": "77003",
         "type": "scatter",
         "x": [
          2012,
          2013,
          2014,
          2015,
          2016,
          2017
         ],
         "y": [
          37664,
          36412,
          40647,
          39039,
          46267,
          59575
         ]
        },
        {
         "name": "77007",
         "type": "scatter",
         "x": [
          2012,
          2013,
          2014,
          2015,
          2016,
          2017
         ],
         "y": [
          90860,
          98725,
          106044,
          107580,
          113361,
          121458
         ]
        },
        {
         "name": "77008",
         "type": "scatter",
         "x": [
          2012,
          2013,
          2014,
          2015,
          2016,
          2017
         ],
         "y": [
          65457,
          70293,
          77512,
          82058,
          88248,
          97690
         ]
        },
        {
         "name": "77026",
         "type": "scatter",
         "x": [
          2012,
          2013,
          2014,
          2015,
          2016,
          2017
         ],
         "y": [
          20200,
          20024,
          21335,
          22242,
          25354,
          26644
         ]
        }
       ],
       "layout": {
        "template": {
         "data": {
          "bar": [
           {
            "error_x": {
             "color": "#2a3f5f"
            },
            "error_y": {
             "color": "#2a3f5f"
            },
            "marker": {
             "line": {
              "color": "#E5ECF6",
              "width": 0.5
             }
            },
            "type": "bar"
           }
          ],
          "barpolar": [
           {
            "marker": {
             "line": {
              "color": "#E5ECF6",
              "width": 0.5
             }
            },
            "type": "barpolar"
           }
          ],
          "carpet": [
           {
            "aaxis": {
             "endlinecolor": "#2a3f5f",
             "gridcolor": "white",
             "linecolor": "white",
             "minorgridcolor": "white",
             "startlinecolor": "#2a3f5f"
            },
            "baxis": {
             "endlinecolor": "#2a3f5f",
             "gridcolor": "white",
             "linecolor": "white",
             "minorgridcolor": "white",
             "startlinecolor": "#2a3f5f"
            },
            "type": "carpet"
           }
          ],
          "choropleth": [
           {
            "colorbar": {
             "outlinewidth": 0,
             "ticks": ""
            },
            "type": "choropleth"
           }
          ],
          "contour": [
           {
            "colorbar": {
             "outlinewidth": 0,
             "ticks": ""
            },
            "colorscale": [
             [
              0,
              "#0d0887"
             ],
             [
              0.1111111111111111,
              "#46039f"
             ],
             [
              0.2222222222222222,
              "#7201a8"
             ],
             [
              0.3333333333333333,
              "#9c179e"
             ],
             [
              0.4444444444444444,
              "#bd3786"
             ],
             [
              0.5555555555555556,
              "#d8576b"
             ],
             [
              0.6666666666666666,
              "#ed7953"
             ],
             [
              0.7777777777777778,
              "#fb9f3a"
             ],
             [
              0.8888888888888888,
              "#fdca26"
             ],
             [
              1,
              "#f0f921"
             ]
            ],
            "type": "contour"
           }
          ],
          "contourcarpet": [
           {
            "colorbar": {
             "outlinewidth": 0,
             "ticks": ""
            },
            "type": "contourcarpet"
           }
          ],
          "heatmap": [
           {
            "colorbar": {
             "outlinewidth": 0,
             "ticks": ""
            },
            "colorscale": [
             [
              0,
              "#0d0887"
             ],
             [
              0.1111111111111111,
              "#46039f"
             ],
             [
              0.2222222222222222,
              "#7201a8"
             ],
             [
              0.3333333333333333,
              "#9c179e"
             ],
             [
              0.4444444444444444,
              "#bd3786"
             ],
             [
              0.5555555555555556,
              "#d8576b"
             ],
             [
              0.6666666666666666,
              "#ed7953"
             ],
             [
              0.7777777777777778,
              "#fb9f3a"
             ],
             [
              0.8888888888888888,
              "#fdca26"
             ],
             [
              1,
              "#f0f921"
             ]
            ],
            "type": "heatmap"
           }
          ],
          "heatmapgl": [
           {
            "colorbar": {
             "outlinewidth": 0,
             "ticks": ""
            },
            "colorscale": [
             [
              0,
              "#0d0887"
             ],
             [
              0.1111111111111111,
              "#46039f"
             ],
             [
              0.2222222222222222,
              "#7201a8"
             ],
             [
              0.3333333333333333,
              "#9c179e"
             ],
             [
              0.4444444444444444,
              "#bd3786"
             ],
             [
              0.5555555555555556,
              "#d8576b"
             ],
             [
              0.6666666666666666,
              "#ed7953"
             ],
             [
              0.7777777777777778,
              "#fb9f3a"
             ],
             [
              0.8888888888888888,
              "#fdca26"
             ],
             [
              1,
              "#f0f921"
             ]
            ],
            "type": "heatmapgl"
           }
          ],
          "histogram": [
           {
            "marker": {
             "colorbar": {
              "outlinewidth": 0,
              "ticks": ""
             }
            },
            "type": "histogram"
           }
          ],
          "histogram2d": [
           {
            "colorbar": {
             "outlinewidth": 0,
             "ticks": ""
            },
            "colorscale": [
             [
              0,
              "#0d0887"
             ],
             [
              0.1111111111111111,
              "#46039f"
             ],
             [
              0.2222222222222222,
              "#7201a8"
             ],
             [
              0.3333333333333333,
              "#9c179e"
             ],
             [
              0.4444444444444444,
              "#bd3786"
             ],
             [
              0.5555555555555556,
              "#d8576b"
             ],
             [
              0.6666666666666666,
              "#ed7953"
             ],
             [
              0.7777777777777778,
              "#fb9f3a"
             ],
             [
              0.8888888888888888,
              "#fdca26"
             ],
             [
              1,
              "#f0f921"
             ]
            ],
            "type": "histogram2d"
           }
          ],
          "histogram2dcontour": [
           {
            "colorbar": {
             "outlinewidth": 0,
             "ticks": ""
            },
            "colorscale": [
             [
              0,
              "#0d0887"
             ],
             [
              0.1111111111111111,
              "#46039f"
             ],
             [
              0.2222222222222222,
              "#7201a8"
             ],
             [
              0.3333333333333333,
              "#9c179e"
             ],
             [
              0.4444444444444444,
              "#bd3786"
             ],
             [
              0.5555555555555556,
              "#d8576b"
             ],
             [
              0.6666666666666666,
              "#ed7953"
             ],
             [
              0.7777777777777778,
              "#fb9f3a"
             ],
             [
              0.8888888888888888,
              "#fdca26"
             ],
             [
              1,
              "#f0f921"
             ]
            ],
            "type": "histogram2dcontour"
           }
          ],
          "mesh3d": [
           {
            "colorbar": {
             "outlinewidth": 0,
             "ticks": ""
            },
            "type": "mesh3d"
           }
          ],
          "parcoords": [
           {
            "line": {
             "colorbar": {
              "outlinewidth": 0,
              "ticks": ""
             }
            },
            "type": "parcoords"
           }
          ],
          "scatter": [
           {
            "marker": {
             "colorbar": {
              "outlinewidth": 0,
              "ticks": ""
             }
            },
            "type": "scatter"
           }
          ],
          "scatter3d": [
           {
            "line": {
             "colorbar": {
              "outlinewidth": 0,
              "ticks": ""
             }
            },
            "marker": {
             "colorbar": {
              "outlinewidth": 0,
              "ticks": ""
             }
            },
            "type": "scatter3d"
           }
          ],
          "scattercarpet": [
           {
            "marker": {
             "colorbar": {
              "outlinewidth": 0,
              "ticks": ""
             }
            },
            "type": "scattercarpet"
           }
          ],
          "scattergeo": [
           {
            "marker": {
             "colorbar": {
              "outlinewidth": 0,
              "ticks": ""
             }
            },
            "type": "scattergeo"
           }
          ],
          "scattergl": [
           {
            "marker": {
             "colorbar": {
              "outlinewidth": 0,
              "ticks": ""
             }
            },
            "type": "scattergl"
           }
          ],
          "scattermapbox": [
           {
            "marker": {
             "colorbar": {
              "outlinewidth": 0,
              "ticks": ""
             }
            },
            "type": "scattermapbox"
           }
          ],
          "scatterpolar": [
           {
            "marker": {
             "colorbar": {
              "outlinewidth": 0,
              "ticks": ""
             }
            },
            "type": "scatterpolar"
           }
          ],
          "scatterpolargl": [
           {
            "marker": {
             "colorbar": {
              "outlinewidth": 0,
              "ticks": ""
             }
            },
            "type": "scatterpolargl"
           }
          ],
          "scatterternary": [
           {
            "marker": {
             "colorbar": {
              "outlinewidth": 0,
              "ticks": ""
             }
            },
            "type": "scatterternary"
           }
          ],
          "surface": [
           {
            "colorbar": {
             "outlinewidth": 0,
             "ticks": ""
            },
            "colorscale": [
             [
              0,
              "#0d0887"
             ],
             [
              0.1111111111111111,
              "#46039f"
             ],
             [
              0.2222222222222222,
              "#7201a8"
             ],
             [
              0.3333333333333333,
              "#9c179e"
             ],
             [
              0.4444444444444444,
              "#bd3786"
             ],
             [
              0.5555555555555556,
              "#d8576b"
             ],
             [
              0.6666666666666666,
              "#ed7953"
             ],
             [
              0.7777777777777778,
              "#fb9f3a"
             ],
             [
              0.8888888888888888,
              "#fdca26"
             ],
             [
              1,
              "#f0f921"
             ]
            ],
            "type": "surface"
           }
          ],
          "table": [
           {
            "cells": {
             "fill": {
              "color": "#EBF0F8"
             },
             "line": {
              "color": "white"
             }
            },
            "header": {
             "fill": {
              "color": "#C8D4E3"
             },
             "line": {
              "color": "white"
             }
            },
            "type": "table"
           }
          ]
         },
         "layout": {
          "annotationdefaults": {
           "arrowcolor": "#2a3f5f",
           "arrowhead": 0,
           "arrowwidth": 1
          },
          "colorscale": {
           "diverging": [
            [
             0,
             "#8e0152"
            ],
            [
             0.1,
             "#c51b7d"
            ],
            [
             0.2,
             "#de77ae"
            ],
            [
             0.3,
             "#f1b6da"
            ],
            [
             0.4,
             "#fde0ef"
            ],
            [
             0.5,
             "#f7f7f7"
            ],
            [
             0.6,
             "#e6f5d0"
            ],
            [
             0.7,
             "#b8e186"
            ],
            [
             0.8,
             "#7fbc41"
            ],
            [
             0.9,
             "#4d9221"
            ],
            [
             1,
             "#276419"
            ]
           ],
           "sequential": [
            [
             0,
             "#0d0887"
            ],
            [
             0.1111111111111111,
             "#46039f"
            ],
            [
             0.2222222222222222,
             "#7201a8"
            ],
            [
             0.3333333333333333,
             "#9c179e"
            ],
            [
             0.4444444444444444,
             "#bd3786"
            ],
            [
             0.5555555555555556,
             "#d8576b"
            ],
            [
             0.6666666666666666,
             "#ed7953"
            ],
            [
             0.7777777777777778,
             "#fb9f3a"
            ],
            [
             0.8888888888888888,
             "#fdca26"
            ],
            [
             1,
             "#f0f921"
            ]
           ],
           "sequentialminus": [
            [
             0,
             "#0d0887"
            ],
            [
             0.1111111111111111,
             "#46039f"
            ],
            [
             0.2222222222222222,
             "#7201a8"
            ],
            [
             0.3333333333333333,
             "#9c179e"
            ],
            [
             0.4444444444444444,
             "#bd3786"
            ],
            [
             0.5555555555555556,
             "#d8576b"
            ],
            [
             0.6666666666666666,
             "#ed7953"
            ],
            [
             0.7777777777777778,
             "#fb9f3a"
            ],
            [
             0.8888888888888888,
             "#fdca26"
            ],
            [
             1,
             "#f0f921"
            ]
           ]
          },
          "colorway": [
           "#636efa",
           "#EF553B",
           "#00cc96",
           "#ab63fa",
           "#FFA15A",
           "#19d3f3",
           "#FF6692",
           "#B6E880",
           "#FF97FF",
           "#FECB52"
          ],
          "font": {
           "color": "#2a3f5f"
          },
          "geo": {
           "bgcolor": "white",
           "lakecolor": "white",
           "landcolor": "#E5ECF6",
           "showlakes": true,
           "showland": true,
           "subunitcolor": "white"
          },
          "hoverlabel": {
           "align": "left"
          },
          "hovermode": "closest",
          "mapbox": {
           "style": "light"
          },
          "paper_bgcolor": "white",
          "plot_bgcolor": "#E5ECF6",
          "polar": {
           "angularaxis": {
            "gridcolor": "white",
            "linecolor": "white",
            "ticks": ""
           },
           "bgcolor": "#E5ECF6",
           "radialaxis": {
            "gridcolor": "white",
            "linecolor": "white",
            "ticks": ""
           }
          },
          "scene": {
           "xaxis": {
            "backgroundcolor": "#E5ECF6",
            "gridcolor": "white",
            "gridwidth": 2,
            "linecolor": "white",
            "showbackground": true,
            "ticks": "",
            "zerolinecolor": "white"
           },
           "yaxis": {
            "backgroundcolor": "#E5ECF6",
            "gridcolor": "white",
            "gridwidth": 2,
            "linecolor": "white",
            "showbackground": true,
            "ticks": "",
            "zerolinecolor": "white"
           },
           "zaxis": {
            "backgroundcolor": "#E5ECF6",
            "gridcolor": "white",
            "gridwidth": 2,
            "linecolor": "white",
            "showbackground": true,
            "ticks": "",
            "zerolinecolor": "white"
           }
          },
          "shapedefaults": {
           "line": {
            "color": "#2a3f5f"
           }
          },
          "ternary": {
           "aaxis": {
            "gridcolor": "white",
            "linecolor": "white",
            "ticks": ""
           },
           "baxis": {
            "gridcolor": "white",
            "linecolor": "white",
            "ticks": ""
           },
           "bgcolor": "#E5ECF6",
           "caxis": {
            "gridcolor": "white",
            "linecolor": "white",
            "ticks": ""
           }
          },
          "title": {
           "x": 0.05
          },
          "xaxis": {
           "automargin": true,
           "gridcolor": "white",
           "linecolor": "white",
           "ticks": "",
           "zerolinecolor": "white",
           "zerolinewidth": 2
          },
          "yaxis": {
           "automargin": true,
           "gridcolor": "white",
           "linecolor": "white",
           "ticks": "",
           "zerolinecolor": "white",
           "zerolinewidth": 2
          }
         }
        },
        "title": {
         "text": "Selected Zip Codes"
        },
        "xaxis": {
         "title": {
          "text": "<b>Year</b>"
         }
        },
        "yaxis": {
         "title": {
          "text": "<b>Income</b> ($)"
         }
        }
       }
      },
      "text/html": [
       "<div>\n",
       "        \n",
       "        \n",
       "            <div id=\"bb11679c-8656-43dc-ba37-6cc2522a7fc3\" class=\"plotly-graph-div\" style=\"height:525px; width:100%;\"></div>\n",
       "            <script type=\"text/javascript\">\n",
       "                require([\"plotly\"], function(Plotly) {\n",
       "                    window.PLOTLYENV=window.PLOTLYENV || {};\n",
       "                    \n",
       "                if (document.getElementById(\"bb11679c-8656-43dc-ba37-6cc2522a7fc3\")) {\n",
       "                    Plotly.newPlot(\n",
       "                        'bb11679c-8656-43dc-ba37-6cc2522a7fc3',\n",
       "                        [{\"name\": \"77003\", \"type\": \"scatter\", \"x\": [2012, 2013, 2014, 2015, 2016, 2017], \"y\": [37664.0, 36412.0, 40647.0, 39039.0, 46267.0, 59575.0]}, {\"name\": \"77007\", \"type\": \"scatter\", \"x\": [2012, 2013, 2014, 2015, 2016, 2017], \"y\": [90860.0, 98725.0, 106044.0, 107580.0, 113361.0, 121458.0]}, {\"name\": \"77008\", \"type\": \"scatter\", \"x\": [2012, 2013, 2014, 2015, 2016, 2017], \"y\": [65457.0, 70293.0, 77512.0, 82058.0, 88248.0, 97690.0]}, {\"name\": \"77026\", \"type\": \"scatter\", \"x\": [2012, 2013, 2014, 2015, 2016, 2017], \"y\": [20200.0, 20024.0, 21335.0, 22242.0, 25354.0, 26644.0]}],\n",
       "                        {\"template\": {\"data\": {\"bar\": [{\"error_x\": {\"color\": \"#2a3f5f\"}, \"error_y\": {\"color\": \"#2a3f5f\"}, \"marker\": {\"line\": {\"color\": \"#E5ECF6\", \"width\": 0.5}}, \"type\": \"bar\"}], \"barpolar\": [{\"marker\": {\"line\": {\"color\": \"#E5ECF6\", \"width\": 0.5}}, \"type\": \"barpolar\"}], \"carpet\": [{\"aaxis\": {\"endlinecolor\": \"#2a3f5f\", \"gridcolor\": \"white\", \"linecolor\": \"white\", \"minorgridcolor\": \"white\", \"startlinecolor\": \"#2a3f5f\"}, \"baxis\": {\"endlinecolor\": \"#2a3f5f\", \"gridcolor\": \"white\", \"linecolor\": \"white\", \"minorgridcolor\": \"white\", \"startlinecolor\": \"#2a3f5f\"}, \"type\": \"carpet\"}], \"choropleth\": [{\"colorbar\": {\"outlinewidth\": 0, \"ticks\": \"\"}, \"type\": \"choropleth\"}], \"contour\": [{\"colorbar\": {\"outlinewidth\": 0, \"ticks\": \"\"}, \"colorscale\": [[0.0, \"#0d0887\"], [0.1111111111111111, \"#46039f\"], [0.2222222222222222, \"#7201a8\"], [0.3333333333333333, \"#9c179e\"], [0.4444444444444444, \"#bd3786\"], [0.5555555555555556, \"#d8576b\"], [0.6666666666666666, \"#ed7953\"], [0.7777777777777778, \"#fb9f3a\"], [0.8888888888888888, \"#fdca26\"], [1.0, \"#f0f921\"]], \"type\": \"contour\"}], \"contourcarpet\": [{\"colorbar\": {\"outlinewidth\": 0, \"ticks\": \"\"}, \"type\": \"contourcarpet\"}], \"heatmap\": [{\"colorbar\": {\"outlinewidth\": 0, \"ticks\": \"\"}, \"colorscale\": [[0.0, \"#0d0887\"], [0.1111111111111111, \"#46039f\"], [0.2222222222222222, \"#7201a8\"], [0.3333333333333333, \"#9c179e\"], [0.4444444444444444, \"#bd3786\"], [0.5555555555555556, \"#d8576b\"], [0.6666666666666666, \"#ed7953\"], [0.7777777777777778, \"#fb9f3a\"], [0.8888888888888888, \"#fdca26\"], [1.0, \"#f0f921\"]], \"type\": \"heatmap\"}], \"heatmapgl\": [{\"colorbar\": {\"outlinewidth\": 0, \"ticks\": \"\"}, \"colorscale\": [[0.0, \"#0d0887\"], [0.1111111111111111, \"#46039f\"], [0.2222222222222222, \"#7201a8\"], [0.3333333333333333, \"#9c179e\"], [0.4444444444444444, \"#bd3786\"], [0.5555555555555556, \"#d8576b\"], [0.6666666666666666, \"#ed7953\"], [0.7777777777777778, \"#fb9f3a\"], [0.8888888888888888, \"#fdca26\"], [1.0, \"#f0f921\"]], \"type\": \"heatmapgl\"}], \"histogram\": [{\"marker\": {\"colorbar\": {\"outlinewidth\": 0, \"ticks\": \"\"}}, \"type\": \"histogram\"}], \"histogram2d\": [{\"colorbar\": {\"outlinewidth\": 0, \"ticks\": \"\"}, \"colorscale\": [[0.0, \"#0d0887\"], [0.1111111111111111, \"#46039f\"], [0.2222222222222222, \"#7201a8\"], [0.3333333333333333, \"#9c179e\"], [0.4444444444444444, \"#bd3786\"], [0.5555555555555556, \"#d8576b\"], [0.6666666666666666, \"#ed7953\"], [0.7777777777777778, \"#fb9f3a\"], [0.8888888888888888, \"#fdca26\"], [1.0, \"#f0f921\"]], \"type\": \"histogram2d\"}], \"histogram2dcontour\": [{\"colorbar\": {\"outlinewidth\": 0, \"ticks\": \"\"}, \"colorscale\": [[0.0, \"#0d0887\"], [0.1111111111111111, \"#46039f\"], [0.2222222222222222, \"#7201a8\"], [0.3333333333333333, \"#9c179e\"], [0.4444444444444444, \"#bd3786\"], [0.5555555555555556, \"#d8576b\"], [0.6666666666666666, \"#ed7953\"], [0.7777777777777778, \"#fb9f3a\"], [0.8888888888888888, \"#fdca26\"], [1.0, \"#f0f921\"]], \"type\": \"histogram2dcontour\"}], \"mesh3d\": [{\"colorbar\": {\"outlinewidth\": 0, \"ticks\": \"\"}, \"type\": \"mesh3d\"}], \"parcoords\": [{\"line\": {\"colorbar\": {\"outlinewidth\": 0, \"ticks\": \"\"}}, \"type\": \"parcoords\"}], \"scatter\": [{\"marker\": {\"colorbar\": {\"outlinewidth\": 0, \"ticks\": \"\"}}, \"type\": \"scatter\"}], \"scatter3d\": [{\"line\": {\"colorbar\": {\"outlinewidth\": 0, \"ticks\": \"\"}}, \"marker\": {\"colorbar\": {\"outlinewidth\": 0, \"ticks\": \"\"}}, \"type\": \"scatter3d\"}], \"scattercarpet\": [{\"marker\": {\"colorbar\": {\"outlinewidth\": 0, \"ticks\": \"\"}}, \"type\": \"scattercarpet\"}], \"scattergeo\": [{\"marker\": {\"colorbar\": {\"outlinewidth\": 0, \"ticks\": \"\"}}, \"type\": \"scattergeo\"}], \"scattergl\": [{\"marker\": {\"colorbar\": {\"outlinewidth\": 0, \"ticks\": \"\"}}, \"type\": \"scattergl\"}], \"scattermapbox\": [{\"marker\": {\"colorbar\": {\"outlinewidth\": 0, \"ticks\": \"\"}}, \"type\": \"scattermapbox\"}], \"scatterpolar\": [{\"marker\": {\"colorbar\": {\"outlinewidth\": 0, \"ticks\": \"\"}}, \"type\": \"scatterpolar\"}], \"scatterpolargl\": [{\"marker\": {\"colorbar\": {\"outlinewidth\": 0, \"ticks\": \"\"}}, \"type\": \"scatterpolargl\"}], \"scatterternary\": [{\"marker\": {\"colorbar\": {\"outlinewidth\": 0, \"ticks\": \"\"}}, \"type\": \"scatterternary\"}], \"surface\": [{\"colorbar\": {\"outlinewidth\": 0, \"ticks\": \"\"}, \"colorscale\": [[0.0, \"#0d0887\"], [0.1111111111111111, \"#46039f\"], [0.2222222222222222, \"#7201a8\"], [0.3333333333333333, \"#9c179e\"], [0.4444444444444444, \"#bd3786\"], [0.5555555555555556, \"#d8576b\"], [0.6666666666666666, \"#ed7953\"], [0.7777777777777778, \"#fb9f3a\"], [0.8888888888888888, \"#fdca26\"], [1.0, \"#f0f921\"]], \"type\": \"surface\"}], \"table\": [{\"cells\": {\"fill\": {\"color\": \"#EBF0F8\"}, \"line\": {\"color\": \"white\"}}, \"header\": {\"fill\": {\"color\": \"#C8D4E3\"}, \"line\": {\"color\": \"white\"}}, \"type\": \"table\"}]}, \"layout\": {\"annotationdefaults\": {\"arrowcolor\": \"#2a3f5f\", \"arrowhead\": 0, \"arrowwidth\": 1}, \"colorscale\": {\"diverging\": [[0, \"#8e0152\"], [0.1, \"#c51b7d\"], [0.2, \"#de77ae\"], [0.3, \"#f1b6da\"], [0.4, \"#fde0ef\"], [0.5, \"#f7f7f7\"], [0.6, \"#e6f5d0\"], [0.7, \"#b8e186\"], [0.8, \"#7fbc41\"], [0.9, \"#4d9221\"], [1, \"#276419\"]], \"sequential\": [[0.0, \"#0d0887\"], [0.1111111111111111, \"#46039f\"], [0.2222222222222222, \"#7201a8\"], [0.3333333333333333, \"#9c179e\"], [0.4444444444444444, \"#bd3786\"], [0.5555555555555556, \"#d8576b\"], [0.6666666666666666, \"#ed7953\"], [0.7777777777777778, \"#fb9f3a\"], [0.8888888888888888, \"#fdca26\"], [1.0, \"#f0f921\"]], \"sequentialminus\": [[0.0, \"#0d0887\"], [0.1111111111111111, \"#46039f\"], [0.2222222222222222, \"#7201a8\"], [0.3333333333333333, \"#9c179e\"], [0.4444444444444444, \"#bd3786\"], [0.5555555555555556, \"#d8576b\"], [0.6666666666666666, \"#ed7953\"], [0.7777777777777778, \"#fb9f3a\"], [0.8888888888888888, \"#fdca26\"], [1.0, \"#f0f921\"]]}, \"colorway\": [\"#636efa\", \"#EF553B\", \"#00cc96\", \"#ab63fa\", \"#FFA15A\", \"#19d3f3\", \"#FF6692\", \"#B6E880\", \"#FF97FF\", \"#FECB52\"], \"font\": {\"color\": \"#2a3f5f\"}, \"geo\": {\"bgcolor\": \"white\", \"lakecolor\": \"white\", \"landcolor\": \"#E5ECF6\", \"showlakes\": true, \"showland\": true, \"subunitcolor\": \"white\"}, \"hoverlabel\": {\"align\": \"left\"}, \"hovermode\": \"closest\", \"mapbox\": {\"style\": \"light\"}, \"paper_bgcolor\": \"white\", \"plot_bgcolor\": \"#E5ECF6\", \"polar\": {\"angularaxis\": {\"gridcolor\": \"white\", \"linecolor\": \"white\", \"ticks\": \"\"}, \"bgcolor\": \"#E5ECF6\", \"radialaxis\": {\"gridcolor\": \"white\", \"linecolor\": \"white\", \"ticks\": \"\"}}, \"scene\": {\"xaxis\": {\"backgroundcolor\": \"#E5ECF6\", \"gridcolor\": \"white\", \"gridwidth\": 2, \"linecolor\": \"white\", \"showbackground\": true, \"ticks\": \"\", \"zerolinecolor\": \"white\"}, \"yaxis\": {\"backgroundcolor\": \"#E5ECF6\", \"gridcolor\": \"white\", \"gridwidth\": 2, \"linecolor\": \"white\", \"showbackground\": true, \"ticks\": \"\", \"zerolinecolor\": \"white\"}, \"zaxis\": {\"backgroundcolor\": \"#E5ECF6\", \"gridcolor\": \"white\", \"gridwidth\": 2, \"linecolor\": \"white\", \"showbackground\": true, \"ticks\": \"\", \"zerolinecolor\": \"white\"}}, \"shapedefaults\": {\"line\": {\"color\": \"#2a3f5f\"}}, \"ternary\": {\"aaxis\": {\"gridcolor\": \"white\", \"linecolor\": \"white\", \"ticks\": \"\"}, \"baxis\": {\"gridcolor\": \"white\", \"linecolor\": \"white\", \"ticks\": \"\"}, \"bgcolor\": \"#E5ECF6\", \"caxis\": {\"gridcolor\": \"white\", \"linecolor\": \"white\", \"ticks\": \"\"}}, \"title\": {\"x\": 0.05}, \"xaxis\": {\"automargin\": true, \"gridcolor\": \"white\", \"linecolor\": \"white\", \"ticks\": \"\", \"zerolinecolor\": \"white\", \"zerolinewidth\": 2}, \"yaxis\": {\"automargin\": true, \"gridcolor\": \"white\", \"linecolor\": \"white\", \"ticks\": \"\", \"zerolinecolor\": \"white\", \"zerolinewidth\": 2}}}, \"title\": {\"text\": \"Selected Zip Codes\"}, \"xaxis\": {\"title\": {\"text\": \"<b>Year</b>\"}}, \"yaxis\": {\"title\": {\"text\": \"<b>Income</b> ($)\"}}},\n",
       "                        {\"responsive\": true}\n",
       "                    ).then(function(){\n",
       "                            \n",
       "var gd = document.getElementById('bb11679c-8656-43dc-ba37-6cc2522a7fc3');\n",
       "var x = new MutationObserver(function (mutations, observer) {{\n",
       "        var display = window.getComputedStyle(gd).display;\n",
       "        if (!display || display === 'none') {{\n",
       "            console.log([gd, 'removed!']);\n",
       "            Plotly.purge(gd);\n",
       "            observer.disconnect();\n",
       "        }}\n",
       "}});\n",
       "\n",
       "// Listen for the removal of the full notebook cells\n",
       "var notebookContainer = gd.closest('#notebook-container');\n",
       "if (notebookContainer) {{\n",
       "    x.observe(notebookContainer, {childList: true});\n",
       "}}\n",
       "\n",
       "// Listen for the clearing of the current output cell\n",
       "var outputEl = gd.closest('.output');\n",
       "if (outputEl) {{\n",
       "    x.observe(outputEl, {childList: true});\n",
       "}}\n",
       "\n",
       "                        })\n",
       "                };\n",
       "                });\n",
       "            </script>\n",
       "        </div>"
      ]
     },
     "metadata": {},
     "output_type": "display_data"
    }
   ],
   "source": [
    "### 4 Chosen Zip Codes income trend\n",
    "fig = go.Figure()\n",
    "# Create traces\n",
    "fig.add_trace(go.Scatter(x=df_77003.Year, y=df_77003['Household Income'],name='77003'))\n",
    "fig.add_trace(go.Scatter(x=df_77007.Year, y=df_77007['Household Income'],name='77007'))\n",
    "fig.add_trace(go.Scatter(x=df_77008.Year, y=df_77008['Household Income'],name='77008'))\n",
    "fig.add_trace(go.Scatter(x=df_77026.Year, y=df_77026['Household Income'],name='77026'))\n",
    "\n",
    "fig.update_layout(title_text=\"Selected Zip Codes\")\n",
    "fig.update_yaxes(title_text=\"<b>Income</b> ($)\")\n",
    "fig.update_xaxes(title_text=\"<b>Year</b>\")\n",
    "\n",
    "fig.show()"
   ]
  },
  {
   "cell_type": "code",
   "execution_count": 44,
   "metadata": {},
   "outputs": [
    {
     "data": {
      "application/vnd.plotly.v1+json": {
       "config": {
        "plotlyServerURL": "https://plot.ly"
       },
       "data": [
        {
         "marker": {
          "size": [
           11473
          ],
          "sizemode": "area",
          "sizeref": 150
         },
         "mode": "markers",
         "name": "77002",
         "text": [
          "77002"
         ],
         "type": "scatter",
         "x": [
          57165
         ],
         "y": [
          31.8
         ]
        },
        {
         "marker": {
          "size": [
           10215
          ],
          "sizemode": "area",
          "sizeref": 150
         },
         "mode": "markers",
         "name": "77003",
         "text": [
          "77003"
         ],
         "type": "scatter",
         "x": [
          37664
         ],
         "y": [
          32.9
         ]
        },
        {
         "marker": {
          "size": [
           29853
          ],
          "sizemode": "area",
          "sizeref": 150
         },
         "mode": "markers",
         "name": "77004",
         "text": [
          "77004"
         ],
         "type": "scatter",
         "x": [
          39804
         ],
         "y": [
          31.6
         ]
        },
        {
         "marker": {
          "size": [
           25740
          ],
          "sizemode": "area",
          "sizeref": 150
         },
         "mode": "markers",
         "name": "77005",
         "text": [
          "77005"
         ],
         "type": "scatter",
         "x": [
          153041
         ],
         "y": [
          38.5
         ]
        },
        {
         "marker": {
          "size": [
           19856
          ],
          "sizemode": "area",
          "sizeref": 150
         },
         "mode": "markers",
         "name": "77006",
         "text": [
          "77006"
         ],
         "type": "scatter",
         "x": [
          63360
         ],
         "y": [
          36.9
         ]
        },
        {
         "marker": {
          "size": [
           29545
          ],
          "sizemode": "area",
          "sizeref": 150
         },
         "mode": "markers",
         "name": "77007",
         "text": [
          "77007"
         ],
         "type": "scatter",
         "x": [
          90860
         ],
         "y": [
          34.6
         ]
        },
        {
         "marker": {
          "size": [
           29424
          ],
          "sizemode": "area",
          "sizeref": 150
         },
         "mode": "markers",
         "name": "77008",
         "text": [
          "77008"
         ],
         "type": "scatter",
         "x": [
          65457
         ],
         "y": [
          37.1
         ]
        },
        {
         "marker": {
          "size": [
           39050
          ],
          "sizemode": "area",
          "sizeref": 150
         },
         "mode": "markers",
         "name": "77009",
         "text": [
          "77009"
         ],
         "type": "scatter",
         "x": [
          42944
         ],
         "y": [
          33.6
         ]
        },
        {
         "marker": {
          "size": [
           342
          ],
          "sizemode": "area",
          "sizeref": 150
         },
         "mode": "markers",
         "name": "77010",
         "text": [
          "77010"
         ],
         "type": "scatter",
         "x": [
          149444
         ],
         "y": [
          50.6
         ]
        },
        {
         "marker": {
          "size": [
           19396
          ],
          "sizemode": "area",
          "sizeref": 150
         },
         "mode": "markers",
         "name": "77011",
         "text": [
          "77011"
         ],
         "type": "scatter",
         "x": [
          27458
         ],
         "y": [
          32.7
         ]
        },
        {
         "marker": {
          "size": [
           21619
          ],
          "sizemode": "area",
          "sizeref": 150
         },
         "mode": "markers",
         "name": "77012",
         "text": [
          "77012"
         ],
         "type": "scatter",
         "x": [
          33035
         ],
         "y": [
          30.1
         ]
        },
        {
         "marker": {
          "size": [
           19450
          ],
          "sizemode": "area",
          "sizeref": 150
         },
         "mode": "markers",
         "name": "77019",
         "text": [
          "77019"
         ],
         "type": "scatter",
         "x": [
          87582
         ],
         "y": [
          36.8
         ]
        },
        {
         "marker": {
          "size": [
           26381
          ],
          "sizemode": "area",
          "sizeref": 150
         },
         "mode": "markers",
         "name": "77020",
         "text": [
          "77020"
         ],
         "type": "scatter",
         "x": [
          28217
         ],
         "y": [
          31.7
         ]
        },
        {
         "marker": {
          "size": [
           25640
          ],
          "sizemode": "area",
          "sizeref": 150
         },
         "mode": "markers",
         "name": "77021",
         "text": [
          "77021"
         ],
         "type": "scatter",
         "x": [
          32096
         ],
         "y": [
          34.4
         ]
        },
        {
         "marker": {
          "size": [
           30696
          ],
          "sizemode": "area",
          "sizeref": 150
         },
         "mode": "markers",
         "name": "77023",
         "text": [
          "77023"
         ],
         "type": "scatter",
         "x": [
          37735
         ],
         "y": [
          30.9
         ]
        },
        {
         "marker": {
          "size": [
           25935
          ],
          "sizemode": "area",
          "sizeref": 150
         },
         "mode": "markers",
         "name": "77025",
         "text": [
          "77025"
         ],
         "type": "scatter",
         "x": [
          64202
         ],
         "y": [
          33.8
         ]
        },
        {
         "marker": {
          "size": [
           23963
          ],
          "sizemode": "area",
          "sizeref": 150
         },
         "mode": "markers",
         "name": "77026",
         "text": [
          "77026"
         ],
         "type": "scatter",
         "x": [
          20200
         ],
         "y": [
          32.8
         ]
        },
        {
         "marker": {
          "size": [
           14745
          ],
          "sizemode": "area",
          "sizeref": 150
         },
         "mode": "markers",
         "name": "77027",
         "text": [
          "77027"
         ],
         "type": "scatter",
         "x": [
          81202
         ],
         "y": [
          37.9
         ]
        },
        {
         "marker": {
          "size": [
           11184
          ],
          "sizemode": "area",
          "sizeref": 150
         },
         "mode": "markers",
         "name": "77030",
         "text": [
          "77030"
         ],
         "type": "scatter",
         "x": [
          67790
         ],
         "y": [
          32.8
         ]
        }
       ],
       "frames": [
        {
         "data": [
          {
           "marker": {
            "size": [
             11473
            ],
            "sizemode": "area",
            "sizeref": 150
           },
           "mode": "markers",
           "name": "77002",
           "text": [
            "77002"
           ],
           "type": "scatter",
           "x": [
            57165
           ],
           "y": [
            31.8
           ]
          },
          {
           "marker": {
            "size": [
             10215
            ],
            "sizemode": "area",
            "sizeref": 150
           },
           "mode": "markers",
           "name": "77003",
           "text": [
            "77003"
           ],
           "type": "scatter",
           "x": [
            37664
           ],
           "y": [
            32.9
           ]
          },
          {
           "marker": {
            "size": [
             29853
            ],
            "sizemode": "area",
            "sizeref": 150
           },
           "mode": "markers",
           "name": "77004",
           "text": [
            "77004"
           ],
           "type": "scatter",
           "x": [
            39804
           ],
           "y": [
            31.6
           ]
          },
          {
           "marker": {
            "size": [
             25740
            ],
            "sizemode": "area",
            "sizeref": 150
           },
           "mode": "markers",
           "name": "77005",
           "text": [
            "77005"
           ],
           "type": "scatter",
           "x": [
            153041
           ],
           "y": [
            38.5
           ]
          },
          {
           "marker": {
            "size": [
             19856
            ],
            "sizemode": "area",
            "sizeref": 150
           },
           "mode": "markers",
           "name": "77006",
           "text": [
            "77006"
           ],
           "type": "scatter",
           "x": [
            63360
           ],
           "y": [
            36.9
           ]
          },
          {
           "marker": {
            "size": [
             29545
            ],
            "sizemode": "area",
            "sizeref": 150
           },
           "mode": "markers",
           "name": "77007",
           "text": [
            "77007"
           ],
           "type": "scatter",
           "x": [
            90860
           ],
           "y": [
            34.6
           ]
          },
          {
           "marker": {
            "size": [
             29424
            ],
            "sizemode": "area",
            "sizeref": 150
           },
           "mode": "markers",
           "name": "77008",
           "text": [
            "77008"
           ],
           "type": "scatter",
           "x": [
            65457
           ],
           "y": [
            37.1
           ]
          },
          {
           "marker": {
            "size": [
             39050
            ],
            "sizemode": "area",
            "sizeref": 150
           },
           "mode": "markers",
           "name": "77009",
           "text": [
            "77009"
           ],
           "type": "scatter",
           "x": [
            42944
           ],
           "y": [
            33.6
           ]
          },
          {
           "marker": {
            "size": [
             342
            ],
            "sizemode": "area",
            "sizeref": 150
           },
           "mode": "markers",
           "name": "77010",
           "text": [
            "77010"
           ],
           "type": "scatter",
           "x": [
            149444
           ],
           "y": [
            50.6
           ]
          },
          {
           "marker": {
            "size": [
             19396
            ],
            "sizemode": "area",
            "sizeref": 150
           },
           "mode": "markers",
           "name": "77011",
           "text": [
            "77011"
           ],
           "type": "scatter",
           "x": [
            27458
           ],
           "y": [
            32.7
           ]
          },
          {
           "marker": {
            "size": [
             21619
            ],
            "sizemode": "area",
            "sizeref": 150
           },
           "mode": "markers",
           "name": "77012",
           "text": [
            "77012"
           ],
           "type": "scatter",
           "x": [
            33035
           ],
           "y": [
            30.1
           ]
          },
          {
           "marker": {
            "size": [
             19450
            ],
            "sizemode": "area",
            "sizeref": 150
           },
           "mode": "markers",
           "name": "77019",
           "text": [
            "77019"
           ],
           "type": "scatter",
           "x": [
            87582
           ],
           "y": [
            36.8
           ]
          },
          {
           "marker": {
            "size": [
             26381
            ],
            "sizemode": "area",
            "sizeref": 150
           },
           "mode": "markers",
           "name": "77020",
           "text": [
            "77020"
           ],
           "type": "scatter",
           "x": [
            28217
           ],
           "y": [
            31.7
           ]
          },
          {
           "marker": {
            "size": [
             25640
            ],
            "sizemode": "area",
            "sizeref": 150
           },
           "mode": "markers",
           "name": "77021",
           "text": [
            "77021"
           ],
           "type": "scatter",
           "x": [
            32096
           ],
           "y": [
            34.4
           ]
          },
          {
           "marker": {
            "size": [
             30696
            ],
            "sizemode": "area",
            "sizeref": 150
           },
           "mode": "markers",
           "name": "77023",
           "text": [
            "77023"
           ],
           "type": "scatter",
           "x": [
            37735
           ],
           "y": [
            30.9
           ]
          },
          {
           "marker": {
            "size": [
             25935
            ],
            "sizemode": "area",
            "sizeref": 150
           },
           "mode": "markers",
           "name": "77025",
           "text": [
            "77025"
           ],
           "type": "scatter",
           "x": [
            64202
           ],
           "y": [
            33.8
           ]
          },
          {
           "marker": {
            "size": [
             23963
            ],
            "sizemode": "area",
            "sizeref": 150
           },
           "mode": "markers",
           "name": "77026",
           "text": [
            "77026"
           ],
           "type": "scatter",
           "x": [
            20200
           ],
           "y": [
            32.8
           ]
          },
          {
           "marker": {
            "size": [
             14745
            ],
            "sizemode": "area",
            "sizeref": 150
           },
           "mode": "markers",
           "name": "77027",
           "text": [
            "77027"
           ],
           "type": "scatter",
           "x": [
            81202
           ],
           "y": [
            37.9
           ]
          },
          {
           "marker": {
            "size": [
             11184
            ],
            "sizemode": "area",
            "sizeref": 150
           },
           "mode": "markers",
           "name": "77030",
           "text": [
            "77030"
           ],
           "type": "scatter",
           "x": [
            67790
           ],
           "y": [
            32.8
           ]
          }
         ],
         "name": "2012"
        },
        {
         "data": [
          {
           "marker": {
            "size": [
             11602
            ],
            "sizemode": "area",
            "sizeref": 150
           },
           "mode": "markers",
           "name": "77002",
           "text": [
            "77002"
           ],
           "type": "scatter",
           "x": [
            64093
           ],
           "y": [
            32.5
           ]
          },
          {
           "marker": {
            "size": [
             10617
            ],
            "sizemode": "area",
            "sizeref": 150
           },
           "mode": "markers",
           "name": "77003",
           "text": [
            "77003"
           ],
           "type": "scatter",
           "x": [
            36412
           ],
           "y": [
            30.8
           ]
          },
          {
           "marker": {
            "size": [
             31593
            ],
            "sizemode": "area",
            "sizeref": 150
           },
           "mode": "markers",
           "name": "77004",
           "text": [
            "77004"
           ],
           "type": "scatter",
           "x": [
            41983
           ],
           "y": [
            30.3
           ]
          },
          {
           "marker": {
            "size": [
             25752
            ],
            "sizemode": "area",
            "sizeref": 150
           },
           "mode": "markers",
           "name": "77005",
           "text": [
            "77005"
           ],
           "type": "scatter",
           "x": [
            159732
           ],
           "y": [
            38.5
           ]
          },
          {
           "marker": {
            "size": [
             20573
            ],
            "sizemode": "area",
            "sizeref": 150
           },
           "mode": "markers",
           "name": "77006",
           "text": [
            "77006"
           ],
           "type": "scatter",
           "x": [
            67458
           ],
           "y": [
            35.1
           ]
          },
          {
           "marker": {
            "size": [
             30868
            ],
            "sizemode": "area",
            "sizeref": 150
           },
           "mode": "markers",
           "name": "77007",
           "text": [
            "77007"
           ],
           "type": "scatter",
           "x": [
            98725
           ],
           "y": [
            34.6
           ]
          },
          {
           "marker": {
            "size": [
             30807
            ],
            "sizemode": "area",
            "sizeref": 150
           },
           "mode": "markers",
           "name": "77008",
           "text": [
            "77008"
           ],
           "type": "scatter",
           "x": [
            70293
           ],
           "y": [
            35.9
           ]
          },
          {
           "marker": {
            "size": [
             39725
            ],
            "sizemode": "area",
            "sizeref": 150
           },
           "mode": "markers",
           "name": "77009",
           "text": [
            "77009"
           ],
           "type": "scatter",
           "x": [
            44651
           ],
           "y": [
            34.1
           ]
          },
          {
           "marker": {
            "size": [
             564
            ],
            "sizemode": "area",
            "sizeref": 150
           },
           "mode": "markers",
           "name": "77010",
           "text": [
            "77010"
           ],
           "type": "scatter",
           "x": [
            250001
           ],
           "y": [
            41.7
           ]
          },
          {
           "marker": {
            "size": [
             19442
            ],
            "sizemode": "area",
            "sizeref": 150
           },
           "mode": "markers",
           "name": "77011",
           "text": [
            "77011"
           ],
           "type": "scatter",
           "x": [
            26838
           ],
           "y": [
            33.2
           ]
          },
          {
           "marker": {
            "size": [
             21868
            ],
            "sizemode": "area",
            "sizeref": 150
           },
           "mode": "markers",
           "name": "77012",
           "text": [
            "77012"
           ],
           "type": "scatter",
           "x": [
            34975
           ],
           "y": [
            30.5
           ]
          },
          {
           "marker": {
            "size": [
             19995
            ],
            "sizemode": "area",
            "sizeref": 150
           },
           "mode": "markers",
           "name": "77019",
           "text": [
            "77019"
           ],
           "type": "scatter",
           "x": [
            87394
           ],
           "y": [
            35.6
           ]
          },
          {
           "marker": {
            "size": [
             26889
            ],
            "sizemode": "area",
            "sizeref": 150
           },
           "mode": "markers",
           "name": "77020",
           "text": [
            "77020"
           ],
           "type": "scatter",
           "x": [
            29401
           ],
           "y": [
            32.5
           ]
          },
          {
           "marker": {
            "size": [
             25479
            ],
            "sizemode": "area",
            "sizeref": 150
           },
           "mode": "markers",
           "name": "77021",
           "text": [
            "77021"
           ],
           "type": "scatter",
           "x": [
            31103
           ],
           "y": [
            35
           ]
          },
          {
           "marker": {
            "size": [
             29871
            ],
            "sizemode": "area",
            "sizeref": 150
           },
           "mode": "markers",
           "name": "77023",
           "text": [
            "77023"
           ],
           "type": "scatter",
           "x": [
            36033
           ],
           "y": [
            31.2
           ]
          },
          {
           "marker": {
            "size": [
             26379
            ],
            "sizemode": "area",
            "sizeref": 150
           },
           "mode": "markers",
           "name": "77025",
           "text": [
            "77025"
           ],
           "type": "scatter",
           "x": [
            65828
           ],
           "y": [
            35.3
           ]
          },
          {
           "marker": {
            "size": [
             22909
            ],
            "sizemode": "area",
            "sizeref": 150
           },
           "mode": "markers",
           "name": "77026",
           "text": [
            "77026"
           ],
           "type": "scatter",
           "x": [
            20024
           ],
           "y": [
            33.5
           ]
          },
          {
           "marker": {
            "size": [
             15455
            ],
            "sizemode": "area",
            "sizeref": 150
           },
           "mode": "markers",
           "name": "77027",
           "text": [
            "77027"
           ],
           "type": "scatter",
           "x": [
            81661
           ],
           "y": [
            37.4
           ]
          },
          {
           "marker": {
            "size": [
             11031
            ],
            "sizemode": "area",
            "sizeref": 150
           },
           "mode": "markers",
           "name": "77030",
           "text": [
            "77030"
           ],
           "type": "scatter",
           "x": [
            68980
           ],
           "y": [
            32.8
           ]
          }
         ],
         "name": "2013"
        },
        {
         "data": [
          {
           "marker": {
            "size": [
             11630
            ],
            "sizemode": "area",
            "sizeref": 150
           },
           "mode": "markers",
           "name": "77002",
           "text": [
            "77002"
           ],
           "type": "scatter",
           "x": [
            71319
           ],
           "y": [
            33.2
           ]
          },
          {
           "marker": {
            "size": [
             10760
            ],
            "sizemode": "area",
            "sizeref": 150
           },
           "mode": "markers",
           "name": "77003",
           "text": [
            "77003"
           ],
           "type": "scatter",
           "x": [
            40647
           ],
           "y": [
            31.2
           ]
          },
          {
           "marker": {
            "size": [
             34079
            ],
            "sizemode": "area",
            "sizeref": 150
           },
           "mode": "markers",
           "name": "77004",
           "text": [
            "77004"
           ],
           "type": "scatter",
           "x": [
            46059
           ],
           "y": [
            29
           ]
          },
          {
           "marker": {
            "size": [
             26187
            ],
            "sizemode": "area",
            "sizeref": 150
           },
           "mode": "markers",
           "name": "77005",
           "text": [
            "77005"
           ],
           "type": "scatter",
           "x": [
            163802
           ],
           "y": [
            38.7
           ]
          },
          {
           "marker": {
            "size": [
             21144
            ],
            "sizemode": "area",
            "sizeref": 150
           },
           "mode": "markers",
           "name": "77006",
           "text": [
            "77006"
           ],
           "type": "scatter",
           "x": [
            69508
           ],
           "y": [
            35.4
           ]
          },
          {
           "marker": {
            "size": [
             31987
            ],
            "sizemode": "area",
            "sizeref": 150
           },
           "mode": "markers",
           "name": "77007",
           "text": [
            "77007"
           ],
           "type": "scatter",
           "x": [
            106044
           ],
           "y": [
            34.3
           ]
          },
          {
           "marker": {
            "size": [
             31418
            ],
            "sizemode": "area",
            "sizeref": 150
           },
           "mode": "markers",
           "name": "77008",
           "text": [
            "77008"
           ],
           "type": "scatter",
           "x": [
            77512
           ],
           "y": [
            35.5
           ]
          },
          {
           "marker": {
            "size": [
             39361
            ],
            "sizemode": "area",
            "sizeref": 150
           },
           "mode": "markers",
           "name": "77009",
           "text": [
            "77009"
           ],
           "type": "scatter",
           "x": [
            45016
           ],
           "y": [
            34
           ]
          },
          {
           "marker": {
            "size": [
             724
            ],
            "sizemode": "area",
            "sizeref": 150
           },
           "mode": "markers",
           "name": "77010",
           "text": [
            "77010"
           ],
           "type": "scatter",
           "x": [
            209063
           ],
           "y": [
            43.6
           ]
          },
          {
           "marker": {
            "size": [
             19136
            ],
            "sizemode": "area",
            "sizeref": 150
           },
           "mode": "markers",
           "name": "77011",
           "text": [
            "77011"
           ],
           "type": "scatter",
           "x": [
            26953
           ],
           "y": [
            32.8
           ]
          },
          {
           "marker": {
            "size": [
             20991
            ],
            "sizemode": "area",
            "sizeref": 150
           },
           "mode": "markers",
           "name": "77012",
           "text": [
            "77012"
           ],
           "type": "scatter",
           "x": [
            35884
           ],
           "y": [
            31.7
           ]
          },
          {
           "marker": {
            "size": [
             20350
            ],
            "sizemode": "area",
            "sizeref": 150
           },
           "mode": "markers",
           "name": "77019",
           "text": [
            "77019"
           ],
           "type": "scatter",
           "x": [
            92844
           ],
           "y": [
            37.9
           ]
          },
          {
           "marker": {
            "size": [
             26777
            ],
            "sizemode": "area",
            "sizeref": 150
           },
           "mode": "markers",
           "name": "77020",
           "text": [
            "77020"
           ],
           "type": "scatter",
           "x": [
            27871
           ],
           "y": [
            32.9
           ]
          },
          {
           "marker": {
            "size": [
             26036
            ],
            "sizemode": "area",
            "sizeref": 150
           },
           "mode": "markers",
           "name": "77021",
           "text": [
            "77021"
           ],
           "type": "scatter",
           "x": [
            32391
           ],
           "y": [
            33.7
           ]
          },
          {
           "marker": {
            "size": [
             29102
            ],
            "sizemode": "area",
            "sizeref": 150
           },
           "mode": "markers",
           "name": "77023",
           "text": [
            "77023"
           ],
           "type": "scatter",
           "x": [
            37361
           ],
           "y": [
            31.9
           ]
          },
          {
           "marker": {
            "size": [
             27413
            ],
            "sizemode": "area",
            "sizeref": 150
           },
           "mode": "markers",
           "name": "77025",
           "text": [
            "77025"
           ],
           "type": "scatter",
           "x": [
            65524
           ],
           "y": [
            35.3
           ]
          },
          {
           "marker": {
            "size": [
             23325
            ],
            "sizemode": "area",
            "sizeref": 150
           },
           "mode": "markers",
           "name": "77026",
           "text": [
            "77026"
           ],
           "type": "scatter",
           "x": [
            21335
           ],
           "y": [
            33.1
           ]
          },
          {
           "marker": {
            "size": [
             15510
            ],
            "sizemode": "area",
            "sizeref": 150
           },
           "mode": "markers",
           "name": "77027",
           "text": [
            "77027"
           ],
           "type": "scatter",
           "x": [
            82038
           ],
           "y": [
            36.7
           ]
          },
          {
           "marker": {
            "size": [
             10664
            ],
            "sizemode": "area",
            "sizeref": 150
           },
           "mode": "markers",
           "name": "77030",
           "text": [
            "77030"
           ],
           "type": "scatter",
           "x": [
            71078
           ],
           "y": [
            32.5
           ]
          }
         ],
         "name": "2014"
        },
        {
         "data": [
          {
           "marker": {
            "size": [
             11922
            ],
            "sizemode": "area",
            "sizeref": 150
           },
           "mode": "markers",
           "name": "77002",
           "text": [
            "77002"
           ],
           "type": "scatter",
           "x": [
            62089
           ],
           "y": [
            33.8
           ]
          },
          {
           "marker": {
            "size": [
             10438
            ],
            "sizemode": "area",
            "sizeref": 150
           },
           "mode": "markers",
           "name": "77003",
           "text": [
            "77003"
           ],
           "type": "scatter",
           "x": [
            39039
           ],
           "y": [
            32.7
           ]
          },
          {
           "marker": {
            "size": [
             35739
            ],
            "sizemode": "area",
            "sizeref": 150
           },
           "mode": "markers",
           "name": "77004",
           "text": [
            "77004"
           ],
           "type": "scatter",
           "x": [
            47523
           ],
           "y": [
            28.1
           ]
          },
          {
           "marker": {
            "size": [
             27187
            ],
            "sizemode": "area",
            "sizeref": 150
           },
           "mode": "markers",
           "name": "77005",
           "text": [
            "77005"
           ],
           "type": "scatter",
           "x": [
            166203
           ],
           "y": [
            38
           ]
          },
          {
           "marker": {
            "size": [
             21795
            ],
            "sizemode": "area",
            "sizeref": 150
           },
           "mode": "markers",
           "name": "77006",
           "text": [
            "77006"
           ],
           "type": "scatter",
           "x": [
            71158
           ],
           "y": [
            34.8
           ]
          },
          {
           "marker": {
            "size": [
             33029
            ],
            "sizemode": "area",
            "sizeref": 150
           },
           "mode": "markers",
           "name": "77007",
           "text": [
            "77007"
           ],
           "type": "scatter",
           "x": [
            107580
           ],
           "y": [
            33.5
           ]
          },
          {
           "marker": {
            "size": [
             31868
            ],
            "sizemode": "area",
            "sizeref": 150
           },
           "mode": "markers",
           "name": "77008",
           "text": [
            "77008"
           ],
           "type": "scatter",
           "x": [
            82058
           ],
           "y": [
            35.5
           ]
          },
          {
           "marker": {
            "size": [
             39260
            ],
            "sizemode": "area",
            "sizeref": 150
           },
           "mode": "markers",
           "name": "77009",
           "text": [
            "77009"
           ],
           "type": "scatter",
           "x": [
            43830
           ],
           "y": [
            34.1
           ]
          },
          {
           "marker": {
            "size": [
             809
            ],
            "sizemode": "area",
            "sizeref": 150
           },
           "mode": "markers",
           "name": "77010",
           "text": [
            "77010"
           ],
           "type": "scatter",
           "x": [
            250001
           ],
           "y": [
            42.7
           ]
          },
          {
           "marker": {
            "size": [
             19303
            ],
            "sizemode": "area",
            "sizeref": 150
           },
           "mode": "markers",
           "name": "77011",
           "text": [
            "77011"
           ],
           "type": "scatter",
           "x": [
            26922
           ],
           "y": [
            33
           ]
          },
          {
           "marker": {
            "size": [
             20494
            ],
            "sizemode": "area",
            "sizeref": 150
           },
           "mode": "markers",
           "name": "77012",
           "text": [
            "77012"
           ],
           "type": "scatter",
           "x": [
            34891
           ],
           "y": [
            32.3
           ]
          },
          {
           "marker": {
            "size": [
             20644
            ],
            "sizemode": "area",
            "sizeref": 150
           },
           "mode": "markers",
           "name": "77019",
           "text": [
            "77019"
           ],
           "type": "scatter",
           "x": [
            101297
           ],
           "y": [
            38.8
           ]
          },
          {
           "marker": {
            "size": [
             26005
            ],
            "sizemode": "area",
            "sizeref": 150
           },
           "mode": "markers",
           "name": "77020",
           "text": [
            "77020"
           ],
           "type": "scatter",
           "x": [
            27052
           ],
           "y": [
            32.4
           ]
          },
          {
           "marker": {
            "size": [
             26209
            ],
            "sizemode": "area",
            "sizeref": 150
           },
           "mode": "markers",
           "name": "77021",
           "text": [
            "77021"
           ],
           "type": "scatter",
           "x": [
            32800
           ],
           "y": [
            33.8
           ]
          },
          {
           "marker": {
            "size": [
             28316
            ],
            "sizemode": "area",
            "sizeref": 150
           },
           "mode": "markers",
           "name": "77023",
           "text": [
            "77023"
           ],
           "type": "scatter",
           "x": [
            36065
           ],
           "y": [
            33.4
           ]
          },
          {
           "marker": {
            "size": [
             28305
            ],
            "sizemode": "area",
            "sizeref": 150
           },
           "mode": "markers",
           "name": "77025",
           "text": [
            "77025"
           ],
           "type": "scatter",
           "x": [
            66559
           ],
           "y": [
            35.2
           ]
          },
          {
           "marker": {
            "size": [
             22485
            ],
            "sizemode": "area",
            "sizeref": 150
           },
           "mode": "markers",
           "name": "77026",
           "text": [
            "77026"
           ],
           "type": "scatter",
           "x": [
            22242
           ],
           "y": [
            35.3
           ]
          },
          {
           "marker": {
            "size": [
             15749
            ],
            "sizemode": "area",
            "sizeref": 150
           },
           "mode": "markers",
           "name": "77027",
           "text": [
            "77027"
           ],
           "type": "scatter",
           "x": [
            89276
           ],
           "y": [
            36.8
           ]
          },
          {
           "marker": {
            "size": [
             10279
            ],
            "sizemode": "area",
            "sizeref": 150
           },
           "mode": "markers",
           "name": "77030",
           "text": [
            "77030"
           ],
           "type": "scatter",
           "x": [
            71883
           ],
           "y": [
            32.6
           ]
          }
         ],
         "name": "2015"
        },
        {
         "data": [
          {
           "marker": {
            "size": [
             11861
            ],
            "sizemode": "area",
            "sizeref": 150
           },
           "mode": "markers",
           "name": "77002",
           "text": [
            "77002"
           ],
           "type": "scatter",
           "x": [
            68229
           ],
           "y": [
            33.9
           ]
          },
          {
           "marker": {
            "size": [
             10097
            ],
            "sizemode": "area",
            "sizeref": 150
           },
           "mode": "markers",
           "name": "77003",
           "text": [
            "77003"
           ],
           "type": "scatter",
           "x": [
            46267
           ],
           "y": [
            33
           ]
          },
          {
           "marker": {
            "size": [
             36879
            ],
            "sizemode": "area",
            "sizeref": 150
           },
           "mode": "markers",
           "name": "77004",
           "text": [
            "77004"
           ],
           "type": "scatter",
           "x": [
            50681
           ],
           "y": [
            28.3
           ]
          },
          {
           "marker": {
            "size": [
             27707
            ],
            "sizemode": "area",
            "sizeref": 150
           },
           "mode": "markers",
           "name": "77005",
           "text": [
            "77005"
           ],
           "type": "scatter",
           "x": [
            174153
           ],
           "y": [
            37.5
           ]
          },
          {
           "marker": {
            "size": [
             21849
            ],
            "sizemode": "area",
            "sizeref": 150
           },
           "mode": "markers",
           "name": "77006",
           "text": [
            "77006"
           ],
           "type": "scatter",
           "x": [
            80908
           ],
           "y": [
            34.9
           ]
          },
          {
           "marker": {
            "size": [
             35185
            ],
            "sizemode": "area",
            "sizeref": 150
           },
           "mode": "markers",
           "name": "77007",
           "text": [
            "77007"
           ],
           "type": "scatter",
           "x": [
            113361
           ],
           "y": [
            33.6
           ]
          },
          {
           "marker": {
            "size": [
             32588
            ],
            "sizemode": "area",
            "sizeref": 150
           },
           "mode": "markers",
           "name": "77008",
           "text": [
            "77008"
           ],
           "type": "scatter",
           "x": [
            88248
           ],
           "y": [
            35.5
           ]
          },
          {
           "marker": {
            "size": [
             38019
            ],
            "sizemode": "area",
            "sizeref": 150
           },
           "mode": "markers",
           "name": "77009",
           "text": [
            "77009"
           ],
           "type": "scatter",
           "x": [
            47011
           ],
           "y": [
            34.5
           ]
          },
          {
           "marker": {
            "size": [
             831
            ],
            "sizemode": "area",
            "sizeref": 150
           },
           "mode": "markers",
           "name": "77010",
           "text": [
            "77010"
           ],
           "type": "scatter",
           "x": [
            250001
           ],
           "y": [
            48.5
           ]
          },
          {
           "marker": {
            "size": [
             18558
            ],
            "sizemode": "area",
            "sizeref": 150
           },
           "mode": "markers",
           "name": "77011",
           "text": [
            "77011"
           ],
           "type": "scatter",
           "x": [
            29544
           ],
           "y": [
            32.9
           ]
          },
          {
           "marker": {
            "size": [
             20534
            ],
            "sizemode": "area",
            "sizeref": 150
           },
           "mode": "markers",
           "name": "77012",
           "text": [
            "77012"
           ],
           "type": "scatter",
           "x": [
            34617
           ],
           "y": [
            32
           ]
          },
          {
           "marker": {
            "size": [
             21067
            ],
            "sizemode": "area",
            "sizeref": 150
           },
           "mode": "markers",
           "name": "77019",
           "text": [
            "77019"
           ],
           "type": "scatter",
           "x": [
            102521
           ],
           "y": [
            38.4
           ]
          },
          {
           "marker": {
            "size": [
             25908
            ],
            "sizemode": "area",
            "sizeref": 150
           },
           "mode": "markers",
           "name": "77020",
           "text": [
            "77020"
           ],
           "type": "scatter",
           "x": [
            26896
           ],
           "y": [
            32.9
           ]
          },
          {
           "marker": {
            "size": [
             26374
            ],
            "sizemode": "area",
            "sizeref": 150
           },
           "mode": "markers",
           "name": "77021",
           "text": [
            "77021"
           ],
           "type": "scatter",
           "x": [
            32404
           ],
           "y": [
            33.8
           ]
          },
          {
           "marker": {
            "size": [
             27973
            ],
            "sizemode": "area",
            "sizeref": 150
           },
           "mode": "markers",
           "name": "77023",
           "text": [
            "77023"
           ],
           "type": "scatter",
           "x": [
            35723
           ],
           "y": [
            33.4
           ]
          },
          {
           "marker": {
            "size": [
             28103
            ],
            "sizemode": "area",
            "sizeref": 150
           },
           "mode": "markers",
           "name": "77025",
           "text": [
            "77025"
           ],
           "type": "scatter",
           "x": [
            67548
           ],
           "y": [
            36.1
           ]
          },
          {
           "marker": {
            "size": [
             23030
            ],
            "sizemode": "area",
            "sizeref": 150
           },
           "mode": "markers",
           "name": "77026",
           "text": [
            "77026"
           ],
           "type": "scatter",
           "x": [
            25354
           ],
           "y": [
            35.9
           ]
          },
          {
           "marker": {
            "size": [
             15498
            ],
            "sizemode": "area",
            "sizeref": 150
           },
           "mode": "markers",
           "name": "77027",
           "text": [
            "77027"
           ],
           "type": "scatter",
           "x": [
            88471
           ],
           "y": [
            35.1
           ]
          },
          {
           "marker": {
            "size": [
             10735
            ],
            "sizemode": "area",
            "sizeref": 150
           },
           "mode": "markers",
           "name": "77030",
           "text": [
            "77030"
           ],
           "type": "scatter",
           "x": [
            73689
           ],
           "y": [
            32.7
           ]
          }
         ],
         "name": "2016"
        },
        {
         "data": [
          {
           "marker": {
            "size": [
             12370
            ],
            "sizemode": "area",
            "sizeref": 150
           },
           "mode": "markers",
           "name": "77002",
           "text": [
            "77002"
           ],
           "type": "scatter",
           "x": [
            72306
           ],
           "y": [
            34.1
           ]
          },
          {
           "marker": {
            "size": [
             9646
            ],
            "sizemode": "area",
            "sizeref": 150
           },
           "mode": "markers",
           "name": "77003",
           "text": [
            "77003"
           ],
           "type": "scatter",
           "x": [
            59575
           ],
           "y": [
            34.1
           ]
          },
          {
           "marker": {
            "size": [
             37642
            ],
            "sizemode": "area",
            "sizeref": 150
           },
           "mode": "markers",
           "name": "77004",
           "text": [
            "77004"
           ],
           "type": "scatter",
           "x": [
            48592
           ],
           "y": [
            28.3
           ]
          },
          {
           "marker": {
            "size": [
             28233
            ],
            "sizemode": "area",
            "sizeref": 150
           },
           "mode": "markers",
           "name": "77005",
           "text": [
            "77005"
           ],
           "type": "scatter",
           "x": [
            180758
           ],
           "y": [
            36.5
           ]
          },
          {
           "marker": {
            "size": [
             21945
            ],
            "sizemode": "area",
            "sizeref": 150
           },
           "mode": "markers",
           "name": "77006",
           "text": [
            "77006"
           ],
           "type": "scatter",
           "x": [
            82878
           ],
           "y": [
            34.3
           ]
          },
          {
           "marker": {
            "size": [
             35822
            ],
            "sizemode": "area",
            "sizeref": 150
           },
           "mode": "markers",
           "name": "77007",
           "text": [
            "77007"
           ],
           "type": "scatter",
           "x": [
            121458
           ],
           "y": [
            33.8
           ]
          },
          {
           "marker": {
            "size": [
             34491
            ],
            "sizemode": "area",
            "sizeref": 150
           },
           "mode": "markers",
           "name": "77008",
           "text": [
            "77008"
           ],
           "type": "scatter",
           "x": [
            97690
           ],
           "y": [
            34.9
           ]
          },
          {
           "marker": {
            "size": [
             37751
            ],
            "sizemode": "area",
            "sizeref": 150
           },
           "mode": "markers",
           "name": "77009",
           "text": [
            "77009"
           ],
           "type": "scatter",
           "x": [
            49383
           ],
           "y": [
            35.1
           ]
          },
          {
           "marker": {
            "size": [
             915
            ],
            "sizemode": "area",
            "sizeref": 150
           },
           "mode": "markers",
           "name": "77010",
           "text": [
            "77010"
           ],
           "type": "scatter",
           "x": [
            250001
           ],
           "y": [
            44.6
           ]
          },
          {
           "marker": {
            "size": [
             18598
            ],
            "sizemode": "area",
            "sizeref": 150
           },
           "mode": "markers",
           "name": "77011",
           "text": [
            "77011"
           ],
           "type": "scatter",
           "x": [
            30665
           ],
           "y": [
            34
           ]
          },
          {
           "marker": {
            "size": [
             20085
            ],
            "sizemode": "area",
            "sizeref": 150
           },
           "mode": "markers",
           "name": "77012",
           "text": [
            "77012"
           ],
           "type": "scatter",
           "x": [
            36537
           ],
           "y": [
            33
           ]
          },
          {
           "marker": {
            "size": [
             21572
            ],
            "sizemode": "area",
            "sizeref": 150
           },
           "mode": "markers",
           "name": "77019",
           "text": [
            "77019"
           ],
           "type": "scatter",
           "x": [
            112243
           ],
           "y": [
            39.4
           ]
          },
          {
           "marker": {
            "size": [
             25898
            ],
            "sizemode": "area",
            "sizeref": 150
           },
           "mode": "markers",
           "name": "77020",
           "text": [
            "77020"
           ],
           "type": "scatter",
           "x": [
            27587
           ],
           "y": [
            33
           ]
          },
          {
           "marker": {
            "size": [
             26654
            ],
            "sizemode": "area",
            "sizeref": 150
           },
           "mode": "markers",
           "name": "77021",
           "text": [
            "77021"
           ],
           "type": "scatter",
           "x": [
            35126
           ],
           "y": [
            33.6
           ]
          },
          {
           "marker": {
            "size": [
             28528
            ],
            "sizemode": "area",
            "sizeref": 150
           },
           "mode": "markers",
           "name": "77023",
           "text": [
            "77023"
           ],
           "type": "scatter",
           "x": [
            37462
           ],
           "y": [
            33.2
           ]
          },
          {
           "marker": {
            "size": [
             28922
            ],
            "sizemode": "area",
            "sizeref": 150
           },
           "mode": "markers",
           "name": "77025",
           "text": [
            "77025"
           ],
           "type": "scatter",
           "x": [
            71990
           ],
           "y": [
            36.3
           ]
          },
          {
           "marker": {
            "size": [
             22799
            ],
            "sizemode": "area",
            "sizeref": 150
           },
           "mode": "markers",
           "name": "77026",
           "text": [
            "77026"
           ],
           "type": "scatter",
           "x": [
            26644
           ],
           "y": [
            35.2
           ]
          },
          {
           "marker": {
            "size": [
             16012
            ],
            "sizemode": "area",
            "sizeref": 150
           },
           "mode": "markers",
           "name": "77027",
           "text": [
            "77027"
           ],
           "type": "scatter",
           "x": [
            91296
           ],
           "y": [
            33.3
           ]
          },
          {
           "marker": {
            "size": [
             10813
            ],
            "sizemode": "area",
            "sizeref": 150
           },
           "mode": "markers",
           "name": "77030",
           "text": [
            "77030"
           ],
           "type": "scatter",
           "x": [
            75290
           ],
           "y": [
            33.9
           ]
          }
         ],
         "name": "2017"
        }
       ],
       "layout": {
        "hovermode": "closest",
        "sliders": [
         {
          "active": 0,
          "currentvalue": {
           "font": {
            "size": 20
           },
           "prefix": "Year:",
           "visible": true,
           "xanchor": "right"
          },
          "len": 0.9,
          "pad": {
           "b": 10,
           "t": 50
          },
          "steps": [
           {
            "args": [
             [
              "2012"
             ],
             {
              "frame": {
               "duration": 300,
               "redraw": false
              },
              "mode": "immediate",
              "transition": {
               "duration": 300
              }
             }
            ],
            "label": "2012",
            "method": "animate"
           },
           {
            "args": [
             [
              "2013"
             ],
             {
              "frame": {
               "duration": 300,
               "redraw": false
              },
              "mode": "immediate",
              "transition": {
               "duration": 300
              }
             }
            ],
            "label": "2013",
            "method": "animate"
           },
           {
            "args": [
             [
              "2014"
             ],
             {
              "frame": {
               "duration": 300,
               "redraw": false
              },
              "mode": "immediate",
              "transition": {
               "duration": 300
              }
             }
            ],
            "label": "2014",
            "method": "animate"
           },
           {
            "args": [
             [
              "2015"
             ],
             {
              "frame": {
               "duration": 300,
               "redraw": false
              },
              "mode": "immediate",
              "transition": {
               "duration": 300
              }
             }
            ],
            "label": "2015",
            "method": "animate"
           },
           {
            "args": [
             [
              "2016"
             ],
             {
              "frame": {
               "duration": 300,
               "redraw": false
              },
              "mode": "immediate",
              "transition": {
               "duration": 300
              }
             }
            ],
            "label": "2016",
            "method": "animate"
           },
           {
            "args": [
             [
              "2017"
             ],
             {
              "frame": {
               "duration": 300,
               "redraw": false
              },
              "mode": "immediate",
              "transition": {
               "duration": 300
              }
             }
            ],
            "label": "2017",
            "method": "animate"
           }
          ],
          "transition": {
           "duration": 300,
           "easing": "cubic-in-out"
          },
          "x": 0.1,
          "xanchor": "left",
          "y": 0,
          "yanchor": "top"
         }
        ],
        "template": {
         "data": {
          "bar": [
           {
            "error_x": {
             "color": "#2a3f5f"
            },
            "error_y": {
             "color": "#2a3f5f"
            },
            "marker": {
             "line": {
              "color": "#E5ECF6",
              "width": 0.5
             }
            },
            "type": "bar"
           }
          ],
          "barpolar": [
           {
            "marker": {
             "line": {
              "color": "#E5ECF6",
              "width": 0.5
             }
            },
            "type": "barpolar"
           }
          ],
          "carpet": [
           {
            "aaxis": {
             "endlinecolor": "#2a3f5f",
             "gridcolor": "white",
             "linecolor": "white",
             "minorgridcolor": "white",
             "startlinecolor": "#2a3f5f"
            },
            "baxis": {
             "endlinecolor": "#2a3f5f",
             "gridcolor": "white",
             "linecolor": "white",
             "minorgridcolor": "white",
             "startlinecolor": "#2a3f5f"
            },
            "type": "carpet"
           }
          ],
          "choropleth": [
           {
            "colorbar": {
             "outlinewidth": 0,
             "ticks": ""
            },
            "type": "choropleth"
           }
          ],
          "contour": [
           {
            "colorbar": {
             "outlinewidth": 0,
             "ticks": ""
            },
            "colorscale": [
             [
              0,
              "#0d0887"
             ],
             [
              0.1111111111111111,
              "#46039f"
             ],
             [
              0.2222222222222222,
              "#7201a8"
             ],
             [
              0.3333333333333333,
              "#9c179e"
             ],
             [
              0.4444444444444444,
              "#bd3786"
             ],
             [
              0.5555555555555556,
              "#d8576b"
             ],
             [
              0.6666666666666666,
              "#ed7953"
             ],
             [
              0.7777777777777778,
              "#fb9f3a"
             ],
             [
              0.8888888888888888,
              "#fdca26"
             ],
             [
              1,
              "#f0f921"
             ]
            ],
            "type": "contour"
           }
          ],
          "contourcarpet": [
           {
            "colorbar": {
             "outlinewidth": 0,
             "ticks": ""
            },
            "type": "contourcarpet"
           }
          ],
          "heatmap": [
           {
            "colorbar": {
             "outlinewidth": 0,
             "ticks": ""
            },
            "colorscale": [
             [
              0,
              "#0d0887"
             ],
             [
              0.1111111111111111,
              "#46039f"
             ],
             [
              0.2222222222222222,
              "#7201a8"
             ],
             [
              0.3333333333333333,
              "#9c179e"
             ],
             [
              0.4444444444444444,
              "#bd3786"
             ],
             [
              0.5555555555555556,
              "#d8576b"
             ],
             [
              0.6666666666666666,
              "#ed7953"
             ],
             [
              0.7777777777777778,
              "#fb9f3a"
             ],
             [
              0.8888888888888888,
              "#fdca26"
             ],
             [
              1,
              "#f0f921"
             ]
            ],
            "type": "heatmap"
           }
          ],
          "heatmapgl": [
           {
            "colorbar": {
             "outlinewidth": 0,
             "ticks": ""
            },
            "colorscale": [
             [
              0,
              "#0d0887"
             ],
             [
              0.1111111111111111,
              "#46039f"
             ],
             [
              0.2222222222222222,
              "#7201a8"
             ],
             [
              0.3333333333333333,
              "#9c179e"
             ],
             [
              0.4444444444444444,
              "#bd3786"
             ],
             [
              0.5555555555555556,
              "#d8576b"
             ],
             [
              0.6666666666666666,
              "#ed7953"
             ],
             [
              0.7777777777777778,
              "#fb9f3a"
             ],
             [
              0.8888888888888888,
              "#fdca26"
             ],
             [
              1,
              "#f0f921"
             ]
            ],
            "type": "heatmapgl"
           }
          ],
          "histogram": [
           {
            "marker": {
             "colorbar": {
              "outlinewidth": 0,
              "ticks": ""
             }
            },
            "type": "histogram"
           }
          ],
          "histogram2d": [
           {
            "colorbar": {
             "outlinewidth": 0,
             "ticks": ""
            },
            "colorscale": [
             [
              0,
              "#0d0887"
             ],
             [
              0.1111111111111111,
              "#46039f"
             ],
             [
              0.2222222222222222,
              "#7201a8"
             ],
             [
              0.3333333333333333,
              "#9c179e"
             ],
             [
              0.4444444444444444,
              "#bd3786"
             ],
             [
              0.5555555555555556,
              "#d8576b"
             ],
             [
              0.6666666666666666,
              "#ed7953"
             ],
             [
              0.7777777777777778,
              "#fb9f3a"
             ],
             [
              0.8888888888888888,
              "#fdca26"
             ],
             [
              1,
              "#f0f921"
             ]
            ],
            "type": "histogram2d"
           }
          ],
          "histogram2dcontour": [
           {
            "colorbar": {
             "outlinewidth": 0,
             "ticks": ""
            },
            "colorscale": [
             [
              0,
              "#0d0887"
             ],
             [
              0.1111111111111111,
              "#46039f"
             ],
             [
              0.2222222222222222,
              "#7201a8"
             ],
             [
              0.3333333333333333,
              "#9c179e"
             ],
             [
              0.4444444444444444,
              "#bd3786"
             ],
             [
              0.5555555555555556,
              "#d8576b"
             ],
             [
              0.6666666666666666,
              "#ed7953"
             ],
             [
              0.7777777777777778,
              "#fb9f3a"
             ],
             [
              0.8888888888888888,
              "#fdca26"
             ],
             [
              1,
              "#f0f921"
             ]
            ],
            "type": "histogram2dcontour"
           }
          ],
          "mesh3d": [
           {
            "colorbar": {
             "outlinewidth": 0,
             "ticks": ""
            },
            "type": "mesh3d"
           }
          ],
          "parcoords": [
           {
            "line": {
             "colorbar": {
              "outlinewidth": 0,
              "ticks": ""
             }
            },
            "type": "parcoords"
           }
          ],
          "scatter": [
           {
            "marker": {
             "colorbar": {
              "outlinewidth": 0,
              "ticks": ""
             }
            },
            "type": "scatter"
           }
          ],
          "scatter3d": [
           {
            "line": {
             "colorbar": {
              "outlinewidth": 0,
              "ticks": ""
             }
            },
            "marker": {
             "colorbar": {
              "outlinewidth": 0,
              "ticks": ""
             }
            },
            "type": "scatter3d"
           }
          ],
          "scattercarpet": [
           {
            "marker": {
             "colorbar": {
              "outlinewidth": 0,
              "ticks": ""
             }
            },
            "type": "scattercarpet"
           }
          ],
          "scattergeo": [
           {
            "marker": {
             "colorbar": {
              "outlinewidth": 0,
              "ticks": ""
             }
            },
            "type": "scattergeo"
           }
          ],
          "scattergl": [
           {
            "marker": {
             "colorbar": {
              "outlinewidth": 0,
              "ticks": ""
             }
            },
            "type": "scattergl"
           }
          ],
          "scattermapbox": [
           {
            "marker": {
             "colorbar": {
              "outlinewidth": 0,
              "ticks": ""
             }
            },
            "type": "scattermapbox"
           }
          ],
          "scatterpolar": [
           {
            "marker": {
             "colorbar": {
              "outlinewidth": 0,
              "ticks": ""
             }
            },
            "type": "scatterpolar"
           }
          ],
          "scatterpolargl": [
           {
            "marker": {
             "colorbar": {
              "outlinewidth": 0,
              "ticks": ""
             }
            },
            "type": "scatterpolargl"
           }
          ],
          "scatterternary": [
           {
            "marker": {
             "colorbar": {
              "outlinewidth": 0,
              "ticks": ""
             }
            },
            "type": "scatterternary"
           }
          ],
          "surface": [
           {
            "colorbar": {
             "outlinewidth": 0,
             "ticks": ""
            },
            "colorscale": [
             [
              0,
              "#0d0887"
             ],
             [
              0.1111111111111111,
              "#46039f"
             ],
             [
              0.2222222222222222,
              "#7201a8"
             ],
             [
              0.3333333333333333,
              "#9c179e"
             ],
             [
              0.4444444444444444,
              "#bd3786"
             ],
             [
              0.5555555555555556,
              "#d8576b"
             ],
             [
              0.6666666666666666,
              "#ed7953"
             ],
             [
              0.7777777777777778,
              "#fb9f3a"
             ],
             [
              0.8888888888888888,
              "#fdca26"
             ],
             [
              1,
              "#f0f921"
             ]
            ],
            "type": "surface"
           }
          ],
          "table": [
           {
            "cells": {
             "fill": {
              "color": "#EBF0F8"
             },
             "line": {
              "color": "white"
             }
            },
            "header": {
             "fill": {
              "color": "#C8D4E3"
             },
             "line": {
              "color": "white"
             }
            },
            "type": "table"
           }
          ]
         },
         "layout": {
          "annotationdefaults": {
           "arrowcolor": "#2a3f5f",
           "arrowhead": 0,
           "arrowwidth": 1
          },
          "colorscale": {
           "diverging": [
            [
             0,
             "#8e0152"
            ],
            [
             0.1,
             "#c51b7d"
            ],
            [
             0.2,
             "#de77ae"
            ],
            [
             0.3,
             "#f1b6da"
            ],
            [
             0.4,
             "#fde0ef"
            ],
            [
             0.5,
             "#f7f7f7"
            ],
            [
             0.6,
             "#e6f5d0"
            ],
            [
             0.7,
             "#b8e186"
            ],
            [
             0.8,
             "#7fbc41"
            ],
            [
             0.9,
             "#4d9221"
            ],
            [
             1,
             "#276419"
            ]
           ],
           "sequential": [
            [
             0,
             "#0d0887"
            ],
            [
             0.1111111111111111,
             "#46039f"
            ],
            [
             0.2222222222222222,
             "#7201a8"
            ],
            [
             0.3333333333333333,
             "#9c179e"
            ],
            [
             0.4444444444444444,
             "#bd3786"
            ],
            [
             0.5555555555555556,
             "#d8576b"
            ],
            [
             0.6666666666666666,
             "#ed7953"
            ],
            [
             0.7777777777777778,
             "#fb9f3a"
            ],
            [
             0.8888888888888888,
             "#fdca26"
            ],
            [
             1,
             "#f0f921"
            ]
           ],
           "sequentialminus": [
            [
             0,
             "#0d0887"
            ],
            [
             0.1111111111111111,
             "#46039f"
            ],
            [
             0.2222222222222222,
             "#7201a8"
            ],
            [
             0.3333333333333333,
             "#9c179e"
            ],
            [
             0.4444444444444444,
             "#bd3786"
            ],
            [
             0.5555555555555556,
             "#d8576b"
            ],
            [
             0.6666666666666666,
             "#ed7953"
            ],
            [
             0.7777777777777778,
             "#fb9f3a"
            ],
            [
             0.8888888888888888,
             "#fdca26"
            ],
            [
             1,
             "#f0f921"
            ]
           ]
          },
          "colorway": [
           "#636efa",
           "#EF553B",
           "#00cc96",
           "#ab63fa",
           "#FFA15A",
           "#19d3f3",
           "#FF6692",
           "#B6E880",
           "#FF97FF",
           "#FECB52"
          ],
          "font": {
           "color": "#2a3f5f"
          },
          "geo": {
           "bgcolor": "white",
           "lakecolor": "white",
           "landcolor": "#E5ECF6",
           "showlakes": true,
           "showland": true,
           "subunitcolor": "white"
          },
          "hoverlabel": {
           "align": "left"
          },
          "hovermode": "closest",
          "mapbox": {
           "style": "light"
          },
          "paper_bgcolor": "white",
          "plot_bgcolor": "#E5ECF6",
          "polar": {
           "angularaxis": {
            "gridcolor": "white",
            "linecolor": "white",
            "ticks": ""
           },
           "bgcolor": "#E5ECF6",
           "radialaxis": {
            "gridcolor": "white",
            "linecolor": "white",
            "ticks": ""
           }
          },
          "scene": {
           "xaxis": {
            "backgroundcolor": "#E5ECF6",
            "gridcolor": "white",
            "gridwidth": 2,
            "linecolor": "white",
            "showbackground": true,
            "ticks": "",
            "zerolinecolor": "white"
           },
           "yaxis": {
            "backgroundcolor": "#E5ECF6",
            "gridcolor": "white",
            "gridwidth": 2,
            "linecolor": "white",
            "showbackground": true,
            "ticks": "",
            "zerolinecolor": "white"
           },
           "zaxis": {
            "backgroundcolor": "#E5ECF6",
            "gridcolor": "white",
            "gridwidth": 2,
            "linecolor": "white",
            "showbackground": true,
            "ticks": "",
            "zerolinecolor": "white"
           }
          },
          "shapedefaults": {
           "line": {
            "color": "#2a3f5f"
           }
          },
          "ternary": {
           "aaxis": {
            "gridcolor": "white",
            "linecolor": "white",
            "ticks": ""
           },
           "baxis": {
            "gridcolor": "white",
            "linecolor": "white",
            "ticks": ""
           },
           "bgcolor": "#E5ECF6",
           "caxis": {
            "gridcolor": "white",
            "linecolor": "white",
            "ticks": ""
           }
          },
          "title": {
           "x": 0.05
          },
          "xaxis": {
           "automargin": true,
           "gridcolor": "white",
           "linecolor": "white",
           "ticks": "",
           "zerolinecolor": "white",
           "zerolinewidth": 2
          },
          "yaxis": {
           "automargin": true,
           "gridcolor": "white",
           "linecolor": "white",
           "ticks": "",
           "zerolinecolor": "white",
           "zerolinewidth": 2
          }
         }
        },
        "title": {
         "text": "Inner Houston Population, Age, Income Trend by Zip Code 2012-2017"
        },
        "updatemenus": [
         {
          "buttons": [
           {
            "args": [
             null,
             {
              "frame": {
               "duration": 500,
               "redraw": false
              },
              "fromcurrent": true,
              "transition": {
               "duration": 300,
               "easing": "quadratic-in-out"
              }
             }
            ],
            "label": "Play",
            "method": "animate"
           },
           {
            "args": [
             [
              null
             ],
             {
              "frame": {
               "duration": 0,
               "redraw": false
              },
              "mode": "immediate",
              "transition": {
               "duration": 0
              }
             }
            ],
            "label": "Pause",
            "method": "animate"
           }
          ],
          "direction": "left",
          "pad": {
           "r": 10,
           "t": 87
          },
          "showactive": false,
          "type": "buttons",
          "x": 0.1,
          "xanchor": "right",
          "y": 0,
          "yanchor": "top"
         }
        ],
        "xaxis": {
         "range": [
          10000,
          300000
         ],
         "title": {
          "text": "Household Income"
         }
        },
        "yaxis": {
         "title": {
          "text": "Median Age"
         },
         "type": "log"
        }
       }
      },
      "text/html": [
       "<div>\n",
       "        \n",
       "        \n",
       "            <div id=\"668051b8-ef17-483d-bca6-4d1fd689ff8d\" class=\"plotly-graph-div\" style=\"height:525px; width:100%;\"></div>\n",
       "            <script type=\"text/javascript\">\n",
       "                require([\"plotly\"], function(Plotly) {\n",
       "                    window.PLOTLYENV=window.PLOTLYENV || {};\n",
       "                    \n",
       "                if (document.getElementById(\"668051b8-ef17-483d-bca6-4d1fd689ff8d\")) {\n",
       "                    Plotly.newPlot(\n",
       "                        '668051b8-ef17-483d-bca6-4d1fd689ff8d',\n",
       "                        [{\"marker\": {\"size\": [11473.0], \"sizemode\": \"area\", \"sizeref\": 150}, \"mode\": \"markers\", \"name\": \"77002\", \"text\": [\"77002\"], \"type\": \"scatter\", \"x\": [57165.0], \"y\": [31.8]}, {\"marker\": {\"size\": [10215.0], \"sizemode\": \"area\", \"sizeref\": 150}, \"mode\": \"markers\", \"name\": \"77003\", \"text\": [\"77003\"], \"type\": \"scatter\", \"x\": [37664.0], \"y\": [32.9]}, {\"marker\": {\"size\": [29853.0], \"sizemode\": \"area\", \"sizeref\": 150}, \"mode\": \"markers\", \"name\": \"77004\", \"text\": [\"77004\"], \"type\": \"scatter\", \"x\": [39804.0], \"y\": [31.6]}, {\"marker\": {\"size\": [25740.0], \"sizemode\": \"area\", \"sizeref\": 150}, \"mode\": \"markers\", \"name\": \"77005\", \"text\": [\"77005\"], \"type\": \"scatter\", \"x\": [153041.0], \"y\": [38.5]}, {\"marker\": {\"size\": [19856.0], \"sizemode\": \"area\", \"sizeref\": 150}, \"mode\": \"markers\", \"name\": \"77006\", \"text\": [\"77006\"], \"type\": \"scatter\", \"x\": [63360.0], \"y\": [36.9]}, {\"marker\": {\"size\": [29545.0], \"sizemode\": \"area\", \"sizeref\": 150}, \"mode\": \"markers\", \"name\": \"77007\", \"text\": [\"77007\"], \"type\": \"scatter\", \"x\": [90860.0], \"y\": [34.6]}, {\"marker\": {\"size\": [29424.0], \"sizemode\": \"area\", \"sizeref\": 150}, \"mode\": \"markers\", \"name\": \"77008\", \"text\": [\"77008\"], \"type\": \"scatter\", \"x\": [65457.0], \"y\": [37.1]}, {\"marker\": {\"size\": [39050.0], \"sizemode\": \"area\", \"sizeref\": 150}, \"mode\": \"markers\", \"name\": \"77009\", \"text\": [\"77009\"], \"type\": \"scatter\", \"x\": [42944.0], \"y\": [33.6]}, {\"marker\": {\"size\": [342.0], \"sizemode\": \"area\", \"sizeref\": 150}, \"mode\": \"markers\", \"name\": \"77010\", \"text\": [\"77010\"], \"type\": \"scatter\", \"x\": [149444.0], \"y\": [50.6]}, {\"marker\": {\"size\": [19396.0], \"sizemode\": \"area\", \"sizeref\": 150}, \"mode\": \"markers\", \"name\": \"77011\", \"text\": [\"77011\"], \"type\": \"scatter\", \"x\": [27458.0], \"y\": [32.7]}, {\"marker\": {\"size\": [21619.0], \"sizemode\": \"area\", \"sizeref\": 150}, \"mode\": \"markers\", \"name\": \"77012\", \"text\": [\"77012\"], \"type\": \"scatter\", \"x\": [33035.0], \"y\": [30.1]}, {\"marker\": {\"size\": [19450.0], \"sizemode\": \"area\", \"sizeref\": 150}, \"mode\": \"markers\", \"name\": \"77019\", \"text\": [\"77019\"], \"type\": \"scatter\", \"x\": [87582.0], \"y\": [36.8]}, {\"marker\": {\"size\": [26381.0], \"sizemode\": \"area\", \"sizeref\": 150}, \"mode\": \"markers\", \"name\": \"77020\", \"text\": [\"77020\"], \"type\": \"scatter\", \"x\": [28217.0], \"y\": [31.7]}, {\"marker\": {\"size\": [25640.0], \"sizemode\": \"area\", \"sizeref\": 150}, \"mode\": \"markers\", \"name\": \"77021\", \"text\": [\"77021\"], \"type\": \"scatter\", \"x\": [32096.0], \"y\": [34.4]}, {\"marker\": {\"size\": [30696.0], \"sizemode\": \"area\", \"sizeref\": 150}, \"mode\": \"markers\", \"name\": \"77023\", \"text\": [\"77023\"], \"type\": \"scatter\", \"x\": [37735.0], \"y\": [30.9]}, {\"marker\": {\"size\": [25935.0], \"sizemode\": \"area\", \"sizeref\": 150}, \"mode\": \"markers\", \"name\": \"77025\", \"text\": [\"77025\"], \"type\": \"scatter\", \"x\": [64202.0], \"y\": [33.8]}, {\"marker\": {\"size\": [23963.0], \"sizemode\": \"area\", \"sizeref\": 150}, \"mode\": \"markers\", \"name\": \"77026\", \"text\": [\"77026\"], \"type\": \"scatter\", \"x\": [20200.0], \"y\": [32.8]}, {\"marker\": {\"size\": [14745.0], \"sizemode\": \"area\", \"sizeref\": 150}, \"mode\": \"markers\", \"name\": \"77027\", \"text\": [\"77027\"], \"type\": \"scatter\", \"x\": [81202.0], \"y\": [37.9]}, {\"marker\": {\"size\": [11184.0], \"sizemode\": \"area\", \"sizeref\": 150}, \"mode\": \"markers\", \"name\": \"77030\", \"text\": [\"77030\"], \"type\": \"scatter\", \"x\": [67790.0], \"y\": [32.8]}],\n",
       "                        {\"hovermode\": \"closest\", \"sliders\": [{\"active\": 0, \"currentvalue\": {\"font\": {\"size\": 20}, \"prefix\": \"Year:\", \"visible\": true, \"xanchor\": \"right\"}, \"len\": 0.9, \"pad\": {\"b\": 10, \"t\": 50}, \"steps\": [{\"args\": [[\"2012\"], {\"frame\": {\"duration\": 300, \"redraw\": false}, \"mode\": \"immediate\", \"transition\": {\"duration\": 300}}], \"label\": \"2012\", \"method\": \"animate\"}, {\"args\": [[\"2013\"], {\"frame\": {\"duration\": 300, \"redraw\": false}, \"mode\": \"immediate\", \"transition\": {\"duration\": 300}}], \"label\": \"2013\", \"method\": \"animate\"}, {\"args\": [[\"2014\"], {\"frame\": {\"duration\": 300, \"redraw\": false}, \"mode\": \"immediate\", \"transition\": {\"duration\": 300}}], \"label\": \"2014\", \"method\": \"animate\"}, {\"args\": [[\"2015\"], {\"frame\": {\"duration\": 300, \"redraw\": false}, \"mode\": \"immediate\", \"transition\": {\"duration\": 300}}], \"label\": \"2015\", \"method\": \"animate\"}, {\"args\": [[\"2016\"], {\"frame\": {\"duration\": 300, \"redraw\": false}, \"mode\": \"immediate\", \"transition\": {\"duration\": 300}}], \"label\": \"2016\", \"method\": \"animate\"}, {\"args\": [[\"2017\"], {\"frame\": {\"duration\": 300, \"redraw\": false}, \"mode\": \"immediate\", \"transition\": {\"duration\": 300}}], \"label\": \"2017\", \"method\": \"animate\"}], \"transition\": {\"duration\": 300, \"easing\": \"cubic-in-out\"}, \"x\": 0.1, \"xanchor\": \"left\", \"y\": 0, \"yanchor\": \"top\"}], \"template\": {\"data\": {\"bar\": [{\"error_x\": {\"color\": \"#2a3f5f\"}, \"error_y\": {\"color\": \"#2a3f5f\"}, \"marker\": {\"line\": {\"color\": \"#E5ECF6\", \"width\": 0.5}}, \"type\": \"bar\"}], \"barpolar\": [{\"marker\": {\"line\": {\"color\": \"#E5ECF6\", \"width\": 0.5}}, \"type\": \"barpolar\"}], \"carpet\": [{\"aaxis\": {\"endlinecolor\": \"#2a3f5f\", \"gridcolor\": \"white\", \"linecolor\": \"white\", \"minorgridcolor\": \"white\", \"startlinecolor\": \"#2a3f5f\"}, \"baxis\": {\"endlinecolor\": \"#2a3f5f\", \"gridcolor\": \"white\", \"linecolor\": \"white\", \"minorgridcolor\": \"white\", \"startlinecolor\": \"#2a3f5f\"}, \"type\": \"carpet\"}], \"choropleth\": [{\"colorbar\": {\"outlinewidth\": 0, \"ticks\": \"\"}, \"type\": \"choropleth\"}], \"contour\": [{\"colorbar\": {\"outlinewidth\": 0, \"ticks\": \"\"}, \"colorscale\": [[0.0, \"#0d0887\"], [0.1111111111111111, \"#46039f\"], [0.2222222222222222, \"#7201a8\"], [0.3333333333333333, \"#9c179e\"], [0.4444444444444444, \"#bd3786\"], [0.5555555555555556, \"#d8576b\"], [0.6666666666666666, \"#ed7953\"], [0.7777777777777778, \"#fb9f3a\"], [0.8888888888888888, \"#fdca26\"], [1.0, \"#f0f921\"]], \"type\": \"contour\"}], \"contourcarpet\": [{\"colorbar\": {\"outlinewidth\": 0, \"ticks\": \"\"}, \"type\": \"contourcarpet\"}], \"heatmap\": [{\"colorbar\": {\"outlinewidth\": 0, \"ticks\": \"\"}, \"colorscale\": [[0.0, \"#0d0887\"], [0.1111111111111111, \"#46039f\"], [0.2222222222222222, \"#7201a8\"], [0.3333333333333333, \"#9c179e\"], [0.4444444444444444, \"#bd3786\"], [0.5555555555555556, \"#d8576b\"], [0.6666666666666666, \"#ed7953\"], [0.7777777777777778, \"#fb9f3a\"], [0.8888888888888888, \"#fdca26\"], [1.0, \"#f0f921\"]], \"type\": \"heatmap\"}], \"heatmapgl\": [{\"colorbar\": {\"outlinewidth\": 0, \"ticks\": \"\"}, \"colorscale\": [[0.0, \"#0d0887\"], [0.1111111111111111, \"#46039f\"], [0.2222222222222222, \"#7201a8\"], [0.3333333333333333, \"#9c179e\"], [0.4444444444444444, \"#bd3786\"], [0.5555555555555556, \"#d8576b\"], [0.6666666666666666, \"#ed7953\"], [0.7777777777777778, \"#fb9f3a\"], [0.8888888888888888, \"#fdca26\"], [1.0, \"#f0f921\"]], \"type\": \"heatmapgl\"}], \"histogram\": [{\"marker\": {\"colorbar\": {\"outlinewidth\": 0, \"ticks\": \"\"}}, \"type\": \"histogram\"}], \"histogram2d\": [{\"colorbar\": {\"outlinewidth\": 0, \"ticks\": \"\"}, \"colorscale\": [[0.0, \"#0d0887\"], [0.1111111111111111, \"#46039f\"], [0.2222222222222222, \"#7201a8\"], [0.3333333333333333, \"#9c179e\"], [0.4444444444444444, \"#bd3786\"], [0.5555555555555556, \"#d8576b\"], [0.6666666666666666, \"#ed7953\"], [0.7777777777777778, \"#fb9f3a\"], [0.8888888888888888, \"#fdca26\"], [1.0, \"#f0f921\"]], \"type\": \"histogram2d\"}], \"histogram2dcontour\": [{\"colorbar\": {\"outlinewidth\": 0, \"ticks\": \"\"}, \"colorscale\": [[0.0, \"#0d0887\"], [0.1111111111111111, \"#46039f\"], [0.2222222222222222, \"#7201a8\"], [0.3333333333333333, \"#9c179e\"], [0.4444444444444444, \"#bd3786\"], [0.5555555555555556, \"#d8576b\"], [0.6666666666666666, \"#ed7953\"], [0.7777777777777778, \"#fb9f3a\"], [0.8888888888888888, \"#fdca26\"], [1.0, \"#f0f921\"]], \"type\": \"histogram2dcontour\"}], \"mesh3d\": [{\"colorbar\": {\"outlinewidth\": 0, \"ticks\": \"\"}, \"type\": \"mesh3d\"}], \"parcoords\": [{\"line\": {\"colorbar\": {\"outlinewidth\": 0, \"ticks\": \"\"}}, \"type\": \"parcoords\"}], \"scatter\": [{\"marker\": {\"colorbar\": {\"outlinewidth\": 0, \"ticks\": \"\"}}, \"type\": \"scatter\"}], \"scatter3d\": [{\"line\": {\"colorbar\": {\"outlinewidth\": 0, \"ticks\": \"\"}}, \"marker\": {\"colorbar\": {\"outlinewidth\": 0, \"ticks\": \"\"}}, \"type\": \"scatter3d\"}], \"scattercarpet\": [{\"marker\": {\"colorbar\": {\"outlinewidth\": 0, \"ticks\": \"\"}}, \"type\": \"scattercarpet\"}], \"scattergeo\": [{\"marker\": {\"colorbar\": {\"outlinewidth\": 0, \"ticks\": \"\"}}, \"type\": \"scattergeo\"}], \"scattergl\": [{\"marker\": {\"colorbar\": {\"outlinewidth\": 0, \"ticks\": \"\"}}, \"type\": \"scattergl\"}], \"scattermapbox\": [{\"marker\": {\"colorbar\": {\"outlinewidth\": 0, \"ticks\": \"\"}}, \"type\": \"scattermapbox\"}], \"scatterpolar\": [{\"marker\": {\"colorbar\": {\"outlinewidth\": 0, \"ticks\": \"\"}}, \"type\": \"scatterpolar\"}], \"scatterpolargl\": [{\"marker\": {\"colorbar\": {\"outlinewidth\": 0, \"ticks\": \"\"}}, \"type\": \"scatterpolargl\"}], \"scatterternary\": [{\"marker\": {\"colorbar\": {\"outlinewidth\": 0, \"ticks\": \"\"}}, \"type\": \"scatterternary\"}], \"surface\": [{\"colorbar\": {\"outlinewidth\": 0, \"ticks\": \"\"}, \"colorscale\": [[0.0, \"#0d0887\"], [0.1111111111111111, \"#46039f\"], [0.2222222222222222, \"#7201a8\"], [0.3333333333333333, \"#9c179e\"], [0.4444444444444444, \"#bd3786\"], [0.5555555555555556, \"#d8576b\"], [0.6666666666666666, \"#ed7953\"], [0.7777777777777778, \"#fb9f3a\"], [0.8888888888888888, \"#fdca26\"], [1.0, \"#f0f921\"]], \"type\": \"surface\"}], \"table\": [{\"cells\": {\"fill\": {\"color\": \"#EBF0F8\"}, \"line\": {\"color\": \"white\"}}, \"header\": {\"fill\": {\"color\": \"#C8D4E3\"}, \"line\": {\"color\": \"white\"}}, \"type\": \"table\"}]}, \"layout\": {\"annotationdefaults\": {\"arrowcolor\": \"#2a3f5f\", \"arrowhead\": 0, \"arrowwidth\": 1}, \"colorscale\": {\"diverging\": [[0, \"#8e0152\"], [0.1, \"#c51b7d\"], [0.2, \"#de77ae\"], [0.3, \"#f1b6da\"], [0.4, \"#fde0ef\"], [0.5, \"#f7f7f7\"], [0.6, \"#e6f5d0\"], [0.7, \"#b8e186\"], [0.8, \"#7fbc41\"], [0.9, \"#4d9221\"], [1, \"#276419\"]], \"sequential\": [[0.0, \"#0d0887\"], [0.1111111111111111, \"#46039f\"], [0.2222222222222222, \"#7201a8\"], [0.3333333333333333, \"#9c179e\"], [0.4444444444444444, \"#bd3786\"], [0.5555555555555556, \"#d8576b\"], [0.6666666666666666, \"#ed7953\"], [0.7777777777777778, \"#fb9f3a\"], [0.8888888888888888, \"#fdca26\"], [1.0, \"#f0f921\"]], \"sequentialminus\": [[0.0, \"#0d0887\"], [0.1111111111111111, \"#46039f\"], [0.2222222222222222, \"#7201a8\"], [0.3333333333333333, \"#9c179e\"], [0.4444444444444444, \"#bd3786\"], [0.5555555555555556, \"#d8576b\"], [0.6666666666666666, \"#ed7953\"], [0.7777777777777778, \"#fb9f3a\"], [0.8888888888888888, \"#fdca26\"], [1.0, \"#f0f921\"]]}, \"colorway\": [\"#636efa\", \"#EF553B\", \"#00cc96\", \"#ab63fa\", \"#FFA15A\", \"#19d3f3\", \"#FF6692\", \"#B6E880\", \"#FF97FF\", \"#FECB52\"], \"font\": {\"color\": \"#2a3f5f\"}, \"geo\": {\"bgcolor\": \"white\", \"lakecolor\": \"white\", \"landcolor\": \"#E5ECF6\", \"showlakes\": true, \"showland\": true, \"subunitcolor\": \"white\"}, \"hoverlabel\": {\"align\": \"left\"}, \"hovermode\": \"closest\", \"mapbox\": {\"style\": \"light\"}, \"paper_bgcolor\": \"white\", \"plot_bgcolor\": \"#E5ECF6\", \"polar\": {\"angularaxis\": {\"gridcolor\": \"white\", \"linecolor\": \"white\", \"ticks\": \"\"}, \"bgcolor\": \"#E5ECF6\", \"radialaxis\": {\"gridcolor\": \"white\", \"linecolor\": \"white\", \"ticks\": \"\"}}, \"scene\": {\"xaxis\": {\"backgroundcolor\": \"#E5ECF6\", \"gridcolor\": \"white\", \"gridwidth\": 2, \"linecolor\": \"white\", \"showbackground\": true, \"ticks\": \"\", \"zerolinecolor\": \"white\"}, \"yaxis\": {\"backgroundcolor\": \"#E5ECF6\", \"gridcolor\": \"white\", \"gridwidth\": 2, \"linecolor\": \"white\", \"showbackground\": true, \"ticks\": \"\", \"zerolinecolor\": \"white\"}, \"zaxis\": {\"backgroundcolor\": \"#E5ECF6\", \"gridcolor\": \"white\", \"gridwidth\": 2, \"linecolor\": \"white\", \"showbackground\": true, \"ticks\": \"\", \"zerolinecolor\": \"white\"}}, \"shapedefaults\": {\"line\": {\"color\": \"#2a3f5f\"}}, \"ternary\": {\"aaxis\": {\"gridcolor\": \"white\", \"linecolor\": \"white\", \"ticks\": \"\"}, \"baxis\": {\"gridcolor\": \"white\", \"linecolor\": \"white\", \"ticks\": \"\"}, \"bgcolor\": \"#E5ECF6\", \"caxis\": {\"gridcolor\": \"white\", \"linecolor\": \"white\", \"ticks\": \"\"}}, \"title\": {\"x\": 0.05}, \"xaxis\": {\"automargin\": true, \"gridcolor\": \"white\", \"linecolor\": \"white\", \"ticks\": \"\", \"zerolinecolor\": \"white\", \"zerolinewidth\": 2}, \"yaxis\": {\"automargin\": true, \"gridcolor\": \"white\", \"linecolor\": \"white\", \"ticks\": \"\", \"zerolinecolor\": \"white\", \"zerolinewidth\": 2}}}, \"title\": {\"text\": \"Inner Houston Population, Age, Income Trend by Zip Code 2012-2017\"}, \"updatemenus\": [{\"buttons\": [{\"args\": [null, {\"frame\": {\"duration\": 500, \"redraw\": false}, \"fromcurrent\": true, \"transition\": {\"duration\": 300, \"easing\": \"quadratic-in-out\"}}], \"label\": \"Play\", \"method\": \"animate\"}, {\"args\": [[null], {\"frame\": {\"duration\": 0, \"redraw\": false}, \"mode\": \"immediate\", \"transition\": {\"duration\": 0}}], \"label\": \"Pause\", \"method\": \"animate\"}], \"direction\": \"left\", \"pad\": {\"r\": 10, \"t\": 87}, \"showactive\": false, \"type\": \"buttons\", \"x\": 0.1, \"xanchor\": \"right\", \"y\": 0, \"yanchor\": \"top\"}], \"xaxis\": {\"range\": [10000, 300000], \"title\": {\"text\": \"Household Income\"}}, \"yaxis\": {\"title\": {\"text\": \"Median Age\"}, \"type\": \"log\"}},\n",
       "                        {\"responsive\": true}\n",
       "                    ).then(function(){\n",
       "                            Plotly.addFrames('668051b8-ef17-483d-bca6-4d1fd689ff8d', [{\"data\": [{\"marker\": {\"size\": [11473.0], \"sizemode\": \"area\", \"sizeref\": 150}, \"mode\": \"markers\", \"name\": \"77002\", \"text\": [\"77002\"], \"x\": [57165.0], \"y\": [31.8], \"type\": \"scatter\"}, {\"marker\": {\"size\": [10215.0], \"sizemode\": \"area\", \"sizeref\": 150}, \"mode\": \"markers\", \"name\": \"77003\", \"text\": [\"77003\"], \"x\": [37664.0], \"y\": [32.9], \"type\": \"scatter\"}, {\"marker\": {\"size\": [29853.0], \"sizemode\": \"area\", \"sizeref\": 150}, \"mode\": \"markers\", \"name\": \"77004\", \"text\": [\"77004\"], \"x\": [39804.0], \"y\": [31.6], \"type\": \"scatter\"}, {\"marker\": {\"size\": [25740.0], \"sizemode\": \"area\", \"sizeref\": 150}, \"mode\": \"markers\", \"name\": \"77005\", \"text\": [\"77005\"], \"x\": [153041.0], \"y\": [38.5], \"type\": \"scatter\"}, {\"marker\": {\"size\": [19856.0], \"sizemode\": \"area\", \"sizeref\": 150}, \"mode\": \"markers\", \"name\": \"77006\", \"text\": [\"77006\"], \"x\": [63360.0], \"y\": [36.9], \"type\": \"scatter\"}, {\"marker\": {\"size\": [29545.0], \"sizemode\": \"area\", \"sizeref\": 150}, \"mode\": \"markers\", \"name\": \"77007\", \"text\": [\"77007\"], \"x\": [90860.0], \"y\": [34.6], \"type\": \"scatter\"}, {\"marker\": {\"size\": [29424.0], \"sizemode\": \"area\", \"sizeref\": 150}, \"mode\": \"markers\", \"name\": \"77008\", \"text\": [\"77008\"], \"x\": [65457.0], \"y\": [37.1], \"type\": \"scatter\"}, {\"marker\": {\"size\": [39050.0], \"sizemode\": \"area\", \"sizeref\": 150}, \"mode\": \"markers\", \"name\": \"77009\", \"text\": [\"77009\"], \"x\": [42944.0], \"y\": [33.6], \"type\": \"scatter\"}, {\"marker\": {\"size\": [342.0], \"sizemode\": \"area\", \"sizeref\": 150}, \"mode\": \"markers\", \"name\": \"77010\", \"text\": [\"77010\"], \"x\": [149444.0], \"y\": [50.6], \"type\": \"scatter\"}, {\"marker\": {\"size\": [19396.0], \"sizemode\": \"area\", \"sizeref\": 150}, \"mode\": \"markers\", \"name\": \"77011\", \"text\": [\"77011\"], \"x\": [27458.0], \"y\": [32.7], \"type\": \"scatter\"}, {\"marker\": {\"size\": [21619.0], \"sizemode\": \"area\", \"sizeref\": 150}, \"mode\": \"markers\", \"name\": \"77012\", \"text\": [\"77012\"], \"x\": [33035.0], \"y\": [30.1], \"type\": \"scatter\"}, {\"marker\": {\"size\": [19450.0], \"sizemode\": \"area\", \"sizeref\": 150}, \"mode\": \"markers\", \"name\": \"77019\", \"text\": [\"77019\"], \"x\": [87582.0], \"y\": [36.8], \"type\": \"scatter\"}, {\"marker\": {\"size\": [26381.0], \"sizemode\": \"area\", \"sizeref\": 150}, \"mode\": \"markers\", \"name\": \"77020\", \"text\": [\"77020\"], \"x\": [28217.0], \"y\": [31.7], \"type\": \"scatter\"}, {\"marker\": {\"size\": [25640.0], \"sizemode\": \"area\", \"sizeref\": 150}, \"mode\": \"markers\", \"name\": \"77021\", \"text\": [\"77021\"], \"x\": [32096.0], \"y\": [34.4], \"type\": \"scatter\"}, {\"marker\": {\"size\": [30696.0], \"sizemode\": \"area\", \"sizeref\": 150}, \"mode\": \"markers\", \"name\": \"77023\", \"text\": [\"77023\"], \"x\": [37735.0], \"y\": [30.9], \"type\": \"scatter\"}, {\"marker\": {\"size\": [25935.0], \"sizemode\": \"area\", \"sizeref\": 150}, \"mode\": \"markers\", \"name\": \"77025\", \"text\": [\"77025\"], \"x\": [64202.0], \"y\": [33.8], \"type\": \"scatter\"}, {\"marker\": {\"size\": [23963.0], \"sizemode\": \"area\", \"sizeref\": 150}, \"mode\": \"markers\", \"name\": \"77026\", \"text\": [\"77026\"], \"x\": [20200.0], \"y\": [32.8], \"type\": \"scatter\"}, {\"marker\": {\"size\": [14745.0], \"sizemode\": \"area\", \"sizeref\": 150}, \"mode\": \"markers\", \"name\": \"77027\", \"text\": [\"77027\"], \"x\": [81202.0], \"y\": [37.9], \"type\": \"scatter\"}, {\"marker\": {\"size\": [11184.0], \"sizemode\": \"area\", \"sizeref\": 150}, \"mode\": \"markers\", \"name\": \"77030\", \"text\": [\"77030\"], \"x\": [67790.0], \"y\": [32.8], \"type\": \"scatter\"}], \"name\": \"2012\"}, {\"data\": [{\"marker\": {\"size\": [11602.0], \"sizemode\": \"area\", \"sizeref\": 150}, \"mode\": \"markers\", \"name\": \"77002\", \"text\": [\"77002\"], \"x\": [64093.0], \"y\": [32.5], \"type\": \"scatter\"}, {\"marker\": {\"size\": [10617.0], \"sizemode\": \"area\", \"sizeref\": 150}, \"mode\": \"markers\", \"name\": \"77003\", \"text\": [\"77003\"], \"x\": [36412.0], \"y\": [30.8], \"type\": \"scatter\"}, {\"marker\": {\"size\": [31593.0], \"sizemode\": \"area\", \"sizeref\": 150}, \"mode\": \"markers\", \"name\": \"77004\", \"text\": [\"77004\"], \"x\": [41983.0], \"y\": [30.3], \"type\": \"scatter\"}, {\"marker\": {\"size\": [25752.0], \"sizemode\": \"area\", \"sizeref\": 150}, \"mode\": \"markers\", \"name\": \"77005\", \"text\": [\"77005\"], \"x\": [159732.0], \"y\": [38.5], \"type\": \"scatter\"}, {\"marker\": {\"size\": [20573.0], \"sizemode\": \"area\", \"sizeref\": 150}, \"mode\": \"markers\", \"name\": \"77006\", \"text\": [\"77006\"], \"x\": [67458.0], \"y\": [35.1], \"type\": \"scatter\"}, {\"marker\": {\"size\": [30868.0], \"sizemode\": \"area\", \"sizeref\": 150}, \"mode\": \"markers\", \"name\": \"77007\", \"text\": [\"77007\"], \"x\": [98725.0], \"y\": [34.6], \"type\": \"scatter\"}, {\"marker\": {\"size\": [30807.0], \"sizemode\": \"area\", \"sizeref\": 150}, \"mode\": \"markers\", \"name\": \"77008\", \"text\": [\"77008\"], \"x\": [70293.0], \"y\": [35.9], \"type\": \"scatter\"}, {\"marker\": {\"size\": [39725.0], \"sizemode\": \"area\", \"sizeref\": 150}, \"mode\": \"markers\", \"name\": \"77009\", \"text\": [\"77009\"], \"x\": [44651.0], \"y\": [34.1], \"type\": \"scatter\"}, {\"marker\": {\"size\": [564.0], \"sizemode\": \"area\", \"sizeref\": 150}, \"mode\": \"markers\", \"name\": \"77010\", \"text\": [\"77010\"], \"x\": [250001.0], \"y\": [41.7], \"type\": \"scatter\"}, {\"marker\": {\"size\": [19442.0], \"sizemode\": \"area\", \"sizeref\": 150}, \"mode\": \"markers\", \"name\": \"77011\", \"text\": [\"77011\"], \"x\": [26838.0], \"y\": [33.2], \"type\": \"scatter\"}, {\"marker\": {\"size\": [21868.0], \"sizemode\": \"area\", \"sizeref\": 150}, \"mode\": \"markers\", \"name\": \"77012\", \"text\": [\"77012\"], \"x\": [34975.0], \"y\": [30.5], \"type\": \"scatter\"}, {\"marker\": {\"size\": [19995.0], \"sizemode\": \"area\", \"sizeref\": 150}, \"mode\": \"markers\", \"name\": \"77019\", \"text\": [\"77019\"], \"x\": [87394.0], \"y\": [35.6], \"type\": \"scatter\"}, {\"marker\": {\"size\": [26889.0], \"sizemode\": \"area\", \"sizeref\": 150}, \"mode\": \"markers\", \"name\": \"77020\", \"text\": [\"77020\"], \"x\": [29401.0], \"y\": [32.5], \"type\": \"scatter\"}, {\"marker\": {\"size\": [25479.0], \"sizemode\": \"area\", \"sizeref\": 150}, \"mode\": \"markers\", \"name\": \"77021\", \"text\": [\"77021\"], \"x\": [31103.0], \"y\": [35.0], \"type\": \"scatter\"}, {\"marker\": {\"size\": [29871.0], \"sizemode\": \"area\", \"sizeref\": 150}, \"mode\": \"markers\", \"name\": \"77023\", \"text\": [\"77023\"], \"x\": [36033.0], \"y\": [31.2], \"type\": \"scatter\"}, {\"marker\": {\"size\": [26379.0], \"sizemode\": \"area\", \"sizeref\": 150}, \"mode\": \"markers\", \"name\": \"77025\", \"text\": [\"77025\"], \"x\": [65828.0], \"y\": [35.3], \"type\": \"scatter\"}, {\"marker\": {\"size\": [22909.0], \"sizemode\": \"area\", \"sizeref\": 150}, \"mode\": \"markers\", \"name\": \"77026\", \"text\": [\"77026\"], \"x\": [20024.0], \"y\": [33.5], \"type\": \"scatter\"}, {\"marker\": {\"size\": [15455.0], \"sizemode\": \"area\", \"sizeref\": 150}, \"mode\": \"markers\", \"name\": \"77027\", \"text\": [\"77027\"], \"x\": [81661.0], \"y\": [37.4], \"type\": \"scatter\"}, {\"marker\": {\"size\": [11031.0], \"sizemode\": \"area\", \"sizeref\": 150}, \"mode\": \"markers\", \"name\": \"77030\", \"text\": [\"77030\"], \"x\": [68980.0], \"y\": [32.8], \"type\": \"scatter\"}], \"name\": \"2013\"}, {\"data\": [{\"marker\": {\"size\": [11630.0], \"sizemode\": \"area\", \"sizeref\": 150}, \"mode\": \"markers\", \"name\": \"77002\", \"text\": [\"77002\"], \"x\": [71319.0], \"y\": [33.2], \"type\": \"scatter\"}, {\"marker\": {\"size\": [10760.0], \"sizemode\": \"area\", \"sizeref\": 150}, \"mode\": \"markers\", \"name\": \"77003\", \"text\": [\"77003\"], \"x\": [40647.0], \"y\": [31.2], \"type\": \"scatter\"}, {\"marker\": {\"size\": [34079.0], \"sizemode\": \"area\", \"sizeref\": 150}, \"mode\": \"markers\", \"name\": \"77004\", \"text\": [\"77004\"], \"x\": [46059.0], \"y\": [29.0], \"type\": \"scatter\"}, {\"marker\": {\"size\": [26187.0], \"sizemode\": \"area\", \"sizeref\": 150}, \"mode\": \"markers\", \"name\": \"77005\", \"text\": [\"77005\"], \"x\": [163802.0], \"y\": [38.7], \"type\": \"scatter\"}, {\"marker\": {\"size\": [21144.0], \"sizemode\": \"area\", \"sizeref\": 150}, \"mode\": \"markers\", \"name\": \"77006\", \"text\": [\"77006\"], \"x\": [69508.0], \"y\": [35.4], \"type\": \"scatter\"}, {\"marker\": {\"size\": [31987.0], \"sizemode\": \"area\", \"sizeref\": 150}, \"mode\": \"markers\", \"name\": \"77007\", \"text\": [\"77007\"], \"x\": [106044.0], \"y\": [34.3], \"type\": \"scatter\"}, {\"marker\": {\"size\": [31418.0], \"sizemode\": \"area\", \"sizeref\": 150}, \"mode\": \"markers\", \"name\": \"77008\", \"text\": [\"77008\"], \"x\": [77512.0], \"y\": [35.5], \"type\": \"scatter\"}, {\"marker\": {\"size\": [39361.0], \"sizemode\": \"area\", \"sizeref\": 150}, \"mode\": \"markers\", \"name\": \"77009\", \"text\": [\"77009\"], \"x\": [45016.0], \"y\": [34.0], \"type\": \"scatter\"}, {\"marker\": {\"size\": [724.0], \"sizemode\": \"area\", \"sizeref\": 150}, \"mode\": \"markers\", \"name\": \"77010\", \"text\": [\"77010\"], \"x\": [209063.0], \"y\": [43.6], \"type\": \"scatter\"}, {\"marker\": {\"size\": [19136.0], \"sizemode\": \"area\", \"sizeref\": 150}, \"mode\": \"markers\", \"name\": \"77011\", \"text\": [\"77011\"], \"x\": [26953.0], \"y\": [32.8], \"type\": \"scatter\"}, {\"marker\": {\"size\": [20991.0], \"sizemode\": \"area\", \"sizeref\": 150}, \"mode\": \"markers\", \"name\": \"77012\", \"text\": [\"77012\"], \"x\": [35884.0], \"y\": [31.7], \"type\": \"scatter\"}, {\"marker\": {\"size\": [20350.0], \"sizemode\": \"area\", \"sizeref\": 150}, \"mode\": \"markers\", \"name\": \"77019\", \"text\": [\"77019\"], \"x\": [92844.0], \"y\": [37.9], \"type\": \"scatter\"}, {\"marker\": {\"size\": [26777.0], \"sizemode\": \"area\", \"sizeref\": 150}, \"mode\": \"markers\", \"name\": \"77020\", \"text\": [\"77020\"], \"x\": [27871.0], \"y\": [32.9], \"type\": \"scatter\"}, {\"marker\": {\"size\": [26036.0], \"sizemode\": \"area\", \"sizeref\": 150}, \"mode\": \"markers\", \"name\": \"77021\", \"text\": [\"77021\"], \"x\": [32391.0], \"y\": [33.7], \"type\": \"scatter\"}, {\"marker\": {\"size\": [29102.0], \"sizemode\": \"area\", \"sizeref\": 150}, \"mode\": \"markers\", \"name\": \"77023\", \"text\": [\"77023\"], \"x\": [37361.0], \"y\": [31.9], \"type\": \"scatter\"}, {\"marker\": {\"size\": [27413.0], \"sizemode\": \"area\", \"sizeref\": 150}, \"mode\": \"markers\", \"name\": \"77025\", \"text\": [\"77025\"], \"x\": [65524.0], \"y\": [35.3], \"type\": \"scatter\"}, {\"marker\": {\"size\": [23325.0], \"sizemode\": \"area\", \"sizeref\": 150}, \"mode\": \"markers\", \"name\": \"77026\", \"text\": [\"77026\"], \"x\": [21335.0], \"y\": [33.1], \"type\": \"scatter\"}, {\"marker\": {\"size\": [15510.0], \"sizemode\": \"area\", \"sizeref\": 150}, \"mode\": \"markers\", \"name\": \"77027\", \"text\": [\"77027\"], \"x\": [82038.0], \"y\": [36.7], \"type\": \"scatter\"}, {\"marker\": {\"size\": [10664.0], \"sizemode\": \"area\", \"sizeref\": 150}, \"mode\": \"markers\", \"name\": \"77030\", \"text\": [\"77030\"], \"x\": [71078.0], \"y\": [32.5], \"type\": \"scatter\"}], \"name\": \"2014\"}, {\"data\": [{\"marker\": {\"size\": [11922.0], \"sizemode\": \"area\", \"sizeref\": 150}, \"mode\": \"markers\", \"name\": \"77002\", \"text\": [\"77002\"], \"x\": [62089.0], \"y\": [33.8], \"type\": \"scatter\"}, {\"marker\": {\"size\": [10438.0], \"sizemode\": \"area\", \"sizeref\": 150}, \"mode\": \"markers\", \"name\": \"77003\", \"text\": [\"77003\"], \"x\": [39039.0], \"y\": [32.7], \"type\": \"scatter\"}, {\"marker\": {\"size\": [35739.0], \"sizemode\": \"area\", \"sizeref\": 150}, \"mode\": \"markers\", \"name\": \"77004\", \"text\": [\"77004\"], \"x\": [47523.0], \"y\": [28.1], \"type\": \"scatter\"}, {\"marker\": {\"size\": [27187.0], \"sizemode\": \"area\", \"sizeref\": 150}, \"mode\": \"markers\", \"name\": \"77005\", \"text\": [\"77005\"], \"x\": [166203.0], \"y\": [38.0], \"type\": \"scatter\"}, {\"marker\": {\"size\": [21795.0], \"sizemode\": \"area\", \"sizeref\": 150}, \"mode\": \"markers\", \"name\": \"77006\", \"text\": [\"77006\"], \"x\": [71158.0], \"y\": [34.8], \"type\": \"scatter\"}, {\"marker\": {\"size\": [33029.0], \"sizemode\": \"area\", \"sizeref\": 150}, \"mode\": \"markers\", \"name\": \"77007\", \"text\": [\"77007\"], \"x\": [107580.0], \"y\": [33.5], \"type\": \"scatter\"}, {\"marker\": {\"size\": [31868.0], \"sizemode\": \"area\", \"sizeref\": 150}, \"mode\": \"markers\", \"name\": \"77008\", \"text\": [\"77008\"], \"x\": [82058.0], \"y\": [35.5], \"type\": \"scatter\"}, {\"marker\": {\"size\": [39260.0], \"sizemode\": \"area\", \"sizeref\": 150}, \"mode\": \"markers\", \"name\": \"77009\", \"text\": [\"77009\"], \"x\": [43830.0], \"y\": [34.1], \"type\": \"scatter\"}, {\"marker\": {\"size\": [809.0], \"sizemode\": \"area\", \"sizeref\": 150}, \"mode\": \"markers\", \"name\": \"77010\", \"text\": [\"77010\"], \"x\": [250001.0], \"y\": [42.7], \"type\": \"scatter\"}, {\"marker\": {\"size\": [19303.0], \"sizemode\": \"area\", \"sizeref\": 150}, \"mode\": \"markers\", \"name\": \"77011\", \"text\": [\"77011\"], \"x\": [26922.0], \"y\": [33.0], \"type\": \"scatter\"}, {\"marker\": {\"size\": [20494.0], \"sizemode\": \"area\", \"sizeref\": 150}, \"mode\": \"markers\", \"name\": \"77012\", \"text\": [\"77012\"], \"x\": [34891.0], \"y\": [32.3], \"type\": \"scatter\"}, {\"marker\": {\"size\": [20644.0], \"sizemode\": \"area\", \"sizeref\": 150}, \"mode\": \"markers\", \"name\": \"77019\", \"text\": [\"77019\"], \"x\": [101297.0], \"y\": [38.8], \"type\": \"scatter\"}, {\"marker\": {\"size\": [26005.0], \"sizemode\": \"area\", \"sizeref\": 150}, \"mode\": \"markers\", \"name\": \"77020\", \"text\": [\"77020\"], \"x\": [27052.0], \"y\": [32.4], \"type\": \"scatter\"}, {\"marker\": {\"size\": [26209.0], \"sizemode\": \"area\", \"sizeref\": 150}, \"mode\": \"markers\", \"name\": \"77021\", \"text\": [\"77021\"], \"x\": [32800.0], \"y\": [33.8], \"type\": \"scatter\"}, {\"marker\": {\"size\": [28316.0], \"sizemode\": \"area\", \"sizeref\": 150}, \"mode\": \"markers\", \"name\": \"77023\", \"text\": [\"77023\"], \"x\": [36065.0], \"y\": [33.4], \"type\": \"scatter\"}, {\"marker\": {\"size\": [28305.0], \"sizemode\": \"area\", \"sizeref\": 150}, \"mode\": \"markers\", \"name\": \"77025\", \"text\": [\"77025\"], \"x\": [66559.0], \"y\": [35.2], \"type\": \"scatter\"}, {\"marker\": {\"size\": [22485.0], \"sizemode\": \"area\", \"sizeref\": 150}, \"mode\": \"markers\", \"name\": \"77026\", \"text\": [\"77026\"], \"x\": [22242.0], \"y\": [35.3], \"type\": \"scatter\"}, {\"marker\": {\"size\": [15749.0], \"sizemode\": \"area\", \"sizeref\": 150}, \"mode\": \"markers\", \"name\": \"77027\", \"text\": [\"77027\"], \"x\": [89276.0], \"y\": [36.8], \"type\": \"scatter\"}, {\"marker\": {\"size\": [10279.0], \"sizemode\": \"area\", \"sizeref\": 150}, \"mode\": \"markers\", \"name\": \"77030\", \"text\": [\"77030\"], \"x\": [71883.0], \"y\": [32.6], \"type\": \"scatter\"}], \"name\": \"2015\"}, {\"data\": [{\"marker\": {\"size\": [11861.0], \"sizemode\": \"area\", \"sizeref\": 150}, \"mode\": \"markers\", \"name\": \"77002\", \"text\": [\"77002\"], \"x\": [68229.0], \"y\": [33.9], \"type\": \"scatter\"}, {\"marker\": {\"size\": [10097.0], \"sizemode\": \"area\", \"sizeref\": 150}, \"mode\": \"markers\", \"name\": \"77003\", \"text\": [\"77003\"], \"x\": [46267.0], \"y\": [33.0], \"type\": \"scatter\"}, {\"marker\": {\"size\": [36879.0], \"sizemode\": \"area\", \"sizeref\": 150}, \"mode\": \"markers\", \"name\": \"77004\", \"text\": [\"77004\"], \"x\": [50681.0], \"y\": [28.3], \"type\": \"scatter\"}, {\"marker\": {\"size\": [27707.0], \"sizemode\": \"area\", \"sizeref\": 150}, \"mode\": \"markers\", \"name\": \"77005\", \"text\": [\"77005\"], \"x\": [174153.0], \"y\": [37.5], \"type\": \"scatter\"}, {\"marker\": {\"size\": [21849.0], \"sizemode\": \"area\", \"sizeref\": 150}, \"mode\": \"markers\", \"name\": \"77006\", \"text\": [\"77006\"], \"x\": [80908.0], \"y\": [34.9], \"type\": \"scatter\"}, {\"marker\": {\"size\": [35185.0], \"sizemode\": \"area\", \"sizeref\": 150}, \"mode\": \"markers\", \"name\": \"77007\", \"text\": [\"77007\"], \"x\": [113361.0], \"y\": [33.6], \"type\": \"scatter\"}, {\"marker\": {\"size\": [32588.0], \"sizemode\": \"area\", \"sizeref\": 150}, \"mode\": \"markers\", \"name\": \"77008\", \"text\": [\"77008\"], \"x\": [88248.0], \"y\": [35.5], \"type\": \"scatter\"}, {\"marker\": {\"size\": [38019.0], \"sizemode\": \"area\", \"sizeref\": 150}, \"mode\": \"markers\", \"name\": \"77009\", \"text\": [\"77009\"], \"x\": [47011.0], \"y\": [34.5], \"type\": \"scatter\"}, {\"marker\": {\"size\": [831.0], \"sizemode\": \"area\", \"sizeref\": 150}, \"mode\": \"markers\", \"name\": \"77010\", \"text\": [\"77010\"], \"x\": [250001.0], \"y\": [48.5], \"type\": \"scatter\"}, {\"marker\": {\"size\": [18558.0], \"sizemode\": \"area\", \"sizeref\": 150}, \"mode\": \"markers\", \"name\": \"77011\", \"text\": [\"77011\"], \"x\": [29544.0], \"y\": [32.9], \"type\": \"scatter\"}, {\"marker\": {\"size\": [20534.0], \"sizemode\": \"area\", \"sizeref\": 150}, \"mode\": \"markers\", \"name\": \"77012\", \"text\": [\"77012\"], \"x\": [34617.0], \"y\": [32.0], \"type\": \"scatter\"}, {\"marker\": {\"size\": [21067.0], \"sizemode\": \"area\", \"sizeref\": 150}, \"mode\": \"markers\", \"name\": \"77019\", \"text\": [\"77019\"], \"x\": [102521.0], \"y\": [38.4], \"type\": \"scatter\"}, {\"marker\": {\"size\": [25908.0], \"sizemode\": \"area\", \"sizeref\": 150}, \"mode\": \"markers\", \"name\": \"77020\", \"text\": [\"77020\"], \"x\": [26896.0], \"y\": [32.9], \"type\": \"scatter\"}, {\"marker\": {\"size\": [26374.0], \"sizemode\": \"area\", \"sizeref\": 150}, \"mode\": \"markers\", \"name\": \"77021\", \"text\": [\"77021\"], \"x\": [32404.0], \"y\": [33.8], \"type\": \"scatter\"}, {\"marker\": {\"size\": [27973.0], \"sizemode\": \"area\", \"sizeref\": 150}, \"mode\": \"markers\", \"name\": \"77023\", \"text\": [\"77023\"], \"x\": [35723.0], \"y\": [33.4], \"type\": \"scatter\"}, {\"marker\": {\"size\": [28103.0], \"sizemode\": \"area\", \"sizeref\": 150}, \"mode\": \"markers\", \"name\": \"77025\", \"text\": [\"77025\"], \"x\": [67548.0], \"y\": [36.1], \"type\": \"scatter\"}, {\"marker\": {\"size\": [23030.0], \"sizemode\": \"area\", \"sizeref\": 150}, \"mode\": \"markers\", \"name\": \"77026\", \"text\": [\"77026\"], \"x\": [25354.0], \"y\": [35.9], \"type\": \"scatter\"}, {\"marker\": {\"size\": [15498.0], \"sizemode\": \"area\", \"sizeref\": 150}, \"mode\": \"markers\", \"name\": \"77027\", \"text\": [\"77027\"], \"x\": [88471.0], \"y\": [35.1], \"type\": \"scatter\"}, {\"marker\": {\"size\": [10735.0], \"sizemode\": \"area\", \"sizeref\": 150}, \"mode\": \"markers\", \"name\": \"77030\", \"text\": [\"77030\"], \"x\": [73689.0], \"y\": [32.7], \"type\": \"scatter\"}], \"name\": \"2016\"}, {\"data\": [{\"marker\": {\"size\": [12370.0], \"sizemode\": \"area\", \"sizeref\": 150}, \"mode\": \"markers\", \"name\": \"77002\", \"text\": [\"77002\"], \"x\": [72306.0], \"y\": [34.1], \"type\": \"scatter\"}, {\"marker\": {\"size\": [9646.0], \"sizemode\": \"area\", \"sizeref\": 150}, \"mode\": \"markers\", \"name\": \"77003\", \"text\": [\"77003\"], \"x\": [59575.0], \"y\": [34.1], \"type\": \"scatter\"}, {\"marker\": {\"size\": [37642.0], \"sizemode\": \"area\", \"sizeref\": 150}, \"mode\": \"markers\", \"name\": \"77004\", \"text\": [\"77004\"], \"x\": [48592.0], \"y\": [28.3], \"type\": \"scatter\"}, {\"marker\": {\"size\": [28233.0], \"sizemode\": \"area\", \"sizeref\": 150}, \"mode\": \"markers\", \"name\": \"77005\", \"text\": [\"77005\"], \"x\": [180758.0], \"y\": [36.5], \"type\": \"scatter\"}, {\"marker\": {\"size\": [21945.0], \"sizemode\": \"area\", \"sizeref\": 150}, \"mode\": \"markers\", \"name\": \"77006\", \"text\": [\"77006\"], \"x\": [82878.0], \"y\": [34.3], \"type\": \"scatter\"}, {\"marker\": {\"size\": [35822.0], \"sizemode\": \"area\", \"sizeref\": 150}, \"mode\": \"markers\", \"name\": \"77007\", \"text\": [\"77007\"], \"x\": [121458.0], \"y\": [33.8], \"type\": \"scatter\"}, {\"marker\": {\"size\": [34491.0], \"sizemode\": \"area\", \"sizeref\": 150}, \"mode\": \"markers\", \"name\": \"77008\", \"text\": [\"77008\"], \"x\": [97690.0], \"y\": [34.9], \"type\": \"scatter\"}, {\"marker\": {\"size\": [37751.0], \"sizemode\": \"area\", \"sizeref\": 150}, \"mode\": \"markers\", \"name\": \"77009\", \"text\": [\"77009\"], \"x\": [49383.0], \"y\": [35.1], \"type\": \"scatter\"}, {\"marker\": {\"size\": [915.0], \"sizemode\": \"area\", \"sizeref\": 150}, \"mode\": \"markers\", \"name\": \"77010\", \"text\": [\"77010\"], \"x\": [250001.0], \"y\": [44.6], \"type\": \"scatter\"}, {\"marker\": {\"size\": [18598.0], \"sizemode\": \"area\", \"sizeref\": 150}, \"mode\": \"markers\", \"name\": \"77011\", \"text\": [\"77011\"], \"x\": [30665.0], \"y\": [34.0], \"type\": \"scatter\"}, {\"marker\": {\"size\": [20085.0], \"sizemode\": \"area\", \"sizeref\": 150}, \"mode\": \"markers\", \"name\": \"77012\", \"text\": [\"77012\"], \"x\": [36537.0], \"y\": [33.0], \"type\": \"scatter\"}, {\"marker\": {\"size\": [21572.0], \"sizemode\": \"area\", \"sizeref\": 150}, \"mode\": \"markers\", \"name\": \"77019\", \"text\": [\"77019\"], \"x\": [112243.0], \"y\": [39.4], \"type\": \"scatter\"}, {\"marker\": {\"size\": [25898.0], \"sizemode\": \"area\", \"sizeref\": 150}, \"mode\": \"markers\", \"name\": \"77020\", \"text\": [\"77020\"], \"x\": [27587.0], \"y\": [33.0], \"type\": \"scatter\"}, {\"marker\": {\"size\": [26654.0], \"sizemode\": \"area\", \"sizeref\": 150}, \"mode\": \"markers\", \"name\": \"77021\", \"text\": [\"77021\"], \"x\": [35126.0], \"y\": [33.6], \"type\": \"scatter\"}, {\"marker\": {\"size\": [28528.0], \"sizemode\": \"area\", \"sizeref\": 150}, \"mode\": \"markers\", \"name\": \"77023\", \"text\": [\"77023\"], \"x\": [37462.0], \"y\": [33.2], \"type\": \"scatter\"}, {\"marker\": {\"size\": [28922.0], \"sizemode\": \"area\", \"sizeref\": 150}, \"mode\": \"markers\", \"name\": \"77025\", \"text\": [\"77025\"], \"x\": [71990.0], \"y\": [36.3], \"type\": \"scatter\"}, {\"marker\": {\"size\": [22799.0], \"sizemode\": \"area\", \"sizeref\": 150}, \"mode\": \"markers\", \"name\": \"77026\", \"text\": [\"77026\"], \"x\": [26644.0], \"y\": [35.2], \"type\": \"scatter\"}, {\"marker\": {\"size\": [16012.0], \"sizemode\": \"area\", \"sizeref\": 150}, \"mode\": \"markers\", \"name\": \"77027\", \"text\": [\"77027\"], \"x\": [91296.0], \"y\": [33.3], \"type\": \"scatter\"}, {\"marker\": {\"size\": [10813.0], \"sizemode\": \"area\", \"sizeref\": 150}, \"mode\": \"markers\", \"name\": \"77030\", \"text\": [\"77030\"], \"x\": [75290.0], \"y\": [33.9], \"type\": \"scatter\"}], \"name\": \"2017\"}]);\n",
       "                        }).then(function(){\n",
       "                            \n",
       "var gd = document.getElementById('668051b8-ef17-483d-bca6-4d1fd689ff8d');\n",
       "var x = new MutationObserver(function (mutations, observer) {{\n",
       "        var display = window.getComputedStyle(gd).display;\n",
       "        if (!display || display === 'none') {{\n",
       "            console.log([gd, 'removed!']);\n",
       "            Plotly.purge(gd);\n",
       "            observer.disconnect();\n",
       "        }}\n",
       "}});\n",
       "\n",
       "// Listen for the removal of the full notebook cells\n",
       "var notebookContainer = gd.closest('#notebook-container');\n",
       "if (notebookContainer) {{\n",
       "    x.observe(notebookContainer, {childList: true});\n",
       "}}\n",
       "\n",
       "// Listen for the clearing of the current output cell\n",
       "var outputEl = gd.closest('.output');\n",
       "if (outputEl) {{\n",
       "    x.observe(outputEl, {childList: true});\n",
       "}}\n",
       "\n",
       "                        })\n",
       "                };\n",
       "                });\n",
       "            </script>\n",
       "        </div>"
      ]
     },
     "metadata": {},
     "output_type": "display_data"
    }
   ],
   "source": [
    "### FOR MOVING BUBBLE PLOT\n",
    "#get years for our data\n",
    "years = [\"2012\", \"2013\", \"2014\", \"2015\", \"2016\", \"2017\"]\n",
    "\n",
    "# make list of zips\n",
    "zipcodes = []\n",
    "for zipcode in file_one_df[\"Zipcode\"]:\n",
    "    if zipcode not in zipcodes:\n",
    "        zipcodes.append(zipcode)\n",
    "# make figure\n",
    "fig_dict = {\n",
    "    \"data\": [],\n",
    "    \"layout\": {},\n",
    "    \"frames\": []\n",
    "}\n",
    "\n",
    "\n",
    "# fill in most of layout\n",
    "fig_dict[\"layout\"][\"xaxis\"] = {\"range\": [10000, 300000], \"title\": \"Household Income\"}\n",
    "fig_dict[\"layout\"][\"yaxis\"] = {\"title\": \"Median Age\", \"type\": \"log\"}\n",
    "fig_dict[\"layout\"][\"hovermode\"] = \"closest\"\n",
    "fig_dict[\"layout\"][\"sliders\"] = {\n",
    "    \"args\": [\n",
    "        \"transition\", {\n",
    "            \"duration\": 400,\n",
    "            \"easing\": \"cubic-in-out\"\n",
    "        }\n",
    "    ],\n",
    "    \"initialValue\": \"2012\",\n",
    "    \"plotlycommand\": \"animate\",\n",
    "    \"values\": years,\n",
    "    \"visible\": True\n",
    "}\n",
    "fig_dict[\"layout\"][\"updatemenus\"] = [\n",
    "    {\n",
    "        \"buttons\": [\n",
    "            {\n",
    "                \"args\": [None, {\"frame\": {\"duration\": 500, \"redraw\": False},\n",
    "                                \"fromcurrent\": True, \"transition\": {\"duration\": 300,\n",
    "                                                                    \"easing\": \"quadratic-in-out\"}}],\n",
    "                \"label\": \"Play\",\n",
    "                \"method\": \"animate\"\n",
    "            },\n",
    "            {\n",
    "                \"args\": [[None], {\"frame\": {\"duration\": 0, \"redraw\": False},\n",
    "                                  \"mode\": \"immediate\",\n",
    "                                  \"transition\": {\"duration\": 0}}],\n",
    "                \"label\": \"Pause\",\n",
    "                \"method\": \"animate\"\n",
    "            }\n",
    "        ],\n",
    "        \"direction\": \"left\",\n",
    "        \"pad\": {\"r\": 10, \"t\": 87},\n",
    "        \"showactive\": False,\n",
    "        \"type\": \"buttons\",\n",
    "        \"x\": 0.1,\n",
    "        \"xanchor\": \"right\",\n",
    "        \"y\": 0,\n",
    "        \"yanchor\": \"top\"\n",
    "    }\n",
    "]\n",
    "\n",
    "sliders_dict = {\n",
    "    \"active\": 0,\n",
    "    \"yanchor\": \"top\",\n",
    "    \"xanchor\": \"left\",\n",
    "    \"currentvalue\": {\n",
    "        \"font\": {\"size\": 20},\n",
    "        \"prefix\": \"Year:\",\n",
    "        \"visible\": True,\n",
    "        \"xanchor\": \"right\"\n",
    "    },\n",
    "    \"transition\": {\"duration\": 300, \"easing\": \"cubic-in-out\"},\n",
    "    \"pad\": {\"b\": 10, \"t\": 50},\n",
    "    \"len\": 0.9,\n",
    "    \"x\": 0.1,\n",
    "    \"y\": 0,\n",
    "    \"steps\": []\n",
    "}\n",
    "\n",
    "#make data\n",
    "year = 2012\n",
    "for zipcode in zipcodes:\n",
    "    dataset_by_year = file_one_df[census_df[\"Year\"] == year]\n",
    "    dataset_by_year_and_zip = dataset_by_year[\n",
    "        dataset_by_year[\"Zipcode\"] == zipcode]\n",
    "\n",
    "    data_dict = {\n",
    "        \"x\": list(dataset_by_year_and_zip[\"Household Income\"]),\n",
    "        \"y\": list(dataset_by_year_and_zip[\"Median Age\"]),\n",
    "        \"mode\": \"markers\",\n",
    "        \"text\": list(dataset_by_year_and_zip[\"Zipcode\"]),\n",
    "        \"marker\": {\n",
    "            \"sizemode\": \"area\",\n",
    "            \"sizeref\": 150,\n",
    "            \"size\": list(dataset_by_year_and_zip[\"Population\"])\n",
    "        },\n",
    "        \"name\": zipcode\n",
    "    }\n",
    "    fig_dict[\"data\"].append(data_dict)\n",
    "        \n",
    "    \n",
    "# make frames \n",
    "for year in years:\n",
    "    frame = {\"data\": [], \"name\": str(year)}\n",
    "    for zipcode in zipcodes:\n",
    "        dataset_by_year = file_one_df[file_one_df[\"Year\"] == int(year)]\n",
    "        dataset_by_year_and_zip = dataset_by_year[\n",
    "            dataset_by_year[\"Zipcode\"] == zipcode]\n",
    "\n",
    "        data_dict = {\n",
    "            \"x\": list(dataset_by_year_and_zip[\"Household Income\"]),\n",
    "            \"y\": list(dataset_by_year_and_zip[\"Median Age\"]),\n",
    "            \"mode\": \"markers\",\n",
    "            \"text\": list(dataset_by_year_and_zip[\"Zipcode\"]),\n",
    "            \"marker\": {\n",
    "                \"sizemode\": \"area\",\n",
    "                \"sizeref\": 150,\n",
    "                \"size\": list(dataset_by_year_and_zip[\"Population\"])\n",
    "            },\n",
    "            \"name\": zipcode\n",
    "        }\n",
    "        frame[\"data\"].append(data_dict)\n",
    "\n",
    "    fig_dict[\"frames\"].append(frame)\n",
    "    slider_step = {\"args\": [\n",
    "        [year],\n",
    "        {\"frame\": {\"duration\": 300, \"redraw\": False},\n",
    "         \"mode\": \"immediate\",\n",
    "         \"transition\": {\"duration\": 300}}\n",
    "    ],\n",
    "        \"label\": year,\n",
    "        \"method\": \"animate\"}\n",
    "    sliders_dict[\"steps\"].append(slider_step)\n",
    "\n",
    "\n",
    "fig_dict[\"layout\"][\"sliders\"] = [sliders_dict]\n",
    "\n",
    "fig = go.Figure(fig_dict)\n",
    "fig.update_layout(title_text=\"Inner Houston Population, Age, Income Trend by Zip Code 2012-2017\")\n",
    "fig.show()"
   ]
  },
  {
   "cell_type": "code",
   "execution_count": 13,
   "metadata": {},
   "outputs": [
    {
     "data": {
      "application/vnd.plotly.v1+json": {
       "config": {
        "plotlyServerURL": "https://plot.ly"
       },
       "data": [
        {
         "name": "Age",
         "type": "bar",
         "x": [
          2012,
          2013,
          2014,
          2015,
          2016,
          2017
         ],
         "xaxis": "x",
         "y": [
          32.9,
          30.8,
          31.2,
          32.7,
          33,
          34.1
         ],
         "yaxis": "y"
        },
        {
         "name": "Income",
         "type": "scatter",
         "x": [
          2012,
          2013,
          2014,
          2015,
          2016,
          2017
         ],
         "xaxis": "x",
         "y": [
          37664,
          36412,
          40647,
          39039,
          46267,
          59575
         ],
         "yaxis": "y2"
        },
        {
         "name": "Age",
         "type": "bar",
         "x": [
          2012,
          2013,
          2014,
          2015,
          2016,
          2017
         ],
         "xaxis": "x2",
         "y": [
          34.6,
          34.6,
          34.3,
          33.5,
          33.6,
          33.8
         ],
         "yaxis": "y3"
        },
        {
         "name": "Income",
         "type": "scatter",
         "x": [
          2012,
          2013,
          2014,
          2015,
          2016,
          2017
         ],
         "xaxis": "x2",
         "y": [
          90860,
          98725,
          106044,
          107580,
          113361,
          121458
         ],
         "yaxis": "y4"
        },
        {
         "name": "Age",
         "type": "bar",
         "x": [
          2012,
          2013,
          2014,
          2015,
          2016,
          2017
         ],
         "xaxis": "x4",
         "y": [
          37.1,
          35.9,
          35.5,
          35.5,
          35.5,
          34.9
         ],
         "yaxis": "y7"
        },
        {
         "name": "Income",
         "type": "scatter",
         "x": [
          2012,
          2013,
          2014,
          2015,
          2016,
          2017
         ],
         "xaxis": "x4",
         "y": [
          65457,
          70293,
          77512,
          82058,
          88248,
          97690
         ],
         "yaxis": "y8"
        },
        {
         "name": " Age",
         "type": "bar",
         "x": [
          2012,
          2013,
          2014,
          2015,
          2016,
          2017
         ],
         "xaxis": "x3",
         "y": [
          32.8,
          33.5,
          33.1,
          35.3,
          35.9,
          35.2
         ],
         "yaxis": "y5"
        },
        {
         "name": "Income",
         "type": "scatter",
         "x": [
          2012,
          2013,
          2014,
          2015,
          2016,
          2017
         ],
         "xaxis": "x3",
         "y": [
          20200,
          20024,
          21335,
          22242,
          25354,
          26644
         ],
         "yaxis": "y6"
        }
       ],
       "layout": {
        "annotations": [
         {
          "font": {
           "size": 16
          },
          "showarrow": false,
          "text": "77003",
          "x": 0.185,
          "xanchor": "center",
          "xref": "paper",
          "y": 1,
          "yanchor": "bottom",
          "yref": "paper"
         },
         {
          "font": {
           "size": 16
          },
          "showarrow": false,
          "text": "77007",
          "x": 0.7550000000000001,
          "xanchor": "center",
          "xref": "paper",
          "y": 1,
          "yanchor": "bottom",
          "yref": "paper"
         },
         {
          "font": {
           "size": 16
          },
          "showarrow": false,
          "text": "77026",
          "x": 0.185,
          "xanchor": "center",
          "xref": "paper",
          "y": 0.375,
          "yanchor": "bottom",
          "yref": "paper"
         },
         {
          "font": {
           "size": 16
          },
          "showarrow": false,
          "text": "77008",
          "x": 0.7550000000000001,
          "xanchor": "center",
          "xref": "paper",
          "y": 0.375,
          "yanchor": "bottom",
          "yref": "paper"
         }
        ],
        "template": {
         "data": {
          "bar": [
           {
            "error_x": {
             "color": "#2a3f5f"
            },
            "error_y": {
             "color": "#2a3f5f"
            },
            "marker": {
             "line": {
              "color": "#E5ECF6",
              "width": 0.5
             }
            },
            "type": "bar"
           }
          ],
          "barpolar": [
           {
            "marker": {
             "line": {
              "color": "#E5ECF6",
              "width": 0.5
             }
            },
            "type": "barpolar"
           }
          ],
          "carpet": [
           {
            "aaxis": {
             "endlinecolor": "#2a3f5f",
             "gridcolor": "white",
             "linecolor": "white",
             "minorgridcolor": "white",
             "startlinecolor": "#2a3f5f"
            },
            "baxis": {
             "endlinecolor": "#2a3f5f",
             "gridcolor": "white",
             "linecolor": "white",
             "minorgridcolor": "white",
             "startlinecolor": "#2a3f5f"
            },
            "type": "carpet"
           }
          ],
          "choropleth": [
           {
            "colorbar": {
             "outlinewidth": 0,
             "ticks": ""
            },
            "type": "choropleth"
           }
          ],
          "contour": [
           {
            "colorbar": {
             "outlinewidth": 0,
             "ticks": ""
            },
            "colorscale": [
             [
              0,
              "#0d0887"
             ],
             [
              0.1111111111111111,
              "#46039f"
             ],
             [
              0.2222222222222222,
              "#7201a8"
             ],
             [
              0.3333333333333333,
              "#9c179e"
             ],
             [
              0.4444444444444444,
              "#bd3786"
             ],
             [
              0.5555555555555556,
              "#d8576b"
             ],
             [
              0.6666666666666666,
              "#ed7953"
             ],
             [
              0.7777777777777778,
              "#fb9f3a"
             ],
             [
              0.8888888888888888,
              "#fdca26"
             ],
             [
              1,
              "#f0f921"
             ]
            ],
            "type": "contour"
           }
          ],
          "contourcarpet": [
           {
            "colorbar": {
             "outlinewidth": 0,
             "ticks": ""
            },
            "type": "contourcarpet"
           }
          ],
          "heatmap": [
           {
            "colorbar": {
             "outlinewidth": 0,
             "ticks": ""
            },
            "colorscale": [
             [
              0,
              "#0d0887"
             ],
             [
              0.1111111111111111,
              "#46039f"
             ],
             [
              0.2222222222222222,
              "#7201a8"
             ],
             [
              0.3333333333333333,
              "#9c179e"
             ],
             [
              0.4444444444444444,
              "#bd3786"
             ],
             [
              0.5555555555555556,
              "#d8576b"
             ],
             [
              0.6666666666666666,
              "#ed7953"
             ],
             [
              0.7777777777777778,
              "#fb9f3a"
             ],
             [
              0.8888888888888888,
              "#fdca26"
             ],
             [
              1,
              "#f0f921"
             ]
            ],
            "type": "heatmap"
           }
          ],
          "heatmapgl": [
           {
            "colorbar": {
             "outlinewidth": 0,
             "ticks": ""
            },
            "colorscale": [
             [
              0,
              "#0d0887"
             ],
             [
              0.1111111111111111,
              "#46039f"
             ],
             [
              0.2222222222222222,
              "#7201a8"
             ],
             [
              0.3333333333333333,
              "#9c179e"
             ],
             [
              0.4444444444444444,
              "#bd3786"
             ],
             [
              0.5555555555555556,
              "#d8576b"
             ],
             [
              0.6666666666666666,
              "#ed7953"
             ],
             [
              0.7777777777777778,
              "#fb9f3a"
             ],
             [
              0.8888888888888888,
              "#fdca26"
             ],
             [
              1,
              "#f0f921"
             ]
            ],
            "type": "heatmapgl"
           }
          ],
          "histogram": [
           {
            "marker": {
             "colorbar": {
              "outlinewidth": 0,
              "ticks": ""
             }
            },
            "type": "histogram"
           }
          ],
          "histogram2d": [
           {
            "colorbar": {
             "outlinewidth": 0,
             "ticks": ""
            },
            "colorscale": [
             [
              0,
              "#0d0887"
             ],
             [
              0.1111111111111111,
              "#46039f"
             ],
             [
              0.2222222222222222,
              "#7201a8"
             ],
             [
              0.3333333333333333,
              "#9c179e"
             ],
             [
              0.4444444444444444,
              "#bd3786"
             ],
             [
              0.5555555555555556,
              "#d8576b"
             ],
             [
              0.6666666666666666,
              "#ed7953"
             ],
             [
              0.7777777777777778,
              "#fb9f3a"
             ],
             [
              0.8888888888888888,
              "#fdca26"
             ],
             [
              1,
              "#f0f921"
             ]
            ],
            "type": "histogram2d"
           }
          ],
          "histogram2dcontour": [
           {
            "colorbar": {
             "outlinewidth": 0,
             "ticks": ""
            },
            "colorscale": [
             [
              0,
              "#0d0887"
             ],
             [
              0.1111111111111111,
              "#46039f"
             ],
             [
              0.2222222222222222,
              "#7201a8"
             ],
             [
              0.3333333333333333,
              "#9c179e"
             ],
             [
              0.4444444444444444,
              "#bd3786"
             ],
             [
              0.5555555555555556,
              "#d8576b"
             ],
             [
              0.6666666666666666,
              "#ed7953"
             ],
             [
              0.7777777777777778,
              "#fb9f3a"
             ],
             [
              0.8888888888888888,
              "#fdca26"
             ],
             [
              1,
              "#f0f921"
             ]
            ],
            "type": "histogram2dcontour"
           }
          ],
          "mesh3d": [
           {
            "colorbar": {
             "outlinewidth": 0,
             "ticks": ""
            },
            "type": "mesh3d"
           }
          ],
          "parcoords": [
           {
            "line": {
             "colorbar": {
              "outlinewidth": 0,
              "ticks": ""
             }
            },
            "type": "parcoords"
           }
          ],
          "scatter": [
           {
            "marker": {
             "colorbar": {
              "outlinewidth": 0,
              "ticks": ""
             }
            },
            "type": "scatter"
           }
          ],
          "scatter3d": [
           {
            "line": {
             "colorbar": {
              "outlinewidth": 0,
              "ticks": ""
             }
            },
            "marker": {
             "colorbar": {
              "outlinewidth": 0,
              "ticks": ""
             }
            },
            "type": "scatter3d"
           }
          ],
          "scattercarpet": [
           {
            "marker": {
             "colorbar": {
              "outlinewidth": 0,
              "ticks": ""
             }
            },
            "type": "scattercarpet"
           }
          ],
          "scattergeo": [
           {
            "marker": {
             "colorbar": {
              "outlinewidth": 0,
              "ticks": ""
             }
            },
            "type": "scattergeo"
           }
          ],
          "scattergl": [
           {
            "marker": {
             "colorbar": {
              "outlinewidth": 0,
              "ticks": ""
             }
            },
            "type": "scattergl"
           }
          ],
          "scattermapbox": [
           {
            "marker": {
             "colorbar": {
              "outlinewidth": 0,
              "ticks": ""
             }
            },
            "type": "scattermapbox"
           }
          ],
          "scatterpolar": [
           {
            "marker": {
             "colorbar": {
              "outlinewidth": 0,
              "ticks": ""
             }
            },
            "type": "scatterpolar"
           }
          ],
          "scatterpolargl": [
           {
            "marker": {
             "colorbar": {
              "outlinewidth": 0,
              "ticks": ""
             }
            },
            "type": "scatterpolargl"
           }
          ],
          "scatterternary": [
           {
            "marker": {
             "colorbar": {
              "outlinewidth": 0,
              "ticks": ""
             }
            },
            "type": "scatterternary"
           }
          ],
          "surface": [
           {
            "colorbar": {
             "outlinewidth": 0,
             "ticks": ""
            },
            "colorscale": [
             [
              0,
              "#0d0887"
             ],
             [
              0.1111111111111111,
              "#46039f"
             ],
             [
              0.2222222222222222,
              "#7201a8"
             ],
             [
              0.3333333333333333,
              "#9c179e"
             ],
             [
              0.4444444444444444,
              "#bd3786"
             ],
             [
              0.5555555555555556,
              "#d8576b"
             ],
             [
              0.6666666666666666,
              "#ed7953"
             ],
             [
              0.7777777777777778,
              "#fb9f3a"
             ],
             [
              0.8888888888888888,
              "#fdca26"
             ],
             [
              1,
              "#f0f921"
             ]
            ],
            "type": "surface"
           }
          ],
          "table": [
           {
            "cells": {
             "fill": {
              "color": "#EBF0F8"
             },
             "line": {
              "color": "white"
             }
            },
            "header": {
             "fill": {
              "color": "#C8D4E3"
             },
             "line": {
              "color": "white"
             }
            },
            "type": "table"
           }
          ]
         },
         "layout": {
          "annotationdefaults": {
           "arrowcolor": "#2a3f5f",
           "arrowhead": 0,
           "arrowwidth": 1
          },
          "colorscale": {
           "diverging": [
            [
             0,
             "#8e0152"
            ],
            [
             0.1,
             "#c51b7d"
            ],
            [
             0.2,
             "#de77ae"
            ],
            [
             0.3,
             "#f1b6da"
            ],
            [
             0.4,
             "#fde0ef"
            ],
            [
             0.5,
             "#f7f7f7"
            ],
            [
             0.6,
             "#e6f5d0"
            ],
            [
             0.7,
             "#b8e186"
            ],
            [
             0.8,
             "#7fbc41"
            ],
            [
             0.9,
             "#4d9221"
            ],
            [
             1,
             "#276419"
            ]
           ],
           "sequential": [
            [
             0,
             "#0d0887"
            ],
            [
             0.1111111111111111,
             "#46039f"
            ],
            [
             0.2222222222222222,
             "#7201a8"
            ],
            [
             0.3333333333333333,
             "#9c179e"
            ],
            [
             0.4444444444444444,
             "#bd3786"
            ],
            [
             0.5555555555555556,
             "#d8576b"
            ],
            [
             0.6666666666666666,
             "#ed7953"
            ],
            [
             0.7777777777777778,
             "#fb9f3a"
            ],
            [
             0.8888888888888888,
             "#fdca26"
            ],
            [
             1,
             "#f0f921"
            ]
           ],
           "sequentialminus": [
            [
             0,
             "#0d0887"
            ],
            [
             0.1111111111111111,
             "#46039f"
            ],
            [
             0.2222222222222222,
             "#7201a8"
            ],
            [
             0.3333333333333333,
             "#9c179e"
            ],
            [
             0.4444444444444444,
             "#bd3786"
            ],
            [
             0.5555555555555556,
             "#d8576b"
            ],
            [
             0.6666666666666666,
             "#ed7953"
            ],
            [
             0.7777777777777778,
             "#fb9f3a"
            ],
            [
             0.8888888888888888,
             "#fdca26"
            ],
            [
             1,
             "#f0f921"
            ]
           ]
          },
          "colorway": [
           "#636efa",
           "#EF553B",
           "#00cc96",
           "#ab63fa",
           "#FFA15A",
           "#19d3f3",
           "#FF6692",
           "#B6E880",
           "#FF97FF",
           "#FECB52"
          ],
          "font": {
           "color": "#2a3f5f"
          },
          "geo": {
           "bgcolor": "white",
           "lakecolor": "white",
           "landcolor": "#E5ECF6",
           "showlakes": true,
           "showland": true,
           "subunitcolor": "white"
          },
          "hoverlabel": {
           "align": "left"
          },
          "hovermode": "closest",
          "mapbox": {
           "style": "light"
          },
          "paper_bgcolor": "white",
          "plot_bgcolor": "#E5ECF6",
          "polar": {
           "angularaxis": {
            "gridcolor": "white",
            "linecolor": "white",
            "ticks": ""
           },
           "bgcolor": "#E5ECF6",
           "radialaxis": {
            "gridcolor": "white",
            "linecolor": "white",
            "ticks": ""
           }
          },
          "scene": {
           "xaxis": {
            "backgroundcolor": "#E5ECF6",
            "gridcolor": "white",
            "gridwidth": 2,
            "linecolor": "white",
            "showbackground": true,
            "ticks": "",
            "zerolinecolor": "white"
           },
           "yaxis": {
            "backgroundcolor": "#E5ECF6",
            "gridcolor": "white",
            "gridwidth": 2,
            "linecolor": "white",
            "showbackground": true,
            "ticks": "",
            "zerolinecolor": "white"
           },
           "zaxis": {
            "backgroundcolor": "#E5ECF6",
            "gridcolor": "white",
            "gridwidth": 2,
            "linecolor": "white",
            "showbackground": true,
            "ticks": "",
            "zerolinecolor": "white"
           }
          },
          "shapedefaults": {
           "line": {
            "color": "#2a3f5f"
           }
          },
          "ternary": {
           "aaxis": {
            "gridcolor": "white",
            "linecolor": "white",
            "ticks": ""
           },
           "baxis": {
            "gridcolor": "white",
            "linecolor": "white",
            "ticks": ""
           },
           "bgcolor": "#E5ECF6",
           "caxis": {
            "gridcolor": "white",
            "linecolor": "white",
            "ticks": ""
           }
          },
          "title": {
           "x": 0.05
          },
          "xaxis": {
           "automargin": true,
           "gridcolor": "white",
           "linecolor": "white",
           "ticks": "",
           "zerolinecolor": "white",
           "zerolinewidth": 2
          },
          "yaxis": {
           "automargin": true,
           "gridcolor": "white",
           "linecolor": "white",
           "ticks": "",
           "zerolinecolor": "white",
           "zerolinewidth": 2
          }
         }
        },
        "title": {
         "text": "Median Age vs. Median Household Income"
        },
        "xaxis": {
         "anchor": "y",
         "domain": [
          0,
          0.37
         ]
        },
        "xaxis2": {
         "anchor": "y3",
         "domain": [
          0.5700000000000001,
          0.9400000000000001
         ]
        },
        "xaxis3": {
         "anchor": "y5",
         "domain": [
          0,
          0.37
         ],
         "title": {
          "text": "Year"
         }
        },
        "xaxis4": {
         "anchor": "y7",
         "domain": [
          0.5700000000000001,
          0.9400000000000001
         ],
         "showgrid": false,
         "title": {
          "text": "Year"
         }
        },
        "yaxis": {
         "anchor": "x",
         "domain": [
          0.625,
          1
         ],
         "range": [
          30,
          38
         ],
         "showgrid": false,
         "title": {
          "text": "<b>Age</b> (years)"
         }
        },
        "yaxis2": {
         "anchor": "x",
         "overlaying": "y",
         "side": "right"
        },
        "yaxis3": {
         "anchor": "x2",
         "domain": [
          0.625,
          1
         ],
         "range": [
          30,
          38
         ],
         "showgrid": false
        },
        "yaxis4": {
         "anchor": "x2",
         "overlaying": "y3",
         "side": "right",
         "title": {
          "text": "<b>Income</b> ($)"
         }
        },
        "yaxis5": {
         "anchor": "x3",
         "domain": [
          0,
          0.375
         ],
         "range": [
          30,
          38
         ],
         "showgrid": false,
         "title": {
          "text": "<b>Age</b> (years)"
         }
        },
        "yaxis6": {
         "anchor": "x3",
         "overlaying": "y5",
         "side": "right"
        },
        "yaxis7": {
         "anchor": "x4",
         "domain": [
          0,
          0.375
         ],
         "range": [
          30,
          38
         ],
         "showgrid": false
        },
        "yaxis8": {
         "anchor": "x4",
         "overlaying": "y7",
         "side": "right",
         "title": {
          "text": "<b>Income</b> ($)"
         }
        }
       }
      },
      "text/html": [
       "<div>\n",
       "        \n",
       "        \n",
       "            <div id=\"77fdfdf6-9f86-4e7e-91f1-dd2108355a67\" class=\"plotly-graph-div\" style=\"height:525px; width:100%;\"></div>\n",
       "            <script type=\"text/javascript\">\n",
       "                require([\"plotly\"], function(Plotly) {\n",
       "                    window.PLOTLYENV=window.PLOTLYENV || {};\n",
       "                    \n",
       "                if (document.getElementById(\"77fdfdf6-9f86-4e7e-91f1-dd2108355a67\")) {\n",
       "                    Plotly.newPlot(\n",
       "                        '77fdfdf6-9f86-4e7e-91f1-dd2108355a67',\n",
       "                        [{\"name\": \"Age\", \"type\": \"bar\", \"x\": [2012, 2013, 2014, 2015, 2016, 2017], \"xaxis\": \"x\", \"y\": [32.9, 30.8, 31.2, 32.7, 33.0, 34.1], \"yaxis\": \"y\"}, {\"name\": \"Income\", \"type\": \"scatter\", \"x\": [2012, 2013, 2014, 2015, 2016, 2017], \"xaxis\": \"x\", \"y\": [37664.0, 36412.0, 40647.0, 39039.0, 46267.0, 59575.0], \"yaxis\": \"y2\"}, {\"name\": \"Age\", \"type\": \"bar\", \"x\": [2012, 2013, 2014, 2015, 2016, 2017], \"xaxis\": \"x2\", \"y\": [34.6, 34.6, 34.3, 33.5, 33.6, 33.8], \"yaxis\": \"y3\"}, {\"name\": \"Income\", \"type\": \"scatter\", \"x\": [2012, 2013, 2014, 2015, 2016, 2017], \"xaxis\": \"x2\", \"y\": [90860.0, 98725.0, 106044.0, 107580.0, 113361.0, 121458.0], \"yaxis\": \"y4\"}, {\"name\": \"Age\", \"type\": \"bar\", \"x\": [2012, 2013, 2014, 2015, 2016, 2017], \"xaxis\": \"x4\", \"y\": [37.1, 35.9, 35.5, 35.5, 35.5, 34.9], \"yaxis\": \"y7\"}, {\"name\": \"Income\", \"type\": \"scatter\", \"x\": [2012, 2013, 2014, 2015, 2016, 2017], \"xaxis\": \"x4\", \"y\": [65457.0, 70293.0, 77512.0, 82058.0, 88248.0, 97690.0], \"yaxis\": \"y8\"}, {\"name\": \" Age\", \"type\": \"bar\", \"x\": [2012, 2013, 2014, 2015, 2016, 2017], \"xaxis\": \"x3\", \"y\": [32.8, 33.5, 33.1, 35.3, 35.9, 35.2], \"yaxis\": \"y5\"}, {\"name\": \"Income\", \"type\": \"scatter\", \"x\": [2012, 2013, 2014, 2015, 2016, 2017], \"xaxis\": \"x3\", \"y\": [20200.0, 20024.0, 21335.0, 22242.0, 25354.0, 26644.0], \"yaxis\": \"y6\"}],\n",
       "                        {\"annotations\": [{\"font\": {\"size\": 16}, \"showarrow\": false, \"text\": \"77003\", \"x\": 0.185, \"xanchor\": \"center\", \"xref\": \"paper\", \"y\": 1.0, \"yanchor\": \"bottom\", \"yref\": \"paper\"}, {\"font\": {\"size\": 16}, \"showarrow\": false, \"text\": \"77007\", \"x\": 0.7550000000000001, \"xanchor\": \"center\", \"xref\": \"paper\", \"y\": 1.0, \"yanchor\": \"bottom\", \"yref\": \"paper\"}, {\"font\": {\"size\": 16}, \"showarrow\": false, \"text\": \"77026\", \"x\": 0.185, \"xanchor\": \"center\", \"xref\": \"paper\", \"y\": 0.375, \"yanchor\": \"bottom\", \"yref\": \"paper\"}, {\"font\": {\"size\": 16}, \"showarrow\": false, \"text\": \"77008\", \"x\": 0.7550000000000001, \"xanchor\": \"center\", \"xref\": \"paper\", \"y\": 0.375, \"yanchor\": \"bottom\", \"yref\": \"paper\"}], \"template\": {\"data\": {\"bar\": [{\"error_x\": {\"color\": \"#2a3f5f\"}, \"error_y\": {\"color\": \"#2a3f5f\"}, \"marker\": {\"line\": {\"color\": \"#E5ECF6\", \"width\": 0.5}}, \"type\": \"bar\"}], \"barpolar\": [{\"marker\": {\"line\": {\"color\": \"#E5ECF6\", \"width\": 0.5}}, \"type\": \"barpolar\"}], \"carpet\": [{\"aaxis\": {\"endlinecolor\": \"#2a3f5f\", \"gridcolor\": \"white\", \"linecolor\": \"white\", \"minorgridcolor\": \"white\", \"startlinecolor\": \"#2a3f5f\"}, \"baxis\": {\"endlinecolor\": \"#2a3f5f\", \"gridcolor\": \"white\", \"linecolor\": \"white\", \"minorgridcolor\": \"white\", \"startlinecolor\": \"#2a3f5f\"}, \"type\": \"carpet\"}], \"choropleth\": [{\"colorbar\": {\"outlinewidth\": 0, \"ticks\": \"\"}, \"type\": \"choropleth\"}], \"contour\": [{\"colorbar\": {\"outlinewidth\": 0, \"ticks\": \"\"}, \"colorscale\": [[0.0, \"#0d0887\"], [0.1111111111111111, \"#46039f\"], [0.2222222222222222, \"#7201a8\"], [0.3333333333333333, \"#9c179e\"], [0.4444444444444444, \"#bd3786\"], [0.5555555555555556, \"#d8576b\"], [0.6666666666666666, \"#ed7953\"], [0.7777777777777778, \"#fb9f3a\"], [0.8888888888888888, \"#fdca26\"], [1.0, \"#f0f921\"]], \"type\": \"contour\"}], \"contourcarpet\": [{\"colorbar\": {\"outlinewidth\": 0, \"ticks\": \"\"}, \"type\": \"contourcarpet\"}], \"heatmap\": [{\"colorbar\": {\"outlinewidth\": 0, \"ticks\": \"\"}, \"colorscale\": [[0.0, \"#0d0887\"], [0.1111111111111111, \"#46039f\"], [0.2222222222222222, \"#7201a8\"], [0.3333333333333333, \"#9c179e\"], [0.4444444444444444, \"#bd3786\"], [0.5555555555555556, \"#d8576b\"], [0.6666666666666666, \"#ed7953\"], [0.7777777777777778, \"#fb9f3a\"], [0.8888888888888888, \"#fdca26\"], [1.0, \"#f0f921\"]], \"type\": \"heatmap\"}], \"heatmapgl\": [{\"colorbar\": {\"outlinewidth\": 0, \"ticks\": \"\"}, \"colorscale\": [[0.0, \"#0d0887\"], [0.1111111111111111, \"#46039f\"], [0.2222222222222222, \"#7201a8\"], [0.3333333333333333, \"#9c179e\"], [0.4444444444444444, \"#bd3786\"], [0.5555555555555556, \"#d8576b\"], [0.6666666666666666, \"#ed7953\"], [0.7777777777777778, \"#fb9f3a\"], [0.8888888888888888, \"#fdca26\"], [1.0, \"#f0f921\"]], \"type\": \"heatmapgl\"}], \"histogram\": [{\"marker\": {\"colorbar\": {\"outlinewidth\": 0, \"ticks\": \"\"}}, \"type\": \"histogram\"}], \"histogram2d\": [{\"colorbar\": {\"outlinewidth\": 0, \"ticks\": \"\"}, \"colorscale\": [[0.0, \"#0d0887\"], [0.1111111111111111, \"#46039f\"], [0.2222222222222222, \"#7201a8\"], [0.3333333333333333, \"#9c179e\"], [0.4444444444444444, \"#bd3786\"], [0.5555555555555556, \"#d8576b\"], [0.6666666666666666, \"#ed7953\"], [0.7777777777777778, \"#fb9f3a\"], [0.8888888888888888, \"#fdca26\"], [1.0, \"#f0f921\"]], \"type\": \"histogram2d\"}], \"histogram2dcontour\": [{\"colorbar\": {\"outlinewidth\": 0, \"ticks\": \"\"}, \"colorscale\": [[0.0, \"#0d0887\"], [0.1111111111111111, \"#46039f\"], [0.2222222222222222, \"#7201a8\"], [0.3333333333333333, \"#9c179e\"], [0.4444444444444444, \"#bd3786\"], [0.5555555555555556, \"#d8576b\"], [0.6666666666666666, \"#ed7953\"], [0.7777777777777778, \"#fb9f3a\"], [0.8888888888888888, \"#fdca26\"], [1.0, \"#f0f921\"]], \"type\": \"histogram2dcontour\"}], \"mesh3d\": [{\"colorbar\": {\"outlinewidth\": 0, \"ticks\": \"\"}, \"type\": \"mesh3d\"}], \"parcoords\": [{\"line\": {\"colorbar\": {\"outlinewidth\": 0, \"ticks\": \"\"}}, \"type\": \"parcoords\"}], \"scatter\": [{\"marker\": {\"colorbar\": {\"outlinewidth\": 0, \"ticks\": \"\"}}, \"type\": \"scatter\"}], \"scatter3d\": [{\"line\": {\"colorbar\": {\"outlinewidth\": 0, \"ticks\": \"\"}}, \"marker\": {\"colorbar\": {\"outlinewidth\": 0, \"ticks\": \"\"}}, \"type\": \"scatter3d\"}], \"scattercarpet\": [{\"marker\": {\"colorbar\": {\"outlinewidth\": 0, \"ticks\": \"\"}}, \"type\": \"scattercarpet\"}], \"scattergeo\": [{\"marker\": {\"colorbar\": {\"outlinewidth\": 0, \"ticks\": \"\"}}, \"type\": \"scattergeo\"}], \"scattergl\": [{\"marker\": {\"colorbar\": {\"outlinewidth\": 0, \"ticks\": \"\"}}, \"type\": \"scattergl\"}], \"scattermapbox\": [{\"marker\": {\"colorbar\": {\"outlinewidth\": 0, \"ticks\": \"\"}}, \"type\": \"scattermapbox\"}], \"scatterpolar\": [{\"marker\": {\"colorbar\": {\"outlinewidth\": 0, \"ticks\": \"\"}}, \"type\": \"scatterpolar\"}], \"scatterpolargl\": [{\"marker\": {\"colorbar\": {\"outlinewidth\": 0, \"ticks\": \"\"}}, \"type\": \"scatterpolargl\"}], \"scatterternary\": [{\"marker\": {\"colorbar\": {\"outlinewidth\": 0, \"ticks\": \"\"}}, \"type\": \"scatterternary\"}], \"surface\": [{\"colorbar\": {\"outlinewidth\": 0, \"ticks\": \"\"}, \"colorscale\": [[0.0, \"#0d0887\"], [0.1111111111111111, \"#46039f\"], [0.2222222222222222, \"#7201a8\"], [0.3333333333333333, \"#9c179e\"], [0.4444444444444444, \"#bd3786\"], [0.5555555555555556, \"#d8576b\"], [0.6666666666666666, \"#ed7953\"], [0.7777777777777778, \"#fb9f3a\"], [0.8888888888888888, \"#fdca26\"], [1.0, \"#f0f921\"]], \"type\": \"surface\"}], \"table\": [{\"cells\": {\"fill\": {\"color\": \"#EBF0F8\"}, \"line\": {\"color\": \"white\"}}, \"header\": {\"fill\": {\"color\": \"#C8D4E3\"}, \"line\": {\"color\": \"white\"}}, \"type\": \"table\"}]}, \"layout\": {\"annotationdefaults\": {\"arrowcolor\": \"#2a3f5f\", \"arrowhead\": 0, \"arrowwidth\": 1}, \"colorscale\": {\"diverging\": [[0, \"#8e0152\"], [0.1, \"#c51b7d\"], [0.2, \"#de77ae\"], [0.3, \"#f1b6da\"], [0.4, \"#fde0ef\"], [0.5, \"#f7f7f7\"], [0.6, \"#e6f5d0\"], [0.7, \"#b8e186\"], [0.8, \"#7fbc41\"], [0.9, \"#4d9221\"], [1, \"#276419\"]], \"sequential\": [[0.0, \"#0d0887\"], [0.1111111111111111, \"#46039f\"], [0.2222222222222222, \"#7201a8\"], [0.3333333333333333, \"#9c179e\"], [0.4444444444444444, \"#bd3786\"], [0.5555555555555556, \"#d8576b\"], [0.6666666666666666, \"#ed7953\"], [0.7777777777777778, \"#fb9f3a\"], [0.8888888888888888, \"#fdca26\"], [1.0, \"#f0f921\"]], \"sequentialminus\": [[0.0, \"#0d0887\"], [0.1111111111111111, \"#46039f\"], [0.2222222222222222, \"#7201a8\"], [0.3333333333333333, \"#9c179e\"], [0.4444444444444444, \"#bd3786\"], [0.5555555555555556, \"#d8576b\"], [0.6666666666666666, \"#ed7953\"], [0.7777777777777778, \"#fb9f3a\"], [0.8888888888888888, \"#fdca26\"], [1.0, \"#f0f921\"]]}, \"colorway\": [\"#636efa\", \"#EF553B\", \"#00cc96\", \"#ab63fa\", \"#FFA15A\", \"#19d3f3\", \"#FF6692\", \"#B6E880\", \"#FF97FF\", \"#FECB52\"], \"font\": {\"color\": \"#2a3f5f\"}, \"geo\": {\"bgcolor\": \"white\", \"lakecolor\": \"white\", \"landcolor\": \"#E5ECF6\", \"showlakes\": true, \"showland\": true, \"subunitcolor\": \"white\"}, \"hoverlabel\": {\"align\": \"left\"}, \"hovermode\": \"closest\", \"mapbox\": {\"style\": \"light\"}, \"paper_bgcolor\": \"white\", \"plot_bgcolor\": \"#E5ECF6\", \"polar\": {\"angularaxis\": {\"gridcolor\": \"white\", \"linecolor\": \"white\", \"ticks\": \"\"}, \"bgcolor\": \"#E5ECF6\", \"radialaxis\": {\"gridcolor\": \"white\", \"linecolor\": \"white\", \"ticks\": \"\"}}, \"scene\": {\"xaxis\": {\"backgroundcolor\": \"#E5ECF6\", \"gridcolor\": \"white\", \"gridwidth\": 2, \"linecolor\": \"white\", \"showbackground\": true, \"ticks\": \"\", \"zerolinecolor\": \"white\"}, \"yaxis\": {\"backgroundcolor\": \"#E5ECF6\", \"gridcolor\": \"white\", \"gridwidth\": 2, \"linecolor\": \"white\", \"showbackground\": true, \"ticks\": \"\", \"zerolinecolor\": \"white\"}, \"zaxis\": {\"backgroundcolor\": \"#E5ECF6\", \"gridcolor\": \"white\", \"gridwidth\": 2, \"linecolor\": \"white\", \"showbackground\": true, \"ticks\": \"\", \"zerolinecolor\": \"white\"}}, \"shapedefaults\": {\"line\": {\"color\": \"#2a3f5f\"}}, \"ternary\": {\"aaxis\": {\"gridcolor\": \"white\", \"linecolor\": \"white\", \"ticks\": \"\"}, \"baxis\": {\"gridcolor\": \"white\", \"linecolor\": \"white\", \"ticks\": \"\"}, \"bgcolor\": \"#E5ECF6\", \"caxis\": {\"gridcolor\": \"white\", \"linecolor\": \"white\", \"ticks\": \"\"}}, \"title\": {\"x\": 0.05}, \"xaxis\": {\"automargin\": true, \"gridcolor\": \"white\", \"linecolor\": \"white\", \"ticks\": \"\", \"zerolinecolor\": \"white\", \"zerolinewidth\": 2}, \"yaxis\": {\"automargin\": true, \"gridcolor\": \"white\", \"linecolor\": \"white\", \"ticks\": \"\", \"zerolinecolor\": \"white\", \"zerolinewidth\": 2}}}, \"title\": {\"text\": \"Median Age vs. Median Household Income\"}, \"xaxis\": {\"anchor\": \"y\", \"domain\": [0.0, 0.37]}, \"xaxis2\": {\"anchor\": \"y3\", \"domain\": [0.5700000000000001, 0.9400000000000001]}, \"xaxis3\": {\"anchor\": \"y5\", \"domain\": [0.0, 0.37], \"title\": {\"text\": \"Year\"}}, \"xaxis4\": {\"anchor\": \"y7\", \"domain\": [0.5700000000000001, 0.9400000000000001], \"showgrid\": false, \"title\": {\"text\": \"Year\"}}, \"yaxis\": {\"anchor\": \"x\", \"domain\": [0.625, 1.0], \"range\": [30, 38], \"showgrid\": false, \"title\": {\"text\": \"<b>Age</b> (years)\"}}, \"yaxis2\": {\"anchor\": \"x\", \"overlaying\": \"y\", \"side\": \"right\"}, \"yaxis3\": {\"anchor\": \"x2\", \"domain\": [0.625, 1.0], \"range\": [30, 38], \"showgrid\": false}, \"yaxis4\": {\"anchor\": \"x2\", \"overlaying\": \"y3\", \"side\": \"right\", \"title\": {\"text\": \"<b>Income</b> ($)\"}}, \"yaxis5\": {\"anchor\": \"x3\", \"domain\": [0.0, 0.375], \"range\": [30, 38], \"showgrid\": false, \"title\": {\"text\": \"<b>Age</b> (years)\"}}, \"yaxis6\": {\"anchor\": \"x3\", \"overlaying\": \"y5\", \"side\": \"right\"}, \"yaxis7\": {\"anchor\": \"x4\", \"domain\": [0.0, 0.375], \"range\": [30, 38], \"showgrid\": false}, \"yaxis8\": {\"anchor\": \"x4\", \"overlaying\": \"y7\", \"side\": \"right\", \"title\": {\"text\": \"<b>Income</b> ($)\"}}},\n",
       "                        {\"responsive\": true}\n",
       "                    ).then(function(){\n",
       "                            \n",
       "var gd = document.getElementById('77fdfdf6-9f86-4e7e-91f1-dd2108355a67');\n",
       "var x = new MutationObserver(function (mutations, observer) {{\n",
       "        var display = window.getComputedStyle(gd).display;\n",
       "        if (!display || display === 'none') {{\n",
       "            console.log([gd, 'removed!']);\n",
       "            Plotly.purge(gd);\n",
       "            observer.disconnect();\n",
       "        }}\n",
       "}});\n",
       "\n",
       "// Listen for the removal of the full notebook cells\n",
       "var notebookContainer = gd.closest('#notebook-container');\n",
       "if (notebookContainer) {{\n",
       "    x.observe(notebookContainer, {childList: true});\n",
       "}}\n",
       "\n",
       "// Listen for the clearing of the current output cell\n",
       "var outputEl = gd.closest('.output');\n",
       "if (outputEl) {{\n",
       "    x.observe(outputEl, {childList: true});\n",
       "}}\n",
       "\n",
       "                        })\n",
       "                };\n",
       "                });\n",
       "            </script>\n",
       "        </div>"
      ]
     },
     "metadata": {},
     "output_type": "display_data"
    }
   ],
   "source": [
    "fig = make_subplots(rows=2, cols=2,\n",
    "                    specs=[[{\"secondary_y\": True}, {\"secondary_y\": True}],\n",
    "                           [{\"secondary_y\": True}, {\"secondary_y\": True}]],\n",
    "                   subplot_titles=(\"77003\", \"77007\", \"77026\", \"77008\"))\n",
    "\n",
    "# Top left\n",
    "fig.add_trace(\n",
    "    go.Bar(x=df_77003.Year, y=df_77003['Median Age'], name=\"Age\"),\n",
    "    row=1, col=1, secondary_y=False)\n",
    "\n",
    "fig.add_trace(\n",
    "    go.Scatter(x=df_77003.Year, y=df_77003['Household Income'], name=\"Income\"),\n",
    "    row=1, col=1, secondary_y=True)\n",
    "\n",
    "# Top right\n",
    "fig.add_trace(\n",
    "    go.Bar(x=df_77007.Year, y=df_77007['Median Age'], name=\"Age\"),\n",
    "    row=1, col=2, secondary_y=False)\n",
    "\n",
    "fig.add_trace(\n",
    "    go.Scatter(x=df_77007.Year, y=df_77007['Household Income'], name=\"Income\"),\n",
    "    row=1, col=2, secondary_y=True)\n",
    "\n",
    "# Bottom right\n",
    "fig.add_trace(\n",
    "    go.Bar(x=df_77008.Year, y=df_77008['Median Age'], name=\"Age\"),\n",
    "    row=2, col=2, secondary_y=False)\n",
    "\n",
    "fig.add_trace(\n",
    "    go.Scatter(x=df_77008.Year, y=df_77008['Household Income'], name=\"Income\"),\n",
    "    row=2, col=2, secondary_y=True)\n",
    "\n",
    "# Bottom left\n",
    "fig.add_trace(\n",
    "    go.Bar(x=df_77026.Year, y=df_77026['Median Age'], name=\" Age\"),\n",
    "    row=2, col=1, secondary_y=False)\n",
    "\n",
    "fig.add_trace(\n",
    "    go.Scatter(x=df_77026.Year, y=df_77026['Household Income'], name=\"Income\"),\n",
    "    row=2, col=1, secondary_y=True)\n",
    "\n",
    "fig.update_layout(\n",
    "    title_text=\"Median Age vs. Median Household Income\")\n",
    "\n",
    "## Y-axis formatting\n",
    "fig.update_yaxes(range=[30, 38], row=1, col=1,showgrid=False,\n",
    "                 title_text=\"<b>Age</b> (years)\",secondary_y=False)\n",
    "fig.update_yaxes(range=[30, 38], row=1, col=2,showgrid=False,\n",
    "                 secondary_y=False)\n",
    "fig.update_yaxes(row=1, col=2,title_text=\"<b>Income</b> ($)\",\n",
    "                 secondary_y=True)\n",
    "fig.update_yaxes(range=[30, 38],row=2, col=1,showgrid=False,\n",
    "                 title_text=\"<b>Age</b> (years)\", secondary_y=False)\n",
    "fig.update_yaxes(range=[30, 38], row=2, col=2,showgrid=False,\n",
    "                 secondary_y=False)\n",
    "fig.update_yaxes(row=2, col=2,title_text=\"<b>Income</b> ($)\",\n",
    "                 secondary_y=True)\n",
    "## X-axis formatting\n",
    "fig.update_xaxes(title_text=\"Year\", row=2, col=1)\n",
    "fig.update_xaxes(title_text=\"Year\", showgrid=False, row=2, col=2)\n",
    "\n",
    "fig.show()"
   ]
  },
  {
   "cell_type": "code",
   "execution_count": 14,
   "metadata": {},
   "outputs": [
    {
     "data": {
      "application/vnd.plotly.v1+json": {
       "config": {
        "plotlyServerURL": "https://plot.ly"
       },
       "data": [
        {
         "name": "Age",
         "type": "bar",
         "x": [
          2012,
          2013,
          2014,
          2015,
          2016,
          2017
         ],
         "xaxis": "x",
         "y": [
          32.9,
          30.8,
          31.2,
          32.7,
          33,
          34.1
         ],
         "yaxis": "y"
        },
        {
         "name": "Population",
         "type": "scatter",
         "x": [
          2012,
          2013,
          2014,
          2015,
          2016,
          2017
         ],
         "xaxis": "x",
         "y": [
          10215,
          10617,
          10760,
          10438,
          10097,
          9646
         ],
         "yaxis": "y2"
        },
        {
         "name": "Age",
         "type": "bar",
         "x": [
          2012,
          2013,
          2014,
          2015,
          2016,
          2017
         ],
         "xaxis": "x2",
         "y": [
          34.6,
          34.6,
          34.3,
          33.5,
          33.6,
          33.8
         ],
         "yaxis": "y3"
        },
        {
         "name": "Population",
         "type": "scatter",
         "x": [
          2012,
          2013,
          2014,
          2015,
          2016,
          2017
         ],
         "xaxis": "x2",
         "y": [
          29545,
          30868,
          31987,
          33029,
          35185,
          35822
         ],
         "yaxis": "y4"
        },
        {
         "name": "Age",
         "type": "bar",
         "x": [
          2012,
          2013,
          2014,
          2015,
          2016,
          2017
         ],
         "xaxis": "x4",
         "y": [
          37.1,
          35.9,
          35.5,
          35.5,
          35.5,
          34.9
         ],
         "yaxis": "y7"
        },
        {
         "name": "Population",
         "type": "scatter",
         "x": [
          2012,
          2013,
          2014,
          2015,
          2016,
          2017
         ],
         "xaxis": "x4",
         "y": [
          29424,
          30807,
          31418,
          31868,
          32588,
          34491
         ],
         "yaxis": "y8"
        },
        {
         "name": "Age",
         "type": "bar",
         "x": [
          2012,
          2013,
          2014,
          2015,
          2016,
          2017
         ],
         "xaxis": "x3",
         "y": [
          32.8,
          33.5,
          33.1,
          35.3,
          35.9,
          35.2
         ],
         "yaxis": "y5"
        },
        {
         "name": "Population",
         "type": "scatter",
         "x": [
          2012,
          2013,
          2014,
          2015,
          2016,
          2017
         ],
         "xaxis": "x3",
         "y": [
          23963,
          22909,
          23325,
          22485,
          23030,
          22799
         ],
         "yaxis": "y6"
        }
       ],
       "layout": {
        "annotations": [
         {
          "font": {
           "size": 16
          },
          "showarrow": false,
          "text": "77003",
          "x": 0.185,
          "xanchor": "center",
          "xref": "paper",
          "y": 1,
          "yanchor": "bottom",
          "yref": "paper"
         },
         {
          "font": {
           "size": 16
          },
          "showarrow": false,
          "text": "77007",
          "x": 0.7550000000000001,
          "xanchor": "center",
          "xref": "paper",
          "y": 1,
          "yanchor": "bottom",
          "yref": "paper"
         },
         {
          "font": {
           "size": 16
          },
          "showarrow": false,
          "text": "77026",
          "x": 0.185,
          "xanchor": "center",
          "xref": "paper",
          "y": 0.375,
          "yanchor": "bottom",
          "yref": "paper"
         },
         {
          "font": {
           "size": 16
          },
          "showarrow": false,
          "text": "77008",
          "x": 0.7550000000000001,
          "xanchor": "center",
          "xref": "paper",
          "y": 0.375,
          "yanchor": "bottom",
          "yref": "paper"
         }
        ],
        "template": {
         "data": {
          "bar": [
           {
            "error_x": {
             "color": "#2a3f5f"
            },
            "error_y": {
             "color": "#2a3f5f"
            },
            "marker": {
             "line": {
              "color": "#E5ECF6",
              "width": 0.5
             }
            },
            "type": "bar"
           }
          ],
          "barpolar": [
           {
            "marker": {
             "line": {
              "color": "#E5ECF6",
              "width": 0.5
             }
            },
            "type": "barpolar"
           }
          ],
          "carpet": [
           {
            "aaxis": {
             "endlinecolor": "#2a3f5f",
             "gridcolor": "white",
             "linecolor": "white",
             "minorgridcolor": "white",
             "startlinecolor": "#2a3f5f"
            },
            "baxis": {
             "endlinecolor": "#2a3f5f",
             "gridcolor": "white",
             "linecolor": "white",
             "minorgridcolor": "white",
             "startlinecolor": "#2a3f5f"
            },
            "type": "carpet"
           }
          ],
          "choropleth": [
           {
            "colorbar": {
             "outlinewidth": 0,
             "ticks": ""
            },
            "type": "choropleth"
           }
          ],
          "contour": [
           {
            "colorbar": {
             "outlinewidth": 0,
             "ticks": ""
            },
            "colorscale": [
             [
              0,
              "#0d0887"
             ],
             [
              0.1111111111111111,
              "#46039f"
             ],
             [
              0.2222222222222222,
              "#7201a8"
             ],
             [
              0.3333333333333333,
              "#9c179e"
             ],
             [
              0.4444444444444444,
              "#bd3786"
             ],
             [
              0.5555555555555556,
              "#d8576b"
             ],
             [
              0.6666666666666666,
              "#ed7953"
             ],
             [
              0.7777777777777778,
              "#fb9f3a"
             ],
             [
              0.8888888888888888,
              "#fdca26"
             ],
             [
              1,
              "#f0f921"
             ]
            ],
            "type": "contour"
           }
          ],
          "contourcarpet": [
           {
            "colorbar": {
             "outlinewidth": 0,
             "ticks": ""
            },
            "type": "contourcarpet"
           }
          ],
          "heatmap": [
           {
            "colorbar": {
             "outlinewidth": 0,
             "ticks": ""
            },
            "colorscale": [
             [
              0,
              "#0d0887"
             ],
             [
              0.1111111111111111,
              "#46039f"
             ],
             [
              0.2222222222222222,
              "#7201a8"
             ],
             [
              0.3333333333333333,
              "#9c179e"
             ],
             [
              0.4444444444444444,
              "#bd3786"
             ],
             [
              0.5555555555555556,
              "#d8576b"
             ],
             [
              0.6666666666666666,
              "#ed7953"
             ],
             [
              0.7777777777777778,
              "#fb9f3a"
             ],
             [
              0.8888888888888888,
              "#fdca26"
             ],
             [
              1,
              "#f0f921"
             ]
            ],
            "type": "heatmap"
           }
          ],
          "heatmapgl": [
           {
            "colorbar": {
             "outlinewidth": 0,
             "ticks": ""
            },
            "colorscale": [
             [
              0,
              "#0d0887"
             ],
             [
              0.1111111111111111,
              "#46039f"
             ],
             [
              0.2222222222222222,
              "#7201a8"
             ],
             [
              0.3333333333333333,
              "#9c179e"
             ],
             [
              0.4444444444444444,
              "#bd3786"
             ],
             [
              0.5555555555555556,
              "#d8576b"
             ],
             [
              0.6666666666666666,
              "#ed7953"
             ],
             [
              0.7777777777777778,
              "#fb9f3a"
             ],
             [
              0.8888888888888888,
              "#fdca26"
             ],
             [
              1,
              "#f0f921"
             ]
            ],
            "type": "heatmapgl"
           }
          ],
          "histogram": [
           {
            "marker": {
             "colorbar": {
              "outlinewidth": 0,
              "ticks": ""
             }
            },
            "type": "histogram"
           }
          ],
          "histogram2d": [
           {
            "colorbar": {
             "outlinewidth": 0,
             "ticks": ""
            },
            "colorscale": [
             [
              0,
              "#0d0887"
             ],
             [
              0.1111111111111111,
              "#46039f"
             ],
             [
              0.2222222222222222,
              "#7201a8"
             ],
             [
              0.3333333333333333,
              "#9c179e"
             ],
             [
              0.4444444444444444,
              "#bd3786"
             ],
             [
              0.5555555555555556,
              "#d8576b"
             ],
             [
              0.6666666666666666,
              "#ed7953"
             ],
             [
              0.7777777777777778,
              "#fb9f3a"
             ],
             [
              0.8888888888888888,
              "#fdca26"
             ],
             [
              1,
              "#f0f921"
             ]
            ],
            "type": "histogram2d"
           }
          ],
          "histogram2dcontour": [
           {
            "colorbar": {
             "outlinewidth": 0,
             "ticks": ""
            },
            "colorscale": [
             [
              0,
              "#0d0887"
             ],
             [
              0.1111111111111111,
              "#46039f"
             ],
             [
              0.2222222222222222,
              "#7201a8"
             ],
             [
              0.3333333333333333,
              "#9c179e"
             ],
             [
              0.4444444444444444,
              "#bd3786"
             ],
             [
              0.5555555555555556,
              "#d8576b"
             ],
             [
              0.6666666666666666,
              "#ed7953"
             ],
             [
              0.7777777777777778,
              "#fb9f3a"
             ],
             [
              0.8888888888888888,
              "#fdca26"
             ],
             [
              1,
              "#f0f921"
             ]
            ],
            "type": "histogram2dcontour"
           }
          ],
          "mesh3d": [
           {
            "colorbar": {
             "outlinewidth": 0,
             "ticks": ""
            },
            "type": "mesh3d"
           }
          ],
          "parcoords": [
           {
            "line": {
             "colorbar": {
              "outlinewidth": 0,
              "ticks": ""
             }
            },
            "type": "parcoords"
           }
          ],
          "scatter": [
           {
            "marker": {
             "colorbar": {
              "outlinewidth": 0,
              "ticks": ""
             }
            },
            "type": "scatter"
           }
          ],
          "scatter3d": [
           {
            "line": {
             "colorbar": {
              "outlinewidth": 0,
              "ticks": ""
             }
            },
            "marker": {
             "colorbar": {
              "outlinewidth": 0,
              "ticks": ""
             }
            },
            "type": "scatter3d"
           }
          ],
          "scattercarpet": [
           {
            "marker": {
             "colorbar": {
              "outlinewidth": 0,
              "ticks": ""
             }
            },
            "type": "scattercarpet"
           }
          ],
          "scattergeo": [
           {
            "marker": {
             "colorbar": {
              "outlinewidth": 0,
              "ticks": ""
             }
            },
            "type": "scattergeo"
           }
          ],
          "scattergl": [
           {
            "marker": {
             "colorbar": {
              "outlinewidth": 0,
              "ticks": ""
             }
            },
            "type": "scattergl"
           }
          ],
          "scattermapbox": [
           {
            "marker": {
             "colorbar": {
              "outlinewidth": 0,
              "ticks": ""
             }
            },
            "type": "scattermapbox"
           }
          ],
          "scatterpolar": [
           {
            "marker": {
             "colorbar": {
              "outlinewidth": 0,
              "ticks": ""
             }
            },
            "type": "scatterpolar"
           }
          ],
          "scatterpolargl": [
           {
            "marker": {
             "colorbar": {
              "outlinewidth": 0,
              "ticks": ""
             }
            },
            "type": "scatterpolargl"
           }
          ],
          "scatterternary": [
           {
            "marker": {
             "colorbar": {
              "outlinewidth": 0,
              "ticks": ""
             }
            },
            "type": "scatterternary"
           }
          ],
          "surface": [
           {
            "colorbar": {
             "outlinewidth": 0,
             "ticks": ""
            },
            "colorscale": [
             [
              0,
              "#0d0887"
             ],
             [
              0.1111111111111111,
              "#46039f"
             ],
             [
              0.2222222222222222,
              "#7201a8"
             ],
             [
              0.3333333333333333,
              "#9c179e"
             ],
             [
              0.4444444444444444,
              "#bd3786"
             ],
             [
              0.5555555555555556,
              "#d8576b"
             ],
             [
              0.6666666666666666,
              "#ed7953"
             ],
             [
              0.7777777777777778,
              "#fb9f3a"
             ],
             [
              0.8888888888888888,
              "#fdca26"
             ],
             [
              1,
              "#f0f921"
             ]
            ],
            "type": "surface"
           }
          ],
          "table": [
           {
            "cells": {
             "fill": {
              "color": "#EBF0F8"
             },
             "line": {
              "color": "white"
             }
            },
            "header": {
             "fill": {
              "color": "#C8D4E3"
             },
             "line": {
              "color": "white"
             }
            },
            "type": "table"
           }
          ]
         },
         "layout": {
          "annotationdefaults": {
           "arrowcolor": "#2a3f5f",
           "arrowhead": 0,
           "arrowwidth": 1
          },
          "colorscale": {
           "diverging": [
            [
             0,
             "#8e0152"
            ],
            [
             0.1,
             "#c51b7d"
            ],
            [
             0.2,
             "#de77ae"
            ],
            [
             0.3,
             "#f1b6da"
            ],
            [
             0.4,
             "#fde0ef"
            ],
            [
             0.5,
             "#f7f7f7"
            ],
            [
             0.6,
             "#e6f5d0"
            ],
            [
             0.7,
             "#b8e186"
            ],
            [
             0.8,
             "#7fbc41"
            ],
            [
             0.9,
             "#4d9221"
            ],
            [
             1,
             "#276419"
            ]
           ],
           "sequential": [
            [
             0,
             "#0d0887"
            ],
            [
             0.1111111111111111,
             "#46039f"
            ],
            [
             0.2222222222222222,
             "#7201a8"
            ],
            [
             0.3333333333333333,
             "#9c179e"
            ],
            [
             0.4444444444444444,
             "#bd3786"
            ],
            [
             0.5555555555555556,
             "#d8576b"
            ],
            [
             0.6666666666666666,
             "#ed7953"
            ],
            [
             0.7777777777777778,
             "#fb9f3a"
            ],
            [
             0.8888888888888888,
             "#fdca26"
            ],
            [
             1,
             "#f0f921"
            ]
           ],
           "sequentialminus": [
            [
             0,
             "#0d0887"
            ],
            [
             0.1111111111111111,
             "#46039f"
            ],
            [
             0.2222222222222222,
             "#7201a8"
            ],
            [
             0.3333333333333333,
             "#9c179e"
            ],
            [
             0.4444444444444444,
             "#bd3786"
            ],
            [
             0.5555555555555556,
             "#d8576b"
            ],
            [
             0.6666666666666666,
             "#ed7953"
            ],
            [
             0.7777777777777778,
             "#fb9f3a"
            ],
            [
             0.8888888888888888,
             "#fdca26"
            ],
            [
             1,
             "#f0f921"
            ]
           ]
          },
          "colorway": [
           "#636efa",
           "#EF553B",
           "#00cc96",
           "#ab63fa",
           "#FFA15A",
           "#19d3f3",
           "#FF6692",
           "#B6E880",
           "#FF97FF",
           "#FECB52"
          ],
          "font": {
           "color": "#2a3f5f"
          },
          "geo": {
           "bgcolor": "white",
           "lakecolor": "white",
           "landcolor": "#E5ECF6",
           "showlakes": true,
           "showland": true,
           "subunitcolor": "white"
          },
          "hoverlabel": {
           "align": "left"
          },
          "hovermode": "closest",
          "mapbox": {
           "style": "light"
          },
          "paper_bgcolor": "white",
          "plot_bgcolor": "#E5ECF6",
          "polar": {
           "angularaxis": {
            "gridcolor": "white",
            "linecolor": "white",
            "ticks": ""
           },
           "bgcolor": "#E5ECF6",
           "radialaxis": {
            "gridcolor": "white",
            "linecolor": "white",
            "ticks": ""
           }
          },
          "scene": {
           "xaxis": {
            "backgroundcolor": "#E5ECF6",
            "gridcolor": "white",
            "gridwidth": 2,
            "linecolor": "white",
            "showbackground": true,
            "ticks": "",
            "zerolinecolor": "white"
           },
           "yaxis": {
            "backgroundcolor": "#E5ECF6",
            "gridcolor": "white",
            "gridwidth": 2,
            "linecolor": "white",
            "showbackground": true,
            "ticks": "",
            "zerolinecolor": "white"
           },
           "zaxis": {
            "backgroundcolor": "#E5ECF6",
            "gridcolor": "white",
            "gridwidth": 2,
            "linecolor": "white",
            "showbackground": true,
            "ticks": "",
            "zerolinecolor": "white"
           }
          },
          "shapedefaults": {
           "line": {
            "color": "#2a3f5f"
           }
          },
          "ternary": {
           "aaxis": {
            "gridcolor": "white",
            "linecolor": "white",
            "ticks": ""
           },
           "baxis": {
            "gridcolor": "white",
            "linecolor": "white",
            "ticks": ""
           },
           "bgcolor": "#E5ECF6",
           "caxis": {
            "gridcolor": "white",
            "linecolor": "white",
            "ticks": ""
           }
          },
          "title": {
           "x": 0.05
          },
          "xaxis": {
           "automargin": true,
           "gridcolor": "white",
           "linecolor": "white",
           "ticks": "",
           "zerolinecolor": "white",
           "zerolinewidth": 2
          },
          "yaxis": {
           "automargin": true,
           "gridcolor": "white",
           "linecolor": "white",
           "ticks": "",
           "zerolinecolor": "white",
           "zerolinewidth": 2
          }
         }
        },
        "title": {
         "text": "Median Age vs. Population"
        },
        "xaxis": {
         "anchor": "y",
         "domain": [
          0,
          0.37
         ]
        },
        "xaxis2": {
         "anchor": "y3",
         "domain": [
          0.5700000000000001,
          0.9400000000000001
         ]
        },
        "xaxis3": {
         "anchor": "y5",
         "domain": [
          0,
          0.37
         ],
         "title": {
          "text": "Year"
         }
        },
        "xaxis4": {
         "anchor": "y7",
         "domain": [
          0.5700000000000001,
          0.9400000000000001
         ],
         "showgrid": false,
         "title": {
          "text": "Year"
         }
        },
        "yaxis": {
         "anchor": "x",
         "domain": [
          0.625,
          1
         ],
         "range": [
          30,
          38
         ],
         "showgrid": false,
         "title": {
          "text": "<b>Age</b> (years)"
         }
        },
        "yaxis2": {
         "anchor": "x",
         "overlaying": "y",
         "side": "right"
        },
        "yaxis3": {
         "anchor": "x2",
         "domain": [
          0.625,
          1
         ],
         "range": [
          30,
          38
         ],
         "showgrid": false
        },
        "yaxis4": {
         "anchor": "x2",
         "overlaying": "y3",
         "side": "right",
         "title": {
          "text": "<b>Population</b> (people)"
         }
        },
        "yaxis5": {
         "anchor": "x3",
         "domain": [
          0,
          0.375
         ],
         "range": [
          30,
          38
         ],
         "showgrid": false,
         "title": {
          "text": "<b>Age</b> (years)"
         }
        },
        "yaxis6": {
         "anchor": "x3",
         "overlaying": "y5",
         "side": "right"
        },
        "yaxis7": {
         "anchor": "x4",
         "domain": [
          0,
          0.375
         ],
         "range": [
          30,
          38
         ],
         "showgrid": false
        },
        "yaxis8": {
         "anchor": "x4",
         "overlaying": "y7",
         "side": "right",
         "title": {
          "text": "<b>Population</b> (people)"
         }
        }
       }
      },
      "text/html": [
       "<div>\n",
       "        \n",
       "        \n",
       "            <div id=\"7788df2a-d1f1-4dce-93e4-728f77787cb0\" class=\"plotly-graph-div\" style=\"height:525px; width:100%;\"></div>\n",
       "            <script type=\"text/javascript\">\n",
       "                require([\"plotly\"], function(Plotly) {\n",
       "                    window.PLOTLYENV=window.PLOTLYENV || {};\n",
       "                    \n",
       "                if (document.getElementById(\"7788df2a-d1f1-4dce-93e4-728f77787cb0\")) {\n",
       "                    Plotly.newPlot(\n",
       "                        '7788df2a-d1f1-4dce-93e4-728f77787cb0',\n",
       "                        [{\"name\": \"Age\", \"type\": \"bar\", \"x\": [2012, 2013, 2014, 2015, 2016, 2017], \"xaxis\": \"x\", \"y\": [32.9, 30.8, 31.2, 32.7, 33.0, 34.1], \"yaxis\": \"y\"}, {\"name\": \"Population\", \"type\": \"scatter\", \"x\": [2012, 2013, 2014, 2015, 2016, 2017], \"xaxis\": \"x\", \"y\": [10215.0, 10617.0, 10760.0, 10438.0, 10097.0, 9646.0], \"yaxis\": \"y2\"}, {\"name\": \"Age\", \"type\": \"bar\", \"x\": [2012, 2013, 2014, 2015, 2016, 2017], \"xaxis\": \"x2\", \"y\": [34.6, 34.6, 34.3, 33.5, 33.6, 33.8], \"yaxis\": \"y3\"}, {\"name\": \"Population\", \"type\": \"scatter\", \"x\": [2012, 2013, 2014, 2015, 2016, 2017], \"xaxis\": \"x2\", \"y\": [29545.0, 30868.0, 31987.0, 33029.0, 35185.0, 35822.0], \"yaxis\": \"y4\"}, {\"name\": \"Age\", \"type\": \"bar\", \"x\": [2012, 2013, 2014, 2015, 2016, 2017], \"xaxis\": \"x4\", \"y\": [37.1, 35.9, 35.5, 35.5, 35.5, 34.9], \"yaxis\": \"y7\"}, {\"name\": \"Population\", \"type\": \"scatter\", \"x\": [2012, 2013, 2014, 2015, 2016, 2017], \"xaxis\": \"x4\", \"y\": [29424.0, 30807.0, 31418.0, 31868.0, 32588.0, 34491.0], \"yaxis\": \"y8\"}, {\"name\": \"Age\", \"type\": \"bar\", \"x\": [2012, 2013, 2014, 2015, 2016, 2017], \"xaxis\": \"x3\", \"y\": [32.8, 33.5, 33.1, 35.3, 35.9, 35.2], \"yaxis\": \"y5\"}, {\"name\": \"Population\", \"type\": \"scatter\", \"x\": [2012, 2013, 2014, 2015, 2016, 2017], \"xaxis\": \"x3\", \"y\": [23963.0, 22909.0, 23325.0, 22485.0, 23030.0, 22799.0], \"yaxis\": \"y6\"}],\n",
       "                        {\"annotations\": [{\"font\": {\"size\": 16}, \"showarrow\": false, \"text\": \"77003\", \"x\": 0.185, \"xanchor\": \"center\", \"xref\": \"paper\", \"y\": 1.0, \"yanchor\": \"bottom\", \"yref\": \"paper\"}, {\"font\": {\"size\": 16}, \"showarrow\": false, \"text\": \"77007\", \"x\": 0.7550000000000001, \"xanchor\": \"center\", \"xref\": \"paper\", \"y\": 1.0, \"yanchor\": \"bottom\", \"yref\": \"paper\"}, {\"font\": {\"size\": 16}, \"showarrow\": false, \"text\": \"77026\", \"x\": 0.185, \"xanchor\": \"center\", \"xref\": \"paper\", \"y\": 0.375, \"yanchor\": \"bottom\", \"yref\": \"paper\"}, {\"font\": {\"size\": 16}, \"showarrow\": false, \"text\": \"77008\", \"x\": 0.7550000000000001, \"xanchor\": \"center\", \"xref\": \"paper\", \"y\": 0.375, \"yanchor\": \"bottom\", \"yref\": \"paper\"}], \"template\": {\"data\": {\"bar\": [{\"error_x\": {\"color\": \"#2a3f5f\"}, \"error_y\": {\"color\": \"#2a3f5f\"}, \"marker\": {\"line\": {\"color\": \"#E5ECF6\", \"width\": 0.5}}, \"type\": \"bar\"}], \"barpolar\": [{\"marker\": {\"line\": {\"color\": \"#E5ECF6\", \"width\": 0.5}}, \"type\": \"barpolar\"}], \"carpet\": [{\"aaxis\": {\"endlinecolor\": \"#2a3f5f\", \"gridcolor\": \"white\", \"linecolor\": \"white\", \"minorgridcolor\": \"white\", \"startlinecolor\": \"#2a3f5f\"}, \"baxis\": {\"endlinecolor\": \"#2a3f5f\", \"gridcolor\": \"white\", \"linecolor\": \"white\", \"minorgridcolor\": \"white\", \"startlinecolor\": \"#2a3f5f\"}, \"type\": \"carpet\"}], \"choropleth\": [{\"colorbar\": {\"outlinewidth\": 0, \"ticks\": \"\"}, \"type\": \"choropleth\"}], \"contour\": [{\"colorbar\": {\"outlinewidth\": 0, \"ticks\": \"\"}, \"colorscale\": [[0.0, \"#0d0887\"], [0.1111111111111111, \"#46039f\"], [0.2222222222222222, \"#7201a8\"], [0.3333333333333333, \"#9c179e\"], [0.4444444444444444, \"#bd3786\"], [0.5555555555555556, \"#d8576b\"], [0.6666666666666666, \"#ed7953\"], [0.7777777777777778, \"#fb9f3a\"], [0.8888888888888888, \"#fdca26\"], [1.0, \"#f0f921\"]], \"type\": \"contour\"}], \"contourcarpet\": [{\"colorbar\": {\"outlinewidth\": 0, \"ticks\": \"\"}, \"type\": \"contourcarpet\"}], \"heatmap\": [{\"colorbar\": {\"outlinewidth\": 0, \"ticks\": \"\"}, \"colorscale\": [[0.0, \"#0d0887\"], [0.1111111111111111, \"#46039f\"], [0.2222222222222222, \"#7201a8\"], [0.3333333333333333, \"#9c179e\"], [0.4444444444444444, \"#bd3786\"], [0.5555555555555556, \"#d8576b\"], [0.6666666666666666, \"#ed7953\"], [0.7777777777777778, \"#fb9f3a\"], [0.8888888888888888, \"#fdca26\"], [1.0, \"#f0f921\"]], \"type\": \"heatmap\"}], \"heatmapgl\": [{\"colorbar\": {\"outlinewidth\": 0, \"ticks\": \"\"}, \"colorscale\": [[0.0, \"#0d0887\"], [0.1111111111111111, \"#46039f\"], [0.2222222222222222, \"#7201a8\"], [0.3333333333333333, \"#9c179e\"], [0.4444444444444444, \"#bd3786\"], [0.5555555555555556, \"#d8576b\"], [0.6666666666666666, \"#ed7953\"], [0.7777777777777778, \"#fb9f3a\"], [0.8888888888888888, \"#fdca26\"], [1.0, \"#f0f921\"]], \"type\": \"heatmapgl\"}], \"histogram\": [{\"marker\": {\"colorbar\": {\"outlinewidth\": 0, \"ticks\": \"\"}}, \"type\": \"histogram\"}], \"histogram2d\": [{\"colorbar\": {\"outlinewidth\": 0, \"ticks\": \"\"}, \"colorscale\": [[0.0, \"#0d0887\"], [0.1111111111111111, \"#46039f\"], [0.2222222222222222, \"#7201a8\"], [0.3333333333333333, \"#9c179e\"], [0.4444444444444444, \"#bd3786\"], [0.5555555555555556, \"#d8576b\"], [0.6666666666666666, \"#ed7953\"], [0.7777777777777778, \"#fb9f3a\"], [0.8888888888888888, \"#fdca26\"], [1.0, \"#f0f921\"]], \"type\": \"histogram2d\"}], \"histogram2dcontour\": [{\"colorbar\": {\"outlinewidth\": 0, \"ticks\": \"\"}, \"colorscale\": [[0.0, \"#0d0887\"], [0.1111111111111111, \"#46039f\"], [0.2222222222222222, \"#7201a8\"], [0.3333333333333333, \"#9c179e\"], [0.4444444444444444, \"#bd3786\"], [0.5555555555555556, \"#d8576b\"], [0.6666666666666666, \"#ed7953\"], [0.7777777777777778, \"#fb9f3a\"], [0.8888888888888888, \"#fdca26\"], [1.0, \"#f0f921\"]], \"type\": \"histogram2dcontour\"}], \"mesh3d\": [{\"colorbar\": {\"outlinewidth\": 0, \"ticks\": \"\"}, \"type\": \"mesh3d\"}], \"parcoords\": [{\"line\": {\"colorbar\": {\"outlinewidth\": 0, \"ticks\": \"\"}}, \"type\": \"parcoords\"}], \"scatter\": [{\"marker\": {\"colorbar\": {\"outlinewidth\": 0, \"ticks\": \"\"}}, \"type\": \"scatter\"}], \"scatter3d\": [{\"line\": {\"colorbar\": {\"outlinewidth\": 0, \"ticks\": \"\"}}, \"marker\": {\"colorbar\": {\"outlinewidth\": 0, \"ticks\": \"\"}}, \"type\": \"scatter3d\"}], \"scattercarpet\": [{\"marker\": {\"colorbar\": {\"outlinewidth\": 0, \"ticks\": \"\"}}, \"type\": \"scattercarpet\"}], \"scattergeo\": [{\"marker\": {\"colorbar\": {\"outlinewidth\": 0, \"ticks\": \"\"}}, \"type\": \"scattergeo\"}], \"scattergl\": [{\"marker\": {\"colorbar\": {\"outlinewidth\": 0, \"ticks\": \"\"}}, \"type\": \"scattergl\"}], \"scattermapbox\": [{\"marker\": {\"colorbar\": {\"outlinewidth\": 0, \"ticks\": \"\"}}, \"type\": \"scattermapbox\"}], \"scatterpolar\": [{\"marker\": {\"colorbar\": {\"outlinewidth\": 0, \"ticks\": \"\"}}, \"type\": \"scatterpolar\"}], \"scatterpolargl\": [{\"marker\": {\"colorbar\": {\"outlinewidth\": 0, \"ticks\": \"\"}}, \"type\": \"scatterpolargl\"}], \"scatterternary\": [{\"marker\": {\"colorbar\": {\"outlinewidth\": 0, \"ticks\": \"\"}}, \"type\": \"scatterternary\"}], \"surface\": [{\"colorbar\": {\"outlinewidth\": 0, \"ticks\": \"\"}, \"colorscale\": [[0.0, \"#0d0887\"], [0.1111111111111111, \"#46039f\"], [0.2222222222222222, \"#7201a8\"], [0.3333333333333333, \"#9c179e\"], [0.4444444444444444, \"#bd3786\"], [0.5555555555555556, \"#d8576b\"], [0.6666666666666666, \"#ed7953\"], [0.7777777777777778, \"#fb9f3a\"], [0.8888888888888888, \"#fdca26\"], [1.0, \"#f0f921\"]], \"type\": \"surface\"}], \"table\": [{\"cells\": {\"fill\": {\"color\": \"#EBF0F8\"}, \"line\": {\"color\": \"white\"}}, \"header\": {\"fill\": {\"color\": \"#C8D4E3\"}, \"line\": {\"color\": \"white\"}}, \"type\": \"table\"}]}, \"layout\": {\"annotationdefaults\": {\"arrowcolor\": \"#2a3f5f\", \"arrowhead\": 0, \"arrowwidth\": 1}, \"colorscale\": {\"diverging\": [[0, \"#8e0152\"], [0.1, \"#c51b7d\"], [0.2, \"#de77ae\"], [0.3, \"#f1b6da\"], [0.4, \"#fde0ef\"], [0.5, \"#f7f7f7\"], [0.6, \"#e6f5d0\"], [0.7, \"#b8e186\"], [0.8, \"#7fbc41\"], [0.9, \"#4d9221\"], [1, \"#276419\"]], \"sequential\": [[0.0, \"#0d0887\"], [0.1111111111111111, \"#46039f\"], [0.2222222222222222, \"#7201a8\"], [0.3333333333333333, \"#9c179e\"], [0.4444444444444444, \"#bd3786\"], [0.5555555555555556, \"#d8576b\"], [0.6666666666666666, \"#ed7953\"], [0.7777777777777778, \"#fb9f3a\"], [0.8888888888888888, \"#fdca26\"], [1.0, \"#f0f921\"]], \"sequentialminus\": [[0.0, \"#0d0887\"], [0.1111111111111111, \"#46039f\"], [0.2222222222222222, \"#7201a8\"], [0.3333333333333333, \"#9c179e\"], [0.4444444444444444, \"#bd3786\"], [0.5555555555555556, \"#d8576b\"], [0.6666666666666666, \"#ed7953\"], [0.7777777777777778, \"#fb9f3a\"], [0.8888888888888888, \"#fdca26\"], [1.0, \"#f0f921\"]]}, \"colorway\": [\"#636efa\", \"#EF553B\", \"#00cc96\", \"#ab63fa\", \"#FFA15A\", \"#19d3f3\", \"#FF6692\", \"#B6E880\", \"#FF97FF\", \"#FECB52\"], \"font\": {\"color\": \"#2a3f5f\"}, \"geo\": {\"bgcolor\": \"white\", \"lakecolor\": \"white\", \"landcolor\": \"#E5ECF6\", \"showlakes\": true, \"showland\": true, \"subunitcolor\": \"white\"}, \"hoverlabel\": {\"align\": \"left\"}, \"hovermode\": \"closest\", \"mapbox\": {\"style\": \"light\"}, \"paper_bgcolor\": \"white\", \"plot_bgcolor\": \"#E5ECF6\", \"polar\": {\"angularaxis\": {\"gridcolor\": \"white\", \"linecolor\": \"white\", \"ticks\": \"\"}, \"bgcolor\": \"#E5ECF6\", \"radialaxis\": {\"gridcolor\": \"white\", \"linecolor\": \"white\", \"ticks\": \"\"}}, \"scene\": {\"xaxis\": {\"backgroundcolor\": \"#E5ECF6\", \"gridcolor\": \"white\", \"gridwidth\": 2, \"linecolor\": \"white\", \"showbackground\": true, \"ticks\": \"\", \"zerolinecolor\": \"white\"}, \"yaxis\": {\"backgroundcolor\": \"#E5ECF6\", \"gridcolor\": \"white\", \"gridwidth\": 2, \"linecolor\": \"white\", \"showbackground\": true, \"ticks\": \"\", \"zerolinecolor\": \"white\"}, \"zaxis\": {\"backgroundcolor\": \"#E5ECF6\", \"gridcolor\": \"white\", \"gridwidth\": 2, \"linecolor\": \"white\", \"showbackground\": true, \"ticks\": \"\", \"zerolinecolor\": \"white\"}}, \"shapedefaults\": {\"line\": {\"color\": \"#2a3f5f\"}}, \"ternary\": {\"aaxis\": {\"gridcolor\": \"white\", \"linecolor\": \"white\", \"ticks\": \"\"}, \"baxis\": {\"gridcolor\": \"white\", \"linecolor\": \"white\", \"ticks\": \"\"}, \"bgcolor\": \"#E5ECF6\", \"caxis\": {\"gridcolor\": \"white\", \"linecolor\": \"white\", \"ticks\": \"\"}}, \"title\": {\"x\": 0.05}, \"xaxis\": {\"automargin\": true, \"gridcolor\": \"white\", \"linecolor\": \"white\", \"ticks\": \"\", \"zerolinecolor\": \"white\", \"zerolinewidth\": 2}, \"yaxis\": {\"automargin\": true, \"gridcolor\": \"white\", \"linecolor\": \"white\", \"ticks\": \"\", \"zerolinecolor\": \"white\", \"zerolinewidth\": 2}}}, \"title\": {\"text\": \"Median Age vs. Population\"}, \"xaxis\": {\"anchor\": \"y\", \"domain\": [0.0, 0.37]}, \"xaxis2\": {\"anchor\": \"y3\", \"domain\": [0.5700000000000001, 0.9400000000000001]}, \"xaxis3\": {\"anchor\": \"y5\", \"domain\": [0.0, 0.37], \"title\": {\"text\": \"Year\"}}, \"xaxis4\": {\"anchor\": \"y7\", \"domain\": [0.5700000000000001, 0.9400000000000001], \"showgrid\": false, \"title\": {\"text\": \"Year\"}}, \"yaxis\": {\"anchor\": \"x\", \"domain\": [0.625, 1.0], \"range\": [30, 38], \"showgrid\": false, \"title\": {\"text\": \"<b>Age</b> (years)\"}}, \"yaxis2\": {\"anchor\": \"x\", \"overlaying\": \"y\", \"side\": \"right\"}, \"yaxis3\": {\"anchor\": \"x2\", \"domain\": [0.625, 1.0], \"range\": [30, 38], \"showgrid\": false}, \"yaxis4\": {\"anchor\": \"x2\", \"overlaying\": \"y3\", \"side\": \"right\", \"title\": {\"text\": \"<b>Population</b> (people)\"}}, \"yaxis5\": {\"anchor\": \"x3\", \"domain\": [0.0, 0.375], \"range\": [30, 38], \"showgrid\": false, \"title\": {\"text\": \"<b>Age</b> (years)\"}}, \"yaxis6\": {\"anchor\": \"x3\", \"overlaying\": \"y5\", \"side\": \"right\"}, \"yaxis7\": {\"anchor\": \"x4\", \"domain\": [0.0, 0.375], \"range\": [30, 38], \"showgrid\": false}, \"yaxis8\": {\"anchor\": \"x4\", \"overlaying\": \"y7\", \"side\": \"right\", \"title\": {\"text\": \"<b>Population</b> (people)\"}}},\n",
       "                        {\"responsive\": true}\n",
       "                    ).then(function(){\n",
       "                            \n",
       "var gd = document.getElementById('7788df2a-d1f1-4dce-93e4-728f77787cb0');\n",
       "var x = new MutationObserver(function (mutations, observer) {{\n",
       "        var display = window.getComputedStyle(gd).display;\n",
       "        if (!display || display === 'none') {{\n",
       "            console.log([gd, 'removed!']);\n",
       "            Plotly.purge(gd);\n",
       "            observer.disconnect();\n",
       "        }}\n",
       "}});\n",
       "\n",
       "// Listen for the removal of the full notebook cells\n",
       "var notebookContainer = gd.closest('#notebook-container');\n",
       "if (notebookContainer) {{\n",
       "    x.observe(notebookContainer, {childList: true});\n",
       "}}\n",
       "\n",
       "// Listen for the clearing of the current output cell\n",
       "var outputEl = gd.closest('.output');\n",
       "if (outputEl) {{\n",
       "    x.observe(outputEl, {childList: true});\n",
       "}}\n",
       "\n",
       "                        })\n",
       "                };\n",
       "                });\n",
       "            </script>\n",
       "        </div>"
      ]
     },
     "metadata": {},
     "output_type": "display_data"
    }
   ],
   "source": [
    "fig = make_subplots(rows=2, cols=2,\n",
    "                    specs=[[{\"secondary_y\": True}, {\"secondary_y\": True}],\n",
    "                           [{\"secondary_y\": True}, {\"secondary_y\": True}]],\n",
    "                   subplot_titles=(\"77003\", \"77007\", \"77026\", \"77008\"))\n",
    "\n",
    "# Top left\n",
    "fig.add_trace(\n",
    "    go.Bar(x=df_77003.Year, y=df_77003['Median Age'],name=\"Age\"),\n",
    "    row=1, col=1, secondary_y=False)\n",
    "\n",
    "fig.add_trace(\n",
    "    go.Scatter(x=df_77003.Year, y=df_77003['Population'], name=\"Population\"),\n",
    "    row=1, col=1, secondary_y=True)\n",
    "\n",
    "# Top right\n",
    "fig.add_trace(\n",
    "    go.Bar(x=df_77007.Year, y=df_77007['Median Age'], name=\"Age\"),\n",
    "    row=1, col=2, secondary_y=False)\n",
    "\n",
    "fig.add_trace(\n",
    "    go.Scatter(x=df_77007.Year, y=df_77007['Population'], name=\"Population\"),\n",
    "    row=1, col=2, secondary_y=True)\n",
    "\n",
    "# Bottom right\n",
    "fig.add_trace(\n",
    "    go.Bar(x=df_77008.Year, y=df_77008['Median Age'], name=\"Age\"),\n",
    "    row=2, col=2, secondary_y=False)\n",
    "\n",
    "fig.add_trace(\n",
    "    go.Scatter(x=df_77008.Year, y=df_77008['Population'], name=\"Population\"),\n",
    "    row=2, col=2, secondary_y=True)\n",
    "\n",
    "# Bottom left\n",
    "fig.add_trace(\n",
    "    go.Bar(x=df_77026.Year, y=df_77026['Median Age'], name=\"Age\"),\n",
    "    row=2, col=1, secondary_y=False)\n",
    "\n",
    "fig.add_trace(\n",
    "    go.Scatter(x=df_77026.Year, y=df_77026['Population'], name=\"Population\"),\n",
    "    row=2, col=1, secondary_y=True)\n",
    "\n",
    "fig.update_layout(\n",
    "    title_text=\"Median Age vs. Population\")\n",
    "\n",
    "## Y-axis formatting\n",
    "fig.update_yaxes(range=[30, 38], row=1, col=1,showgrid=False,\n",
    "                 title_text=\"<b>Age</b> (years)\",secondary_y=False)\n",
    "fig.update_yaxes(range=[30, 38], row=1, col=2,showgrid=False,\n",
    "                 secondary_y=False)\n",
    "fig.update_yaxes(row=1, col=2,title_text=\"<b>Population</b> (people)\",\n",
    "                 secondary_y=True)\n",
    "fig.update_yaxes(range=[30, 38],row=2, col=1,showgrid=False,\n",
    "                 title_text=\"<b>Age</b> (years)\", secondary_y=False)\n",
    "fig.update_yaxes(range=[30, 38], row=2, col=2,showgrid=False,\n",
    "                 secondary_y=False)\n",
    "fig.update_yaxes(row=2, col=2,title_text=\"<b>Population</b> (people)\",\n",
    "                 secondary_y=True)\n",
    "## X-axis formatting\n",
    "fig.update_xaxes(title_text=\"Year\", row=2, col=1)\n",
    "fig.update_xaxes(title_text=\"Year\", showgrid=False, row=2, col=2)\n",
    "\n",
    "fig.show()"
   ]
  },
  {
   "cell_type": "code",
   "execution_count": 15,
   "metadata": {},
   "outputs": [],
   "source": [
    "## DATA FRAME BY YEAR\n",
    "yr2012 = file_one_df_edit[file_one_df_edit[\"Year\"] ==2012]\n",
    "yr2017 = file_one_df_edit[file_one_df_edit[\"Year\"]==2017]"
   ]
  },
  {
   "cell_type": "code",
   "execution_count": 36,
   "metadata": {},
   "outputs": [
    {
     "data": {
      "application/vnd.plotly.v1+json": {
       "config": {
        "plotlyServerURL": "https://plot.ly"
       },
       "data": [
        {
         "name": "Latinx",
         "type": "bar",
         "x": [
          "ZC: 77010",
          "ZC: 77003",
          "ZC: 77030",
          "ZC: 77002",
          "ZC: 77027",
          "ZC: 77011",
          "ZC: 77019",
          "ZC: 77006",
          "ZC: 77012",
          "ZC: 77026",
          "ZC: 77021",
          "ZC: 77005",
          "ZC: 77025",
          "ZC: 77020",
          "ZC: 77008",
          "ZC: 77007",
          "ZC: 77004",
          "ZC: 77023",
          "ZC: 77009"
         ],
         "y": [
          62,
          5351,
          1086,
          3175,
          2387,
          18058,
          2788,
          3816,
          19911,
          9040,
          4450,
          2076,
          4673,
          17583,
          9830,
          8334,
          3358,
          26405,
          26147
         ]
        },
        {
         "name": "Black",
         "type": "bar",
         "x": [
          "ZC: 77010",
          "ZC: 77003",
          "ZC: 77030",
          "ZC: 77002",
          "ZC: 77027",
          "ZC: 77011",
          "ZC: 77019",
          "ZC: 77006",
          "ZC: 77012",
          "ZC: 77026",
          "ZC: 77021",
          "ZC: 77005",
          "ZC: 77025",
          "ZC: 77020",
          "ZC: 77008",
          "ZC: 77007",
          "ZC: 77004",
          "ZC: 77023",
          "ZC: 77009"
         ],
         "y": [
          8,
          2063,
          478,
          4002,
          685,
          341,
          1759,
          695,
          596,
          14300,
          19145,
          746,
          3455,
          7183,
          1022,
          1280,
          16520,
          476,
          2985
         ]
        },
        {
         "name": "AmIndian",
         "type": "bar",
         "x": [
          "ZC: 77010",
          "ZC: 77003",
          "ZC: 77030",
          "ZC: 77002",
          "ZC: 77027",
          "ZC: 77011",
          "ZC: 77019",
          "ZC: 77006",
          "ZC: 77012",
          "ZC: 77026",
          "ZC: 77021",
          "ZC: 77005",
          "ZC: 77025",
          "ZC: 77020",
          "ZC: 77008",
          "ZC: 77007",
          "ZC: 77004",
          "ZC: 77023",
          "ZC: 77009"
         ],
         "y": [
          0,
          0,
          67,
          6,
          0,
          59,
          0,
          38,
          20,
          15,
          14,
          25,
          24,
          61,
          66,
          19,
          10,
          8,
          89
         ]
        },
        {
         "name": "Asian",
         "type": "bar",
         "x": [
          "ZC: 77010",
          "ZC: 77003",
          "ZC: 77030",
          "ZC: 77002",
          "ZC: 77027",
          "ZC: 77011",
          "ZC: 77019",
          "ZC: 77006",
          "ZC: 77012",
          "ZC: 77026",
          "ZC: 77021",
          "ZC: 77005",
          "ZC: 77025",
          "ZC: 77020",
          "ZC: 77008",
          "ZC: 77007",
          "ZC: 77004",
          "ZC: 77023",
          "ZC: 77009"
         ],
         "y": [
          14,
          443,
          2732,
          232,
          1077,
          0,
          1094,
          1127,
          494,
          64,
          418,
          2484,
          3447,
          194,
          1109,
          1958,
          2149,
          351,
          179
         ]
        },
        {
         "name": "White",
         "type": "bar",
         "x": [
          "ZC: 77010",
          "ZC: 77003",
          "ZC: 77030",
          "ZC: 77002",
          "ZC: 77027",
          "ZC: 77011",
          "ZC: 77019",
          "ZC: 77006",
          "ZC: 77012",
          "ZC: 77026",
          "ZC: 77021",
          "ZC: 77005",
          "ZC: 77025",
          "ZC: 77020",
          "ZC: 77008",
          "ZC: 77007",
          "ZC: 77004",
          "ZC: 77023",
          "ZC: 77009"
         ],
         "y": [
          258,
          2318,
          6529,
          4018,
          10460,
          932,
          13598,
          13874,
          589,
          445,
          1461,
          19856,
          14076,
          1354,
          16924,
          17260,
          7198,
          3241,
          9212
         ]
        },
        {
         "name": "Other",
         "type": "bar",
         "x": [
          "ZC: 77010",
          "ZC: 77003",
          "ZC: 77030",
          "ZC: 77002",
          "ZC: 77027",
          "ZC: 77011",
          "ZC: 77019",
          "ZC: 77006",
          "ZC: 77012",
          "ZC: 77026",
          "ZC: 77021",
          "ZC: 77005",
          "ZC: 77025",
          "ZC: 77020",
          "ZC: 77008",
          "ZC: 77007",
          "ZC: 77004",
          "ZC: 77023",
          "ZC: 77009"
         ],
         "y": [
          0,
          26,
          39,
          0,
          91,
          0,
          0,
          66,
          0,
          0,
          21,
          60,
          53,
          0,
          30,
          149,
          120,
          69,
          81
         ]
        }
       ],
       "layout": {
        "barmode": "stack",
        "template": {
         "data": {
          "bar": [
           {
            "error_x": {
             "color": "#2a3f5f"
            },
            "error_y": {
             "color": "#2a3f5f"
            },
            "marker": {
             "line": {
              "color": "#E5ECF6",
              "width": 0.5
             }
            },
            "type": "bar"
           }
          ],
          "barpolar": [
           {
            "marker": {
             "line": {
              "color": "#E5ECF6",
              "width": 0.5
             }
            },
            "type": "barpolar"
           }
          ],
          "carpet": [
           {
            "aaxis": {
             "endlinecolor": "#2a3f5f",
             "gridcolor": "white",
             "linecolor": "white",
             "minorgridcolor": "white",
             "startlinecolor": "#2a3f5f"
            },
            "baxis": {
             "endlinecolor": "#2a3f5f",
             "gridcolor": "white",
             "linecolor": "white",
             "minorgridcolor": "white",
             "startlinecolor": "#2a3f5f"
            },
            "type": "carpet"
           }
          ],
          "choropleth": [
           {
            "colorbar": {
             "outlinewidth": 0,
             "ticks": ""
            },
            "type": "choropleth"
           }
          ],
          "contour": [
           {
            "colorbar": {
             "outlinewidth": 0,
             "ticks": ""
            },
            "colorscale": [
             [
              0,
              "#0d0887"
             ],
             [
              0.1111111111111111,
              "#46039f"
             ],
             [
              0.2222222222222222,
              "#7201a8"
             ],
             [
              0.3333333333333333,
              "#9c179e"
             ],
             [
              0.4444444444444444,
              "#bd3786"
             ],
             [
              0.5555555555555556,
              "#d8576b"
             ],
             [
              0.6666666666666666,
              "#ed7953"
             ],
             [
              0.7777777777777778,
              "#fb9f3a"
             ],
             [
              0.8888888888888888,
              "#fdca26"
             ],
             [
              1,
              "#f0f921"
             ]
            ],
            "type": "contour"
           }
          ],
          "contourcarpet": [
           {
            "colorbar": {
             "outlinewidth": 0,
             "ticks": ""
            },
            "type": "contourcarpet"
           }
          ],
          "heatmap": [
           {
            "colorbar": {
             "outlinewidth": 0,
             "ticks": ""
            },
            "colorscale": [
             [
              0,
              "#0d0887"
             ],
             [
              0.1111111111111111,
              "#46039f"
             ],
             [
              0.2222222222222222,
              "#7201a8"
             ],
             [
              0.3333333333333333,
              "#9c179e"
             ],
             [
              0.4444444444444444,
              "#bd3786"
             ],
             [
              0.5555555555555556,
              "#d8576b"
             ],
             [
              0.6666666666666666,
              "#ed7953"
             ],
             [
              0.7777777777777778,
              "#fb9f3a"
             ],
             [
              0.8888888888888888,
              "#fdca26"
             ],
             [
              1,
              "#f0f921"
             ]
            ],
            "type": "heatmap"
           }
          ],
          "heatmapgl": [
           {
            "colorbar": {
             "outlinewidth": 0,
             "ticks": ""
            },
            "colorscale": [
             [
              0,
              "#0d0887"
             ],
             [
              0.1111111111111111,
              "#46039f"
             ],
             [
              0.2222222222222222,
              "#7201a8"
             ],
             [
              0.3333333333333333,
              "#9c179e"
             ],
             [
              0.4444444444444444,
              "#bd3786"
             ],
             [
              0.5555555555555556,
              "#d8576b"
             ],
             [
              0.6666666666666666,
              "#ed7953"
             ],
             [
              0.7777777777777778,
              "#fb9f3a"
             ],
             [
              0.8888888888888888,
              "#fdca26"
             ],
             [
              1,
              "#f0f921"
             ]
            ],
            "type": "heatmapgl"
           }
          ],
          "histogram": [
           {
            "marker": {
             "colorbar": {
              "outlinewidth": 0,
              "ticks": ""
             }
            },
            "type": "histogram"
           }
          ],
          "histogram2d": [
           {
            "colorbar": {
             "outlinewidth": 0,
             "ticks": ""
            },
            "colorscale": [
             [
              0,
              "#0d0887"
             ],
             [
              0.1111111111111111,
              "#46039f"
             ],
             [
              0.2222222222222222,
              "#7201a8"
             ],
             [
              0.3333333333333333,
              "#9c179e"
             ],
             [
              0.4444444444444444,
              "#bd3786"
             ],
             [
              0.5555555555555556,
              "#d8576b"
             ],
             [
              0.6666666666666666,
              "#ed7953"
             ],
             [
              0.7777777777777778,
              "#fb9f3a"
             ],
             [
              0.8888888888888888,
              "#fdca26"
             ],
             [
              1,
              "#f0f921"
             ]
            ],
            "type": "histogram2d"
           }
          ],
          "histogram2dcontour": [
           {
            "colorbar": {
             "outlinewidth": 0,
             "ticks": ""
            },
            "colorscale": [
             [
              0,
              "#0d0887"
             ],
             [
              0.1111111111111111,
              "#46039f"
             ],
             [
              0.2222222222222222,
              "#7201a8"
             ],
             [
              0.3333333333333333,
              "#9c179e"
             ],
             [
              0.4444444444444444,
              "#bd3786"
             ],
             [
              0.5555555555555556,
              "#d8576b"
             ],
             [
              0.6666666666666666,
              "#ed7953"
             ],
             [
              0.7777777777777778,
              "#fb9f3a"
             ],
             [
              0.8888888888888888,
              "#fdca26"
             ],
             [
              1,
              "#f0f921"
             ]
            ],
            "type": "histogram2dcontour"
           }
          ],
          "mesh3d": [
           {
            "colorbar": {
             "outlinewidth": 0,
             "ticks": ""
            },
            "type": "mesh3d"
           }
          ],
          "parcoords": [
           {
            "line": {
             "colorbar": {
              "outlinewidth": 0,
              "ticks": ""
             }
            },
            "type": "parcoords"
           }
          ],
          "scatter": [
           {
            "marker": {
             "colorbar": {
              "outlinewidth": 0,
              "ticks": ""
             }
            },
            "type": "scatter"
           }
          ],
          "scatter3d": [
           {
            "line": {
             "colorbar": {
              "outlinewidth": 0,
              "ticks": ""
             }
            },
            "marker": {
             "colorbar": {
              "outlinewidth": 0,
              "ticks": ""
             }
            },
            "type": "scatter3d"
           }
          ],
          "scattercarpet": [
           {
            "marker": {
             "colorbar": {
              "outlinewidth": 0,
              "ticks": ""
             }
            },
            "type": "scattercarpet"
           }
          ],
          "scattergeo": [
           {
            "marker": {
             "colorbar": {
              "outlinewidth": 0,
              "ticks": ""
             }
            },
            "type": "scattergeo"
           }
          ],
          "scattergl": [
           {
            "marker": {
             "colorbar": {
              "outlinewidth": 0,
              "ticks": ""
             }
            },
            "type": "scattergl"
           }
          ],
          "scattermapbox": [
           {
            "marker": {
             "colorbar": {
              "outlinewidth": 0,
              "ticks": ""
             }
            },
            "type": "scattermapbox"
           }
          ],
          "scatterpolar": [
           {
            "marker": {
             "colorbar": {
              "outlinewidth": 0,
              "ticks": ""
             }
            },
            "type": "scatterpolar"
           }
          ],
          "scatterpolargl": [
           {
            "marker": {
             "colorbar": {
              "outlinewidth": 0,
              "ticks": ""
             }
            },
            "type": "scatterpolargl"
           }
          ],
          "scatterternary": [
           {
            "marker": {
             "colorbar": {
              "outlinewidth": 0,
              "ticks": ""
             }
            },
            "type": "scatterternary"
           }
          ],
          "surface": [
           {
            "colorbar": {
             "outlinewidth": 0,
             "ticks": ""
            },
            "colorscale": [
             [
              0,
              "#0d0887"
             ],
             [
              0.1111111111111111,
              "#46039f"
             ],
             [
              0.2222222222222222,
              "#7201a8"
             ],
             [
              0.3333333333333333,
              "#9c179e"
             ],
             [
              0.4444444444444444,
              "#bd3786"
             ],
             [
              0.5555555555555556,
              "#d8576b"
             ],
             [
              0.6666666666666666,
              "#ed7953"
             ],
             [
              0.7777777777777778,
              "#fb9f3a"
             ],
             [
              0.8888888888888888,
              "#fdca26"
             ],
             [
              1,
              "#f0f921"
             ]
            ],
            "type": "surface"
           }
          ],
          "table": [
           {
            "cells": {
             "fill": {
              "color": "#EBF0F8"
             },
             "line": {
              "color": "white"
             }
            },
            "header": {
             "fill": {
              "color": "#C8D4E3"
             },
             "line": {
              "color": "white"
             }
            },
            "type": "table"
           }
          ]
         },
         "layout": {
          "annotationdefaults": {
           "arrowcolor": "#2a3f5f",
           "arrowhead": 0,
           "arrowwidth": 1
          },
          "colorscale": {
           "diverging": [
            [
             0,
             "#8e0152"
            ],
            [
             0.1,
             "#c51b7d"
            ],
            [
             0.2,
             "#de77ae"
            ],
            [
             0.3,
             "#f1b6da"
            ],
            [
             0.4,
             "#fde0ef"
            ],
            [
             0.5,
             "#f7f7f7"
            ],
            [
             0.6,
             "#e6f5d0"
            ],
            [
             0.7,
             "#b8e186"
            ],
            [
             0.8,
             "#7fbc41"
            ],
            [
             0.9,
             "#4d9221"
            ],
            [
             1,
             "#276419"
            ]
           ],
           "sequential": [
            [
             0,
             "#0d0887"
            ],
            [
             0.1111111111111111,
             "#46039f"
            ],
            [
             0.2222222222222222,
             "#7201a8"
            ],
            [
             0.3333333333333333,
             "#9c179e"
            ],
            [
             0.4444444444444444,
             "#bd3786"
            ],
            [
             0.5555555555555556,
             "#d8576b"
            ],
            [
             0.6666666666666666,
             "#ed7953"
            ],
            [
             0.7777777777777778,
             "#fb9f3a"
            ],
            [
             0.8888888888888888,
             "#fdca26"
            ],
            [
             1,
             "#f0f921"
            ]
           ],
           "sequentialminus": [
            [
             0,
             "#0d0887"
            ],
            [
             0.1111111111111111,
             "#46039f"
            ],
            [
             0.2222222222222222,
             "#7201a8"
            ],
            [
             0.3333333333333333,
             "#9c179e"
            ],
            [
             0.4444444444444444,
             "#bd3786"
            ],
            [
             0.5555555555555556,
             "#d8576b"
            ],
            [
             0.6666666666666666,
             "#ed7953"
            ],
            [
             0.7777777777777778,
             "#fb9f3a"
            ],
            [
             0.8888888888888888,
             "#fdca26"
            ],
            [
             1,
             "#f0f921"
            ]
           ]
          },
          "colorway": [
           "#636efa",
           "#EF553B",
           "#00cc96",
           "#ab63fa",
           "#FFA15A",
           "#19d3f3",
           "#FF6692",
           "#B6E880",
           "#FF97FF",
           "#FECB52"
          ],
          "font": {
           "color": "#2a3f5f"
          },
          "geo": {
           "bgcolor": "white",
           "lakecolor": "white",
           "landcolor": "#E5ECF6",
           "showlakes": true,
           "showland": true,
           "subunitcolor": "white"
          },
          "hoverlabel": {
           "align": "left"
          },
          "hovermode": "closest",
          "mapbox": {
           "style": "light"
          },
          "paper_bgcolor": "white",
          "plot_bgcolor": "#E5ECF6",
          "polar": {
           "angularaxis": {
            "gridcolor": "white",
            "linecolor": "white",
            "ticks": ""
           },
           "bgcolor": "#E5ECF6",
           "radialaxis": {
            "gridcolor": "white",
            "linecolor": "white",
            "ticks": ""
           }
          },
          "scene": {
           "xaxis": {
            "backgroundcolor": "#E5ECF6",
            "gridcolor": "white",
            "gridwidth": 2,
            "linecolor": "white",
            "showbackground": true,
            "ticks": "",
            "zerolinecolor": "white"
           },
           "yaxis": {
            "backgroundcolor": "#E5ECF6",
            "gridcolor": "white",
            "gridwidth": 2,
            "linecolor": "white",
            "showbackground": true,
            "ticks": "",
            "zerolinecolor": "white"
           },
           "zaxis": {
            "backgroundcolor": "#E5ECF6",
            "gridcolor": "white",
            "gridwidth": 2,
            "linecolor": "white",
            "showbackground": true,
            "ticks": "",
            "zerolinecolor": "white"
           }
          },
          "shapedefaults": {
           "line": {
            "color": "#2a3f5f"
           }
          },
          "ternary": {
           "aaxis": {
            "gridcolor": "white",
            "linecolor": "white",
            "ticks": ""
           },
           "baxis": {
            "gridcolor": "white",
            "linecolor": "white",
            "ticks": ""
           },
           "bgcolor": "#E5ECF6",
           "caxis": {
            "gridcolor": "white",
            "linecolor": "white",
            "ticks": ""
           }
          },
          "title": {
           "x": 0.05
          },
          "xaxis": {
           "automargin": true,
           "gridcolor": "white",
           "linecolor": "white",
           "ticks": "",
           "zerolinecolor": "white",
           "zerolinewidth": 2
          },
          "yaxis": {
           "automargin": true,
           "gridcolor": "white",
           "linecolor": "white",
           "ticks": "",
           "zerolinecolor": "white",
           "zerolinewidth": 2
          }
         }
        },
        "title": {
         "text": "2012 Race Demographics"
        },
        "xaxis": {
         "title": {
          "text": "<b>Zip Code</b>"
         }
        },
        "yaxis": {
         "title": {
          "text": "<b>Population</b> (people)"
         }
        }
       }
      },
      "text/html": [
       "<div>\n",
       "        \n",
       "        \n",
       "            <div id=\"755f8109-7dea-4368-a351-30b335df218c\" class=\"plotly-graph-div\" style=\"height:525px; width:100%;\"></div>\n",
       "            <script type=\"text/javascript\">\n",
       "                require([\"plotly\"], function(Plotly) {\n",
       "                    window.PLOTLYENV=window.PLOTLYENV || {};\n",
       "                    \n",
       "                if (document.getElementById(\"755f8109-7dea-4368-a351-30b335df218c\")) {\n",
       "                    Plotly.newPlot(\n",
       "                        '755f8109-7dea-4368-a351-30b335df218c',\n",
       "                        [{\"name\": \"Latinx\", \"type\": \"bar\", \"x\": [\"ZC: 77010\", \"ZC: 77003\", \"ZC: 77030\", \"ZC: 77002\", \"ZC: 77027\", \"ZC: 77011\", \"ZC: 77019\", \"ZC: 77006\", \"ZC: 77012\", \"ZC: 77026\", \"ZC: 77021\", \"ZC: 77005\", \"ZC: 77025\", \"ZC: 77020\", \"ZC: 77008\", \"ZC: 77007\", \"ZC: 77004\", \"ZC: 77023\", \"ZC: 77009\"], \"y\": [62.0, 5351.0, 1086.0, 3175.0, 2387.0, 18058.0, 2788.0, 3816.0, 19911.0, 9040.0, 4450.0, 2076.0, 4673.0, 17583.0, 9830.0, 8334.0, 3358.0, 26405.0, 26147.0]}, {\"name\": \"Black\", \"type\": \"bar\", \"x\": [\"ZC: 77010\", \"ZC: 77003\", \"ZC: 77030\", \"ZC: 77002\", \"ZC: 77027\", \"ZC: 77011\", \"ZC: 77019\", \"ZC: 77006\", \"ZC: 77012\", \"ZC: 77026\", \"ZC: 77021\", \"ZC: 77005\", \"ZC: 77025\", \"ZC: 77020\", \"ZC: 77008\", \"ZC: 77007\", \"ZC: 77004\", \"ZC: 77023\", \"ZC: 77009\"], \"y\": [8.0, 2063.0, 478.0, 4002.0, 685.0, 341.0, 1759.0, 695.0, 596.0, 14300.0, 19145.0, 746.0, 3455.0, 7183.0, 1022.0, 1280.0, 16520.0, 476.0, 2985.0]}, {\"name\": \"AmIndian\", \"type\": \"bar\", \"x\": [\"ZC: 77010\", \"ZC: 77003\", \"ZC: 77030\", \"ZC: 77002\", \"ZC: 77027\", \"ZC: 77011\", \"ZC: 77019\", \"ZC: 77006\", \"ZC: 77012\", \"ZC: 77026\", \"ZC: 77021\", \"ZC: 77005\", \"ZC: 77025\", \"ZC: 77020\", \"ZC: 77008\", \"ZC: 77007\", \"ZC: 77004\", \"ZC: 77023\", \"ZC: 77009\"], \"y\": [0.0, 0.0, 67.0, 6.0, 0.0, 59.0, 0.0, 38.0, 20.0, 15.0, 14.0, 25.0, 24.0, 61.0, 66.0, 19.0, 10.0, 8.0, 89.0]}, {\"name\": \"Asian\", \"type\": \"bar\", \"x\": [\"ZC: 77010\", \"ZC: 77003\", \"ZC: 77030\", \"ZC: 77002\", \"ZC: 77027\", \"ZC: 77011\", \"ZC: 77019\", \"ZC: 77006\", \"ZC: 77012\", \"ZC: 77026\", \"ZC: 77021\", \"ZC: 77005\", \"ZC: 77025\", \"ZC: 77020\", \"ZC: 77008\", \"ZC: 77007\", \"ZC: 77004\", \"ZC: 77023\", \"ZC: 77009\"], \"y\": [14.0, 443.0, 2732.0, 232.0, 1077.0, 0.0, 1094.0, 1127.0, 494.0, 64.0, 418.0, 2484.0, 3447.0, 194.0, 1109.0, 1958.0, 2149.0, 351.0, 179.0]}, {\"name\": \"White\", \"type\": \"bar\", \"x\": [\"ZC: 77010\", \"ZC: 77003\", \"ZC: 77030\", \"ZC: 77002\", \"ZC: 77027\", \"ZC: 77011\", \"ZC: 77019\", \"ZC: 77006\", \"ZC: 77012\", \"ZC: 77026\", \"ZC: 77021\", \"ZC: 77005\", \"ZC: 77025\", \"ZC: 77020\", \"ZC: 77008\", \"ZC: 77007\", \"ZC: 77004\", \"ZC: 77023\", \"ZC: 77009\"], \"y\": [258.0, 2318.0, 6529.0, 4018.0, 10460.0, 932.0, 13598.0, 13874.0, 589.0, 445.0, 1461.0, 19856.0, 14076.0, 1354.0, 16924.0, 17260.0, 7198.0, 3241.0, 9212.0]}, {\"name\": \"Other\", \"type\": \"bar\", \"x\": [\"ZC: 77010\", \"ZC: 77003\", \"ZC: 77030\", \"ZC: 77002\", \"ZC: 77027\", \"ZC: 77011\", \"ZC: 77019\", \"ZC: 77006\", \"ZC: 77012\", \"ZC: 77026\", \"ZC: 77021\", \"ZC: 77005\", \"ZC: 77025\", \"ZC: 77020\", \"ZC: 77008\", \"ZC: 77007\", \"ZC: 77004\", \"ZC: 77023\", \"ZC: 77009\"], \"y\": [0.0, 26.0, 39.0, 0.0, 91.0, 0.0, 0.0, 66.0, 0.0, 0.0, 21.0, 60.0, 53.0, 0.0, 30.0, 149.0, 120.0, 69.0, 81.0]}],\n",
       "                        {\"barmode\": \"stack\", \"template\": {\"data\": {\"bar\": [{\"error_x\": {\"color\": \"#2a3f5f\"}, \"error_y\": {\"color\": \"#2a3f5f\"}, \"marker\": {\"line\": {\"color\": \"#E5ECF6\", \"width\": 0.5}}, \"type\": \"bar\"}], \"barpolar\": [{\"marker\": {\"line\": {\"color\": \"#E5ECF6\", \"width\": 0.5}}, \"type\": \"barpolar\"}], \"carpet\": [{\"aaxis\": {\"endlinecolor\": \"#2a3f5f\", \"gridcolor\": \"white\", \"linecolor\": \"white\", \"minorgridcolor\": \"white\", \"startlinecolor\": \"#2a3f5f\"}, \"baxis\": {\"endlinecolor\": \"#2a3f5f\", \"gridcolor\": \"white\", \"linecolor\": \"white\", \"minorgridcolor\": \"white\", \"startlinecolor\": \"#2a3f5f\"}, \"type\": \"carpet\"}], \"choropleth\": [{\"colorbar\": {\"outlinewidth\": 0, \"ticks\": \"\"}, \"type\": \"choropleth\"}], \"contour\": [{\"colorbar\": {\"outlinewidth\": 0, \"ticks\": \"\"}, \"colorscale\": [[0.0, \"#0d0887\"], [0.1111111111111111, \"#46039f\"], [0.2222222222222222, \"#7201a8\"], [0.3333333333333333, \"#9c179e\"], [0.4444444444444444, \"#bd3786\"], [0.5555555555555556, \"#d8576b\"], [0.6666666666666666, \"#ed7953\"], [0.7777777777777778, \"#fb9f3a\"], [0.8888888888888888, \"#fdca26\"], [1.0, \"#f0f921\"]], \"type\": \"contour\"}], \"contourcarpet\": [{\"colorbar\": {\"outlinewidth\": 0, \"ticks\": \"\"}, \"type\": \"contourcarpet\"}], \"heatmap\": [{\"colorbar\": {\"outlinewidth\": 0, \"ticks\": \"\"}, \"colorscale\": [[0.0, \"#0d0887\"], [0.1111111111111111, \"#46039f\"], [0.2222222222222222, \"#7201a8\"], [0.3333333333333333, \"#9c179e\"], [0.4444444444444444, \"#bd3786\"], [0.5555555555555556, \"#d8576b\"], [0.6666666666666666, \"#ed7953\"], [0.7777777777777778, \"#fb9f3a\"], [0.8888888888888888, \"#fdca26\"], [1.0, \"#f0f921\"]], \"type\": \"heatmap\"}], \"heatmapgl\": [{\"colorbar\": {\"outlinewidth\": 0, \"ticks\": \"\"}, \"colorscale\": [[0.0, \"#0d0887\"], [0.1111111111111111, \"#46039f\"], [0.2222222222222222, \"#7201a8\"], [0.3333333333333333, \"#9c179e\"], [0.4444444444444444, \"#bd3786\"], [0.5555555555555556, \"#d8576b\"], [0.6666666666666666, \"#ed7953\"], [0.7777777777777778, \"#fb9f3a\"], [0.8888888888888888, \"#fdca26\"], [1.0, \"#f0f921\"]], \"type\": \"heatmapgl\"}], \"histogram\": [{\"marker\": {\"colorbar\": {\"outlinewidth\": 0, \"ticks\": \"\"}}, \"type\": \"histogram\"}], \"histogram2d\": [{\"colorbar\": {\"outlinewidth\": 0, \"ticks\": \"\"}, \"colorscale\": [[0.0, \"#0d0887\"], [0.1111111111111111, \"#46039f\"], [0.2222222222222222, \"#7201a8\"], [0.3333333333333333, \"#9c179e\"], [0.4444444444444444, \"#bd3786\"], [0.5555555555555556, \"#d8576b\"], [0.6666666666666666, \"#ed7953\"], [0.7777777777777778, \"#fb9f3a\"], [0.8888888888888888, \"#fdca26\"], [1.0, \"#f0f921\"]], \"type\": \"histogram2d\"}], \"histogram2dcontour\": [{\"colorbar\": {\"outlinewidth\": 0, \"ticks\": \"\"}, \"colorscale\": [[0.0, \"#0d0887\"], [0.1111111111111111, \"#46039f\"], [0.2222222222222222, \"#7201a8\"], [0.3333333333333333, \"#9c179e\"], [0.4444444444444444, \"#bd3786\"], [0.5555555555555556, \"#d8576b\"], [0.6666666666666666, \"#ed7953\"], [0.7777777777777778, \"#fb9f3a\"], [0.8888888888888888, \"#fdca26\"], [1.0, \"#f0f921\"]], \"type\": \"histogram2dcontour\"}], \"mesh3d\": [{\"colorbar\": {\"outlinewidth\": 0, \"ticks\": \"\"}, \"type\": \"mesh3d\"}], \"parcoords\": [{\"line\": {\"colorbar\": {\"outlinewidth\": 0, \"ticks\": \"\"}}, \"type\": \"parcoords\"}], \"scatter\": [{\"marker\": {\"colorbar\": {\"outlinewidth\": 0, \"ticks\": \"\"}}, \"type\": \"scatter\"}], \"scatter3d\": [{\"line\": {\"colorbar\": {\"outlinewidth\": 0, \"ticks\": \"\"}}, \"marker\": {\"colorbar\": {\"outlinewidth\": 0, \"ticks\": \"\"}}, \"type\": \"scatter3d\"}], \"scattercarpet\": [{\"marker\": {\"colorbar\": {\"outlinewidth\": 0, \"ticks\": \"\"}}, \"type\": \"scattercarpet\"}], \"scattergeo\": [{\"marker\": {\"colorbar\": {\"outlinewidth\": 0, \"ticks\": \"\"}}, \"type\": \"scattergeo\"}], \"scattergl\": [{\"marker\": {\"colorbar\": {\"outlinewidth\": 0, \"ticks\": \"\"}}, \"type\": \"scattergl\"}], \"scattermapbox\": [{\"marker\": {\"colorbar\": {\"outlinewidth\": 0, \"ticks\": \"\"}}, \"type\": \"scattermapbox\"}], \"scatterpolar\": [{\"marker\": {\"colorbar\": {\"outlinewidth\": 0, \"ticks\": \"\"}}, \"type\": \"scatterpolar\"}], \"scatterpolargl\": [{\"marker\": {\"colorbar\": {\"outlinewidth\": 0, \"ticks\": \"\"}}, \"type\": \"scatterpolargl\"}], \"scatterternary\": [{\"marker\": {\"colorbar\": {\"outlinewidth\": 0, \"ticks\": \"\"}}, \"type\": \"scatterternary\"}], \"surface\": [{\"colorbar\": {\"outlinewidth\": 0, \"ticks\": \"\"}, \"colorscale\": [[0.0, \"#0d0887\"], [0.1111111111111111, \"#46039f\"], [0.2222222222222222, \"#7201a8\"], [0.3333333333333333, \"#9c179e\"], [0.4444444444444444, \"#bd3786\"], [0.5555555555555556, \"#d8576b\"], [0.6666666666666666, \"#ed7953\"], [0.7777777777777778, \"#fb9f3a\"], [0.8888888888888888, \"#fdca26\"], [1.0, \"#f0f921\"]], \"type\": \"surface\"}], \"table\": [{\"cells\": {\"fill\": {\"color\": \"#EBF0F8\"}, \"line\": {\"color\": \"white\"}}, \"header\": {\"fill\": {\"color\": \"#C8D4E3\"}, \"line\": {\"color\": \"white\"}}, \"type\": \"table\"}]}, \"layout\": {\"annotationdefaults\": {\"arrowcolor\": \"#2a3f5f\", \"arrowhead\": 0, \"arrowwidth\": 1}, \"colorscale\": {\"diverging\": [[0, \"#8e0152\"], [0.1, \"#c51b7d\"], [0.2, \"#de77ae\"], [0.3, \"#f1b6da\"], [0.4, \"#fde0ef\"], [0.5, \"#f7f7f7\"], [0.6, \"#e6f5d0\"], [0.7, \"#b8e186\"], [0.8, \"#7fbc41\"], [0.9, \"#4d9221\"], [1, \"#276419\"]], \"sequential\": [[0.0, \"#0d0887\"], [0.1111111111111111, \"#46039f\"], [0.2222222222222222, \"#7201a8\"], [0.3333333333333333, \"#9c179e\"], [0.4444444444444444, \"#bd3786\"], [0.5555555555555556, \"#d8576b\"], [0.6666666666666666, \"#ed7953\"], [0.7777777777777778, \"#fb9f3a\"], [0.8888888888888888, \"#fdca26\"], [1.0, \"#f0f921\"]], \"sequentialminus\": [[0.0, \"#0d0887\"], [0.1111111111111111, \"#46039f\"], [0.2222222222222222, \"#7201a8\"], [0.3333333333333333, \"#9c179e\"], [0.4444444444444444, \"#bd3786\"], [0.5555555555555556, \"#d8576b\"], [0.6666666666666666, \"#ed7953\"], [0.7777777777777778, \"#fb9f3a\"], [0.8888888888888888, \"#fdca26\"], [1.0, \"#f0f921\"]]}, \"colorway\": [\"#636efa\", \"#EF553B\", \"#00cc96\", \"#ab63fa\", \"#FFA15A\", \"#19d3f3\", \"#FF6692\", \"#B6E880\", \"#FF97FF\", \"#FECB52\"], \"font\": {\"color\": \"#2a3f5f\"}, \"geo\": {\"bgcolor\": \"white\", \"lakecolor\": \"white\", \"landcolor\": \"#E5ECF6\", \"showlakes\": true, \"showland\": true, \"subunitcolor\": \"white\"}, \"hoverlabel\": {\"align\": \"left\"}, \"hovermode\": \"closest\", \"mapbox\": {\"style\": \"light\"}, \"paper_bgcolor\": \"white\", \"plot_bgcolor\": \"#E5ECF6\", \"polar\": {\"angularaxis\": {\"gridcolor\": \"white\", \"linecolor\": \"white\", \"ticks\": \"\"}, \"bgcolor\": \"#E5ECF6\", \"radialaxis\": {\"gridcolor\": \"white\", \"linecolor\": \"white\", \"ticks\": \"\"}}, \"scene\": {\"xaxis\": {\"backgroundcolor\": \"#E5ECF6\", \"gridcolor\": \"white\", \"gridwidth\": 2, \"linecolor\": \"white\", \"showbackground\": true, \"ticks\": \"\", \"zerolinecolor\": \"white\"}, \"yaxis\": {\"backgroundcolor\": \"#E5ECF6\", \"gridcolor\": \"white\", \"gridwidth\": 2, \"linecolor\": \"white\", \"showbackground\": true, \"ticks\": \"\", \"zerolinecolor\": \"white\"}, \"zaxis\": {\"backgroundcolor\": \"#E5ECF6\", \"gridcolor\": \"white\", \"gridwidth\": 2, \"linecolor\": \"white\", \"showbackground\": true, \"ticks\": \"\", \"zerolinecolor\": \"white\"}}, \"shapedefaults\": {\"line\": {\"color\": \"#2a3f5f\"}}, \"ternary\": {\"aaxis\": {\"gridcolor\": \"white\", \"linecolor\": \"white\", \"ticks\": \"\"}, \"baxis\": {\"gridcolor\": \"white\", \"linecolor\": \"white\", \"ticks\": \"\"}, \"bgcolor\": \"#E5ECF6\", \"caxis\": {\"gridcolor\": \"white\", \"linecolor\": \"white\", \"ticks\": \"\"}}, \"title\": {\"x\": 0.05}, \"xaxis\": {\"automargin\": true, \"gridcolor\": \"white\", \"linecolor\": \"white\", \"ticks\": \"\", \"zerolinecolor\": \"white\", \"zerolinewidth\": 2}, \"yaxis\": {\"automargin\": true, \"gridcolor\": \"white\", \"linecolor\": \"white\", \"ticks\": \"\", \"zerolinecolor\": \"white\", \"zerolinewidth\": 2}}}, \"title\": {\"text\": \"2012 Race Demographics\"}, \"xaxis\": {\"title\": {\"text\": \"<b>Zip Code</b>\"}}, \"yaxis\": {\"title\": {\"text\": \"<b>Population</b> (people)\"}}},\n",
       "                        {\"responsive\": true}\n",
       "                    ).then(function(){\n",
       "                            \n",
       "var gd = document.getElementById('755f8109-7dea-4368-a351-30b335df218c');\n",
       "var x = new MutationObserver(function (mutations, observer) {{\n",
       "        var display = window.getComputedStyle(gd).display;\n",
       "        if (!display || display === 'none') {{\n",
       "            console.log([gd, 'removed!']);\n",
       "            Plotly.purge(gd);\n",
       "            observer.disconnect();\n",
       "        }}\n",
       "}});\n",
       "\n",
       "// Listen for the removal of the full notebook cells\n",
       "var notebookContainer = gd.closest('#notebook-container');\n",
       "if (notebookContainer) {{\n",
       "    x.observe(notebookContainer, {childList: true});\n",
       "}}\n",
       "\n",
       "// Listen for the clearing of the current output cell\n",
       "var outputEl = gd.closest('.output');\n",
       "if (outputEl) {{\n",
       "    x.observe(outputEl, {childList: true});\n",
       "}}\n",
       "\n",
       "                        })\n",
       "                };\n",
       "                });\n",
       "            </script>\n",
       "        </div>"
      ]
     },
     "metadata": {},
     "output_type": "display_data"
    }
   ],
   "source": [
    "### ALL ZIP CODES 2012\n",
    "# get the list of zipcodes from the DataFrame\n",
    "yr2012 = yr2012.sort_values(by = ['Population'])\n",
    "zipcodes_list = yr2012.Zipcode.apply(str).tolist()\n",
    "zipcodes_list = [\"ZC:\" + \" \" + s for s in zipcodes_list]\n",
    "fig = go.Figure(data=[\n",
    "   go.Bar(name='Latinx', x=zipcodes_list, y=yr2012['Latinx']),\n",
    "   go.Bar(name='Black', x=zipcodes_list, y=yr2012['Black']),\n",
    "   go.Bar(name='AmIndian', x=zipcodes_list, y=yr2012['AmIndian']),\n",
    "   go.Bar(name='Asian', x=zipcodes_list, y=yr2012['Asian']),\n",
    "   go.Bar(name='White', x=zipcodes_list, y=yr2012['White']),\n",
    "   go.Bar(name='Other', x=zipcodes_list, y=yr2012['Other'])\n",
    "])\n",
    "# Change the bar mode\n",
    "fig.update_layout(barmode='stack', title_text=\"2012 Race Demographics\")\n",
    "fig.update_yaxes(title_text=\"<b>Population</b> (people)\")\n",
    "fig.update_xaxes(title_text=\"<b>Zip Code</b>\")\n",
    "fig.show()"
   ]
  },
  {
   "cell_type": "code",
   "execution_count": 37,
   "metadata": {},
   "outputs": [
    {
     "data": {
      "application/vnd.plotly.v1+json": {
       "config": {
        "plotlyServerURL": "https://plot.ly"
       },
       "data": [
        {
         "name": "Latinx",
         "type": "bar",
         "x": [
          "ZC: 77010",
          "ZC: 77003",
          "ZC: 77030",
          "ZC: 77002",
          "ZC: 77027",
          "ZC: 77011",
          "ZC: 77012",
          "ZC: 77019",
          "ZC: 77006",
          "ZC: 77026",
          "ZC: 77020",
          "ZC: 77021",
          "ZC: 77005",
          "ZC: 77023",
          "ZC: 77025",
          "ZC: 77008",
          "ZC: 77007",
          "ZC: 77004",
          "ZC: 77009"
         ],
         "y": [
          24,
          4834,
          994,
          3276,
          2459,
          17538,
          18907,
          2567,
          3118,
          10088,
          19002,
          3665,
          2483,
          24492,
          5294,
          9621,
          7825,
          5390,
          24343
         ]
        },
        {
         "name": "Black",
         "type": "bar",
         "x": [
          "ZC: 77010",
          "ZC: 77003",
          "ZC: 77030",
          "ZC: 77002",
          "ZC: 77027",
          "ZC: 77011",
          "ZC: 77012",
          "ZC: 77019",
          "ZC: 77006",
          "ZC: 77026",
          "ZC: 77020",
          "ZC: 77021",
          "ZC: 77005",
          "ZC: 77023",
          "ZC: 77025",
          "ZC: 77008",
          "ZC: 77007",
          "ZC: 77004",
          "ZC: 77009"
         ],
         "y": [
          64,
          2254,
          466,
          4099,
          526,
          208,
          457,
          1632,
          1179,
          11949,
          5832,
          19579,
          1309,
          836,
          3052,
          1022,
          1838,
          17829,
          2305
         ]
        },
        {
         "name": "AmIndian",
         "type": "bar",
         "x": [
          "ZC: 77010",
          "ZC: 77003",
          "ZC: 77030",
          "ZC: 77002",
          "ZC: 77027",
          "ZC: 77011",
          "ZC: 77012",
          "ZC: 77019",
          "ZC: 77006",
          "ZC: 77026",
          "ZC: 77020",
          "ZC: 77021",
          "ZC: 77005",
          "ZC: 77023",
          "ZC: 77025",
          "ZC: 77008",
          "ZC: 77007",
          "ZC: 77004",
          "ZC: 77009"
         ],
         "y": [
          0,
          0,
          0,
          22,
          16,
          8,
          0,
          20,
          24,
          5,
          28,
          30,
          0,
          27,
          16,
          20,
          226,
          8,
          13
         ]
        },
        {
         "name": "Asian",
         "type": "bar",
         "x": [
          "ZC: 77010",
          "ZC: 77003",
          "ZC: 77030",
          "ZC: 77002",
          "ZC: 77027",
          "ZC: 77011",
          "ZC: 77012",
          "ZC: 77019",
          "ZC: 77006",
          "ZC: 77026",
          "ZC: 77020",
          "ZC: 77021",
          "ZC: 77005",
          "ZC: 77023",
          "ZC: 77025",
          "ZC: 77008",
          "ZC: 77007",
          "ZC: 77004",
          "ZC: 77009"
         ],
         "y": [
          80,
          507,
          2898,
          235,
          1396,
          103,
          227,
          1979,
          1548,
          9,
          68,
          774,
          3544,
          240,
          4893,
          1985,
          2801,
          3337,
          404
         ]
        },
        {
         "name": "White",
         "type": "bar",
         "x": [
          "ZC: 77010",
          "ZC: 77003",
          "ZC: 77030",
          "ZC: 77002",
          "ZC: 77027",
          "ZC: 77011",
          "ZC: 77012",
          "ZC: 77019",
          "ZC: 77006",
          "ZC: 77026",
          "ZC: 77020",
          "ZC: 77021",
          "ZC: 77005",
          "ZC: 77023",
          "ZC: 77025",
          "ZC: 77008",
          "ZC: 77007",
          "ZC: 77004",
          "ZC: 77009"
         ],
         "y": [
          747,
          1807,
          6008,
          4457,
          11284,
          690,
          494,
          14980,
          15541,
          613,
          769,
          2397,
          20165,
          2854,
          14899,
          21182,
          22038,
          10015,
          10129
         ]
        },
        {
         "name": "Other",
         "type": "bar",
         "x": [
          "ZC: 77010",
          "ZC: 77003",
          "ZC: 77030",
          "ZC: 77002",
          "ZC: 77027",
          "ZC: 77011",
          "ZC: 77012",
          "ZC: 77019",
          "ZC: 77006",
          "ZC: 77026",
          "ZC: 77020",
          "ZC: 77021",
          "ZC: 77005",
          "ZC: 77023",
          "ZC: 77025",
          "ZC: 77008",
          "ZC: 77007",
          "ZC: 77004",
          "ZC: 77009"
         ],
         "y": [
          0,
          7,
          21,
          86,
          22,
          33,
          0,
          166,
          52,
          7,
          48,
          31,
          94,
          0,
          28,
          18,
          207,
          343,
          58
         ]
        }
       ],
       "layout": {
        "barmode": "stack",
        "template": {
         "data": {
          "bar": [
           {
            "error_x": {
             "color": "#2a3f5f"
            },
            "error_y": {
             "color": "#2a3f5f"
            },
            "marker": {
             "line": {
              "color": "#E5ECF6",
              "width": 0.5
             }
            },
            "type": "bar"
           }
          ],
          "barpolar": [
           {
            "marker": {
             "line": {
              "color": "#E5ECF6",
              "width": 0.5
             }
            },
            "type": "barpolar"
           }
          ],
          "carpet": [
           {
            "aaxis": {
             "endlinecolor": "#2a3f5f",
             "gridcolor": "white",
             "linecolor": "white",
             "minorgridcolor": "white",
             "startlinecolor": "#2a3f5f"
            },
            "baxis": {
             "endlinecolor": "#2a3f5f",
             "gridcolor": "white",
             "linecolor": "white",
             "minorgridcolor": "white",
             "startlinecolor": "#2a3f5f"
            },
            "type": "carpet"
           }
          ],
          "choropleth": [
           {
            "colorbar": {
             "outlinewidth": 0,
             "ticks": ""
            },
            "type": "choropleth"
           }
          ],
          "contour": [
           {
            "colorbar": {
             "outlinewidth": 0,
             "ticks": ""
            },
            "colorscale": [
             [
              0,
              "#0d0887"
             ],
             [
              0.1111111111111111,
              "#46039f"
             ],
             [
              0.2222222222222222,
              "#7201a8"
             ],
             [
              0.3333333333333333,
              "#9c179e"
             ],
             [
              0.4444444444444444,
              "#bd3786"
             ],
             [
              0.5555555555555556,
              "#d8576b"
             ],
             [
              0.6666666666666666,
              "#ed7953"
             ],
             [
              0.7777777777777778,
              "#fb9f3a"
             ],
             [
              0.8888888888888888,
              "#fdca26"
             ],
             [
              1,
              "#f0f921"
             ]
            ],
            "type": "contour"
           }
          ],
          "contourcarpet": [
           {
            "colorbar": {
             "outlinewidth": 0,
             "ticks": ""
            },
            "type": "contourcarpet"
           }
          ],
          "heatmap": [
           {
            "colorbar": {
             "outlinewidth": 0,
             "ticks": ""
            },
            "colorscale": [
             [
              0,
              "#0d0887"
             ],
             [
              0.1111111111111111,
              "#46039f"
             ],
             [
              0.2222222222222222,
              "#7201a8"
             ],
             [
              0.3333333333333333,
              "#9c179e"
             ],
             [
              0.4444444444444444,
              "#bd3786"
             ],
             [
              0.5555555555555556,
              "#d8576b"
             ],
             [
              0.6666666666666666,
              "#ed7953"
             ],
             [
              0.7777777777777778,
              "#fb9f3a"
             ],
             [
              0.8888888888888888,
              "#fdca26"
             ],
             [
              1,
              "#f0f921"
             ]
            ],
            "type": "heatmap"
           }
          ],
          "heatmapgl": [
           {
            "colorbar": {
             "outlinewidth": 0,
             "ticks": ""
            },
            "colorscale": [
             [
              0,
              "#0d0887"
             ],
             [
              0.1111111111111111,
              "#46039f"
             ],
             [
              0.2222222222222222,
              "#7201a8"
             ],
             [
              0.3333333333333333,
              "#9c179e"
             ],
             [
              0.4444444444444444,
              "#bd3786"
             ],
             [
              0.5555555555555556,
              "#d8576b"
             ],
             [
              0.6666666666666666,
              "#ed7953"
             ],
             [
              0.7777777777777778,
              "#fb9f3a"
             ],
             [
              0.8888888888888888,
              "#fdca26"
             ],
             [
              1,
              "#f0f921"
             ]
            ],
            "type": "heatmapgl"
           }
          ],
          "histogram": [
           {
            "marker": {
             "colorbar": {
              "outlinewidth": 0,
              "ticks": ""
             }
            },
            "type": "histogram"
           }
          ],
          "histogram2d": [
           {
            "colorbar": {
             "outlinewidth": 0,
             "ticks": ""
            },
            "colorscale": [
             [
              0,
              "#0d0887"
             ],
             [
              0.1111111111111111,
              "#46039f"
             ],
             [
              0.2222222222222222,
              "#7201a8"
             ],
             [
              0.3333333333333333,
              "#9c179e"
             ],
             [
              0.4444444444444444,
              "#bd3786"
             ],
             [
              0.5555555555555556,
              "#d8576b"
             ],
             [
              0.6666666666666666,
              "#ed7953"
             ],
             [
              0.7777777777777778,
              "#fb9f3a"
             ],
             [
              0.8888888888888888,
              "#fdca26"
             ],
             [
              1,
              "#f0f921"
             ]
            ],
            "type": "histogram2d"
           }
          ],
          "histogram2dcontour": [
           {
            "colorbar": {
             "outlinewidth": 0,
             "ticks": ""
            },
            "colorscale": [
             [
              0,
              "#0d0887"
             ],
             [
              0.1111111111111111,
              "#46039f"
             ],
             [
              0.2222222222222222,
              "#7201a8"
             ],
             [
              0.3333333333333333,
              "#9c179e"
             ],
             [
              0.4444444444444444,
              "#bd3786"
             ],
             [
              0.5555555555555556,
              "#d8576b"
             ],
             [
              0.6666666666666666,
              "#ed7953"
             ],
             [
              0.7777777777777778,
              "#fb9f3a"
             ],
             [
              0.8888888888888888,
              "#fdca26"
             ],
             [
              1,
              "#f0f921"
             ]
            ],
            "type": "histogram2dcontour"
           }
          ],
          "mesh3d": [
           {
            "colorbar": {
             "outlinewidth": 0,
             "ticks": ""
            },
            "type": "mesh3d"
           }
          ],
          "parcoords": [
           {
            "line": {
             "colorbar": {
              "outlinewidth": 0,
              "ticks": ""
             }
            },
            "type": "parcoords"
           }
          ],
          "scatter": [
           {
            "marker": {
             "colorbar": {
              "outlinewidth": 0,
              "ticks": ""
             }
            },
            "type": "scatter"
           }
          ],
          "scatter3d": [
           {
            "line": {
             "colorbar": {
              "outlinewidth": 0,
              "ticks": ""
             }
            },
            "marker": {
             "colorbar": {
              "outlinewidth": 0,
              "ticks": ""
             }
            },
            "type": "scatter3d"
           }
          ],
          "scattercarpet": [
           {
            "marker": {
             "colorbar": {
              "outlinewidth": 0,
              "ticks": ""
             }
            },
            "type": "scattercarpet"
           }
          ],
          "scattergeo": [
           {
            "marker": {
             "colorbar": {
              "outlinewidth": 0,
              "ticks": ""
             }
            },
            "type": "scattergeo"
           }
          ],
          "scattergl": [
           {
            "marker": {
             "colorbar": {
              "outlinewidth": 0,
              "ticks": ""
             }
            },
            "type": "scattergl"
           }
          ],
          "scattermapbox": [
           {
            "marker": {
             "colorbar": {
              "outlinewidth": 0,
              "ticks": ""
             }
            },
            "type": "scattermapbox"
           }
          ],
          "scatterpolar": [
           {
            "marker": {
             "colorbar": {
              "outlinewidth": 0,
              "ticks": ""
             }
            },
            "type": "scatterpolar"
           }
          ],
          "scatterpolargl": [
           {
            "marker": {
             "colorbar": {
              "outlinewidth": 0,
              "ticks": ""
             }
            },
            "type": "scatterpolargl"
           }
          ],
          "scatterternary": [
           {
            "marker": {
             "colorbar": {
              "outlinewidth": 0,
              "ticks": ""
             }
            },
            "type": "scatterternary"
           }
          ],
          "surface": [
           {
            "colorbar": {
             "outlinewidth": 0,
             "ticks": ""
            },
            "colorscale": [
             [
              0,
              "#0d0887"
             ],
             [
              0.1111111111111111,
              "#46039f"
             ],
             [
              0.2222222222222222,
              "#7201a8"
             ],
             [
              0.3333333333333333,
              "#9c179e"
             ],
             [
              0.4444444444444444,
              "#bd3786"
             ],
             [
              0.5555555555555556,
              "#d8576b"
             ],
             [
              0.6666666666666666,
              "#ed7953"
             ],
             [
              0.7777777777777778,
              "#fb9f3a"
             ],
             [
              0.8888888888888888,
              "#fdca26"
             ],
             [
              1,
              "#f0f921"
             ]
            ],
            "type": "surface"
           }
          ],
          "table": [
           {
            "cells": {
             "fill": {
              "color": "#EBF0F8"
             },
             "line": {
              "color": "white"
             }
            },
            "header": {
             "fill": {
              "color": "#C8D4E3"
             },
             "line": {
              "color": "white"
             }
            },
            "type": "table"
           }
          ]
         },
         "layout": {
          "annotationdefaults": {
           "arrowcolor": "#2a3f5f",
           "arrowhead": 0,
           "arrowwidth": 1
          },
          "colorscale": {
           "diverging": [
            [
             0,
             "#8e0152"
            ],
            [
             0.1,
             "#c51b7d"
            ],
            [
             0.2,
             "#de77ae"
            ],
            [
             0.3,
             "#f1b6da"
            ],
            [
             0.4,
             "#fde0ef"
            ],
            [
             0.5,
             "#f7f7f7"
            ],
            [
             0.6,
             "#e6f5d0"
            ],
            [
             0.7,
             "#b8e186"
            ],
            [
             0.8,
             "#7fbc41"
            ],
            [
             0.9,
             "#4d9221"
            ],
            [
             1,
             "#276419"
            ]
           ],
           "sequential": [
            [
             0,
             "#0d0887"
            ],
            [
             0.1111111111111111,
             "#46039f"
            ],
            [
             0.2222222222222222,
             "#7201a8"
            ],
            [
             0.3333333333333333,
             "#9c179e"
            ],
            [
             0.4444444444444444,
             "#bd3786"
            ],
            [
             0.5555555555555556,
             "#d8576b"
            ],
            [
             0.6666666666666666,
             "#ed7953"
            ],
            [
             0.7777777777777778,
             "#fb9f3a"
            ],
            [
             0.8888888888888888,
             "#fdca26"
            ],
            [
             1,
             "#f0f921"
            ]
           ],
           "sequentialminus": [
            [
             0,
             "#0d0887"
            ],
            [
             0.1111111111111111,
             "#46039f"
            ],
            [
             0.2222222222222222,
             "#7201a8"
            ],
            [
             0.3333333333333333,
             "#9c179e"
            ],
            [
             0.4444444444444444,
             "#bd3786"
            ],
            [
             0.5555555555555556,
             "#d8576b"
            ],
            [
             0.6666666666666666,
             "#ed7953"
            ],
            [
             0.7777777777777778,
             "#fb9f3a"
            ],
            [
             0.8888888888888888,
             "#fdca26"
            ],
            [
             1,
             "#f0f921"
            ]
           ]
          },
          "colorway": [
           "#636efa",
           "#EF553B",
           "#00cc96",
           "#ab63fa",
           "#FFA15A",
           "#19d3f3",
           "#FF6692",
           "#B6E880",
           "#FF97FF",
           "#FECB52"
          ],
          "font": {
           "color": "#2a3f5f"
          },
          "geo": {
           "bgcolor": "white",
           "lakecolor": "white",
           "landcolor": "#E5ECF6",
           "showlakes": true,
           "showland": true,
           "subunitcolor": "white"
          },
          "hoverlabel": {
           "align": "left"
          },
          "hovermode": "closest",
          "mapbox": {
           "style": "light"
          },
          "paper_bgcolor": "white",
          "plot_bgcolor": "#E5ECF6",
          "polar": {
           "angularaxis": {
            "gridcolor": "white",
            "linecolor": "white",
            "ticks": ""
           },
           "bgcolor": "#E5ECF6",
           "radialaxis": {
            "gridcolor": "white",
            "linecolor": "white",
            "ticks": ""
           }
          },
          "scene": {
           "xaxis": {
            "backgroundcolor": "#E5ECF6",
            "gridcolor": "white",
            "gridwidth": 2,
            "linecolor": "white",
            "showbackground": true,
            "ticks": "",
            "zerolinecolor": "white"
           },
           "yaxis": {
            "backgroundcolor": "#E5ECF6",
            "gridcolor": "white",
            "gridwidth": 2,
            "linecolor": "white",
            "showbackground": true,
            "ticks": "",
            "zerolinecolor": "white"
           },
           "zaxis": {
            "backgroundcolor": "#E5ECF6",
            "gridcolor": "white",
            "gridwidth": 2,
            "linecolor": "white",
            "showbackground": true,
            "ticks": "",
            "zerolinecolor": "white"
           }
          },
          "shapedefaults": {
           "line": {
            "color": "#2a3f5f"
           }
          },
          "ternary": {
           "aaxis": {
            "gridcolor": "white",
            "linecolor": "white",
            "ticks": ""
           },
           "baxis": {
            "gridcolor": "white",
            "linecolor": "white",
            "ticks": ""
           },
           "bgcolor": "#E5ECF6",
           "caxis": {
            "gridcolor": "white",
            "linecolor": "white",
            "ticks": ""
           }
          },
          "title": {
           "x": 0.05
          },
          "xaxis": {
           "automargin": true,
           "gridcolor": "white",
           "linecolor": "white",
           "ticks": "",
           "zerolinecolor": "white",
           "zerolinewidth": 2
          },
          "yaxis": {
           "automargin": true,
           "gridcolor": "white",
           "linecolor": "white",
           "ticks": "",
           "zerolinecolor": "white",
           "zerolinewidth": 2
          }
         }
        },
        "title": {
         "text": "2017 Race Demographics"
        },
        "xaxis": {
         "title": {
          "text": "<b>Zip Code</b>"
         }
        },
        "yaxis": {
         "title": {
          "text": "<b>Population</b> (people)"
         }
        }
       }
      },
      "text/html": [
       "<div>\n",
       "        \n",
       "        \n",
       "            <div id=\"2a4a5298-b819-4de0-b67e-5a44d9fa02cb\" class=\"plotly-graph-div\" style=\"height:525px; width:100%;\"></div>\n",
       "            <script type=\"text/javascript\">\n",
       "                require([\"plotly\"], function(Plotly) {\n",
       "                    window.PLOTLYENV=window.PLOTLYENV || {};\n",
       "                    \n",
       "                if (document.getElementById(\"2a4a5298-b819-4de0-b67e-5a44d9fa02cb\")) {\n",
       "                    Plotly.newPlot(\n",
       "                        '2a4a5298-b819-4de0-b67e-5a44d9fa02cb',\n",
       "                        [{\"name\": \"Latinx\", \"type\": \"bar\", \"x\": [\"ZC: 77010\", \"ZC: 77003\", \"ZC: 77030\", \"ZC: 77002\", \"ZC: 77027\", \"ZC: 77011\", \"ZC: 77012\", \"ZC: 77019\", \"ZC: 77006\", \"ZC: 77026\", \"ZC: 77020\", \"ZC: 77021\", \"ZC: 77005\", \"ZC: 77023\", \"ZC: 77025\", \"ZC: 77008\", \"ZC: 77007\", \"ZC: 77004\", \"ZC: 77009\"], \"y\": [24.0, 4834.0, 994.0, 3276.0, 2459.0, 17538.0, 18907.0, 2567.0, 3118.0, 10088.0, 19002.0, 3665.0, 2483.0, 24492.0, 5294.0, 9621.0, 7825.0, 5390.0, 24343.0]}, {\"name\": \"Black\", \"type\": \"bar\", \"x\": [\"ZC: 77010\", \"ZC: 77003\", \"ZC: 77030\", \"ZC: 77002\", \"ZC: 77027\", \"ZC: 77011\", \"ZC: 77012\", \"ZC: 77019\", \"ZC: 77006\", \"ZC: 77026\", \"ZC: 77020\", \"ZC: 77021\", \"ZC: 77005\", \"ZC: 77023\", \"ZC: 77025\", \"ZC: 77008\", \"ZC: 77007\", \"ZC: 77004\", \"ZC: 77009\"], \"y\": [64.0, 2254.0, 466.0, 4099.0, 526.0, 208.0, 457.0, 1632.0, 1179.0, 11949.0, 5832.0, 19579.0, 1309.0, 836.0, 3052.0, 1022.0, 1838.0, 17829.0, 2305.0]}, {\"name\": \"AmIndian\", \"type\": \"bar\", \"x\": [\"ZC: 77010\", \"ZC: 77003\", \"ZC: 77030\", \"ZC: 77002\", \"ZC: 77027\", \"ZC: 77011\", \"ZC: 77012\", \"ZC: 77019\", \"ZC: 77006\", \"ZC: 77026\", \"ZC: 77020\", \"ZC: 77021\", \"ZC: 77005\", \"ZC: 77023\", \"ZC: 77025\", \"ZC: 77008\", \"ZC: 77007\", \"ZC: 77004\", \"ZC: 77009\"], \"y\": [0.0, 0.0, 0.0, 22.0, 16.0, 8.0, 0.0, 20.0, 24.0, 5.0, 28.0, 30.0, 0.0, 27.0, 16.0, 20.0, 226.0, 8.0, 13.0]}, {\"name\": \"Asian\", \"type\": \"bar\", \"x\": [\"ZC: 77010\", \"ZC: 77003\", \"ZC: 77030\", \"ZC: 77002\", \"ZC: 77027\", \"ZC: 77011\", \"ZC: 77012\", \"ZC: 77019\", \"ZC: 77006\", \"ZC: 77026\", \"ZC: 77020\", \"ZC: 77021\", \"ZC: 77005\", \"ZC: 77023\", \"ZC: 77025\", \"ZC: 77008\", \"ZC: 77007\", \"ZC: 77004\", \"ZC: 77009\"], \"y\": [80.0, 507.0, 2898.0, 235.0, 1396.0, 103.0, 227.0, 1979.0, 1548.0, 9.0, 68.0, 774.0, 3544.0, 240.0, 4893.0, 1985.0, 2801.0, 3337.0, 404.0]}, {\"name\": \"White\", \"type\": \"bar\", \"x\": [\"ZC: 77010\", \"ZC: 77003\", \"ZC: 77030\", \"ZC: 77002\", \"ZC: 77027\", \"ZC: 77011\", \"ZC: 77012\", \"ZC: 77019\", \"ZC: 77006\", \"ZC: 77026\", \"ZC: 77020\", \"ZC: 77021\", \"ZC: 77005\", \"ZC: 77023\", \"ZC: 77025\", \"ZC: 77008\", \"ZC: 77007\", \"ZC: 77004\", \"ZC: 77009\"], \"y\": [747.0, 1807.0, 6008.0, 4457.0, 11284.0, 690.0, 494.0, 14980.0, 15541.0, 613.0, 769.0, 2397.0, 20165.0, 2854.0, 14899.0, 21182.0, 22038.0, 10015.0, 10129.0]}, {\"name\": \"Other\", \"type\": \"bar\", \"x\": [\"ZC: 77010\", \"ZC: 77003\", \"ZC: 77030\", \"ZC: 77002\", \"ZC: 77027\", \"ZC: 77011\", \"ZC: 77012\", \"ZC: 77019\", \"ZC: 77006\", \"ZC: 77026\", \"ZC: 77020\", \"ZC: 77021\", \"ZC: 77005\", \"ZC: 77023\", \"ZC: 77025\", \"ZC: 77008\", \"ZC: 77007\", \"ZC: 77004\", \"ZC: 77009\"], \"y\": [0.0, 7.0, 21.0, 86.0, 22.0, 33.0, 0.0, 166.0, 52.0, 7.0, 48.0, 31.0, 94.0, 0.0, 28.0, 18.0, 207.0, 343.0, 58.0]}],\n",
       "                        {\"barmode\": \"stack\", \"template\": {\"data\": {\"bar\": [{\"error_x\": {\"color\": \"#2a3f5f\"}, \"error_y\": {\"color\": \"#2a3f5f\"}, \"marker\": {\"line\": {\"color\": \"#E5ECF6\", \"width\": 0.5}}, \"type\": \"bar\"}], \"barpolar\": [{\"marker\": {\"line\": {\"color\": \"#E5ECF6\", \"width\": 0.5}}, \"type\": \"barpolar\"}], \"carpet\": [{\"aaxis\": {\"endlinecolor\": \"#2a3f5f\", \"gridcolor\": \"white\", \"linecolor\": \"white\", \"minorgridcolor\": \"white\", \"startlinecolor\": \"#2a3f5f\"}, \"baxis\": {\"endlinecolor\": \"#2a3f5f\", \"gridcolor\": \"white\", \"linecolor\": \"white\", \"minorgridcolor\": \"white\", \"startlinecolor\": \"#2a3f5f\"}, \"type\": \"carpet\"}], \"choropleth\": [{\"colorbar\": {\"outlinewidth\": 0, \"ticks\": \"\"}, \"type\": \"choropleth\"}], \"contour\": [{\"colorbar\": {\"outlinewidth\": 0, \"ticks\": \"\"}, \"colorscale\": [[0.0, \"#0d0887\"], [0.1111111111111111, \"#46039f\"], [0.2222222222222222, \"#7201a8\"], [0.3333333333333333, \"#9c179e\"], [0.4444444444444444, \"#bd3786\"], [0.5555555555555556, \"#d8576b\"], [0.6666666666666666, \"#ed7953\"], [0.7777777777777778, \"#fb9f3a\"], [0.8888888888888888, \"#fdca26\"], [1.0, \"#f0f921\"]], \"type\": \"contour\"}], \"contourcarpet\": [{\"colorbar\": {\"outlinewidth\": 0, \"ticks\": \"\"}, \"type\": \"contourcarpet\"}], \"heatmap\": [{\"colorbar\": {\"outlinewidth\": 0, \"ticks\": \"\"}, \"colorscale\": [[0.0, \"#0d0887\"], [0.1111111111111111, \"#46039f\"], [0.2222222222222222, \"#7201a8\"], [0.3333333333333333, \"#9c179e\"], [0.4444444444444444, \"#bd3786\"], [0.5555555555555556, \"#d8576b\"], [0.6666666666666666, \"#ed7953\"], [0.7777777777777778, \"#fb9f3a\"], [0.8888888888888888, \"#fdca26\"], [1.0, \"#f0f921\"]], \"type\": \"heatmap\"}], \"heatmapgl\": [{\"colorbar\": {\"outlinewidth\": 0, \"ticks\": \"\"}, \"colorscale\": [[0.0, \"#0d0887\"], [0.1111111111111111, \"#46039f\"], [0.2222222222222222, \"#7201a8\"], [0.3333333333333333, \"#9c179e\"], [0.4444444444444444, \"#bd3786\"], [0.5555555555555556, \"#d8576b\"], [0.6666666666666666, \"#ed7953\"], [0.7777777777777778, \"#fb9f3a\"], [0.8888888888888888, \"#fdca26\"], [1.0, \"#f0f921\"]], \"type\": \"heatmapgl\"}], \"histogram\": [{\"marker\": {\"colorbar\": {\"outlinewidth\": 0, \"ticks\": \"\"}}, \"type\": \"histogram\"}], \"histogram2d\": [{\"colorbar\": {\"outlinewidth\": 0, \"ticks\": \"\"}, \"colorscale\": [[0.0, \"#0d0887\"], [0.1111111111111111, \"#46039f\"], [0.2222222222222222, \"#7201a8\"], [0.3333333333333333, \"#9c179e\"], [0.4444444444444444, \"#bd3786\"], [0.5555555555555556, \"#d8576b\"], [0.6666666666666666, \"#ed7953\"], [0.7777777777777778, \"#fb9f3a\"], [0.8888888888888888, \"#fdca26\"], [1.0, \"#f0f921\"]], \"type\": \"histogram2d\"}], \"histogram2dcontour\": [{\"colorbar\": {\"outlinewidth\": 0, \"ticks\": \"\"}, \"colorscale\": [[0.0, \"#0d0887\"], [0.1111111111111111, \"#46039f\"], [0.2222222222222222, \"#7201a8\"], [0.3333333333333333, \"#9c179e\"], [0.4444444444444444, \"#bd3786\"], [0.5555555555555556, \"#d8576b\"], [0.6666666666666666, \"#ed7953\"], [0.7777777777777778, \"#fb9f3a\"], [0.8888888888888888, \"#fdca26\"], [1.0, \"#f0f921\"]], \"type\": \"histogram2dcontour\"}], \"mesh3d\": [{\"colorbar\": {\"outlinewidth\": 0, \"ticks\": \"\"}, \"type\": \"mesh3d\"}], \"parcoords\": [{\"line\": {\"colorbar\": {\"outlinewidth\": 0, \"ticks\": \"\"}}, \"type\": \"parcoords\"}], \"scatter\": [{\"marker\": {\"colorbar\": {\"outlinewidth\": 0, \"ticks\": \"\"}}, \"type\": \"scatter\"}], \"scatter3d\": [{\"line\": {\"colorbar\": {\"outlinewidth\": 0, \"ticks\": \"\"}}, \"marker\": {\"colorbar\": {\"outlinewidth\": 0, \"ticks\": \"\"}}, \"type\": \"scatter3d\"}], \"scattercarpet\": [{\"marker\": {\"colorbar\": {\"outlinewidth\": 0, \"ticks\": \"\"}}, \"type\": \"scattercarpet\"}], \"scattergeo\": [{\"marker\": {\"colorbar\": {\"outlinewidth\": 0, \"ticks\": \"\"}}, \"type\": \"scattergeo\"}], \"scattergl\": [{\"marker\": {\"colorbar\": {\"outlinewidth\": 0, \"ticks\": \"\"}}, \"type\": \"scattergl\"}], \"scattermapbox\": [{\"marker\": {\"colorbar\": {\"outlinewidth\": 0, \"ticks\": \"\"}}, \"type\": \"scattermapbox\"}], \"scatterpolar\": [{\"marker\": {\"colorbar\": {\"outlinewidth\": 0, \"ticks\": \"\"}}, \"type\": \"scatterpolar\"}], \"scatterpolargl\": [{\"marker\": {\"colorbar\": {\"outlinewidth\": 0, \"ticks\": \"\"}}, \"type\": \"scatterpolargl\"}], \"scatterternary\": [{\"marker\": {\"colorbar\": {\"outlinewidth\": 0, \"ticks\": \"\"}}, \"type\": \"scatterternary\"}], \"surface\": [{\"colorbar\": {\"outlinewidth\": 0, \"ticks\": \"\"}, \"colorscale\": [[0.0, \"#0d0887\"], [0.1111111111111111, \"#46039f\"], [0.2222222222222222, \"#7201a8\"], [0.3333333333333333, \"#9c179e\"], [0.4444444444444444, \"#bd3786\"], [0.5555555555555556, \"#d8576b\"], [0.6666666666666666, \"#ed7953\"], [0.7777777777777778, \"#fb9f3a\"], [0.8888888888888888, \"#fdca26\"], [1.0, \"#f0f921\"]], \"type\": \"surface\"}], \"table\": [{\"cells\": {\"fill\": {\"color\": \"#EBF0F8\"}, \"line\": {\"color\": \"white\"}}, \"header\": {\"fill\": {\"color\": \"#C8D4E3\"}, \"line\": {\"color\": \"white\"}}, \"type\": \"table\"}]}, \"layout\": {\"annotationdefaults\": {\"arrowcolor\": \"#2a3f5f\", \"arrowhead\": 0, \"arrowwidth\": 1}, \"colorscale\": {\"diverging\": [[0, \"#8e0152\"], [0.1, \"#c51b7d\"], [0.2, \"#de77ae\"], [0.3, \"#f1b6da\"], [0.4, \"#fde0ef\"], [0.5, \"#f7f7f7\"], [0.6, \"#e6f5d0\"], [0.7, \"#b8e186\"], [0.8, \"#7fbc41\"], [0.9, \"#4d9221\"], [1, \"#276419\"]], \"sequential\": [[0.0, \"#0d0887\"], [0.1111111111111111, \"#46039f\"], [0.2222222222222222, \"#7201a8\"], [0.3333333333333333, \"#9c179e\"], [0.4444444444444444, \"#bd3786\"], [0.5555555555555556, \"#d8576b\"], [0.6666666666666666, \"#ed7953\"], [0.7777777777777778, \"#fb9f3a\"], [0.8888888888888888, \"#fdca26\"], [1.0, \"#f0f921\"]], \"sequentialminus\": [[0.0, \"#0d0887\"], [0.1111111111111111, \"#46039f\"], [0.2222222222222222, \"#7201a8\"], [0.3333333333333333, \"#9c179e\"], [0.4444444444444444, \"#bd3786\"], [0.5555555555555556, \"#d8576b\"], [0.6666666666666666, \"#ed7953\"], [0.7777777777777778, \"#fb9f3a\"], [0.8888888888888888, \"#fdca26\"], [1.0, \"#f0f921\"]]}, \"colorway\": [\"#636efa\", \"#EF553B\", \"#00cc96\", \"#ab63fa\", \"#FFA15A\", \"#19d3f3\", \"#FF6692\", \"#B6E880\", \"#FF97FF\", \"#FECB52\"], \"font\": {\"color\": \"#2a3f5f\"}, \"geo\": {\"bgcolor\": \"white\", \"lakecolor\": \"white\", \"landcolor\": \"#E5ECF6\", \"showlakes\": true, \"showland\": true, \"subunitcolor\": \"white\"}, \"hoverlabel\": {\"align\": \"left\"}, \"hovermode\": \"closest\", \"mapbox\": {\"style\": \"light\"}, \"paper_bgcolor\": \"white\", \"plot_bgcolor\": \"#E5ECF6\", \"polar\": {\"angularaxis\": {\"gridcolor\": \"white\", \"linecolor\": \"white\", \"ticks\": \"\"}, \"bgcolor\": \"#E5ECF6\", \"radialaxis\": {\"gridcolor\": \"white\", \"linecolor\": \"white\", \"ticks\": \"\"}}, \"scene\": {\"xaxis\": {\"backgroundcolor\": \"#E5ECF6\", \"gridcolor\": \"white\", \"gridwidth\": 2, \"linecolor\": \"white\", \"showbackground\": true, \"ticks\": \"\", \"zerolinecolor\": \"white\"}, \"yaxis\": {\"backgroundcolor\": \"#E5ECF6\", \"gridcolor\": \"white\", \"gridwidth\": 2, \"linecolor\": \"white\", \"showbackground\": true, \"ticks\": \"\", \"zerolinecolor\": \"white\"}, \"zaxis\": {\"backgroundcolor\": \"#E5ECF6\", \"gridcolor\": \"white\", \"gridwidth\": 2, \"linecolor\": \"white\", \"showbackground\": true, \"ticks\": \"\", \"zerolinecolor\": \"white\"}}, \"shapedefaults\": {\"line\": {\"color\": \"#2a3f5f\"}}, \"ternary\": {\"aaxis\": {\"gridcolor\": \"white\", \"linecolor\": \"white\", \"ticks\": \"\"}, \"baxis\": {\"gridcolor\": \"white\", \"linecolor\": \"white\", \"ticks\": \"\"}, \"bgcolor\": \"#E5ECF6\", \"caxis\": {\"gridcolor\": \"white\", \"linecolor\": \"white\", \"ticks\": \"\"}}, \"title\": {\"x\": 0.05}, \"xaxis\": {\"automargin\": true, \"gridcolor\": \"white\", \"linecolor\": \"white\", \"ticks\": \"\", \"zerolinecolor\": \"white\", \"zerolinewidth\": 2}, \"yaxis\": {\"automargin\": true, \"gridcolor\": \"white\", \"linecolor\": \"white\", \"ticks\": \"\", \"zerolinecolor\": \"white\", \"zerolinewidth\": 2}}}, \"title\": {\"text\": \"2017 Race Demographics\"}, \"xaxis\": {\"title\": {\"text\": \"<b>Zip Code</b>\"}}, \"yaxis\": {\"title\": {\"text\": \"<b>Population</b> (people)\"}}},\n",
       "                        {\"responsive\": true}\n",
       "                    ).then(function(){\n",
       "                            \n",
       "var gd = document.getElementById('2a4a5298-b819-4de0-b67e-5a44d9fa02cb');\n",
       "var x = new MutationObserver(function (mutations, observer) {{\n",
       "        var display = window.getComputedStyle(gd).display;\n",
       "        if (!display || display === 'none') {{\n",
       "            console.log([gd, 'removed!']);\n",
       "            Plotly.purge(gd);\n",
       "            observer.disconnect();\n",
       "        }}\n",
       "}});\n",
       "\n",
       "// Listen for the removal of the full notebook cells\n",
       "var notebookContainer = gd.closest('#notebook-container');\n",
       "if (notebookContainer) {{\n",
       "    x.observe(notebookContainer, {childList: true});\n",
       "}}\n",
       "\n",
       "// Listen for the clearing of the current output cell\n",
       "var outputEl = gd.closest('.output');\n",
       "if (outputEl) {{\n",
       "    x.observe(outputEl, {childList: true});\n",
       "}}\n",
       "\n",
       "                        })\n",
       "                };\n",
       "                });\n",
       "            </script>\n",
       "        </div>"
      ]
     },
     "metadata": {},
     "output_type": "display_data"
    }
   ],
   "source": [
    "### ALL ZIP CODES 2017\n",
    "# get the list of zipcodes from the DataFrame\n",
    "yr2017 = yr2017.sort_values(by = ['Population'])\n",
    "zipcodes_list = yr2017.Zipcode.apply(str).tolist()\n",
    "zipcodes_list = [\"ZC:\" + \" \" + s for s in zipcodes_list]\n",
    "fig = go.Figure(data=[\n",
    "   go.Bar(name='Latinx', x=zipcodes_list, y=yr2017['Latinx']),\n",
    "   go.Bar(name='Black', x=zipcodes_list, y=yr2017['Black']),\n",
    "   go.Bar(name='AmIndian', x=zipcodes_list, y=yr2017['AmIndian']),\n",
    "   go.Bar(name='Asian', x=zipcodes_list, y=yr2017['Asian']),\n",
    "   go.Bar(name='White', x=zipcodes_list, y=yr2017['White']),\n",
    "   go.Bar(name='Other', x=zipcodes_list, y=yr2017['Other'])\n",
    "])\n",
    "# Change the bar mode\n",
    "fig.update_layout(barmode='stack', title_text=\"2017 Race Demographics\")\n",
    "fig.update_yaxes(title_text=\"<b>Population</b> (people)\")\n",
    "fig.update_xaxes(title_text=\"<b>Zip Code</b>\")\n",
    "fig.show()"
   ]
  },
  {
   "cell_type": "code",
   "execution_count": 25,
   "metadata": {},
   "outputs": [],
   "source": [
    "### SELECT ZIP CODES 2012\n",
    "zipcode_list12 = yr2012.loc[yr2012['Zipcode'].isin(['77003','77007', '77008', '77026'])]\n",
    "zipcodes_list12 = zipcode_list12.Zipcode.apply(str).tolist()\n",
    "zipcodes_list12 = [\"ZC:\" + \" \" + s for s in zipcodes_list12]\n",
    "# zipcodes_list12\n",
    "# fig = go.Figure(data=[\n",
    "#    go.Bar(name='Latinx', x=zipcodes_list12, y=zipcode_list12['Latinx']),\n",
    "#    go.Bar(name='Black', x=zipcodes_list12, y=zipcode_list12['Black']),\n",
    "#    go.Bar(name='AmIndian', x=zipcodes_list12, y=zipcode_list12['AmIndian']),\n",
    "#    go.Bar(name='Asian', x=zipcodes_list12, y=zipcode_list12['Asian']),\n",
    "#    go.Bar(name='White', x=zipcodes_list12, y=zipcode_list12['White']),\n",
    "#    go.Bar(name='Other', x=zipcodes_list12, y=zipcode_list12['Other'])\n",
    "# ])\n",
    "# # Change the bar mode\n",
    "# fig.update_layout(barmode='stack', title_text=\"2012 Race Demographics - Selected Zip Codes\")\n",
    "# fig.show()"
   ]
  },
  {
   "cell_type": "code",
   "execution_count": 26,
   "metadata": {},
   "outputs": [],
   "source": [
    "### SELECT ZIP CODES 2017\n",
    "zipcode_list17 = yr2017.loc[yr2017['Zipcode'].isin(['77003','77007', '77008', '77026'])]\n",
    "zipcodes_list17 = zipcode_list17.Zipcode.apply(str).tolist()\n",
    "zipcodes_list17 = [\"ZC:\" + \" \" + s for s in zipcodes_list17]\n",
    "# zipcodes_list17\n",
    "# fig = go.Figure(data=[\n",
    "#    go.Bar(name='Latinx', x=zipcodes_list17, y=zipcode_list17['Latinx']),\n",
    "#    go.Bar(name='Black', x=zipcodes_list17, y=zipcode_list17['Black']),\n",
    "#    go.Bar(name='AmIndian', x=zipcodes_list17, y=zipcode_list17['AmIndian']),\n",
    "#    go.Bar(name='Asian', x=zipcodes_list17, y=zipcode_list17['Asian']),\n",
    "#    go.Bar(name='White', x=zipcodes_list17, y=zipcode_list17['White']),\n",
    "#    go.Bar(name='Other', x=zipcodes_list17, y=zipcode_list17['Other'])\n",
    "# ])\n",
    "# # Change the bar mode\n",
    "# fig.update_layout(barmode='stack', title_text=\"2017 Race Demographics - Selected Zip Codes\")\n",
    "# fig.show()"
   ]
  },
  {
   "cell_type": "code",
   "execution_count": 39,
   "metadata": {},
   "outputs": [
    {
     "data": {
      "application/vnd.plotly.v1+json": {
       "config": {
        "plotlyServerURL": "https://plot.ly"
       },
       "data": [
        {
         "hoverinfo": "y",
         "marker": {
          "color": "#1f77b4"
         },
         "name": "Latinx",
         "text": [
          52,
          38,
          33,
          28
         ],
         "textposition": "auto",
         "type": "bar",
         "x": [
          "ZC: 77003",
          "ZC: 77026",
          "ZC: 77008",
          "ZC: 77007"
         ],
         "xaxis": "x",
         "y": [
          5351,
          9040,
          9830,
          8334
         ],
         "yaxis": "y"
        },
        {
         "hoverinfo": "y",
         "marker": {
          "color": "#8c564b"
         },
         "name": "Black",
         "text": [
          20,
          60,
          3,
          4
         ],
         "textposition": "inside",
         "type": "bar",
         "x": [
          "ZC: 77003",
          "ZC: 77026",
          "ZC: 77008",
          "ZC: 77007"
         ],
         "xaxis": "x",
         "y": [
          2063,
          14300,
          1022,
          1280
         ],
         "yaxis": "y"
        },
        {
         "hoverinfo": "y",
         "marker": {
          "color": "#e377c2"
         },
         "name": "AmIndian",
         "type": "bar",
         "x": [
          "ZC: 77003",
          "ZC: 77026",
          "ZC: 77008",
          "ZC: 77007"
         ],
         "xaxis": "x",
         "y": [
          0,
          15,
          66,
          19
         ],
         "yaxis": "y"
        },
        {
         "hoverinfo": "y",
         "marker": {
          "color": "#bcbd22"
         },
         "name": "Asian",
         "type": "bar",
         "x": [
          "ZC: 77003",
          "ZC: 77026",
          "ZC: 77008",
          "ZC: 77007"
         ],
         "xaxis": "x",
         "y": [
          443,
          64,
          1109,
          1958
         ],
         "yaxis": "y"
        },
        {
         "hoverinfo": "y",
         "marker": {
          "color": "#ff7f0e"
         },
         "name": "White",
         "text": [
          23,
          2,
          58,
          58
         ],
         "textposition": "inside",
         "type": "bar",
         "x": [
          "ZC: 77003",
          "ZC: 77026",
          "ZC: 77008",
          "ZC: 77007"
         ],
         "xaxis": "x",
         "y": [
          2318,
          445,
          16924,
          17260
         ],
         "yaxis": "y"
        },
        {
         "hoverinfo": "y",
         "marker": {
          "color": "#17becf"
         },
         "name": "Other",
         "type": "bar",
         "x": [
          "ZC: 77003",
          "ZC: 77026",
          "ZC: 77008",
          "ZC: 77007"
         ],
         "xaxis": "x",
         "y": [
          26,
          0,
          30,
          149
         ],
         "yaxis": "y"
        },
        {
         "hoverinfo": "y",
         "marker": {
          "color": "#1f77b4"
         },
         "name": "Latinx",
         "showlegend": false,
         "text": [
          50,
          44,
          28,
          22
         ],
         "textposition": "auto",
         "type": "bar",
         "x": [
          "ZC: 77003",
          "ZC: 77026",
          "ZC: 77008",
          "ZC: 77007"
         ],
         "xaxis": "x2",
         "y": [
          4834,
          10088,
          9621,
          7825
         ],
         "yaxis": "y2"
        },
        {
         "hoverinfo": "y",
         "marker": {
          "color": "#8c564b"
         },
         "name": "Black",
         "showlegend": false,
         "text": [
          23,
          52,
          3,
          5
         ],
         "textposition": "inside",
         "type": "bar",
         "x": [
          "ZC: 77003",
          "ZC: 77026",
          "ZC: 77008",
          "ZC: 77007"
         ],
         "xaxis": "x2",
         "y": [
          2254,
          11949,
          1022,
          1838
         ],
         "yaxis": "y2"
        },
        {
         "hoverinfo": "y",
         "marker": {
          "color": "#e377c2"
         },
         "name": "AmIndian",
         "showlegend": false,
         "type": "bar",
         "x": [
          "ZC: 77003",
          "ZC: 77026",
          "ZC: 77008",
          "ZC: 77007"
         ],
         "xaxis": "x2",
         "y": [
          0,
          5,
          20,
          226
         ],
         "yaxis": "y2"
        },
        {
         "hoverinfo": "y",
         "marker": {
          "color": "#bcbd22"
         },
         "name": "Asian",
         "showlegend": false,
         "type": "bar",
         "x": [
          "ZC: 77003",
          "ZC: 77026",
          "ZC: 77008",
          "ZC: 77007"
         ],
         "xaxis": "x2",
         "y": [
          507,
          9,
          1985,
          2801
         ],
         "yaxis": "y2"
        },
        {
         "hoverinfo": "y",
         "marker": {
          "color": "#ff7f0e"
         },
         "name": "White",
         "showlegend": false,
         "text": [
          19,
          3,
          61,
          62
         ],
         "textposition": "auto",
         "type": "bar",
         "x": [
          "ZC: 77003",
          "ZC: 77026",
          "ZC: 77008",
          "ZC: 77007"
         ],
         "xaxis": "x2",
         "y": [
          1807,
          613,
          21182,
          22038
         ],
         "yaxis": "y2"
        },
        {
         "hoverinfo": "y",
         "marker": {
          "color": "#17becf"
         },
         "name": "Other",
         "showlegend": false,
         "type": "bar",
         "x": [
          "ZC: 77003",
          "ZC: 77026",
          "ZC: 77008",
          "ZC: 77007"
         ],
         "xaxis": "x2",
         "y": [
          7,
          7,
          18,
          207
         ],
         "yaxis": "y2"
        }
       ],
       "layout": {
        "annotations": [
         {
          "font": {
           "size": 16
          },
          "showarrow": false,
          "text": "2012",
          "x": 0.225,
          "xanchor": "center",
          "xref": "paper",
          "y": 1,
          "yanchor": "bottom",
          "yref": "paper"
         },
         {
          "font": {
           "size": 16
          },
          "showarrow": false,
          "text": "2017",
          "x": 0.775,
          "xanchor": "center",
          "xref": "paper",
          "y": 1,
          "yanchor": "bottom",
          "yref": "paper"
         }
        ],
        "barmode": "stack",
        "template": {
         "data": {
          "bar": [
           {
            "error_x": {
             "color": "#2a3f5f"
            },
            "error_y": {
             "color": "#2a3f5f"
            },
            "marker": {
             "line": {
              "color": "#E5ECF6",
              "width": 0.5
             }
            },
            "type": "bar"
           }
          ],
          "barpolar": [
           {
            "marker": {
             "line": {
              "color": "#E5ECF6",
              "width": 0.5
             }
            },
            "type": "barpolar"
           }
          ],
          "carpet": [
           {
            "aaxis": {
             "endlinecolor": "#2a3f5f",
             "gridcolor": "white",
             "linecolor": "white",
             "minorgridcolor": "white",
             "startlinecolor": "#2a3f5f"
            },
            "baxis": {
             "endlinecolor": "#2a3f5f",
             "gridcolor": "white",
             "linecolor": "white",
             "minorgridcolor": "white",
             "startlinecolor": "#2a3f5f"
            },
            "type": "carpet"
           }
          ],
          "choropleth": [
           {
            "colorbar": {
             "outlinewidth": 0,
             "ticks": ""
            },
            "type": "choropleth"
           }
          ],
          "contour": [
           {
            "colorbar": {
             "outlinewidth": 0,
             "ticks": ""
            },
            "colorscale": [
             [
              0,
              "#0d0887"
             ],
             [
              0.1111111111111111,
              "#46039f"
             ],
             [
              0.2222222222222222,
              "#7201a8"
             ],
             [
              0.3333333333333333,
              "#9c179e"
             ],
             [
              0.4444444444444444,
              "#bd3786"
             ],
             [
              0.5555555555555556,
              "#d8576b"
             ],
             [
              0.6666666666666666,
              "#ed7953"
             ],
             [
              0.7777777777777778,
              "#fb9f3a"
             ],
             [
              0.8888888888888888,
              "#fdca26"
             ],
             [
              1,
              "#f0f921"
             ]
            ],
            "type": "contour"
           }
          ],
          "contourcarpet": [
           {
            "colorbar": {
             "outlinewidth": 0,
             "ticks": ""
            },
            "type": "contourcarpet"
           }
          ],
          "heatmap": [
           {
            "colorbar": {
             "outlinewidth": 0,
             "ticks": ""
            },
            "colorscale": [
             [
              0,
              "#0d0887"
             ],
             [
              0.1111111111111111,
              "#46039f"
             ],
             [
              0.2222222222222222,
              "#7201a8"
             ],
             [
              0.3333333333333333,
              "#9c179e"
             ],
             [
              0.4444444444444444,
              "#bd3786"
             ],
             [
              0.5555555555555556,
              "#d8576b"
             ],
             [
              0.6666666666666666,
              "#ed7953"
             ],
             [
              0.7777777777777778,
              "#fb9f3a"
             ],
             [
              0.8888888888888888,
              "#fdca26"
             ],
             [
              1,
              "#f0f921"
             ]
            ],
            "type": "heatmap"
           }
          ],
          "heatmapgl": [
           {
            "colorbar": {
             "outlinewidth": 0,
             "ticks": ""
            },
            "colorscale": [
             [
              0,
              "#0d0887"
             ],
             [
              0.1111111111111111,
              "#46039f"
             ],
             [
              0.2222222222222222,
              "#7201a8"
             ],
             [
              0.3333333333333333,
              "#9c179e"
             ],
             [
              0.4444444444444444,
              "#bd3786"
             ],
             [
              0.5555555555555556,
              "#d8576b"
             ],
             [
              0.6666666666666666,
              "#ed7953"
             ],
             [
              0.7777777777777778,
              "#fb9f3a"
             ],
             [
              0.8888888888888888,
              "#fdca26"
             ],
             [
              1,
              "#f0f921"
             ]
            ],
            "type": "heatmapgl"
           }
          ],
          "histogram": [
           {
            "marker": {
             "colorbar": {
              "outlinewidth": 0,
              "ticks": ""
             }
            },
            "type": "histogram"
           }
          ],
          "histogram2d": [
           {
            "colorbar": {
             "outlinewidth": 0,
             "ticks": ""
            },
            "colorscale": [
             [
              0,
              "#0d0887"
             ],
             [
              0.1111111111111111,
              "#46039f"
             ],
             [
              0.2222222222222222,
              "#7201a8"
             ],
             [
              0.3333333333333333,
              "#9c179e"
             ],
             [
              0.4444444444444444,
              "#bd3786"
             ],
             [
              0.5555555555555556,
              "#d8576b"
             ],
             [
              0.6666666666666666,
              "#ed7953"
             ],
             [
              0.7777777777777778,
              "#fb9f3a"
             ],
             [
              0.8888888888888888,
              "#fdca26"
             ],
             [
              1,
              "#f0f921"
             ]
            ],
            "type": "histogram2d"
           }
          ],
          "histogram2dcontour": [
           {
            "colorbar": {
             "outlinewidth": 0,
             "ticks": ""
            },
            "colorscale": [
             [
              0,
              "#0d0887"
             ],
             [
              0.1111111111111111,
              "#46039f"
             ],
             [
              0.2222222222222222,
              "#7201a8"
             ],
             [
              0.3333333333333333,
              "#9c179e"
             ],
             [
              0.4444444444444444,
              "#bd3786"
             ],
             [
              0.5555555555555556,
              "#d8576b"
             ],
             [
              0.6666666666666666,
              "#ed7953"
             ],
             [
              0.7777777777777778,
              "#fb9f3a"
             ],
             [
              0.8888888888888888,
              "#fdca26"
             ],
             [
              1,
              "#f0f921"
             ]
            ],
            "type": "histogram2dcontour"
           }
          ],
          "mesh3d": [
           {
            "colorbar": {
             "outlinewidth": 0,
             "ticks": ""
            },
            "type": "mesh3d"
           }
          ],
          "parcoords": [
           {
            "line": {
             "colorbar": {
              "outlinewidth": 0,
              "ticks": ""
             }
            },
            "type": "parcoords"
           }
          ],
          "scatter": [
           {
            "marker": {
             "colorbar": {
              "outlinewidth": 0,
              "ticks": ""
             }
            },
            "type": "scatter"
           }
          ],
          "scatter3d": [
           {
            "line": {
             "colorbar": {
              "outlinewidth": 0,
              "ticks": ""
             }
            },
            "marker": {
             "colorbar": {
              "outlinewidth": 0,
              "ticks": ""
             }
            },
            "type": "scatter3d"
           }
          ],
          "scattercarpet": [
           {
            "marker": {
             "colorbar": {
              "outlinewidth": 0,
              "ticks": ""
             }
            },
            "type": "scattercarpet"
           }
          ],
          "scattergeo": [
           {
            "marker": {
             "colorbar": {
              "outlinewidth": 0,
              "ticks": ""
             }
            },
            "type": "scattergeo"
           }
          ],
          "scattergl": [
           {
            "marker": {
             "colorbar": {
              "outlinewidth": 0,
              "ticks": ""
             }
            },
            "type": "scattergl"
           }
          ],
          "scattermapbox": [
           {
            "marker": {
             "colorbar": {
              "outlinewidth": 0,
              "ticks": ""
             }
            },
            "type": "scattermapbox"
           }
          ],
          "scatterpolar": [
           {
            "marker": {
             "colorbar": {
              "outlinewidth": 0,
              "ticks": ""
             }
            },
            "type": "scatterpolar"
           }
          ],
          "scatterpolargl": [
           {
            "marker": {
             "colorbar": {
              "outlinewidth": 0,
              "ticks": ""
             }
            },
            "type": "scatterpolargl"
           }
          ],
          "scatterternary": [
           {
            "marker": {
             "colorbar": {
              "outlinewidth": 0,
              "ticks": ""
             }
            },
            "type": "scatterternary"
           }
          ],
          "surface": [
           {
            "colorbar": {
             "outlinewidth": 0,
             "ticks": ""
            },
            "colorscale": [
             [
              0,
              "#0d0887"
             ],
             [
              0.1111111111111111,
              "#46039f"
             ],
             [
              0.2222222222222222,
              "#7201a8"
             ],
             [
              0.3333333333333333,
              "#9c179e"
             ],
             [
              0.4444444444444444,
              "#bd3786"
             ],
             [
              0.5555555555555556,
              "#d8576b"
             ],
             [
              0.6666666666666666,
              "#ed7953"
             ],
             [
              0.7777777777777778,
              "#fb9f3a"
             ],
             [
              0.8888888888888888,
              "#fdca26"
             ],
             [
              1,
              "#f0f921"
             ]
            ],
            "type": "surface"
           }
          ],
          "table": [
           {
            "cells": {
             "fill": {
              "color": "#EBF0F8"
             },
             "line": {
              "color": "white"
             }
            },
            "header": {
             "fill": {
              "color": "#C8D4E3"
             },
             "line": {
              "color": "white"
             }
            },
            "type": "table"
           }
          ]
         },
         "layout": {
          "annotationdefaults": {
           "arrowcolor": "#2a3f5f",
           "arrowhead": 0,
           "arrowwidth": 1
          },
          "colorscale": {
           "diverging": [
            [
             0,
             "#8e0152"
            ],
            [
             0.1,
             "#c51b7d"
            ],
            [
             0.2,
             "#de77ae"
            ],
            [
             0.3,
             "#f1b6da"
            ],
            [
             0.4,
             "#fde0ef"
            ],
            [
             0.5,
             "#f7f7f7"
            ],
            [
             0.6,
             "#e6f5d0"
            ],
            [
             0.7,
             "#b8e186"
            ],
            [
             0.8,
             "#7fbc41"
            ],
            [
             0.9,
             "#4d9221"
            ],
            [
             1,
             "#276419"
            ]
           ],
           "sequential": [
            [
             0,
             "#0d0887"
            ],
            [
             0.1111111111111111,
             "#46039f"
            ],
            [
             0.2222222222222222,
             "#7201a8"
            ],
            [
             0.3333333333333333,
             "#9c179e"
            ],
            [
             0.4444444444444444,
             "#bd3786"
            ],
            [
             0.5555555555555556,
             "#d8576b"
            ],
            [
             0.6666666666666666,
             "#ed7953"
            ],
            [
             0.7777777777777778,
             "#fb9f3a"
            ],
            [
             0.8888888888888888,
             "#fdca26"
            ],
            [
             1,
             "#f0f921"
            ]
           ],
           "sequentialminus": [
            [
             0,
             "#0d0887"
            ],
            [
             0.1111111111111111,
             "#46039f"
            ],
            [
             0.2222222222222222,
             "#7201a8"
            ],
            [
             0.3333333333333333,
             "#9c179e"
            ],
            [
             0.4444444444444444,
             "#bd3786"
            ],
            [
             0.5555555555555556,
             "#d8576b"
            ],
            [
             0.6666666666666666,
             "#ed7953"
            ],
            [
             0.7777777777777778,
             "#fb9f3a"
            ],
            [
             0.8888888888888888,
             "#fdca26"
            ],
            [
             1,
             "#f0f921"
            ]
           ]
          },
          "colorway": [
           "#636efa",
           "#EF553B",
           "#00cc96",
           "#ab63fa",
           "#FFA15A",
           "#19d3f3",
           "#FF6692",
           "#B6E880",
           "#FF97FF",
           "#FECB52"
          ],
          "font": {
           "color": "#2a3f5f"
          },
          "geo": {
           "bgcolor": "white",
           "lakecolor": "white",
           "landcolor": "#E5ECF6",
           "showlakes": true,
           "showland": true,
           "subunitcolor": "white"
          },
          "hoverlabel": {
           "align": "left"
          },
          "hovermode": "closest",
          "mapbox": {
           "style": "light"
          },
          "paper_bgcolor": "white",
          "plot_bgcolor": "#E5ECF6",
          "polar": {
           "angularaxis": {
            "gridcolor": "white",
            "linecolor": "white",
            "ticks": ""
           },
           "bgcolor": "#E5ECF6",
           "radialaxis": {
            "gridcolor": "white",
            "linecolor": "white",
            "ticks": ""
           }
          },
          "scene": {
           "xaxis": {
            "backgroundcolor": "#E5ECF6",
            "gridcolor": "white",
            "gridwidth": 2,
            "linecolor": "white",
            "showbackground": true,
            "ticks": "",
            "zerolinecolor": "white"
           },
           "yaxis": {
            "backgroundcolor": "#E5ECF6",
            "gridcolor": "white",
            "gridwidth": 2,
            "linecolor": "white",
            "showbackground": true,
            "ticks": "",
            "zerolinecolor": "white"
           },
           "zaxis": {
            "backgroundcolor": "#E5ECF6",
            "gridcolor": "white",
            "gridwidth": 2,
            "linecolor": "white",
            "showbackground": true,
            "ticks": "",
            "zerolinecolor": "white"
           }
          },
          "shapedefaults": {
           "line": {
            "color": "#2a3f5f"
           }
          },
          "ternary": {
           "aaxis": {
            "gridcolor": "white",
            "linecolor": "white",
            "ticks": ""
           },
           "baxis": {
            "gridcolor": "white",
            "linecolor": "white",
            "ticks": ""
           },
           "bgcolor": "#E5ECF6",
           "caxis": {
            "gridcolor": "white",
            "linecolor": "white",
            "ticks": ""
           }
          },
          "title": {
           "x": 0.05
          },
          "xaxis": {
           "automargin": true,
           "gridcolor": "white",
           "linecolor": "white",
           "ticks": "",
           "zerolinecolor": "white",
           "zerolinewidth": 2
          },
          "yaxis": {
           "automargin": true,
           "gridcolor": "white",
           "linecolor": "white",
           "ticks": "",
           "zerolinecolor": "white",
           "zerolinewidth": 2
          }
         }
        },
        "title": {
         "text": "Selected Zip Codes - Racial Demographics 2012 & 2017"
        },
        "xaxis": {
         "anchor": "y",
         "domain": [
          0,
          0.45
         ],
         "title": {
          "text": "<b>Zip Code</b>"
         }
        },
        "xaxis2": {
         "anchor": "y2",
         "domain": [
          0.55,
          1
         ],
         "title": {
          "text": "<b>Zip Code</b>"
         }
        },
        "yaxis": {
         "anchor": "x",
         "domain": [
          0,
          1
         ],
         "range": [
          0,
          36500
         ],
         "showgrid": true,
         "title": {
          "text": "<b>Population</b> (people)"
         }
        },
        "yaxis2": {
         "anchor": "x2",
         "domain": [
          0,
          1
         ]
        }
       }
      },
      "text/html": [
       "<div>\n",
       "        \n",
       "        \n",
       "            <div id=\"1e52620f-ac62-4970-bcc4-39a0f2cd86ae\" class=\"plotly-graph-div\" style=\"height:525px; width:100%;\"></div>\n",
       "            <script type=\"text/javascript\">\n",
       "                require([\"plotly\"], function(Plotly) {\n",
       "                    window.PLOTLYENV=window.PLOTLYENV || {};\n",
       "                    \n",
       "                if (document.getElementById(\"1e52620f-ac62-4970-bcc4-39a0f2cd86ae\")) {\n",
       "                    Plotly.newPlot(\n",
       "                        '1e52620f-ac62-4970-bcc4-39a0f2cd86ae',\n",
       "                        [{\"hoverinfo\": \"y\", \"marker\": {\"color\": \"#1f77b4\"}, \"name\": \"Latinx\", \"text\": [52.0, 38.0, 33.0, 28.0], \"textposition\": \"auto\", \"type\": \"bar\", \"x\": [\"ZC: 77003\", \"ZC: 77026\", \"ZC: 77008\", \"ZC: 77007\"], \"xaxis\": \"x\", \"y\": [5351.0, 9040.0, 9830.0, 8334.0], \"yaxis\": \"y\"}, {\"hoverinfo\": \"y\", \"marker\": {\"color\": \"#8c564b\"}, \"name\": \"Black\", \"text\": [20.0, 60.0, 3.0, 4.0], \"textposition\": \"inside\", \"type\": \"bar\", \"x\": [\"ZC: 77003\", \"ZC: 77026\", \"ZC: 77008\", \"ZC: 77007\"], \"xaxis\": \"x\", \"y\": [2063.0, 14300.0, 1022.0, 1280.0], \"yaxis\": \"y\"}, {\"hoverinfo\": \"y\", \"marker\": {\"color\": \"#e377c2\"}, \"name\": \"AmIndian\", \"type\": \"bar\", \"x\": [\"ZC: 77003\", \"ZC: 77026\", \"ZC: 77008\", \"ZC: 77007\"], \"xaxis\": \"x\", \"y\": [0.0, 15.0, 66.0, 19.0], \"yaxis\": \"y\"}, {\"hoverinfo\": \"y\", \"marker\": {\"color\": \"#bcbd22\"}, \"name\": \"Asian\", \"type\": \"bar\", \"x\": [\"ZC: 77003\", \"ZC: 77026\", \"ZC: 77008\", \"ZC: 77007\"], \"xaxis\": \"x\", \"y\": [443.0, 64.0, 1109.0, 1958.0], \"yaxis\": \"y\"}, {\"hoverinfo\": \"y\", \"marker\": {\"color\": \"#ff7f0e\"}, \"name\": \"White\", \"text\": [23.0, 2.0, 58.0, 58.0], \"textposition\": \"inside\", \"type\": \"bar\", \"x\": [\"ZC: 77003\", \"ZC: 77026\", \"ZC: 77008\", \"ZC: 77007\"], \"xaxis\": \"x\", \"y\": [2318.0, 445.0, 16924.0, 17260.0], \"yaxis\": \"y\"}, {\"hoverinfo\": \"y\", \"marker\": {\"color\": \"#17becf\"}, \"name\": \"Other\", \"type\": \"bar\", \"x\": [\"ZC: 77003\", \"ZC: 77026\", \"ZC: 77008\", \"ZC: 77007\"], \"xaxis\": \"x\", \"y\": [26.0, 0.0, 30.0, 149.0], \"yaxis\": \"y\"}, {\"hoverinfo\": \"y\", \"marker\": {\"color\": \"#1f77b4\"}, \"name\": \"Latinx\", \"showlegend\": false, \"text\": [50.0, 44.0, 28.0, 22.0], \"textposition\": \"auto\", \"type\": \"bar\", \"x\": [\"ZC: 77003\", \"ZC: 77026\", \"ZC: 77008\", \"ZC: 77007\"], \"xaxis\": \"x2\", \"y\": [4834.0, 10088.0, 9621.0, 7825.0], \"yaxis\": \"y2\"}, {\"hoverinfo\": \"y\", \"marker\": {\"color\": \"#8c564b\"}, \"name\": \"Black\", \"showlegend\": false, \"text\": [23.0, 52.0, 3.0, 5.0], \"textposition\": \"inside\", \"type\": \"bar\", \"x\": [\"ZC: 77003\", \"ZC: 77026\", \"ZC: 77008\", \"ZC: 77007\"], \"xaxis\": \"x2\", \"y\": [2254.0, 11949.0, 1022.0, 1838.0], \"yaxis\": \"y2\"}, {\"hoverinfo\": \"y\", \"marker\": {\"color\": \"#e377c2\"}, \"name\": \"AmIndian\", \"showlegend\": false, \"type\": \"bar\", \"x\": [\"ZC: 77003\", \"ZC: 77026\", \"ZC: 77008\", \"ZC: 77007\"], \"xaxis\": \"x2\", \"y\": [0.0, 5.0, 20.0, 226.0], \"yaxis\": \"y2\"}, {\"hoverinfo\": \"y\", \"marker\": {\"color\": \"#bcbd22\"}, \"name\": \"Asian\", \"showlegend\": false, \"type\": \"bar\", \"x\": [\"ZC: 77003\", \"ZC: 77026\", \"ZC: 77008\", \"ZC: 77007\"], \"xaxis\": \"x2\", \"y\": [507.0, 9.0, 1985.0, 2801.0], \"yaxis\": \"y2\"}, {\"hoverinfo\": \"y\", \"marker\": {\"color\": \"#ff7f0e\"}, \"name\": \"White\", \"showlegend\": false, \"text\": [19.0, 3.0, 61.0, 62.0], \"textposition\": \"auto\", \"type\": \"bar\", \"x\": [\"ZC: 77003\", \"ZC: 77026\", \"ZC: 77008\", \"ZC: 77007\"], \"xaxis\": \"x2\", \"y\": [1807.0, 613.0, 21182.0, 22038.0], \"yaxis\": \"y2\"}, {\"hoverinfo\": \"y\", \"marker\": {\"color\": \"#17becf\"}, \"name\": \"Other\", \"showlegend\": false, \"type\": \"bar\", \"x\": [\"ZC: 77003\", \"ZC: 77026\", \"ZC: 77008\", \"ZC: 77007\"], \"xaxis\": \"x2\", \"y\": [7.0, 7.0, 18.0, 207.0], \"yaxis\": \"y2\"}],\n",
       "                        {\"annotations\": [{\"font\": {\"size\": 16}, \"showarrow\": false, \"text\": \"2012\", \"x\": 0.225, \"xanchor\": \"center\", \"xref\": \"paper\", \"y\": 1.0, \"yanchor\": \"bottom\", \"yref\": \"paper\"}, {\"font\": {\"size\": 16}, \"showarrow\": false, \"text\": \"2017\", \"x\": 0.775, \"xanchor\": \"center\", \"xref\": \"paper\", \"y\": 1.0, \"yanchor\": \"bottom\", \"yref\": \"paper\"}], \"barmode\": \"stack\", \"template\": {\"data\": {\"bar\": [{\"error_x\": {\"color\": \"#2a3f5f\"}, \"error_y\": {\"color\": \"#2a3f5f\"}, \"marker\": {\"line\": {\"color\": \"#E5ECF6\", \"width\": 0.5}}, \"type\": \"bar\"}], \"barpolar\": [{\"marker\": {\"line\": {\"color\": \"#E5ECF6\", \"width\": 0.5}}, \"type\": \"barpolar\"}], \"carpet\": [{\"aaxis\": {\"endlinecolor\": \"#2a3f5f\", \"gridcolor\": \"white\", \"linecolor\": \"white\", \"minorgridcolor\": \"white\", \"startlinecolor\": \"#2a3f5f\"}, \"baxis\": {\"endlinecolor\": \"#2a3f5f\", \"gridcolor\": \"white\", \"linecolor\": \"white\", \"minorgridcolor\": \"white\", \"startlinecolor\": \"#2a3f5f\"}, \"type\": \"carpet\"}], \"choropleth\": [{\"colorbar\": {\"outlinewidth\": 0, \"ticks\": \"\"}, \"type\": \"choropleth\"}], \"contour\": [{\"colorbar\": {\"outlinewidth\": 0, \"ticks\": \"\"}, \"colorscale\": [[0.0, \"#0d0887\"], [0.1111111111111111, \"#46039f\"], [0.2222222222222222, \"#7201a8\"], [0.3333333333333333, \"#9c179e\"], [0.4444444444444444, \"#bd3786\"], [0.5555555555555556, \"#d8576b\"], [0.6666666666666666, \"#ed7953\"], [0.7777777777777778, \"#fb9f3a\"], [0.8888888888888888, \"#fdca26\"], [1.0, \"#f0f921\"]], \"type\": \"contour\"}], \"contourcarpet\": [{\"colorbar\": {\"outlinewidth\": 0, \"ticks\": \"\"}, \"type\": \"contourcarpet\"}], \"heatmap\": [{\"colorbar\": {\"outlinewidth\": 0, \"ticks\": \"\"}, \"colorscale\": [[0.0, \"#0d0887\"], [0.1111111111111111, \"#46039f\"], [0.2222222222222222, \"#7201a8\"], [0.3333333333333333, \"#9c179e\"], [0.4444444444444444, \"#bd3786\"], [0.5555555555555556, \"#d8576b\"], [0.6666666666666666, \"#ed7953\"], [0.7777777777777778, \"#fb9f3a\"], [0.8888888888888888, \"#fdca26\"], [1.0, \"#f0f921\"]], \"type\": \"heatmap\"}], \"heatmapgl\": [{\"colorbar\": {\"outlinewidth\": 0, \"ticks\": \"\"}, \"colorscale\": [[0.0, \"#0d0887\"], [0.1111111111111111, \"#46039f\"], [0.2222222222222222, \"#7201a8\"], [0.3333333333333333, \"#9c179e\"], [0.4444444444444444, \"#bd3786\"], [0.5555555555555556, \"#d8576b\"], [0.6666666666666666, \"#ed7953\"], [0.7777777777777778, \"#fb9f3a\"], [0.8888888888888888, \"#fdca26\"], [1.0, \"#f0f921\"]], \"type\": \"heatmapgl\"}], \"histogram\": [{\"marker\": {\"colorbar\": {\"outlinewidth\": 0, \"ticks\": \"\"}}, \"type\": \"histogram\"}], \"histogram2d\": [{\"colorbar\": {\"outlinewidth\": 0, \"ticks\": \"\"}, \"colorscale\": [[0.0, \"#0d0887\"], [0.1111111111111111, \"#46039f\"], [0.2222222222222222, \"#7201a8\"], [0.3333333333333333, \"#9c179e\"], [0.4444444444444444, \"#bd3786\"], [0.5555555555555556, \"#d8576b\"], [0.6666666666666666, \"#ed7953\"], [0.7777777777777778, \"#fb9f3a\"], [0.8888888888888888, \"#fdca26\"], [1.0, \"#f0f921\"]], \"type\": \"histogram2d\"}], \"histogram2dcontour\": [{\"colorbar\": {\"outlinewidth\": 0, \"ticks\": \"\"}, \"colorscale\": [[0.0, \"#0d0887\"], [0.1111111111111111, \"#46039f\"], [0.2222222222222222, \"#7201a8\"], [0.3333333333333333, \"#9c179e\"], [0.4444444444444444, \"#bd3786\"], [0.5555555555555556, \"#d8576b\"], [0.6666666666666666, \"#ed7953\"], [0.7777777777777778, \"#fb9f3a\"], [0.8888888888888888, \"#fdca26\"], [1.0, \"#f0f921\"]], \"type\": \"histogram2dcontour\"}], \"mesh3d\": [{\"colorbar\": {\"outlinewidth\": 0, \"ticks\": \"\"}, \"type\": \"mesh3d\"}], \"parcoords\": [{\"line\": {\"colorbar\": {\"outlinewidth\": 0, \"ticks\": \"\"}}, \"type\": \"parcoords\"}], \"scatter\": [{\"marker\": {\"colorbar\": {\"outlinewidth\": 0, \"ticks\": \"\"}}, \"type\": \"scatter\"}], \"scatter3d\": [{\"line\": {\"colorbar\": {\"outlinewidth\": 0, \"ticks\": \"\"}}, \"marker\": {\"colorbar\": {\"outlinewidth\": 0, \"ticks\": \"\"}}, \"type\": \"scatter3d\"}], \"scattercarpet\": [{\"marker\": {\"colorbar\": {\"outlinewidth\": 0, \"ticks\": \"\"}}, \"type\": \"scattercarpet\"}], \"scattergeo\": [{\"marker\": {\"colorbar\": {\"outlinewidth\": 0, \"ticks\": \"\"}}, \"type\": \"scattergeo\"}], \"scattergl\": [{\"marker\": {\"colorbar\": {\"outlinewidth\": 0, \"ticks\": \"\"}}, \"type\": \"scattergl\"}], \"scattermapbox\": [{\"marker\": {\"colorbar\": {\"outlinewidth\": 0, \"ticks\": \"\"}}, \"type\": \"scattermapbox\"}], \"scatterpolar\": [{\"marker\": {\"colorbar\": {\"outlinewidth\": 0, \"ticks\": \"\"}}, \"type\": \"scatterpolar\"}], \"scatterpolargl\": [{\"marker\": {\"colorbar\": {\"outlinewidth\": 0, \"ticks\": \"\"}}, \"type\": \"scatterpolargl\"}], \"scatterternary\": [{\"marker\": {\"colorbar\": {\"outlinewidth\": 0, \"ticks\": \"\"}}, \"type\": \"scatterternary\"}], \"surface\": [{\"colorbar\": {\"outlinewidth\": 0, \"ticks\": \"\"}, \"colorscale\": [[0.0, \"#0d0887\"], [0.1111111111111111, \"#46039f\"], [0.2222222222222222, \"#7201a8\"], [0.3333333333333333, \"#9c179e\"], [0.4444444444444444, \"#bd3786\"], [0.5555555555555556, \"#d8576b\"], [0.6666666666666666, \"#ed7953\"], [0.7777777777777778, \"#fb9f3a\"], [0.8888888888888888, \"#fdca26\"], [1.0, \"#f0f921\"]], \"type\": \"surface\"}], \"table\": [{\"cells\": {\"fill\": {\"color\": \"#EBF0F8\"}, \"line\": {\"color\": \"white\"}}, \"header\": {\"fill\": {\"color\": \"#C8D4E3\"}, \"line\": {\"color\": \"white\"}}, \"type\": \"table\"}]}, \"layout\": {\"annotationdefaults\": {\"arrowcolor\": \"#2a3f5f\", \"arrowhead\": 0, \"arrowwidth\": 1}, \"colorscale\": {\"diverging\": [[0, \"#8e0152\"], [0.1, \"#c51b7d\"], [0.2, \"#de77ae\"], [0.3, \"#f1b6da\"], [0.4, \"#fde0ef\"], [0.5, \"#f7f7f7\"], [0.6, \"#e6f5d0\"], [0.7, \"#b8e186\"], [0.8, \"#7fbc41\"], [0.9, \"#4d9221\"], [1, \"#276419\"]], \"sequential\": [[0.0, \"#0d0887\"], [0.1111111111111111, \"#46039f\"], [0.2222222222222222, \"#7201a8\"], [0.3333333333333333, \"#9c179e\"], [0.4444444444444444, \"#bd3786\"], [0.5555555555555556, \"#d8576b\"], [0.6666666666666666, \"#ed7953\"], [0.7777777777777778, \"#fb9f3a\"], [0.8888888888888888, \"#fdca26\"], [1.0, \"#f0f921\"]], \"sequentialminus\": [[0.0, \"#0d0887\"], [0.1111111111111111, \"#46039f\"], [0.2222222222222222, \"#7201a8\"], [0.3333333333333333, \"#9c179e\"], [0.4444444444444444, \"#bd3786\"], [0.5555555555555556, \"#d8576b\"], [0.6666666666666666, \"#ed7953\"], [0.7777777777777778, \"#fb9f3a\"], [0.8888888888888888, \"#fdca26\"], [1.0, \"#f0f921\"]]}, \"colorway\": [\"#636efa\", \"#EF553B\", \"#00cc96\", \"#ab63fa\", \"#FFA15A\", \"#19d3f3\", \"#FF6692\", \"#B6E880\", \"#FF97FF\", \"#FECB52\"], \"font\": {\"color\": \"#2a3f5f\"}, \"geo\": {\"bgcolor\": \"white\", \"lakecolor\": \"white\", \"landcolor\": \"#E5ECF6\", \"showlakes\": true, \"showland\": true, \"subunitcolor\": \"white\"}, \"hoverlabel\": {\"align\": \"left\"}, \"hovermode\": \"closest\", \"mapbox\": {\"style\": \"light\"}, \"paper_bgcolor\": \"white\", \"plot_bgcolor\": \"#E5ECF6\", \"polar\": {\"angularaxis\": {\"gridcolor\": \"white\", \"linecolor\": \"white\", \"ticks\": \"\"}, \"bgcolor\": \"#E5ECF6\", \"radialaxis\": {\"gridcolor\": \"white\", \"linecolor\": \"white\", \"ticks\": \"\"}}, \"scene\": {\"xaxis\": {\"backgroundcolor\": \"#E5ECF6\", \"gridcolor\": \"white\", \"gridwidth\": 2, \"linecolor\": \"white\", \"showbackground\": true, \"ticks\": \"\", \"zerolinecolor\": \"white\"}, \"yaxis\": {\"backgroundcolor\": \"#E5ECF6\", \"gridcolor\": \"white\", \"gridwidth\": 2, \"linecolor\": \"white\", \"showbackground\": true, \"ticks\": \"\", \"zerolinecolor\": \"white\"}, \"zaxis\": {\"backgroundcolor\": \"#E5ECF6\", \"gridcolor\": \"white\", \"gridwidth\": 2, \"linecolor\": \"white\", \"showbackground\": true, \"ticks\": \"\", \"zerolinecolor\": \"white\"}}, \"shapedefaults\": {\"line\": {\"color\": \"#2a3f5f\"}}, \"ternary\": {\"aaxis\": {\"gridcolor\": \"white\", \"linecolor\": \"white\", \"ticks\": \"\"}, \"baxis\": {\"gridcolor\": \"white\", \"linecolor\": \"white\", \"ticks\": \"\"}, \"bgcolor\": \"#E5ECF6\", \"caxis\": {\"gridcolor\": \"white\", \"linecolor\": \"white\", \"ticks\": \"\"}}, \"title\": {\"x\": 0.05}, \"xaxis\": {\"automargin\": true, \"gridcolor\": \"white\", \"linecolor\": \"white\", \"ticks\": \"\", \"zerolinecolor\": \"white\", \"zerolinewidth\": 2}, \"yaxis\": {\"automargin\": true, \"gridcolor\": \"white\", \"linecolor\": \"white\", \"ticks\": \"\", \"zerolinecolor\": \"white\", \"zerolinewidth\": 2}}}, \"title\": {\"text\": \"Selected Zip Codes - Racial Demographics 2012 & 2017\"}, \"xaxis\": {\"anchor\": \"y\", \"domain\": [0.0, 0.45], \"title\": {\"text\": \"<b>Zip Code</b>\"}}, \"xaxis2\": {\"anchor\": \"y2\", \"domain\": [0.55, 1.0], \"title\": {\"text\": \"<b>Zip Code</b>\"}}, \"yaxis\": {\"anchor\": \"x\", \"domain\": [0.0, 1.0], \"range\": [0, 36500], \"showgrid\": true, \"title\": {\"text\": \"<b>Population</b> (people)\"}}, \"yaxis2\": {\"anchor\": \"x2\", \"domain\": [0.0, 1.0]}},\n",
       "                        {\"responsive\": true}\n",
       "                    ).then(function(){\n",
       "                            \n",
       "var gd = document.getElementById('1e52620f-ac62-4970-bcc4-39a0f2cd86ae');\n",
       "var x = new MutationObserver(function (mutations, observer) {{\n",
       "        var display = window.getComputedStyle(gd).display;\n",
       "        if (!display || display === 'none') {{\n",
       "            console.log([gd, 'removed!']);\n",
       "            Plotly.purge(gd);\n",
       "            observer.disconnect();\n",
       "        }}\n",
       "}});\n",
       "\n",
       "// Listen for the removal of the full notebook cells\n",
       "var notebookContainer = gd.closest('#notebook-container');\n",
       "if (notebookContainer) {{\n",
       "    x.observe(notebookContainer, {childList: true});\n",
       "}}\n",
       "\n",
       "// Listen for the clearing of the current output cell\n",
       "var outputEl = gd.closest('.output');\n",
       "if (outputEl) {{\n",
       "    x.observe(outputEl, {childList: true});\n",
       "}}\n",
       "\n",
       "                        })\n",
       "                };\n",
       "                });\n",
       "            </script>\n",
       "        </div>"
      ]
     },
     "metadata": {},
     "output_type": "display_data"
    }
   ],
   "source": [
    "fig = make_subplots(\n",
    "    rows=1, cols=2, subplot_titles=(\"2012\", \"2017\")\n",
    ")\n",
    "\n",
    "## 2012\n",
    "fig.add_trace(\n",
    "   go.Bar(name='Latinx', x=zipcodes_list12, y=zipcode_list12['Latinx'],\n",
    "          marker_color='#1f77b4',hoverinfo=\"y\",\n",
    "          text=(round(zipcode_list12['Latinx']/zipcode_list12.Population*100,0)),\n",
    "          textposition='auto'),\n",
    "    row=1, col=1)\n",
    "fig.add_trace(\n",
    "    go.Bar(name='Black', x=zipcodes_list12, y=zipcode_list12['Black'],\n",
    "           marker_color='#8c564b',hoverinfo=\"y\",\n",
    "          text=(round(zipcode_list12['Black']/zipcode_list12.Population*100,0)),\n",
    "          textposition='inside'),\n",
    "    row=1, col=1)\n",
    "fig.add_trace(\n",
    "   go.Bar(name='AmIndian', x=zipcodes_list12, y=zipcode_list12['AmIndian'],\n",
    "          marker_color='#e377c2',hoverinfo=\"y\"),\n",
    "    row=1, col=1)\n",
    "fig.add_trace(\n",
    "   go.Bar(name='Asian', x=zipcodes_list12, y=zipcode_list12['Asian'],\n",
    "          marker_color='#bcbd22',hoverinfo=\"y\"),\n",
    "    row=1, col=1)\n",
    "fig.add_trace(\n",
    "   go.Bar(name='White', x=zipcodes_list12, y=zipcode_list12['White'],\n",
    "          marker_color='#ff7f0e',hoverinfo=\"y\",\n",
    "          text=(round(zipcode_list12['White']/zipcode_list12.Population*100,0)),\n",
    "          textposition='inside'),\n",
    "    row=1, col=1)\n",
    "fig.add_trace(\n",
    "   go.Bar(name='Other', x=zipcodes_list12, y=zipcode_list12['Other'],\n",
    "          marker_color='#17becf',hoverinfo=\"y\"),\n",
    "    row=1, col=1)\n",
    "\n",
    "## 2017\n",
    "fig.add_trace(\n",
    "   go.Bar(name='Latinx', x=zipcodes_list17, y=zipcode_list17['Latinx'],\n",
    "          marker_color='#1f77b4',showlegend=False,hoverinfo=\"y\",\n",
    "          text=(round(zipcode_list17['Latinx']/zipcode_list17.Population*100,0)),\n",
    "          textposition='auto'),\n",
    "    row=1, col=2)\n",
    "fig.add_trace(\n",
    "    go.Bar(name='Black', x=zipcodes_list17, y=zipcode_list17['Black'],\n",
    "           marker_color='#8c564b',showlegend=False,hoverinfo=\"y\",\n",
    "          text=(round(zipcode_list17['Black']/zipcode_list17.Population*100,0)),\n",
    "          textposition='inside'),\n",
    "    row=1, col=2)\n",
    "fig.add_trace(\n",
    "   go.Bar(name='AmIndian', x=zipcodes_list17, y=zipcode_list17['AmIndian'],\n",
    "          marker_color='#e377c2',showlegend=False,hoverinfo=\"y\"),\n",
    "    row=1, col=2)\n",
    "fig.add_trace(\n",
    "   go.Bar(name='Asian', x=zipcodes_list17, y=zipcode_list17['Asian'],\n",
    "          marker_color='#bcbd22',showlegend=False,hoverinfo=\"y\"),\n",
    "    row=1, col=2)\n",
    "fig.add_trace(\n",
    "   go.Bar(name='White', x=zipcodes_list17, y=zipcode_list17['White'],\n",
    "          marker_color='#ff7f0e',showlegend=False,hoverinfo=\"y\",\n",
    "          text=(round(zipcode_list17['White']/zipcode_list17.Population*100,0)),\n",
    "          textposition='auto'),\n",
    "    row=1, col=2)\n",
    "fig.add_trace(\n",
    "   go.Bar(name='Other', x=zipcodes_list17, y=zipcode_list17['Other'],\n",
    "          marker_color='#17becf',showlegend=False,hoverinfo=\"y\"),\n",
    "    row=1, col=2)\n",
    "\n",
    "fig.update_layout(barmode='stack', title_text=\"Selected Zip Codes - Racial Demographics 2012 & 2017\")\n",
    "\n",
    "## Y-axis formatting\n",
    "fig.update_yaxes(range=[0, 36500], row=1, col=1,showgrid=True,\n",
    "                 title_text=\"<b>Population</b> (people)\",secondary_y=False)\n",
    "fig.update_xaxes(title_text=\"<b>Zip Code</b>\")\n",
    "fig.show()"
   ]
  },
  {
   "cell_type": "code",
   "execution_count": null,
   "metadata": {},
   "outputs": [],
   "source": []
  }
 ],
 "metadata": {
  "kernelspec": {
   "display_name": "Python 3",
   "language": "python",
   "name": "python3"
  },
  "language_info": {
   "codemirror_mode": {
    "name": "ipython",
    "version": 3
   },
   "file_extension": ".py",
   "mimetype": "text/x-python",
   "name": "python",
   "nbconvert_exporter": "python",
   "pygments_lexer": "ipython3",
   "version": "3.7.3"
  }
 },
 "nbformat": 4,
 "nbformat_minor": 2
}
